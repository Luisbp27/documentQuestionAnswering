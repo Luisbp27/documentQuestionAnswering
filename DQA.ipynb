{
 "cells": [
  {
   "cell_type": "code",
   "execution_count": 12,
   "metadata": {},
   "outputs": [],
   "source": [
    "import torch\n",
    "from transformers import AutoTokenizer, AutoModelForQuestionAnswering, pipeline"
   ]
  },
  {
   "cell_type": "code",
   "execution_count": 13,
   "metadata": {},
   "outputs": [
    {
     "name": "stderr",
     "output_type": "stream",
     "text": [
      "Some weights of BertForQuestionAnswering were not initialized from the model checkpoint at bert-base-uncased and are newly initialized: ['qa_outputs.bias', 'qa_outputs.weight']\n",
      "You should probably TRAIN this model on a down-stream task to be able to use it for predictions and inference.\n"
     ]
    }
   ],
   "source": [
    "from transformers import AutoModelForQuestionAnswering, AutoTokenizer\n",
    "model_name = \"bert-base-uncased\"\n",
    "model = AutoModelForQuestionAnswering.from_pretrained(model_name)\n",
    "tokenizer = AutoTokenizer.from_pretrained(model_name)"
   ]
  },
  {
   "cell_type": "code",
   "execution_count": 14,
   "metadata": {},
   "outputs": [],
   "source": [
    "input_ = tokenizer.encode_plus(\"What is the name of the company?\", \"The name of the company is Naver.\", return_tensors=\"pt\")\n",
    "output_ = model(**input_)"
   ]
  },
  {
   "cell_type": "code",
   "execution_count": 15,
   "metadata": {},
   "outputs": [
    {
     "data": {
      "text/plain": [
       "QuestionAnsweringModelOutput(loss=None, start_logits=tensor([[ 0.5838,  0.1330, -0.0633,  0.1808, -0.2789,  0.1599, -0.0700, -0.0098,\n",
       "         -0.0175,  0.4697, -0.0198, -0.2340, -0.0059, -0.1384, -0.0461, -0.0626,\n",
       "         -0.3939, -0.0891,  0.0553,  0.0781]], grad_fn=<CloneBackward0>), end_logits=tensor([[ 0.1058, -0.3982, -0.2786, -0.0498, -0.1030,  0.1439,  0.0548, -0.1534,\n",
       "         -0.0951,  0.3331,  0.0404,  0.0187,  0.0336,  0.0909, -0.0369, -0.0948,\n",
       "         -0.1301, -0.1163, -0.1152, -0.1183]], grad_fn=<CloneBackward0>), hidden_states=None, attentions=None)"
      ]
     },
     "execution_count": 15,
     "metadata": {},
     "output_type": "execute_result"
    }
   ],
   "source": [
    "output_"
   ]
  },
  {
   "cell_type": "code",
   "execution_count": 17,
   "metadata": {},
   "outputs": [
    {
     "name": "stdout",
     "output_type": "stream",
     "text": [
      "[CLS] what is the name of the company? [SEP]\n"
     ]
    }
   ],
   "source": [
    "answer_start_idx = torch.argmax(output_.start_logits)\n",
    "answer_end_idx = torch.argmax(output_.end_logits)\n",
    "\n",
    "answer_tokens = input_.input_ids[0][answer_start_idx:answer_end_idx+1]\n",
    "answer = tokenizer.decode(answer_tokens)\n",
    "print(answer)"
   ]
  }
 ],
 "metadata": {
  "kernelspec": {
   "display_name": ".venv",
   "language": "python",
   "name": "python3"
  },
  "language_info": {
   "codemirror_mode": {
    "name": "ipython",
    "version": 3
   },
   "file_extension": ".py",
   "mimetype": "text/x-python",
   "name": "python",
   "nbconvert_exporter": "python",
   "pygments_lexer": "ipython3",
   "version": "3.10.11"
  }
 },
 "nbformat": 4,
 "nbformat_minor": 2
}
