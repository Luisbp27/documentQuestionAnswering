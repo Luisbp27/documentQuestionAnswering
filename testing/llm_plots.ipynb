{
 "cells": [
  {
   "cell_type": "code",
   "execution_count": 24,
   "metadata": {},
   "outputs": [],
   "source": [
    "import pandas as pd\n",
    "import matplotlib.pyplot as plt"
   ]
  },
  {
   "cell_type": "code",
   "execution_count": 25,
   "metadata": {},
   "outputs": [],
   "source": [
    "df_gemma_1 = pd.read_csv(\"./test1/llm/test1_gemma_mxbai_large.csv\")\n",
    "df_gemma_2 = pd.read_csv(\"./test2/llm/test2_gemma_mxbai_large.csv\")\n",
    "df_gemma_3 = pd.read_csv(\"./test3/llm/test3_gemma_multilingual_large.csv\")"
   ]
  },
  {
   "cell_type": "code",
   "execution_count": 26,
   "metadata": {},
   "outputs": [],
   "source": [
    "df_gemma_1 = df_gemma_1.fillna(0, inplace=False)\n",
    "df_gemma_2 = df_gemma_2.fillna(0, inplace=False)\n",
    "df_gemma_3 = df_gemma_3.fillna(0, inplace=False)"
   ]
  },
  {
   "cell_type": "code",
   "execution_count": 27,
   "metadata": {},
   "outputs": [],
   "source": [
    "df_gemma_1 = df_gemma_1.drop(columns=[\"question\", \"answer\", \"contexts\", \"ground_truth\", \"context_precision\", \"context_recall\"])\n",
    "df_gemma_2 = df_gemma_2.drop(columns=[\"question\", \"answer\", \"contexts\", \"ground_truth\", \"context_precision\", \"context_recall\"])\n",
    "df_gemma_3 = df_gemma_3.drop(columns=[\"question\", \"answer\", \"contexts\", \"ground_truth\", \"context_precision\", \"context_recall\"])"
   ]
  },
  {
   "cell_type": "code",
   "execution_count": 28,
   "metadata": {},
   "outputs": [],
   "source": [
    "df_gemma_1 = df_gemma_1.mean()\n",
    "df_gemma_2 = df_gemma_2.mean()\n",
    "df_gemma_3 = df_gemma_3.mean()"
   ]
  },
  {
   "cell_type": "code",
   "execution_count": 29,
   "metadata": {},
   "outputs": [],
   "source": [
    "df_gemma_1 = df_gemma_1.to_frame(\"Caso de estudio 1: Gemma\")\n",
    "df_gemma_2 = df_gemma_2.to_frame(\"Caso de estudio 2: Gemma\")\n",
    "df_gemma_3 = df_gemma_3.to_frame(\"Caso de estudio 3: Gemma\")"
   ]
  },
  {
   "cell_type": "code",
   "execution_count": 32,
   "metadata": {},
   "outputs": [
    {
     "data": {
      "text/html": [
       "<div>\n",
       "<style scoped>\n",
       "    .dataframe tbody tr th:only-of-type {\n",
       "        vertical-align: middle;\n",
       "    }\n",
       "\n",
       "    .dataframe tbody tr th {\n",
       "        vertical-align: top;\n",
       "    }\n",
       "\n",
       "    .dataframe thead th {\n",
       "        text-align: right;\n",
       "    }\n",
       "</style>\n",
       "<table border=\"1\" class=\"dataframe\">\n",
       "  <thead>\n",
       "    <tr style=\"text-align: right;\">\n",
       "      <th></th>\n",
       "      <th>Caso de estudio 1: Gemma</th>\n",
       "      <th>Caso de estudio 2: Gemma</th>\n",
       "      <th>Caso de estudio 3: Gemma</th>\n",
       "    </tr>\n",
       "  </thead>\n",
       "  <tbody>\n",
       "    <tr>\n",
       "      <th>faithfulness</th>\n",
       "      <td>0.540995</td>\n",
       "      <td>0.442489</td>\n",
       "      <td>0.742038</td>\n",
       "    </tr>\n",
       "    <tr>\n",
       "      <th>answer_relevancy</th>\n",
       "      <td>0.641062</td>\n",
       "      <td>0.615643</td>\n",
       "      <td>0.691487</td>\n",
       "    </tr>\n",
       "  </tbody>\n",
       "</table>\n",
       "</div>"
      ],
      "text/plain": [
       "                  Caso de estudio 1: Gemma  Caso de estudio 2: Gemma  \\\n",
       "faithfulness                      0.540995                  0.442489   \n",
       "answer_relevancy                  0.641062                  0.615643   \n",
       "\n",
       "                  Caso de estudio 3: Gemma  \n",
       "faithfulness                      0.742038  \n",
       "answer_relevancy                  0.691487  "
      ]
     },
     "execution_count": 32,
     "metadata": {},
     "output_type": "execute_result"
    }
   ],
   "source": [
    "df_gemma = pd.concat([df_gemma_1, df_gemma_2, df_gemma_3], axis=1)\n",
    "df_gemma"
   ]
  },
  {
   "cell_type": "code",
   "execution_count": null,
   "metadata": {},
   "outputs": [],
   "source": [
    "plt.figure(figsize=(6,6))\n"
   ]
  }
 ],
 "metadata": {
  "kernelspec": {
   "display_name": "Python 3",
   "language": "python",
   "name": "python3"
  },
  "language_info": {
   "codemirror_mode": {
    "name": "ipython",
    "version": 3
   },
   "file_extension": ".py",
   "mimetype": "text/x-python",
   "name": "python",
   "nbconvert_exporter": "python",
   "pygments_lexer": "ipython3",
   "version": "3.12.1"
  }
 },
 "nbformat": 4,
 "nbformat_minor": 2
}
