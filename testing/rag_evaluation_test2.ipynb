{
 "cells": [
  {
   "cell_type": "markdown",
   "metadata": {},
   "source": [
    "# Análisis de los diferentes modelos"
   ]
  },
  {
   "cell_type": "markdown",
   "metadata": {},
   "source": [
    "## 1. Importación de librerías y modulos"
   ]
  },
  {
   "cell_type": "code",
   "execution_count": null,
   "metadata": {},
   "outputs": [],
   "source": [
    "#%pip install -r requirements.txt"
   ]
  },
  {
   "cell_type": "code",
   "execution_count": null,
   "metadata": {},
   "outputs": [],
   "source": [
    "from datasets import Dataset\n",
    "from ragas import evaluate\n",
    "from ragas.metrics import faithfulness, answer_relevancy, context_precision, context_recall\n",
    "from langchain_community.document_loaders.pdf import PyPDFDirectoryLoader, PyPDFLoader\n",
    "from langchain_community.llms import Ollama\n",
    "from langchain_chroma import Chroma\n",
    "from itertools import islice\n",
    "import tqdm\n",
    "from module import *"
   ]
  },
  {
   "cell_type": "code",
   "execution_count": null,
   "metadata": {},
   "outputs": [],
   "source": [
    "emb_model = [\n",
    "    \"multilingual_large\",\n",
    "    \"baai_large\",\n",
    "    \"mxbai_large\",\n",
    "    \"baai_small\"\n",
    "]\n",
    "\n",
    "llm_model = [\n",
    "    \"llama3\",\n",
    "    \"mistral\",\n",
    "    \"phi3\",\n",
    "    \"gemma\"\n",
    "]"
   ]
  },
  {
   "cell_type": "markdown",
   "metadata": {},
   "source": [
    "## 2. Carga de datos "
   ]
  },
  {
   "cell_type": "code",
   "execution_count": null,
   "metadata": {},
   "outputs": [],
   "source": [
    "documents_loader = PyPDFDirectoryLoader(\"./data/test2\")\n",
    "documents = documents_loader.load()\n",
    "print(f\"Loaded {len(documents)} documents\")"
   ]
  },
  {
   "cell_type": "markdown",
   "metadata": {},
   "source": [
    "## 3. Creación de la base de datos vectorial"
   ]
  },
  {
   "cell_type": "code",
   "execution_count": null,
   "metadata": {},
   "outputs": [],
   "source": [
    "# Load the existing database.\n",
    "db = Chroma(\n",
    "    collection_name=\"test2\",\n",
    "    persist_directory=\"./database\",\n",
    "    embedding_function=get_embedding_function(emb_model[3])\n",
    ")"
   ]
  },
  {
   "cell_type": "code",
   "execution_count": null,
   "metadata": {},
   "outputs": [],
   "source": [
    "# Adding documents with a progress bar\n",
    "with tqdm.tqdm(total=len(documents), desc=\"Adding documents\") as pbar:\n",
    "    for document in documents:\n",
    "        db.add_documents([document])\n",
    "        pbar.update(1)"
   ]
  },
  {
   "cell_type": "markdown",
   "metadata": {},
   "source": [
    "## 4. Preguntas de interés"
   ]
  },
  {
   "cell_type": "markdown",
   "metadata": {},
   "source": [
    "Formulamos las preguntas y buscamos en la base de datos los chunks que nos ofrezcan mejor contexto para responderlas."
   ]
  },
  {
   "cell_type": "code",
   "execution_count": null,
   "metadata": {},
   "outputs": [],
   "source": [
    "questions_docs_cat = [\n",
    "    \"Quines són les principals causes de l'augment del PIB de Catalunya el 2022 segons l'informe financer?\",\n",
    "    \"Quins sectors econòmics han tingut una evolució més positiva i quins han patit més durant el 2022?\",\n",
    "    \"Quina és la importància del turisme estranger per a l'economia catalana segons l'informe?\"\n",
    "    \"Com es distribueixen les competències entre l'Estat i la Generalitat de Catalunya segons l'informe financer?\",\n",
    "    \"Com afecta la capacitat fiscal a la distribució de recursos entre comunitats autònomes?\",\n",
    "    \"Quin impacte han tingut les transferències estatals en els ingressos no financers de la Generalitat de Catalunya el 2022?\"\n",
    "]\n",
    "\n",
    "questions_docs_en = [\n",
    "    \"What were Accenture's total revenues and operating margins for the fourth quarter of fiscal 2023?\",\n",
    "    \"What were the new bookings for Accenture in the fourth quarter of fiscal 2023, and how did they compare to the previous year?\",\n",
    "    \"What revenue trends were observed in Accenture's key geographic markets during the fourth quarter of fiscal 2023?\",\n",
    "    \"What changes occurred in NTT Data's total assets and equity between March 31, 2024, and June 30, 2024?\",\n",
    "    \"How did NTT Data's consolidated financial results for the fiscal year ending March 31, 2025, compare to the previous fiscal year?\",\n",
    "    \"What were the trends in NTT Data's cash flows from operating, investing, and financing activities during the three months ended June 30, 2024?\"\n",
    "]\n",
    "\n",
    "questions_docs_es = [\n",
    "    \"¿Cuáles son los principales retos estructurales que enfrenta la economía española según el informe del Banco de España?\",\n",
    "    \"¿Cómo se ha comportado la inflación en España durante 2023 y cuáles son las perspectivas para los próximos años?\",\n",
    "    \"¿Cómo se describe el proceso de envejecimiento poblacional en España y cuáles son sus implicaciones económicas?\",\n",
    "    \"¿Qué impacto ha tenido la volatilidad de los precios del petróleo en los resultados financieros de Repsol?\",\n",
    "    \"¿Cómo ha afectado la transición energética a las estrategias y operaciones de Repsol?\",\n",
    "    \"¿Qué medidas ha implementado Repsol para mejorar su sostenibilidad financiera y operativa?\"\n",
    "]\n",
    "\n",
    "questions = questions_docs_cat + questions_docs_en + questions_docs_es"
   ]
  },
  {
   "cell_type": "code",
   "execution_count": null,
   "metadata": {},
   "outputs": [],
   "source": [
    "contexts = []\n",
    "\n",
    "for question in questions:\n",
    "    # Get the top 5 most relevant documents\n",
    "    results = db.similarity_search_with_score(question, k=5)\n",
    "\n",
    "    # Make a list of the contexts\n",
    "    question_contexts = []\n",
    "    for doc, _score in results:\n",
    "        question_contexts.append(doc.page_content)\n",
    "\n",
    "    # Append the context sub-list to the list of contexts\n",
    "    contexts.append(question_contexts)\n",
    "\n",
    "print(contexts)"
   ]
  },
  {
   "cell_type": "markdown",
   "metadata": {},
   "source": [
    "Ahora creamos las respuestas esperadas para cada pregunta."
   ]
  },
  {
   "cell_type": "code",
   "execution_count": null,
   "metadata": {},
   "outputs": [],
   "source": [
    "answers_cat = [\n",
    "    \"L'augment del PIB de Catalunya el 2022, que ha estat del 5,5%, s'atribueix a factors com la recuperació del consum de les llars, l'augment de la inversió en béns d'equipament i construcció, així com un fort increment de les exportacions totals, especialment impulsades pel turisme estranger.\",\n",
    "    \"Els sectors que han tingut una evolució més positiva són els serveis, especialment el comerç, transport i hostaleria, amb un creixement del 7,9%. En canvi, la indústria ha patit una contracció del 2,0%, i el sector agrari ha experimentat una caiguda del 13,9%.\",\n",
    "    \"El turisme estranger ha estat crucial per a l'economia catalana el 2022, amb un total de 14,9 milions de turistes i una despesa de 16.479 milions d'euros, representant el 20,7% del total de turistes estrangers a Espanya.\",\n",
    "    \"Les competències es distribueixen en competències exclusives, compartides i executives, amb la Generalitat exercint un alt nivell d'autonomia en àrees com l'agricultura, cultura, dret civil, i ordenació territorial, entre altres.\",\n",
    "    \"La capacitat fiscal determina que les comunitats autònomes amb menor capacitat rebin transferències positives per equilibrar els recursos necessaris per finançar els serveis públics fonamentals, mentre que aquelles amb major capacitat han de fer aportacions a les altres comunitats.\",\n",
    "    \"Les transferències estatals van tenir un gran impacte el 2021 a causa de la despesa Covid, però el 2022, la seva reducció ha fet que els ingressos no financers tornin a dependre més del model de finançament autonòmic tradicional.\"\n",
    "]\n",
    "\n",
    "answers_en = [\n",
    "    \"Accenture's total revenues for the fourth quarter of fiscal 2023 were $16.0 billion, with a GAAP operating margin of 12.0%. The adjusted operating margin was 14.9%.\",\n",
    "    \"New bookings for Accenture in the fourth quarter of fiscal 2023 were $16.6 billion, a decrease of 10% compared to the previous year.\",\n",
    "    \"During the fourth quarter of fiscal 2023, revenues in North America remained flat in U.S. dollars but increased by 1% in local currency, while Europe saw a 10% increase in U.S. dollars and 7% in local currency, and Growth Markets experienced a 1% increase in U.S. dollars and 6% in local currency.\",\n",
    "    \"Between March 31, 2024, and June 30, 2024, NTT Data's total assets increased from ¥29,604,223 million to ¥29,989,405 million, while total equity rose from ¥10,893,059 million to ¥11,068,578 million.\",\n",
    "    \"NTT Data's consolidated financial results forecast for the fiscal year ending March 31, 2025, includes expected operating revenues of ¥13,460,000 million, a 0.6% increase, and a profit attributable to NTT of ¥1,100,000 million, a 14.0% decrease compared to the previous fiscal year.\",\n",
    "    \"During the three months ended June 30, 2024, NTT Data's cash flows from operating activities decreased by ¥145,742 million compared to the previous year, while cash used in investing activities increased by ¥135,046 million, and cash provided by financing activities increased by ¥193,981 million.\"\n",
    "]\n",
    "\n",
    "answers_es = [\n",
    "    \"Los principales retos estructurales que enfrenta la economía española incluyen impulsar el crecimiento de la productividad, reducir la elevada tasa de paro estructural, incrementar el tamaño empresarial, mejorar la calidad y confianza en las instituciones, reforzar la sostenibilidad de las cuentas públicas, y afrontar los desafíos del envejecimiento poblacional y la transición ecológica.\",\n",
    "    \"Durante 2023, la inflación en España continuó una moderación más intensa de lo esperado, impulsada principalmente por una evolución favorable de los precios de la energía. Se prevé que la inflación siga desacelerándose gradualmente en los próximos trimestres.\",\n",
    "    \"El envejecimiento poblacional en España se caracteriza por una baja tasa de fecundidad y una alta esperanza de vida, lo que supone un desafío para el mercado laboral y las finanzas públicas debido al incremento del gasto en pensiones y sanidad. Se requieren políticas para promover la prolongación de la vida laboral y mejorar la formación continua.\"\n",
    "    \"La volatilidad de los precios del petróleo ha afectado los ingresos de Repsol, aunque la compañía ha logrado mitigar los impactos a través de estrategias de cobertura y diversificación de sus fuentes de ingresos.\",\n",
    "    \"La transición energética ha llevado a Repsol a invertir significativamente en energías renovables y a reorientar sus operaciones hacia fuentes de energía más sostenibles, lo que refleja su compromiso con la reducción de emisiones de carbono.\",\n",
    "    \"Repsol ha implementado medidas como la optimización de su portafolio de activos, la reducción de deuda y la inversión en tecnología para mejorar su sostenibilidad financiera y operativa a largo plazo.\"\n",
    "]\n",
    "\n",
    "\n",
    "answers = answers_cat + answers_en + answers_es\n",
    "answers"
   ]
  },
  {
   "cell_type": "markdown",
   "metadata": {},
   "source": [
    "Finalmente creamos el DataFrame para evaluar los modelos."
   ]
  },
  {
   "cell_type": "code",
   "execution_count": null,
   "metadata": {},
   "outputs": [],
   "source": [
    "data_samples = {\n",
    "    'question': questions,\n",
    "    'answer': answers,\n",
    "    'contexts': contexts,\n",
    "    'ground_truth': answers\n",
    "}\n",
    "\n",
    "dataset = Dataset.from_dict(data_samples)"
   ]
  },
  {
   "cell_type": "markdown",
   "metadata": {},
   "source": [
    "## 5. Evaluación de los modelos"
   ]
  },
  {
   "cell_type": "code",
   "execution_count": null,
   "metadata": {},
   "outputs": [],
   "source": [
    "embeddings = get_embedding_function(emb_model[3])\n",
    "llm = Ollama(model=llm_model[0])"
   ]
  },
  {
   "cell_type": "code",
   "execution_count": null,
   "metadata": {},
   "outputs": [],
   "source": [
    "import nest_asyncio\n",
    "from ragas.run_config import RunConfig\n",
    "\n",
    "\n",
    "nest_asyncio.apply()\n",
    "\n",
    "try:\n",
    "    score = evaluate(\n",
    "        dataset,\n",
    "        metrics=[faithfulness, answer_relevancy],\n",
    "        llm=llm,\n",
    "        embeddings=embeddings,\n",
    "        raise_exceptions=False,\n",
    "        run_config=RunConfig(\n",
    "            #max_retries=30, # Default is 10\n",
    "            #max_wait=180, # Default is 60\n",
    "            #max_workers=64 # Default is 16\n",
    "        )\n",
    "    )\n",
    "except Exception as e:\n",
    "    print(f\"An error ocurred: {e}\")\n",
    "\n",
    "df_score = score.to_pandas()\n",
    "print(df_score)"
   ]
  },
  {
   "cell_type": "code",
   "execution_count": null,
   "metadata": {},
   "outputs": [],
   "source": [
    "df_score.head(10)"
   ]
  },
  {
   "cell_type": "code",
   "execution_count": null,
   "metadata": {},
   "outputs": [],
   "source": []
  }
 ],
 "metadata": {
  "kernelspec": {
   "display_name": "Python 3 (ipykernel)",
   "language": "python",
   "name": "python3"
  },
  "language_info": {
   "codemirror_mode": {
    "name": "ipython",
    "version": 3
   },
   "file_extension": ".py",
   "mimetype": "text/x-python",
   "name": "python",
   "nbconvert_exporter": "python",
   "pygments_lexer": "ipython3",
   "version": "3.12.5"
  }
 },
 "nbformat": 4,
 "nbformat_minor": 4
}
