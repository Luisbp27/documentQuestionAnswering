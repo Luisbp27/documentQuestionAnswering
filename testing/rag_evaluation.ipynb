{
 "cells": [
  {
   "cell_type": "markdown",
   "metadata": {},
   "source": [
    "# Análisis de los diferentes modelos"
   ]
  },
  {
   "cell_type": "markdown",
   "metadata": {},
   "source": [
    "## 1. Importación de librerías y modulos"
   ]
  },
  {
   "cell_type": "code",
   "execution_count": null,
   "metadata": {},
   "outputs": [],
   "source": [
    "#%pip install -r requirements.txt"
   ]
  },
  {
   "cell_type": "code",
   "execution_count": null,
   "metadata": {},
   "outputs": [],
   "source": [
    "from datasets import Dataset\n",
    "from ragas import evaluate\n",
    "from ragas.metrics import faithfulness, answer_relevancy, context_precision, context_recall\n",
    "from langchain_community.document_loaders.pdf import PyPDFDirectoryLoader\n",
    "from langchain_community.llms import Ollama\n",
    "from langchain_community.vectorstores import Chroma\n",
    "from module import *"
   ]
  },
  {
   "cell_type": "code",
   "execution_count": null,
   "metadata": {},
   "outputs": [],
   "source": [
    "emb_model = \"baai_small\"\n",
    "llm_model = \"llama3\""
   ]
  },
  {
   "cell_type": "markdown",
   "metadata": {},
   "source": [
    "## 2. Carga de datos "
   ]
  },
  {
   "cell_type": "code",
   "execution_count": null,
   "metadata": {},
   "outputs": [],
   "source": [
    "document_loader = PyPDFDirectoryLoader(\"./data_testing\")\n",
    "documents = document_loader.load()"
   ]
  },
  {
   "cell_type": "code",
   "execution_count": null,
   "metadata": {},
   "outputs": [],
   "source": [
    "chunks = split_documents(documents)"
   ]
  },
  {
   "cell_type": "markdown",
   "metadata": {},
   "source": [
    "## 3. Creación de la base de datos vectorial"
   ]
  },
  {
   "cell_type": "code",
   "execution_count": null,
   "metadata": {},
   "outputs": [],
   "source": [
    "db = Chroma(\n",
    "    persist_directory=\"./database_testing\", embedding_function=get_embedding_function(emb_model)\n",
    ")\n",
    "\n",
    "# Calculate Page IDs.\n",
    "chunks_with_ids = calculate_chunk_ids(chunks)\n",
    "\n",
    "# Add or Update the documents.\n",
    "existing_items = db.get(include=[])  # IDs are always included by default\n",
    "existing_ids = set(existing_items[\"ids\"])\n",
    "print(f\"Number of existing documents in DB: {len(existing_ids)}\")\n",
    "\n",
    "# Only add documents that don't exist in the DB.\n",
    "new_chunks = []\n",
    "for chunk in chunks_with_ids:\n",
    "    if chunk.metadata[\"id\"] not in existing_ids:\n",
    "        new_chunks.append(chunk)\n",
    "\n",
    "if len(new_chunks):\n",
    "    print(f\"👉 Adding new documents: {len(new_chunks)}\")\n",
    "    new_chunk_ids = [chunk.metadata[\"id\"] for chunk in new_chunks]\n",
    "    db.add_documents(new_chunks, ids=new_chunk_ids)\n",
    "    db.persist()\n",
    "    print(\"Documents added correctly ✅\")\n",
    "else:\n",
    "    print(\"✅ No new documents to add\")"
   ]
  },
  {
   "cell_type": "markdown",
   "metadata": {},
   "source": [
    "## 4. Preguntas de interés"
   ]
  },
  {
   "cell_type": "markdown",
   "metadata": {},
   "source": [
    "Formulamos las preguntas y buscamos en la base de datos los chunks que nos ofrezcan mejor contexto para responderlas."
   ]
  },
  {
   "cell_type": "code",
   "execution_count": null,
   "metadata": {},
   "outputs": [],
   "source": [
    "questions_en = [\n",
    "    \"What is the clause that specifies the conditions for the rescission of the contract in the Arras Contract?\",\n",
    "    \"What are the job functions described in the Indefinite Employment Contract?\",\n",
    "    \"What penalties are applied if the buyer does not meet the conditions of the Arras Contract?\",\n",
    "]\n",
    "\n",
    "questions_es = [\n",
    "    \"¿Cuál es la cláusula que especifica las condiciones para la rescisión del contrato en el Contrato de Arras?\",\n",
    "    \"¿Cuáles son las funciones laborales descritas en el Contrato de Trabajo Indefinido?\",\n",
    "    \"¿Qué sanciones se aplican si la parte compradora no cumple con las condiciones del Contrato de Arras?\",\n",
    "]\n",
    "\n",
    "questions_cat = [\n",
    "    \"Quina és la clàusula que especifica les condicions per a la rescissió del contracte en el Contracte d'Arres?\",\n",
    "    \"Quines són les funcions laborals descrites en el Contracte de Treball Indefinit?\",\n",
    "    \"Quines sancions s'apliquen si la part compradora no compleix amb les condicions del Contracte d'Arres?\",\n",
    "]\n",
    "\n",
    "questions = questions_en + questions_es + questions_cat"
   ]
  },
  {
   "cell_type": "code",
   "execution_count": 28,
   "metadata": {},
   "outputs": [
    {
     "name": "stdout",
     "output_type": "stream",
     "text": [
      "[\"Texto Refundido de la Ley del Impuesto sobre Sociedades aprobado por R.D. Legislativo 4/2004 de 5 de marzo.  Señalese en el supuesto de solicitar estos incentivos\\n                El trabajador es perceptor de prestaciones por desempleo y ha percibido al menos 3 meses de la prestación contributiva                Que es el primer trabajador/a contratado por la empresa y es un trabajador/a menor de 30 años.\\n            FIJO DISCONTINUO                                                                                         2 00        TIEMPO PARCIAL                                 \\nCÓDIGO DE CONTRATOFIJO DISCONTINUO\\nSIN BONIFICACIÓN\\nCON BONIFICACIÓNSIN BONIFICACIÓNTIEMPO COMPLETO\\n1 5 01 0 0\\nCON BONIFICACIÓNCÓDIGO DE CONTRATO\\n\\n---\\n\\nSi se reunen los requisitos y condiciones establecidos en la Ley 43/2006 de 29 de diciembre (BOE 30 de diciembre), y pertenece a algún co-lectivo de esta Ley o se cumplen los requisitos y condiciones y pertenece al colectivo mayor de 45 años de la Ley 3/2012 de 6 de julio ( BOE de 7 de julio), la empresa  así como los/as trabajadores/as autonomos se bonificarán en las cuotas empresariales a la Seguridad Social :\\n         COLECTIVO \\n  CLÁUSULAS ESPECÍFICAS DE MAYORES DE 52 AÑOS BENEFICIARIOS DE \\n               SUBSIDIOS POR DESEMPLEO   \\n&21\\x03%21,),&$&,Ð1\\n6,1\\x03%21,),&$&,Ð1&Ð',*2\\x03'(\\x03&2175$72MINISTERIO\\nDE EMPLEO Y\\nSEGURIDAD SOCIAL\\nhttp://www.sepe.es      \\nMINISTERIO\\nDE EMPLEO Y\\nSEGURIDAD SOCIAL\\n\\n---\\n\\n1 5 01 0 0\\nCON BONIFICACIÓNCÓDIGO DE CONTRATO\\nTanto los incentivos fiscales como las bonificaciones, en el supuesto de que el contrato se celebre a tiempo parcial, se disfrutarán de \\nmodo proporcional a la jornada de trabajo pactada en el contrato.En el caso de reunir los requisitos establecidos en el Articulo 8 de la Ley  25/2015 de 28 de julio, la empresa aplicará la reducción \\ncorrespondiente.         SI                  NO\\nEn caso que el/la trabajador/a sea beneficiario/a del Sistema Nacional de Garantia Juvenil y esté inscrito/a en el Registro correspondientemediente resolución de fecha..............................................................,asi como se reunan los requisitos del  art. 107 de la Ley 18/2014, de15 de octubre ( BOE de 17 de octubre) y es:\\n\\n---\\n\\na          b          c          d         e          f          g        h       (2), recogido en el citado apartado.\\n       Si  se reunen los requisitos establecidos en la Ley 44/2007 de 13 de diciembre ( BOE 14 de diciembre ), la empresa se bonificará en la cuota\\nempresarial a la Seguridad social en 850 euros/año ó la parte proporcional si el contrato es a tiempo partcial, durante tres años.\\n      Si el contrato se suscribe con personas menores de 30 años, la bonificación será de 1650 euros/año durante tres años (Ley 11/2013).CON BONIFICACIÓN\\n En lo no previsto en este   contrato, se estará a la legislación vigente que resulte de aplicación, y en particular , a lo disp uesto en el Estatuto\\n\\n---\\n\\nmanifestación primera y, siendo a su vez el interés de LA PARTE VENDEDORA la venta y transmisión de la  \\npropiedad de La finca.  \\n En virtud de ello, de sus mutuas y espontáneas voluntades convienen el presente CONTRATO DE ARRAS,  \\nque se regirá por los siguientes  \\n \\nACUERDOS:  \\n \\n \\nPrimero. - La PARTE COMPRADORA entrega en este acto a LA PARTE VENDEDORA la cantidad de  \\n……………..………………… EUROS (…… …………. euros) en concepto de arras p or la compra de la finca \\ndescrita en la manifestación primera, compra que se establece por el precio total de \\n……………………………………  EUROS ( …………. euros).  \\n \\nEl presente documento sirve como la más eficaz y cabal carta de pago respecto de la cantidad entregada, que  \\nse ha librado a cuenta del precio pactado.\", '(6)             Indicar la actividad fija discontinua o de temporada de la empresa y su duración.(7)             Indicar la duración de la actividad a desarrollar por el/la trabajador/a.   (8)             Diarios, semanales o mensuales o anuales. Detallar Convenio.(9)             Indique el número de horas.según convenio colectivo para jornada completa, máximo lega o lo del trabajador a tiempo completo.  (10)           Indique la jornada del trabajador   (11)           Señalese lo que proceda y en caso afirmativo adjuntar el anexo si hay hojas complementarias.\\n(12)           Respetando lo establecido en el art.14.1 del Texto Refundido de la Ley del Estatuto de los Trabajadores, aprobado por Real Decreto Legislativo 2/2015, de 23 de octubre\\n\\n---\\n\\nCLÁUSULAS ESPECÍFICAS DE TRABAJADORES EN SITUACIÓN DE EXCLUSIÓN SO-\\nCIAL EN EMPRESAS DE INSERCIÓ N\\nTIEMPO P ARCIALCÓDIGO DE CONTRA TO\\nTIEMPO COMPLETOMINISTERIO\\nDE EMPLEO Y\\nSEGURIDAD SOCIAL\\nSERVICIO PÚBLICO\\nDE EMPLEO ESTATAL\\n25 0150\\nFIJO DISCONTINUO 35 0\\nQue el/la trabajador/a está desempleado/a y se encuentra incluido/a en alguna de las situaciones contempladas en el art. 2 de la Ley 44/2007\\nde 13 de diciembre (BOE 14 de diciembre), y que acredita mediante certificación emitida  por los Servicios Sociales competentes de........................................................................................................................(1) que  perteneciendo al colectivo de :\\n\\n---\\n\\nTexto Refundido de la Ley del Impuesto sobre Sociedades aprobado por R.D. Legislativo 4/2004 de 5 de marzo.  Señalese en el supuesto de solicitar estos incentivos\\n                El trabajador es perceptor de prestaciones por desempleo y ha percibido al menos 3 meses de la prestación contributiva                Que es el primer trabajador/a contratado por la empresa y es un trabajador/a menor de 30 años.\\n            FIJO DISCONTINUO                                                                                         2 00        TIEMPO PARCIAL                                 \\nCÓDIGO DE CONTRATOFIJO DISCONTINUO\\nSIN BONIFICACIÓN\\nCON BONIFICACIÓNSIN BONIFICACIÓNTIEMPO COMPLETO\\n1 5 01 0 0\\nCON BONIFICACIÓNCÓDIGO DE CONTRATO\\n\\n---\\n\\nCLÁUSULAS ESPECÍFICAS  DE  PERSONAS CON DISCAPACIDAD EN CENTROS\\n      ESPECIALES DE EMPLEO\\nTIEMPO P ARCIALCÓDIGO DE CONTRA TO\\nTIEMPO COMPLETOMINISTERIO\\nDE EMPLEO Y\\nSEGURIDAD SOCIAL\\nSERVICIO PÚBLICO\\nDE EMPLEO ESTATAL\\n2501 5 0\\nFIJO DISCONTINUO 35 0\\n  (1 ) Indicar el organismo competente.\\n  (2 ) No  podrá exceder de 6 meses..\\n              (3 ) Las condiciones del período de adaptación al trabajo serán las determinadas, en su caso por el equipo Multiprofesional.               El  trabajador/a  tiene reconocida la condición  de persona  con discapacidad como se acredita con  la resolución/ certificación expedida por :\\n\\n---\\n\\n14 de noviembre, por el que se regula la relación laboral de carácter especial del servicio de hogar familiar y supletoriamente en lo que resulte compatible, el Estatuto de los Trabajadores, aprobado por el R.D.Legislativo 2/2015, de 23 de octubre (BOE de 24 de octubre) excepto su artículo 33 que no se aplicará.\\nEl contenido del presente contrato se presentará en la Tesorería General de la Seguridad Social en el trámite de alta de el/la empleado/a de \\nhogar a efectos de comunicación del contenido del contrato al Servicio Público de Empleo.\\n (1)   Señálese lo que procede, \\n MINISTERIO\\nDE EMPLEO Y\\nSEGURIDAD SOCIAL', 'manifestación primera y, siendo a su vez el interés de LA PARTE VENDEDORA la venta y transmisión de la  \\npropiedad de La finca.  \\n En virtud de ello, de sus mutuas y espontáneas voluntades convienen el presente CONTRATO DE ARRAS,  \\nque se regirá por los siguientes  \\n \\nACUERDOS:  \\n \\n \\nPrimero. - La PARTE COMPRADORA entrega en este acto a LA PARTE VENDEDORA la cantidad de  \\n……………..………………… EUROS (…… …………. euros) en concepto de arras p or la compra de la finca \\ndescrita en la manifestación primera, compra que se establece por el precio total de \\n……………………………………  EUROS ( …………. euros).  \\n \\nEl presente documento sirve como la más eficaz y cabal carta de pago respecto de la cantidad entregada, que  \\nse ha librado a cuenta del precio pactado.\\n\\n---\\n\\nSi fuera la parte vendedora la que decidiese la resolución del contrato, deberá devolver dobladas las  cantidades \\nque le hayan sido entregadas per la parte compradora. Lo mismo sucederá si la parte compradora  no \\ncomparece ante Notario en el día señalado para la compraventa.  Cuarto. - Domicilio de notificaciones. La s partes designan como domicilio de cumplimiento de las  obligaciones \\nque deriven de este documento las direcciones que figuran en el mismo.\\n\\n---\\n\\nCONTRATO DE ARRAS  \\n \\nEn la ciudad de ……………………............... a fecha … ………………………………………… \\n \\nREUNIDOS:  \\n LA PARTE COMPRADORA D./Dª . …………………………………………….……………………. …, mayor de \\nedad,  con domicilio en ……..……………….…………………………………………….. …, de la ciudad de \\n…………………..………….. , y DNI ./N.I.F. ….… ………………. \\n LA PARTE VENDEDORA D./Dª.  …………………………………………….………………………. …, mayor de \\nedad,  con domicilio en ……..……………….…………………………………………….. …, de la ciudad de \\n…………………..………….. , DNI./N.I.F. ….…………………. \\n Ambas partes se reconocen la capacidad y legitimación necesarias para la realización de este acto.  \\n \\nMANIFIESTAN:  \\n Primero. - Que la PARTE VENDEDORA es propietaria de la finca siguiente:  \\n \\nSegundo. - Que la PARTE COMPRADORA desea adquirir el pleno dominio de la finca descrita en la\\n\\n---\\n\\nempresa tendrá derecho a una subvención de 7.814 euros, si se cumplen los requisitos establecidos en el  R.D. 290/2004 de 20 de febrero(BOE de 21 de febrero). Si el contrato se celebra a tiempo parcial esta subvención se reducirá proporcionalmente,\\nEn el caso de contratos celebrados con las trabajadoras incluidas en el apartado c) a tiempo completo, la empresa  tendrá derecho a una\\nsubvención de 3.907 euros, si se cumplen los requisitos establecidos en el en el R.D. 290/2004 de 20 de febrero (BOE de 21 de febrero). Siel contrato se celebra a tiempo parcial esta subvención se reducirá proporcionalmente,\\nSi el contrato se celebra a tiempo completo, la bonificación anual de la cuota empresarial a la Seguridad Social durante toda la vigencia del\\ncontrato será la siguiente:\\n\\n---\\n\\na          b          c          d         e          f          g        h       (2), recogido en el citado apartado.\\n       Si  se reunen los requisitos establecidos en la Ley 44/2007 de 13 de diciembre ( BOE 14 de diciembre ), la empresa se bonificará en la cuota\\nempresarial a la Seguridad social en 850 euros/año ó la parte proporcional si el contrato es a tiempo partcial, durante tres años.\\n      Si el contrato se suscribe con personas menores de 30 años, la bonificación será de 1650 euros/año durante tres años (Ley 11/2013).CON BONIFICACIÓN\\n En lo no previsto en este   contrato, se estará a la legislación vigente que resulte de aplicación, y en particular , a lo disp uesto en el Estatuto', 'CLÁUSULAS  ESPECÍFICAS DE UN JÓVEN POR MICROEMPRESAS Y EMPRESARIOS           \\n       AUTÓNOMOS\\nTIEMPO PARCIALCÓDIGO DE CON75$726\\nTIEMPO COMPLETOSERVICIO PÚBLICO \\nDE EMPLEO ESTATAL\\n2 001 0 0\\n         \\n  \\nSi se reunen los requisitos y condiciones establecidos en el  art.10 de la Ley11/2013 de 26 de julio, el empleador/a tendrá dere-\\ncho a una reducción del 100% de la cuota empresarial a la S. Social por contingencias comunes del trabajador contratado duran-\\nte el primer año de contrato. Para la aplicación de las reducciones se deberá mantener en el empleo al trabajador contratado al me- \\nnos 18 meses desde la contratación . Se deberá mantener el nivel de empleo alcanzado con  el contrato durante al menos 1 año.\\n\\n---\\n\\nCLÁUSULAS ESPECÍFICAS A TIEMPO PARCIAL CON VINCULACIÓN FORMATIVA\\nTIEMPO P ARCIALCÓDIGO DE CONTRA TOMINISTERIO\\nDE EMPLEO Y\\nSEGURIDAD SOCIAL\\nSERVICIO PÚBLICO\\nDE EMPLEO ESTATAL\\n2 00\\nQue el/la trabajador/a es desempleado/a es menor de 30 años  o menor de 35 años con un grado de discapacidad reconocido igual osuperior al 33% y cumple alguno de los siguientes requisitos :\\n           No tener experiencia laboral o que esta sea inferior a tres meses.\\n           Proceder de otro sector de actividad en los términos que se determine reglamentariamente.           Ser desempleado inscrito ininterrumpidamente en la oficina de empleo al menos doce meses durante los dieciocho           anteriores a la contratación.\\n\\n---\\n\\nTIEMPO PARCIALCÓDIGO DE CONTRATO\\nTIEMPO COMPLETOSERVICIO PÚBLICO \\nDE EMPLEO ESTATAL\\n2 0 01 0 0\\nFIJO DISCONTINUO 30 0            SIN CLÁUSULAS ESPECÍFICAS ( ORDINARIO )\\n          INDEFINIDO CON REDUCCIÓN DE CUOTAS A LA S. SOCIAL LEY 25/2015\\n                Que el/la trabajador/a,  esté admitido/a en el Programa de Activación para el Empleo y este  \\n       en posesión del  documento acreditativo o resolución del SEPE.\\n  \\n             \\nhttp://www.sepe.esMINISTERIO\\nDE EMPLEO Y\\nSEGURIDAD SOCIAL\\n\\n---\\n\\nCLÁUSULAS ESPECÍFICAS  DE  PERSONAS CON DISCAPACIDAD EN CENTROS\\n      ESPECIALES DE EMPLEO\\nTIEMPO P ARCIALCÓDIGO DE CONTRA TO\\nTIEMPO COMPLETOMINISTERIO\\nDE EMPLEO Y\\nSEGURIDAD SOCIAL\\nSERVICIO PÚBLICO\\nDE EMPLEO ESTATAL\\n2501 5 0\\nFIJO DISCONTINUO 35 0\\n  (1 ) Indicar el organismo competente.\\n  (2 ) No  podrá exceder de 6 meses..\\n              (3 ) Las condiciones del período de adaptación al trabajo serán las determinadas, en su caso por el equipo Multiprofesional.               El  trabajador/a  tiene reconocida la condición  de persona  con discapacidad como se acredita con  la resolución/ certificación expedida por :\\n\\n---\\n\\nCLAÚSULAS  ESPECÍFICAS  DE  APOYO  A  EMPRENDEDORES\\nCON BONIFICACIÓNCÓDIGO DE CONTRATO\\nSIN BONIFICACIÓNSERVICIO PÚBLICO \\nDE EMPLEO ESTATAL\\n3 5 03 0 0\\n2 5 0\\nQue la empresa se acoge a los incentivos fiscales o a las bonificaciones a la Seguridad Social contemplados en el articulo 4 de la Ley 3/2012, de 6 de julio ( BOE de 7 de julio )            SI             NOBonificaciones:Si reunen los requisitos y condiciones establecidos en el art 4 de la Ley 3/2012 de 6 de julio se bonificará en las cuotas empresariales a la Seguridad Social en las siguientes cuantías, según los colectivos que se enumeran :\\n TRABAJADORES INSCRITOS EN LA OFICINA DE EMPLEO:\\n                Desempleados entre 16 y 30 años, ambos inclusive.', 'contrato, a las bonificaciones del 100 por 100 de la cuota empresarial a la Seguridad Social, incluidas las de accidente de trabajo y enfermedad\\nprofesional y las cuotas de recaudación conjunta\\n.\\n                    Que el/la trabajador/a esta admitido/a en el Programa de Activación para el Empleo y esta en posesión del document o acreditativo o \\n                   resolución del SEPE. ( R.D. Ley 16/2014 )\\nhttp://www.sepe.es\\n\\n---\\n\\nEn lo no previsto en este  contrato, se estará a lo dispuesto en el art. 10 de la Ley 11/2013, de 26 de julio, a la sección I del capítulo I de la  \\nLey 43/2006,  salvo lo establecido en sus Art. 2.7 y 6.2. Asi como a lo dispuesto  en el  Estatuto de los Trabajadores, aprobado  por \\nel R.D. \\nLegislativo 2/2015, de 23 de octubre (BOE. de 24 de octubre),  y en el Convenio Colectivo de ......................................................................\\n..................................... ............................................................................................................................................. ................................Que el trabajador/a es desmpleado/a no ha tenido vinculación laboral anterior con el empleador/a y es :\\nMenor de 30 años.\\n\\n---\\n\\n* IMPORTANTE\\n ( TODAS LAS PÁGS. CUMPLIMENTADAS DE ESTE CONTRATO DEBERÁN IR FIRMADAS EN EL MARGEN IZQUIERDO PARA MAYOR SE-\\nGURIDAD JURIDICA) \\n                   El/la trabajador/a                                                  El/la representante                                       El/la representante legal\\n                                                                                                  de la Empresa                                         del/de la menor, si procedeY para que conste, se extiende este contrato por triplicado ejemplar en el lugar y fecha a continuación indicados, firmando las  partes interesadas.\\n\\n---\\n\\nCUARTA:  La duración del presente contrato será INDEFINIDA, iniciándonse  la relación laboral en fecha ............................................... y se \\n establece un período de prueba de (12) ..............................................................................................................................................................\\nQUINTA:   El/la trabajador/a percibirá una retribución total de .............................................................. euros brutos (13) ...................................... \\nque se distribuirán en los siguientes conceptos salariales (14) ..................................................................................................................................\\n.\\n\\n---\\n\\n1 5 01 0 0\\nCON BONIFICACIÓNCÓDIGO DE CONTRATO\\nTanto los incentivos fiscales como las bonificaciones, en el supuesto de que el contrato se celebre a tiempo parcial, se disfrutarán de \\nmodo proporcional a la jornada de trabajo pactada en el contrato.En el caso de reunir los requisitos establecidos en el Articulo 8 de la Ley  25/2015 de 28 de julio, la empresa aplicará la reducción \\ncorrespondiente.         SI                  NO\\nEn caso que el/la trabajador/a sea beneficiario/a del Sistema Nacional de Garantia Juvenil y esté inscrito/a en el Registro correspondientemediente resolución de fecha..............................................................,asi como se reunan los requisitos del  art. 107 de la Ley 18/2014, de15 de octubre ( BOE de 17 de octubre) y es:', 'Si fuera la parte vendedora la que decidiese la resolución del contrato, deberá devolver dobladas las  cantidades \\nque le hayan sido entregadas per la parte compradora. Lo mismo sucederá si la parte compradora  no \\ncomparece ante Notario en el día señalado para la compraventa.  Cuarto. - Domicilio de notificaciones. La s partes designan como domicilio de cumplimiento de las  obligaciones \\nque deriven de este documento las direcciones que figuran en el mismo.\\n\\n---\\n\\na          b          c          d         e          f          g        h       (2), recogido en el citado apartado.\\n       Si  se reunen los requisitos establecidos en la Ley 44/2007 de 13 de diciembre ( BOE 14 de diciembre ), la empresa se bonificará en la cuota\\nempresarial a la Seguridad social en 850 euros/año ó la parte proporcional si el contrato es a tiempo partcial, durante tres años.\\n      Si el contrato se suscribe con personas menores de 30 años, la bonificación será de 1650 euros/año durante tres años (Ley 11/2013).CON BONIFICACIÓN\\n En lo no previsto en este   contrato, se estará a la legislación vigente que resulte de aplicación, y en particular , a lo disp uesto en el Estatuto\\n\\n---\\n\\nmanifestación primera y, siendo a su vez el interés de LA PARTE VENDEDORA la venta y transmisión de la  \\npropiedad de La finca.  \\n En virtud de ello, de sus mutuas y espontáneas voluntades convienen el presente CONTRATO DE ARRAS,  \\nque se regirá por los siguientes  \\n \\nACUERDOS:  \\n \\n \\nPrimero. - La PARTE COMPRADORA entrega en este acto a LA PARTE VENDEDORA la cantidad de  \\n……………..………………… EUROS (…… …………. euros) en concepto de arras p or la compra de la finca \\ndescrita en la manifestación primera, compra que se establece por el precio total de \\n……………………………………  EUROS ( …………. euros).  \\n \\nEl presente documento sirve como la más eficaz y cabal carta de pago respecto de la cantidad entregada, que  \\nse ha librado a cuenta del precio pactado.\\n\\n---\\n\\nse ha librado a cuenta del precio pactado.  \\n \\nSegundo. - Se establece, como fecha máxima para otorgar el contrato de compraventa mediante la escritura  \\npública correspondiente el plazo de ……. meses a contar desde la fecha del presente contrato\\n. (indique en los  \\npuntos suspensivos el plazo que considere adecuado)  \\n \\nTercero. - De acuerdo con el artículo 1454 del Código civil, llegado el plazo fijado en cláusula precedente la  \\nparte compradora podrá resolver el presente contrato, aviniéndose a perder las cantidades que, conforme al  \\nacuerdo primero ha librado a la parte vendedora. Esta cláusula se pacte con carácter expreso de arras  \\npenitenciales. Lo mismo sucederá si la parte compradora no comparece ante Notario en el día señalado para la compraventa.\\n\\n---\\n\\nCONTRATO DE ARRAS  \\n \\nEn la ciudad de ……………………............... a fecha … ………………………………………… \\n \\nREUNIDOS:  \\n LA PARTE COMPRADORA D./Dª . …………………………………………….……………………. …, mayor de \\nedad,  con domicilio en ……..……………….…………………………………………….. …, de la ciudad de \\n…………………..………….. , y DNI ./N.I.F. ….… ………………. \\n LA PARTE VENDEDORA D./Dª.  …………………………………………….………………………. …, mayor de \\nedad,  con domicilio en ……..……………….…………………………………………….. …, de la ciudad de \\n…………………..………….. , DNI./N.I.F. ….…………………. \\n Ambas partes se reconocen la capacidad y legitimación necesarias para la realización de este acto.  \\n \\nMANIFIESTAN:  \\n Primero. - Que la PARTE VENDEDORA es propietaria de la finca siguiente:  \\n \\nSegundo. - Que la PARTE COMPRADORA desea adquirir el pleno dominio de la finca descrita en la', 'CLÁUSULAS ESPECÍFICAS A TIEMPO PARCIAL CON VINCULACIÓN FORMATIVA\\nTIEMPO P ARCIALCÓDIGO DE CONTRA TOMINISTERIO\\nDE EMPLEO Y\\nSEGURIDAD SOCIAL\\nSERVICIO PÚBLICO\\nDE EMPLEO ESTATAL\\n2 00\\nQue el/la trabajador/a es desempleado/a es menor de 30 años  o menor de 35 años con un grado de discapacidad reconocido igual osuperior al 33% y cumple alguno de los siguientes requisitos :\\n           No tener experiencia laboral o que esta sea inferior a tres meses.\\n           Proceder de otro sector de actividad en los términos que se determine reglamentariamente.           Ser desempleado inscrito ininterrumpidamente en la oficina de empleo al menos doce meses durante los dieciocho           anteriores a la contratación.\\n\\n---\\n\\nCLAÚSULAS  ESPECÍFICAS  DE  APOYO  A  EMPRENDEDORES\\nCON BONIFICACIÓNCÓDIGO DE CONTRATO\\nSIN BONIFICACIÓNSERVICIO PÚBLICO \\nDE EMPLEO ESTATAL\\n3 5 03 0 0\\n2 5 0\\nQue la empresa se acoge a los incentivos fiscales o a las bonificaciones a la Seguridad Social contemplados en el articulo 4 de la Ley 3/2012, de 6 de julio ( BOE de 7 de julio )            SI             NOBonificaciones:Si reunen los requisitos y condiciones establecidos en el art 4 de la Ley 3/2012 de 6 de julio se bonificará en las cuotas empresariales a la Seguridad Social en las siguientes cuantías, según los colectivos que se enumeran :\\n TRABAJADORES INSCRITOS EN LA OFICINA DE EMPLEO:\\n                Desempleados entre 16 y 30 años, ambos inclusive.\\n\\n---\\n\\nCLÁUSULAS  ESPECÍFICAS DE UN JÓVEN POR MICROEMPRESAS Y EMPRESARIOS           \\n       AUTÓNOMOS\\nTIEMPO PARCIALCÓDIGO DE CON75$726\\nTIEMPO COMPLETOSERVICIO PÚBLICO \\nDE EMPLEO ESTATAL\\n2 001 0 0\\n         \\n  \\nSi se reunen los requisitos y condiciones establecidos en el  art.10 de la Ley11/2013 de 26 de julio, el empleador/a tendrá dere-\\ncho a una reducción del 100% de la cuota empresarial a la S. Social por contingencias comunes del trabajador contratado duran-\\nte el primer año de contrato. Para la aplicación de las reducciones se deberá mantener en el empleo al trabajador contratado al me- \\nnos 18 meses desde la contratación . Se deberá mantener el nivel de empleo alcanzado con  el contrato durante al menos 1 año.\\n\\n---\\n\\nCLÁUSULAS ESPECÍFICAS  DE  PERSONAS CON DISCAPACIDAD EN CENTROS\\n      ESPECIALES DE EMPLEO\\nTIEMPO P ARCIALCÓDIGO DE CONTRA TO\\nTIEMPO COMPLETOMINISTERIO\\nDE EMPLEO Y\\nSEGURIDAD SOCIAL\\nSERVICIO PÚBLICO\\nDE EMPLEO ESTATAL\\n2501 5 0\\nFIJO DISCONTINUO 35 0\\n  (1 ) Indicar el organismo competente.\\n  (2 ) No  podrá exceder de 6 meses..\\n              (3 ) Las condiciones del período de adaptación al trabajo serán las determinadas, en su caso por el equipo Multiprofesional.               El  trabajador/a  tiene reconocida la condición  de persona  con discapacidad como se acredita con  la resolución/ certificación expedida por :\\n\\n---\\n\\nCLÁUSULAS ESPECÍFICAS DE TRABAJADORES EN SITUACIÓN DE EXCLUSIÓN SO-\\nCIAL EN EMPRESAS DE INSERCIÓ N\\nTIEMPO P ARCIALCÓDIGO DE CONTRA TO\\nTIEMPO COMPLETOMINISTERIO\\nDE EMPLEO Y\\nSEGURIDAD SOCIAL\\nSERVICIO PÚBLICO\\nDE EMPLEO ESTATAL\\n25 0150\\nFIJO DISCONTINUO 35 0\\nQue el/la trabajador/a está desempleado/a y se encuentra incluido/a en alguna de las situaciones contempladas en el art. 2 de la Ley 44/2007\\nde 13 de diciembre (BOE 14 de diciembre), y que acredita mediante certificación emitida  por los Servicios Sociales competentes de........................................................................................................................(1) que  perteneciendo al colectivo de :', 'En lo no previsto en este  contrato, se estará a lo dispuesto en el art. 10 de la Ley 11/2013, de 26 de julio, a la sección I del capítulo I de la  \\nLey 43/2006,  salvo lo establecido en sus Art. 2.7 y 6.2. Asi como a lo dispuesto  en el  Estatuto de los Trabajadores, aprobado  por \\nel R.D. \\nLegislativo 2/2015, de 23 de octubre (BOE. de 24 de octubre),  y en el Convenio Colectivo de ......................................................................\\n..................................... ............................................................................................................................................. ................................Que el trabajador/a es desmpleado/a no ha tenido vinculación laboral anterior con el empleador/a y es :\\nMenor de 30 años.\\n\\n---\\n\\nEl/la representante de la Empresa :\\n Que el/la trabajador/a de la Empresa D/Dña.......................................................................................................................................................\\n\\n---\\n\\n(6)             Indicar la actividad fija discontinua o de temporada de la empresa y su duración.(7)             Indicar la duración de la actividad a desarrollar por el/la trabajador/a.   (8)             Diarios, semanales o mensuales o anuales. Detallar Convenio.(9)             Indique el número de horas.según convenio colectivo para jornada completa, máximo lega o lo del trabajador a tiempo completo.  (10)           Indique la jornada del trabajador   (11)           Señalese lo que proceda y en caso afirmativo adjuntar el anexo si hay hojas complementarias.\\n(12)           Respetando lo establecido en el art.14.1 del Texto Refundido de la Ley del Estatuto de los Trabajadores, aprobado por Real Decreto Legislativo 2/2015, de 23 de octubre\\n\\n---\\n\\nde los Trabajadores, aprobado por el Real Decreto Legislativo 2/2015, de 23 de octubre (BOE. de 24 de octubre), y en la Ley 44/2007 ,  de 13 de\\ndiciembre (BOE 14 de diciembre)y en lo dispuesto en la Sección I del Capítulo I de la ley 43/2006.  Asimismo le será de aplicaci ón lo dispuesto\\nen el Convenio Colectivo de......................................... ...... ................................................... . .......................................................... .\\nDesempleados/as en situación de exclusión social, pertenecientes a alguno de los siguientes colectivos:\\n\\n---\\n\\nCUARTA:  La duración del presente contrato será INDEFINIDA, iniciándonse  la relación laboral en fecha ............................................... y se \\n establece un período de prueba de (12) ..............................................................................................................................................................\\nQUINTA:   El/la trabajador/a percibirá una retribución total de .............................................................. euros brutos (13) ...................................... \\nque se distribuirán en los siguientes conceptos salariales (14) ..................................................................................................................................\\n.', 'Si fuera la parte vendedora la que decidiese la resolución del contrato, deberá devolver dobladas las  cantidades \\nque le hayan sido entregadas per la parte compradora. Lo mismo sucederá si la parte compradora  no \\ncomparece ante Notario en el día señalado para la compraventa.  Cuarto. - Domicilio de notificaciones. La s partes designan como domicilio de cumplimiento de las  obligaciones \\nque deriven de este documento las direcciones que figuran en el mismo.\\n\\n---\\n\\nmanifestación primera y, siendo a su vez el interés de LA PARTE VENDEDORA la venta y transmisión de la  \\npropiedad de La finca.  \\n En virtud de ello, de sus mutuas y espontáneas voluntades convienen el presente CONTRATO DE ARRAS,  \\nque se regirá por los siguientes  \\n \\nACUERDOS:  \\n \\n \\nPrimero. - La PARTE COMPRADORA entrega en este acto a LA PARTE VENDEDORA la cantidad de  \\n……………..………………… EUROS (…… …………. euros) en concepto de arras p or la compra de la finca \\ndescrita en la manifestación primera, compra que se establece por el precio total de \\n……………………………………  EUROS ( …………. euros).  \\n \\nEl presente documento sirve como la más eficaz y cabal carta de pago respecto de la cantidad entregada, que  \\nse ha librado a cuenta del precio pactado.\\n\\n---\\n\\nCONTRATO DE ARRAS  \\n \\nEn la ciudad de ……………………............... a fecha … ………………………………………… \\n \\nREUNIDOS:  \\n LA PARTE COMPRADORA D./Dª . …………………………………………….……………………. …, mayor de \\nedad,  con domicilio en ……..……………….…………………………………………….. …, de la ciudad de \\n…………………..………….. , y DNI ./N.I.F. ….… ………………. \\n LA PARTE VENDEDORA D./Dª.  …………………………………………….………………………. …, mayor de \\nedad,  con domicilio en ……..……………….…………………………………………….. …, de la ciudad de \\n…………………..………….. , DNI./N.I.F. ….…………………. \\n Ambas partes se reconocen la capacidad y legitimación necesarias para la realización de este acto.  \\n \\nMANIFIESTAN:  \\n Primero. - Que la PARTE VENDEDORA es propietaria de la finca siguiente:  \\n \\nSegundo. - Que la PARTE COMPRADORA desea adquirir el pleno dominio de la finca descrita en la\\n\\n---\\n\\nY, en prueba de conformidad, firman este documento, por duplicado ejemplar y a un solo efecto, en el lugar y  \\nfecha indicados en su encabezamiento.  \\n \\n \\nFirmado: LA PARTE COMPRADORA                                       Firmado: LA PARTE VENDEDORA\\n\\n---\\n\\nde 15 de octubre ( BOE 17 de octubre) la empresa aplicará las bonificaciones establecidas en dicho artículo.  a)Menores de 45 años 5.100 euros/año                                         a)Menores de 45  años 5.950 euros/año  b)Mayores de 45  años 6.300 euros/año                                        b)Mayores de 45   años 6.300 euros/año\\nhttp://www..sepe.es']\n"
     ]
    }
   ],
   "source": [
    "contexts = []\n",
    "\n",
    "for i, question in enumerate(questions):\n",
    "    # Get the top 5 most relevant documents\n",
    "    results = db.similarity_search_with_score(question, k=5)\n",
    "    context = \"\\n\\n---\\n\\n\".join([doc.page_content for doc, _score in results])\n",
    "\n",
    "    # Append the context to the list of contexts\n",
    "    contexts.append(context)\n",
    "\n",
    "contexts = [context for context in contexts if context]\n",
    "print(contexts)"
   ]
  },
  {
   "cell_type": "markdown",
   "metadata": {},
   "source": [
    "Ahora creamos las respuestas esperadas para cada pregunta."
   ]
  },
  {
   "cell_type": "code",
   "execution_count": null,
   "metadata": {},
   "outputs": [],
   "source": [
    "answers_en = [\n",
    "    \"In the Arras Contract, the clause that specifies the conditions for the rescission of the contract is the third clause\",\n",
    "    \"The worker will provide services as [job title], included in the professional group of [professional group], for the performance of [job functions] in accordance with the professional classification system in force in the company\",\n",
    "    \"The buyer may terminate this contract, agreeing to forfeit the amounts paid as penalty deposits.\",\n",
    "]\n",
    "\n",
    "answers_es = [\n",
    "    \"En el Contrato de Arras, la cláusula que especifica las condiciones para la rescisión del contrato es la tercera cláusula\",\n",
    "    \"El/la trabajador/a prestará sus servicios como [puesto], incluido en el grupo profesional de [grupo profesional], para la realización de las funciones de [funciones laborales] de acuerdo con el sistema de clasificación profesional vigente en la empresa\",\n",
    "    \"La parte compradora podrá resolver el presente contrato, aviniéndose a perder las cantidades que ha entregado como arras penitenciales.\",\n",
    "]\n",
    "\n",
    "answers_cat = [\n",
    "    \"En el Contracte d'Arres, la clàusula que especifica les condicions per a la rescissió del contracte és la tercera clàusula\",\n",
    "    \"El/la treballador/a prestarà els seus serveis com [lloc de treball], inclosos en el grup professional de [grup professional], per a la realització de les funcions de [funcions laborals] d'acord amb el sistema de classificació professional vigent a l'empresa\",\n",
    "    \"La part compradora podrà resoldre el present contracte, convenint-se a perdre les quantitats que ha entregat com a arres penitencials.\",\n",
    "]\n",
    "\n",
    "answers = answers_en + answers_es + answers_cat\n",
    "answers"
   ]
  },
  {
   "cell_type": "markdown",
   "metadata": {},
   "source": [
    "Finalmente creamos el DataFrame para evaluar los modelos."
   ]
  },
  {
   "cell_type": "code",
   "execution_count": null,
   "metadata": {},
   "outputs": [],
   "source": [
    "data_samples = {\n",
    "    'question': questions,\n",
    "    'answer': answers,\n",
    "    'contexts': contexts,\n",
    "    'ground_truth': answers\n",
    "}\n",
    "\n",
    "print(data_samples[\"contexts\"])\n",
    "\n",
    "dataset = Dataset.from_dict(data_samples)\n",
    "\n",
    "# Get the type of the columns of the dataset\n",
    "print(dataset.features)"
   ]
  },
  {
   "cell_type": "markdown",
   "metadata": {},
   "source": [
    "## 5. Evaluación de los modelos"
   ]
  },
  {
   "cell_type": "code",
   "execution_count": null,
   "metadata": {},
   "outputs": [],
   "source": [
    "embeddings = get_embedding_function(emb_model)\n",
    "llm = Ollama(model=llm_model)"
   ]
  },
  {
   "cell_type": "code",
   "execution_count": null,
   "metadata": {},
   "outputs": [],
   "source": [
    "score = evaluate(\n",
    "    dataset,\n",
    "    metrics=[faithfulness, answer_relevancy, context_precision, context_recall],\n",
    "    llm=llm,\n",
    "    embeddings=embeddings\n",
    ")\n",
    "\n",
    "df_score = score.to_pandas()\n",
    "print(df_score)"
   ]
  }
 ],
 "metadata": {
  "kernelspec": {
   "display_name": "Python 3 (ipykernel)",
   "language": "python",
   "name": "python3"
  },
  "language_info": {
   "codemirror_mode": {
    "name": "ipython",
    "version": 3
   },
   "file_extension": ".py",
   "mimetype": "text/x-python",
   "name": "python",
   "nbconvert_exporter": "python",
   "pygments_lexer": "ipython3",
   "version": "3.12.2"
  }
 },
 "nbformat": 4,
 "nbformat_minor": 4
}
