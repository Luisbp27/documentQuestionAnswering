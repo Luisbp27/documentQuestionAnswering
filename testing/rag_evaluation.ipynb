{
 "cells": [
  {
   "cell_type": "markdown",
   "metadata": {},
   "source": [
    "# Análisis de los diferentes modelos"
   ]
  },
  {
   "cell_type": "markdown",
   "metadata": {},
   "source": [
    "## 1. Importación de librerías y modulos"
   ]
  },
  {
   "cell_type": "code",
   "execution_count": 19,
   "metadata": {},
   "outputs": [],
   "source": [
    "#%pip install -r requirements.txt"
   ]
  },
  {
   "cell_type": "code",
   "execution_count": 20,
   "metadata": {},
   "outputs": [],
   "source": [
    "import os\n",
    "from dotenv import load_dotenv\n",
    "from datasets import Dataset\n",
    "from ragas import evaluate\n",
    "from ragas.metrics import faithfulness, answer_relevancy, context_precision, context_recall\n",
    "from langchain_huggingface.llms import HuggingFacePipeline\n",
    "from langchain_huggingface import HuggingFaceEmbeddings\n",
    "from transformers import AutoModelForCausalLM, AutoTokenizer, pipeline\n",
    "from langchain_community.document_loaders.pdf import PyPDFDirectoryLoader\n",
    "from langchain_text_splitters import RecursiveCharacterTextSplitter\n",
    "from langchain.schema.document import Document\n",
    "from langchain_community.llms import Ollama\n",
    "from langchain_community.vectorstores import Chroma\n",
    "from module import *"
   ]
  },
  {
   "cell_type": "code",
   "execution_count": 21,
   "metadata": {},
   "outputs": [],
   "source": [
    "emb_model = \"baai_small\"\n",
    "llm_model = \"llama3\""
   ]
  },
  {
   "cell_type": "markdown",
   "metadata": {},
   "source": [
    "## 2. Carga de datos "
   ]
  },
  {
   "cell_type": "code",
   "execution_count": 22,
   "metadata": {},
   "outputs": [],
   "source": [
    "document_loader = PyPDFDirectoryLoader(\"./data_testing\")\n",
    "documents = document_loader.load()"
   ]
  },
  {
   "cell_type": "code",
   "execution_count": 23,
   "metadata": {},
   "outputs": [],
   "source": [
    "chunks = split_documents(documents)"
   ]
  },
  {
   "cell_type": "markdown",
   "metadata": {},
   "source": [
    "## 3. Creación de la base de datos vectorial"
   ]
  },
  {
   "cell_type": "code",
   "execution_count": 24,
   "metadata": {},
   "outputs": [
    {
     "name": "stdout",
     "output_type": "stream",
     "text": [
      "Number of existing documents in DB: 95\n",
      "✅ No new documents to add\n"
     ]
    }
   ],
   "source": [
    "db = Chroma(\n",
    "    persist_directory=\"./database_testing\", embedding_function=get_embedding_function(emb_model)\n",
    ")\n",
    "\n",
    "# Calculate Page IDs.\n",
    "chunks_with_ids = calculate_chunk_ids(chunks)\n",
    "\n",
    "# Add or Update the documents.\n",
    "existing_items = db.get(include=[])  # IDs are always included by default\n",
    "existing_ids = set(existing_items[\"ids\"])\n",
    "print(f\"Number of existing documents in DB: {len(existing_ids)}\")\n",
    "\n",
    "# Only add documents that don't exist in the DB.\n",
    "new_chunks = []\n",
    "for chunk in chunks_with_ids:\n",
    "    if chunk.metadata[\"id\"] not in existing_ids:\n",
    "        new_chunks.append(chunk)\n",
    "\n",
    "if len(new_chunks):\n",
    "    print(f\"👉 Adding new documents: {len(new_chunks)}\")\n",
    "    new_chunk_ids = [chunk.metadata[\"id\"] for chunk in new_chunks]\n",
    "    db.add_documents(new_chunks, ids=new_chunk_ids)\n",
    "    db.persist()\n",
    "    print(\"Documents added correctly ✅\")\n",
    "else:\n",
    "    print(\"✅ No new documents to add\")"
   ]
  },
  {
   "cell_type": "markdown",
   "metadata": {},
   "source": [
    "## 4. Preguntas de interés"
   ]
  },
  {
   "cell_type": "markdown",
   "metadata": {},
   "source": [
    "Formulamos las preguntas y buscamos en la base de datos los chunks que nos ofrezcan mejor contexto para responderlas."
   ]
  },
  {
   "cell_type": "code",
   "execution_count": 25,
   "metadata": {},
   "outputs": [],
   "source": [
    "questions_en = [\n",
    "    \"What is the clause that specifies the conditions for the rescission of the contract in the Arras Contract?\",\n",
    "    \"What are the job functions described in the Indefinite Employment Contract?\",\n",
    "    \"What penalties are applied if the buyer does not meet the conditions of the Arras Contract?\",\n",
    "]\n",
    "\n",
    "questions_es = [\n",
    "    \"¿Cuál es la cláusula que especifica las condiciones para la rescisión del contrato en el Contrato de Arras?\",\n",
    "    \"¿Cuáles son las funciones laborales descritas en el Contrato de Trabajo Indefinido?\",\n",
    "    \"¿Qué sanciones se aplican si la parte compradora no cumple con las condiciones del Contrato de Arras?\",\n",
    "]\n",
    "\n",
    "questions_cat = [\n",
    "    \"Quina és la clàusula que especifica les condicions per a la rescissió del contracte en el Contracte d'Arres?\",\n",
    "    \"Quines són les funcions laborals descrites en el Contracte de Treball Indefinit?\",\n",
    "    \"Quines sancions s'apliquen si la part compradora no compleix amb les condicions del Contracte d'Arres?\",\n",
    "]\n",
    "\n",
    "questions = questions_en + questions_es + questions_cat"
   ]
  },
  {
   "cell_type": "code",
   "execution_count": 26,
   "metadata": {},
   "outputs": [
    {
     "name": "stdout",
     "output_type": "stream",
     "text": [
      "['Texto Refundido de la Ley del Impuesto sobre Sociedades aprobado por R.D. Legislativo 4/2004 de 5 de marzo.  Señalese en el supuesto de solicitar estos incentivos\\n                El trabajador es perceptor de prestaciones por desempleo y ha percibido al menos 3 meses de la prestación contributiva                Que es el primer trabajador/a contratado por la empresa y es un trabajador/a menor de 30 años.\\n            FIJO DISCONTINUO                                                                                         2 00        TIEMPO PARCIAL                                 \\nCÓDIGO DE CONTRATOFIJO DISCONTINUO\\nSIN BONIFICACIÓN\\nCON BONIFICACIÓNSIN BONIFICACIÓNTIEMPO COMPLETO\\n1 5 01 0 0\\nCON BONIFICACIÓNCÓDIGO DE CONTRATO', '(6)             Indicar la actividad fija discontinua o de temporada de la empresa y su duración.(7)             Indicar la duración de la actividad a desarrollar por el/la trabajador/a.   (8)             Diarios, semanales o mensuales o anuales. Detallar Convenio.(9)             Indique el número de horas.según convenio colectivo para jornada completa, máximo lega o lo del trabajador a tiempo completo.  (10)           Indique la jornada del trabajador   (11)           Señalese lo que proceda y en caso afirmativo adjuntar el anexo si hay hojas complementarias.\\n(12)           Respetando lo establecido en el art.14.1 del Texto Refundido de la Ley del Estatuto de los Trabajadores, aprobado por Real Decreto Legislativo 2/2015, de 23 de octubre', 'manifestación primera y, siendo a su vez el interés de LA PARTE VENDEDORA la venta y transmisión de la  \\npropiedad de La finca.  \\n En virtud de ello, de sus mutuas y espontáneas voluntades convienen el presente CONTRATO DE ARRAS,  \\nque se regirá por los siguientes  \\n \\nACUERDOS:  \\n \\n \\nPrimero. - La PARTE COMPRADORA entrega en este acto a LA PARTE VENDEDORA la cantidad de  \\n……………..………………… EUROS (…… …………. euros) en concepto de arras p or la compra de la finca \\ndescrita en la manifestación primera, compra que se establece por el precio total de \\n……………………………………  EUROS ( …………. euros).  \\n \\nEl presente documento sirve como la más eficaz y cabal carta de pago respecto de la cantidad entregada, que  \\nse ha librado a cuenta del precio pactado.', 'CLÁUSULAS  ESPECÍFICAS DE UN JÓVEN POR MICROEMPRESAS Y EMPRESARIOS           \\n       AUTÓNOMOS\\nTIEMPO PARCIALCÓDIGO DE CON75$726\\nTIEMPO COMPLETOSERVICIO PÚBLICO \\nDE EMPLEO ESTATAL\\n2 001 0 0\\n         \\n  \\nSi se reunen los requisitos y condiciones establecidos en el  art.10 de la Ley11/2013 de 26 de julio, el empleador/a tendrá dere-\\ncho a una reducción del 100% de la cuota empresarial a la S. Social por contingencias comunes del trabajador contratado duran-\\nte el primer año de contrato. Para la aplicación de las reducciones se deberá mantener en el empleo al trabajador contratado al me- \\nnos 18 meses desde la contratación . Se deberá mantener el nivel de empleo alcanzado con  el contrato durante al menos 1 año.', 'contrato, a las bonificaciones del 100 por 100 de la cuota empresarial a la Seguridad Social, incluidas las de accidente de trabajo y enfermedad\\nprofesional y las cuotas de recaudación conjunta\\n.\\n                    Que el/la trabajador/a esta admitido/a en el Programa de Activación para el Empleo y esta en posesión del document o acreditativo o \\n                   resolución del SEPE. ( R.D. Ley 16/2014 )\\nhttp://www.sepe.es', 'Si fuera la parte vendedora la que decidiese la resolución del contrato, deberá devolver dobladas las  cantidades \\nque le hayan sido entregadas per la parte compradora. Lo mismo sucederá si la parte compradora  no \\ncomparece ante Notario en el día señalado para la compraventa.  Cuarto. - Domicilio de notificaciones. La s partes designan como domicilio de cumplimiento de las  obligaciones \\nque deriven de este documento las direcciones que figuran en el mismo.', 'CLÁUSULAS ESPECÍFICAS A TIEMPO PARCIAL CON VINCULACIÓN FORMATIVA\\nTIEMPO P ARCIALCÓDIGO DE CONTRA TOMINISTERIO\\nDE EMPLEO Y\\nSEGURIDAD SOCIAL\\nSERVICIO PÚBLICO\\nDE EMPLEO ESTATAL\\n2 00\\nQue el/la trabajador/a es desempleado/a es menor de 30 años  o menor de 35 años con un grado de discapacidad reconocido igual osuperior al 33% y cumple alguno de los siguientes requisitos :\\n           No tener experiencia laboral o que esta sea inferior a tres meses.\\n           Proceder de otro sector de actividad en los términos que se determine reglamentariamente.           Ser desempleado inscrito ininterrumpidamente en la oficina de empleo al menos doce meses durante los dieciocho           anteriores a la contratación.', 'En lo no previsto en este  contrato, se estará a lo dispuesto en el art. 10 de la Ley 11/2013, de 26 de julio, a la sección I del capítulo I de la  \\nLey 43/2006,  salvo lo establecido en sus Art. 2.7 y 6.2. Asi como a lo dispuesto  en el  Estatuto de los Trabajadores, aprobado  por \\nel R.D. \\nLegislativo 2/2015, de 23 de octubre (BOE. de 24 de octubre),  y en el Convenio Colectivo de ......................................................................\\n..................................... ............................................................................................................................................. ................................Que el trabajador/a es desmpleado/a no ha tenido vinculación laboral anterior con el empleador/a y es :\\nMenor de 30 años.', 'Si fuera la parte vendedora la que decidiese la resolución del contrato, deberá devolver dobladas las  cantidades \\nque le hayan sido entregadas per la parte compradora. Lo mismo sucederá si la parte compradora  no \\ncomparece ante Notario en el día señalado para la compraventa.  Cuarto. - Domicilio de notificaciones. La s partes designan como domicilio de cumplimiento de las  obligaciones \\nque deriven de este documento las direcciones que figuran en el mismo.']\n"
     ]
    }
   ],
   "source": [
    "contexts = []\n",
    "\n",
    "for question in questions:\n",
    "    # Get the top 5 most relevant documents\n",
    "    results = db.similarity_search_with_score(question, k=1)\n",
    "    context = \"\\n\\n---\\n\\n\".join([doc.page_content for doc, _score in results])\n",
    "\n",
    "    # Append the context to the list of contexts\n",
    "    contexts.append(context)\n",
    "\n",
    "all_contexts = []\n",
    "all_contexts.append(contexts)\n",
    "print(contexts)"
   ]
  },
  {
   "cell_type": "markdown",
   "metadata": {},
   "source": [
    "Ahora creamos las respuestas esperadas para cada pregunta."
   ]
  },
  {
   "cell_type": "code",
   "execution_count": 27,
   "metadata": {},
   "outputs": [
    {
     "data": {
      "text/plain": [
       "['In the Arras Contract, the clause that specifies the conditions for the rescission of the contract is the third clause',\n",
       " 'The worker will provide services as [job title], included in the professional group of [professional group], for the performance of [job functions] in accordance with the professional classification system in force in the company',\n",
       " 'The buyer may terminate this contract, agreeing to forfeit the amounts paid as penalty deposits.',\n",
       " 'En el Contrato de Arras, la cláusula que especifica las condiciones para la rescisión del contrato es la tercera cláusula',\n",
       " 'El/la trabajador/a prestará sus servicios como [puesto], incluido en el grupo profesional de [grupo profesional], para la realización de las funciones de [funciones laborales] de acuerdo con el sistema de clasificación profesional vigente en la empresa',\n",
       " 'La parte compradora podrá resolver el presente contrato, aviniéndose a perder las cantidades que ha entregado como arras penitenciales.',\n",
       " \"En el Contracte d'Arres, la clàusula que especifica les condicions per a la rescissió del contracte és la tercera clàusula\",\n",
       " \"El/la treballador/a prestarà els seus serveis com [lloc de treball], inclosos en el grup professional de [grup professional], per a la realització de les funcions de [funcions laborals] d'acord amb el sistema de classificació professional vigent a l'empresa\",\n",
       " 'La part compradora podrà resoldre el present contracte, convenint-se a perdre les quantitats que ha entregat com a arres penitencials.']"
      ]
     },
     "execution_count": 27,
     "metadata": {},
     "output_type": "execute_result"
    }
   ],
   "source": [
    "answers_en = [\n",
    "    \"In the Arras Contract, the clause that specifies the conditions for the rescission of the contract is the third clause\",\n",
    "    \"The worker will provide services as [job title], included in the professional group of [professional group], for the performance of [job functions] in accordance with the professional classification system in force in the company\",\n",
    "    \"The buyer may terminate this contract, agreeing to forfeit the amounts paid as penalty deposits.\",\n",
    "]\n",
    "\n",
    "answers_es = [\n",
    "    \"En el Contrato de Arras, la cláusula que especifica las condiciones para la rescisión del contrato es la tercera cláusula\",\n",
    "    \"El/la trabajador/a prestará sus servicios como [puesto], incluido en el grupo profesional de [grupo profesional], para la realización de las funciones de [funciones laborales] de acuerdo con el sistema de clasificación profesional vigente en la empresa\",\n",
    "    \"La parte compradora podrá resolver el presente contrato, aviniéndose a perder las cantidades que ha entregado como arras penitenciales.\",\n",
    "]\n",
    "\n",
    "answers_cat = [\n",
    "    \"En el Contracte d'Arres, la clàusula que especifica les condicions per a la rescissió del contracte és la tercera clàusula\",\n",
    "    \"El/la treballador/a prestarà els seus serveis com [lloc de treball], inclosos en el grup professional de [grup professional], per a la realització de les funcions de [funcions laborals] d'acord amb el sistema de classificació professional vigent a l'empresa\",\n",
    "    \"La part compradora podrà resoldre el present contracte, convenint-se a perdre les quantitats que ha entregat com a arres penitencials.\",\n",
    "]\n",
    "\n",
    "answers = answers_en + answers_es + answers_cat\n",
    "answers"
   ]
  },
  {
   "cell_type": "markdown",
   "metadata": {},
   "source": [
    "Finalmente creamos el DataFrame para evaluar los modelos."
   ]
  },
  {
   "cell_type": "code",
   "execution_count": 31,
   "metadata": {},
   "outputs": [
    {
     "name": "stdout",
     "output_type": "stream",
     "text": [
      "['Texto Refundido de la Ley del Impuesto sobre Sociedades aprobado por R.D. Legislativo 4/2004 de 5 de marzo.  Señalese en el supuesto de solicitar estos incentivos\\n                El trabajador es perceptor de prestaciones por desempleo y ha percibido al menos 3 meses de la prestación contributiva                Que es el primer trabajador/a contratado por la empresa y es un trabajador/a menor de 30 años.\\n            FIJO DISCONTINUO                                                                                         2 00        TIEMPO PARCIAL                                 \\nCÓDIGO DE CONTRATOFIJO DISCONTINUO\\nSIN BONIFICACIÓN\\nCON BONIFICACIÓNSIN BONIFICACIÓNTIEMPO COMPLETO\\n1 5 01 0 0\\nCON BONIFICACIÓNCÓDIGO DE CONTRATO', '(6)             Indicar la actividad fija discontinua o de temporada de la empresa y su duración.(7)             Indicar la duración de la actividad a desarrollar por el/la trabajador/a.   (8)             Diarios, semanales o mensuales o anuales. Detallar Convenio.(9)             Indique el número de horas.según convenio colectivo para jornada completa, máximo lega o lo del trabajador a tiempo completo.  (10)           Indique la jornada del trabajador   (11)           Señalese lo que proceda y en caso afirmativo adjuntar el anexo si hay hojas complementarias.\\n(12)           Respetando lo establecido en el art.14.1 del Texto Refundido de la Ley del Estatuto de los Trabajadores, aprobado por Real Decreto Legislativo 2/2015, de 23 de octubre', 'manifestación primera y, siendo a su vez el interés de LA PARTE VENDEDORA la venta y transmisión de la  \\npropiedad de La finca.  \\n En virtud de ello, de sus mutuas y espontáneas voluntades convienen el presente CONTRATO DE ARRAS,  \\nque se regirá por los siguientes  \\n \\nACUERDOS:  \\n \\n \\nPrimero. - La PARTE COMPRADORA entrega en este acto a LA PARTE VENDEDORA la cantidad de  \\n……………..………………… EUROS (…… …………. euros) en concepto de arras p or la compra de la finca \\ndescrita en la manifestación primera, compra que se establece por el precio total de \\n……………………………………  EUROS ( …………. euros).  \\n \\nEl presente documento sirve como la más eficaz y cabal carta de pago respecto de la cantidad entregada, que  \\nse ha librado a cuenta del precio pactado.', 'CLÁUSULAS  ESPECÍFICAS DE UN JÓVEN POR MICROEMPRESAS Y EMPRESARIOS           \\n       AUTÓNOMOS\\nTIEMPO PARCIALCÓDIGO DE CON75$726\\nTIEMPO COMPLETOSERVICIO PÚBLICO \\nDE EMPLEO ESTATAL\\n2 001 0 0\\n         \\n  \\nSi se reunen los requisitos y condiciones establecidos en el  art.10 de la Ley11/2013 de 26 de julio, el empleador/a tendrá dere-\\ncho a una reducción del 100% de la cuota empresarial a la S. Social por contingencias comunes del trabajador contratado duran-\\nte el primer año de contrato. Para la aplicación de las reducciones se deberá mantener en el empleo al trabajador contratado al me- \\nnos 18 meses desde la contratación . Se deberá mantener el nivel de empleo alcanzado con  el contrato durante al menos 1 año.', 'contrato, a las bonificaciones del 100 por 100 de la cuota empresarial a la Seguridad Social, incluidas las de accidente de trabajo y enfermedad\\nprofesional y las cuotas de recaudación conjunta\\n.\\n                    Que el/la trabajador/a esta admitido/a en el Programa de Activación para el Empleo y esta en posesión del document o acreditativo o \\n                   resolución del SEPE. ( R.D. Ley 16/2014 )\\nhttp://www.sepe.es', 'Si fuera la parte vendedora la que decidiese la resolución del contrato, deberá devolver dobladas las  cantidades \\nque le hayan sido entregadas per la parte compradora. Lo mismo sucederá si la parte compradora  no \\ncomparece ante Notario en el día señalado para la compraventa.  Cuarto. - Domicilio de notificaciones. La s partes designan como domicilio de cumplimiento de las  obligaciones \\nque deriven de este documento las direcciones que figuran en el mismo.', 'CLÁUSULAS ESPECÍFICAS A TIEMPO PARCIAL CON VINCULACIÓN FORMATIVA\\nTIEMPO P ARCIALCÓDIGO DE CONTRA TOMINISTERIO\\nDE EMPLEO Y\\nSEGURIDAD SOCIAL\\nSERVICIO PÚBLICO\\nDE EMPLEO ESTATAL\\n2 00\\nQue el/la trabajador/a es desempleado/a es menor de 30 años  o menor de 35 años con un grado de discapacidad reconocido igual osuperior al 33% y cumple alguno de los siguientes requisitos :\\n           No tener experiencia laboral o que esta sea inferior a tres meses.\\n           Proceder de otro sector de actividad en los términos que se determine reglamentariamente.           Ser desempleado inscrito ininterrumpidamente en la oficina de empleo al menos doce meses durante los dieciocho           anteriores a la contratación.', 'En lo no previsto en este  contrato, se estará a lo dispuesto en el art. 10 de la Ley 11/2013, de 26 de julio, a la sección I del capítulo I de la  \\nLey 43/2006,  salvo lo establecido en sus Art. 2.7 y 6.2. Asi como a lo dispuesto  en el  Estatuto de los Trabajadores, aprobado  por \\nel R.D. \\nLegislativo 2/2015, de 23 de octubre (BOE. de 24 de octubre),  y en el Convenio Colectivo de ......................................................................\\n..................................... ............................................................................................................................................. ................................Que el trabajador/a es desmpleado/a no ha tenido vinculación laboral anterior con el empleador/a y es :\\nMenor de 30 años.', 'Si fuera la parte vendedora la que decidiese la resolución del contrato, deberá devolver dobladas las  cantidades \\nque le hayan sido entregadas per la parte compradora. Lo mismo sucederá si la parte compradora  no \\ncomparece ante Notario en el día señalado para la compraventa.  Cuarto. - Domicilio de notificaciones. La s partes designan como domicilio de cumplimiento de las  obligaciones \\nque deriven de este documento las direcciones que figuran en el mismo.']\n"
     ]
    }
   ],
   "source": [
    "data_samples = {\n",
    "    'question': questions,\n",
    "    'answer': answers,\n",
    "    'contexts': contexts,\n",
    "    'ground_truth': answers\n",
    "}\n",
    "\n",
    "print(data_samples[\"contexts\"])\n",
    "\n",
    "dataset = Dataset.from_dict(data_samples)"
   ]
  },
  {
   "cell_type": "markdown",
   "metadata": {},
   "source": [
    "## 5. Evaluación de los modelos"
   ]
  },
  {
   "cell_type": "code",
   "execution_count": null,
   "metadata": {},
   "outputs": [],
   "source": [
    "embeddings = get_embedding_function(emb_model)\n",
    "llm = Ollama(model=llm_model)"
   ]
  },
  {
   "cell_type": "code",
   "execution_count": null,
   "metadata": {},
   "outputs": [],
   "source": [
    "score = evaluate(\n",
    "    dataset,\n",
    "    metrics=[faithfulness, answer_relevancy, context_precision, context_recall],\n",
    "    llm=llm,\n",
    "    embeddings=embeddings\n",
    ")\n",
    "\n",
    "df_score = score.to_pandas()\n",
    "print(df_score)"
   ]
  }
 ],
 "metadata": {
  "kernelspec": {
   "display_name": "Python 3 (ipykernel)",
   "language": "python",
   "name": "python3"
  },
  "language_info": {
   "codemirror_mode": {
    "name": "ipython",
    "version": 3
   },
   "file_extension": ".py",
   "mimetype": "text/x-python",
   "name": "python",
   "nbconvert_exporter": "python",
   "pygments_lexer": "ipython3",
   "version": "3.12.2"
  }
 },
 "nbformat": 4,
 "nbformat_minor": 4
}
