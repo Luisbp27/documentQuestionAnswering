{
 "cells": [
  {
   "cell_type": "markdown",
   "metadata": {},
   "source": [
    "# Análisis de los diferentes modelos"
   ]
  },
  {
   "cell_type": "markdown",
   "metadata": {},
   "source": [
    "## 1. Importación de librerías y modulos"
   ]
  },
  {
   "cell_type": "code",
   "execution_count": 1,
   "metadata": {},
   "outputs": [],
   "source": [
    "#%pip install -r requirements.txt"
   ]
  },
  {
   "cell_type": "code",
   "execution_count": 2,
   "metadata": {},
   "outputs": [
    {
     "name": "stderr",
     "output_type": "stream",
     "text": [
      "/opt/environment/lib/python3.10/site-packages/tqdm/auto.py:21: TqdmWarning: IProgress not found. Please update jupyter and ipywidgets. See https://ipywidgets.readthedocs.io/en/stable/user_install.html\n",
      "  from .autonotebook import tqdm as notebook_tqdm\n"
     ]
    }
   ],
   "source": [
    "from datasets import Dataset\n",
    "from ragas import evaluate\n",
    "from ragas.metrics import faithfulness, answer_relevancy, context_precision, context_recall\n",
    "from langchain_community.document_loaders.pdf import PyPDFDirectoryLoader\n",
    "from langchain_community.llms import Ollama\n",
    "from langchain_chroma import Chroma\n",
    "from chromadb.config import Settings\n",
    "import tqdm\n",
    "from module import *"
   ]
  },
  {
   "cell_type": "code",
   "execution_count": 3,
   "metadata": {},
   "outputs": [],
   "source": [
    "emb_model = [\n",
    "    \"multilingual_large\",\n",
    "    \"baai_large\",\n",
    "    \"mxbai_large\",\n",
    "    \"baai_small\"\n",
    "]\n",
    "\n",
    "llm_model = [\n",
    "    \"llama3\",\n",
    "    \"mistral\",\n",
    "    \"phi3\",\n",
    "    \"gemma\"\n",
    "]"
   ]
  },
  {
   "cell_type": "markdown",
   "metadata": {},
   "source": [
    "## 2. Carga de datos "
   ]
  },
  {
   "cell_type": "code",
   "execution_count": 4,
   "metadata": {},
   "outputs": [
    {
     "name": "stdout",
     "output_type": "stream",
     "text": [
      "Loaded 150 documents\n"
     ]
    }
   ],
   "source": [
    "documents_loader = PyPDFDirectoryLoader(\"./data/test1\")\n",
    "documents = documents_loader.load()\n",
    "print(f\"Loaded {len(documents)} documents\")"
   ]
  },
  {
   "cell_type": "code",
   "execution_count": 5,
   "metadata": {},
   "outputs": [
    {
     "name": "stdout",
     "output_type": "stream",
     "text": [
      "Number of chunks:  471\n"
     ]
    }
   ],
   "source": [
    "chunks = split_documents(documents, chunk_size=1024)\n",
    "print(\"Number of chunks: \", len(chunks))"
   ]
  },
  {
   "cell_type": "markdown",
   "metadata": {},
   "source": [
    "## 3. Creación de la base de datos vectorial"
   ]
  },
  {
   "cell_type": "code",
   "execution_count": 6,
   "metadata": {},
   "outputs": [
    {
     "name": "stderr",
     "output_type": "stream",
     "text": [
      "/opt/environment/lib/python3.10/site-packages/huggingface_hub/file_download.py:1132: FutureWarning: `resume_download` is deprecated and will be removed in version 1.0.0. Downloads always resume when possible. If you want to force a new download, use `force_download=True`.\n",
      "  warnings.warn(\n"
     ]
    }
   ],
   "source": [
    "# Load the existing database.\n",
    "db = Chroma(\n",
    "    collection_name=\"test1\",\n",
    "    persist_directory=\"./database\",\n",
    "    embedding_function=get_embedding_function(emb_model[3])\n",
    ")"
   ]
  },
  {
   "cell_type": "code",
   "execution_count": 7,
   "metadata": {},
   "outputs": [
    {
     "name": "stdout",
     "output_type": "stream",
     "text": [
      "Number of existing documents in DB: 150\n"
     ]
    }
   ],
   "source": [
    "# Calculate Page IDs.\n",
    "chunks_with_ids = calculate_chunk_ids(chunks)\n",
    "\n",
    "# Add or Update the documents.\n",
    "existing_items = db.get(include=[])  # IDs are always included by default\n",
    "existing_ids = set(existing_items[\"ids\"])\n",
    "print(f\"Number of existing documents in DB: {len(existing_ids)}\")"
   ]
  },
  {
   "cell_type": "code",
   "execution_count": 8,
   "metadata": {},
   "outputs": [],
   "source": [
    "# Only add documents that don't exist in the DB.\n",
    "new_chunks = []\n",
    "for chunk in chunks_with_ids:\n",
    "    if chunk.metadata[\"id\"] not in existing_ids:\n",
    "        new_chunks.append(chunk)"
   ]
  },
  {
   "cell_type": "code",
   "execution_count": 9,
   "metadata": {},
   "outputs": [
    {
     "name": "stdout",
     "output_type": "stream",
     "text": [
      "👉 Adding new documents: 471\n"
     ]
    },
    {
     "name": "stderr",
     "output_type": "stream",
     "text": [
      "100%|██████████| 471/471 [00:16<00:00, 28.67it/s]"
     ]
    },
    {
     "name": "stdout",
     "output_type": "stream",
     "text": [
      "Documents added correctly ✅\n",
      "150 documents added to the database correctly\n"
     ]
    },
    {
     "name": "stderr",
     "output_type": "stream",
     "text": [
      "\n"
     ]
    }
   ],
   "source": [
    "if len(new_chunks):\n",
    "    print(f\"👉 Adding new documents: {len(new_chunks)}\")\n",
    "    with tqdm.tqdm(total=len(new_chunks)) as pbar:\n",
    "        for chunk in new_chunks:\n",
    "            db.add_documents([chunk], ids=[chunk.metadata[\"id\"]])\n",
    "            pbar.update(1)\n",
    "    print(\"Documents added correctly ✅\")\n",
    "else:\n",
    "    print(\"✅ No new documents to add\")\n",
    "\n",
    "print(f\"{len(documents)} documents added to the database correctly\")"
   ]
  },
  {
   "cell_type": "markdown",
   "metadata": {},
   "source": [
    "## 4. Preguntas de interés"
   ]
  },
  {
   "cell_type": "code",
   "execution_count": 10,
   "metadata": {},
   "outputs": [],
   "source": [
    "questions_docs_cat = [\n",
    "    \"Quins drets lingüístics reconeix la Constitució Espanyola?\",\n",
    "    \"Què estableix la Constitució Espanyola sobre la detenció preventiva i els drets de les persones detingudes?\",\n",
    "    \"Quins són els valors superiors de l'ordenament jurídic espanyol segons la Constitució?\",\n",
    "    \"Quines condicions específiques es poden aplicar en un contracte indefinit per a persones amb discapacitat?\",\n",
    "    \"Com es defineix i s'estableix la durada del període de prova en un contracte indefinit segons el document?\",\n",
    "    \"Quins drets de bonificació a la Seguretat Social es mencionen per a contractes indefinits celebrats amb treballadors pertanyents al Sistema Nacional de Garantia Juvenil?\",\n",
    "]\n",
    "\n",
    "questions_docs_en = [\n",
    "    \"What are the conditions under which an employment contract's probationary period may be extended or terminated?\",\n",
    "    \"What are the stipulations for holiday entitlement and the conditions under which holiday can be carried over to the next year?\",\n",
    "    \"What are the employer’s rights concerning termination of employment during and after the probationary period?\",\n",
    "    \"What are the proposed alternatives for the structure and election of the UK Parliament’s Second Chamber?\",\n",
    "    \"What rights are explicitly protected under the proposed Bill of Rights in the document?\",\n",
    "    \"How does the document propose constitutional amendments should be enacted or repealed?\",\n",
    "]\n",
    "\n",
    "questions_docs_es = [\n",
    "    \"¿Qué derechos lingüísticos reconoce la Constitución Española?\",\n",
    "    \"¿Qué establece la Constitución Española sobre la detención preventiva y los derechos de las personas detenidas?\",\n",
    "    \"¿Cuáles son los valores superiores del ordenamiento jurídico español según la Constitución?\",\n",
    "    \"¿Qué condiciones específicas pueden aplicarse en un contrato indefinido para personas con discapacidad?\",\n",
    "    \"¿Cómo se define y establece la duración del período de prueba en un contrato indefinido según el documento?\",\n",
    "    \"¿Qué derechos de bonificación a la Seguridad Social se mencionan para contratos indefinidos celebrados con trabajadores pertenecientes al Sistema Nacional de Garantía Juvenil?\"\n",
    "]\n",
    "\n",
    "questions = questions_docs_cat + questions_docs_en + questions_docs_es"
   ]
  },
  {
   "cell_type": "code",
   "execution_count": 11,
   "metadata": {},
   "outputs": [],
   "source": [
    "contexts = []\n",
    "\n",
    "for question in questions:\n",
    "    # Get the top 5 most relevant documents\n",
    "    results = db.similarity_search_with_score(question, k=3)\n",
    "\n",
    "    # Make a list of the contexts\n",
    "    question_contexts = []\n",
    "    for doc, _score in results:\n",
    "        question_contexts.append(doc.page_content)\n",
    "\n",
    "    # Append the context sub-list to the list of contexts\n",
    "    contexts.append(question_contexts)"
   ]
  },
  {
   "cell_type": "markdown",
   "metadata": {},
   "source": [
    "Ahora creamos las respuestas esperadas para cada pregunta."
   ]
  },
  {
   "cell_type": "code",
   "execution_count": 12,
   "metadata": {},
   "outputs": [],
   "source": [
    "answers_docs_cat = [\n",
    "    \"La Constitució Espanyola reconeix el castellà com a llengua oficial de l'Estat i estableix que tots els espanyols tenen el deure de conèixer-la i el dret a usar-la. També reconeix que les altres llengües espanyoles seran oficials en les respectives Comunitats Autònomes d'acord amb els seus Estatuts, i protegeix la riquesa de les diferents modalitats lingüístiques d'Espanya com un patrimoni cultural que ha de ser objecte d'especial respecte i protecció.\",\n",
    "    \"La Constitució Espanyola estableix que la detenció preventiva no pot durar més del temps estrictament necessari per a la realització de les averiguacions, i en tot cas, el detingut ha de ser posat en llibertat o a disposició de l'autoritat judicial en un termini màxim de 72 hores. A més, garanteix el dret a ser informat de forma immediata i comprensible sobre els drets i les raons de la detenció, així com el dret a l'assistència d'un advocat.\",\n",
    "    \"Segons la Constitució Espanyola, els valors superiors de l'ordenament jurídic espanyol són la llibertat, la justícia, la igualtat i el pluralisme polític.\",\n",
    "    \"En un contracte indefinit per a persones amb discapacitat, es poden aplicar condicions específiques com bonificacions en la quota empresarial a la Seguretat Social, subvencions, i adaptacions del lloc de treball segons les característiques de la persona. A més, es poden establir períodes de prova i d'adaptació al treball adequats a la situació del treballador.\",\n",
    "    \"La durada del període de prova en un contracte indefinit es defineix d'acord amb el que estableix l'Estatut dels Treballadors, respectant les normes legals vigents. Pot variar segons el grup professional o el nivell del treballador, i en alguns casos pot ser de fins a un any si s'acull a certes disposicions legals.\",\n",
    "    \"Per als contractes indefinits celebrats amb treballadors pertanyents al Sistema Nacional de Garantia Juvenil, es mencionen bonificacions de 300 euros mensuals en la cotització empresarial a la Seguretat Social durant un període de 6 mesos. En el cas de contractes a temps parcial, la bonificació s'ajusta proporcionalment al percentatge de la jornada.\",\n",
    "]\n",
    "\n",
    "answers_docs_en = [\n",
    "    \"The probationary period may be extended or terminated if the employee's work performance is not up to the required standard or if the working relationship is not agreeable. Both parties are required to give one week's written notice during this period.\",\n",
    "    \"The holiday entitlement is 5.6 weeks per year, pro-rata for part-time employees. Holidays must be taken within the year, and carrying over untaken holidays requires prior agreement, except in cases of sickness preventing the leave.\",\n",
    "    \"During the probationary period, both parties must give one week's notice to terminate employment. After the probationary period, four weeks' notice is required, increasing by one week per year of service up to a maximum of twelve weeks. The employer may terminate employment without notice in cases of serious breach, gross misconduct, or gross negligence.\",\n",
    "    \"The document offers alternatives for the Second Chamber: a directly elected body representing the nations and regions of the UK, or a Chamber of Experts appointed for 15 years based on recognized expertise. It also suggests the possibility of the Second Chamber having the power to veto bills under certain conditions.\",\n",
    "    \"The proposed Bill of Rights includes rights such as the right to life, freedom from torture, slavery, and forced labor, and the right to a fair trial. Other rights include freedom of thought, expression, assembly, and the right to marry and found a family.\",\n",
    "    \"The document proposes that constitutional amendments could be enacted or repealed by Parliament through ordinary legislative procedures, with some suggesting the need for a two-thirds majority in both Houses and approval by a public referendum.\"\n",
    "]\n",
    "\n",
    "answers_docs_es = [\n",
    "    \"La Constitución Española reconoce el castellano como lengua oficial del Estado y establece que todos los españoles tienen el deber de conocerla y el derecho a usarla. También reconoce que las demás lenguas españolas serán oficiales en las respectivas Comunidades Autónomas de acuerdo con sus Estatutos, y protege la riqueza de las distintas modalidades lingüísticas de España como un patrimonio cultural que debe ser objeto de especial respeto y protección.\",\n",
    "    \"La Constitución Española establece que la detención preventiva no puede durar más del tiempo estrictamente necesario para la realización de las averiguaciones, y en todo caso, el detenido debe ser puesto en libertad o a disposición de la autoridad judicial en un plazo máximo de 72 horas. Además, garantiza el derecho a ser informado de forma inmediata y comprensible sobre los derechos y las razones de la detención, así como el derecho a la asistencia de un abogado.\",\n",
    "    \"Según la Constitución Española, los valores superiores del ordenamiento jurídico español son la libertad, la justicia, la igualdad y el pluralismo político.\",\n",
    "    \"En un contrato indefinido para personas con discapacidad, se pueden aplicar condiciones específicas como bonificaciones en la cuota empresarial a la Seguridad Social, subvenciones, y adaptaciones del puesto de trabajo según las características de la persona. Además, se pueden establecer períodos de prueba y de adaptación al trabajo adecuados a la situación del trabajador.\",\n",
    "    \"La duración del período de prueba en un contrato indefinido se define de acuerdo con lo establecido en el Estatuto de los Trabajadores, respetando las normas legales vigentes. Puede variar según el grupo profesional o el nivel del trabajador, y en algunos casos puede ser de hasta un año si se acoge a ciertas disposiciones legales.\",\n",
    "    \"Para los contratos indefinidos celebrados con trabajadores pertenecientes al Sistema Nacional de Garantía Juvenil, se mencionan bonificaciones de 300 euros mensuales en la cotización empresarial a la Seguridad Social durante un período de 6 meses. En el caso de contratos a tiempo parcial, la bonificación se ajusta proporcionalmente al porcentaje de la jornada.\",\n",
    "]\n",
    "\n",
    "\n",
    "answers = answers_docs_cat + answers_docs_en + answers_docs_es"
   ]
  },
  {
   "cell_type": "markdown",
   "metadata": {},
   "source": [
    "Finalmente creamos el DataFrame para evaluar los modelos."
   ]
  },
  {
   "cell_type": "code",
   "execution_count": 13,
   "metadata": {},
   "outputs": [],
   "source": [
    "data_samples = {\n",
    "    'question': questions,\n",
    "    'answer': answers,\n",
    "    'contexts': contexts,\n",
    "    'ground_truth': answers\n",
    "}\n",
    "\n",
    "dataset = Dataset.from_dict(data_samples)"
   ]
  },
  {
   "cell_type": "markdown",
   "metadata": {},
   "source": [
    "## 5. Evaluación de los modelos"
   ]
  },
  {
   "cell_type": "code",
   "execution_count": 14,
   "metadata": {},
   "outputs": [],
   "source": [
    "embeddings = get_embedding_function(emb_model[3])\n",
    "llm = Ollama(model=llm_model[0])"
   ]
  },
  {
   "cell_type": "code",
   "execution_count": 15,
   "metadata": {},
   "outputs": [
    {
     "name": "stderr",
     "output_type": "stream",
     "text": [
      "Evaluating:   1%|▏         | 1/72 [01:04<1:16:17, 64.47s/it]Failed to parse output. Returning None.\n",
      "Evaluating:   4%|▍         | 3/72 [01:33<28:31, 24.81s/it]  Failed to parse output. Returning None.\n",
      "Evaluating:   6%|▌         | 4/72 [02:05<31:10, 27.51s/it]Failed to parse output. Returning None.\n",
      "Evaluating:  10%|▉         | 7/72 [02:46<17:38, 16.29s/it]Failed to parse output. Returning None.\n",
      "Evaluating:  14%|█▍        | 10/72 [03:38<17:13, 16.67s/it]Failed to parse output. Returning None.\n",
      "Evaluating:  17%|█▋        | 12/72 [03:59<13:46, 13.78s/it]Failed to parse output. Returning None.\n",
      "Evaluating:  18%|█▊        | 13/72 [04:17<14:39, 14.90s/it]Failed to parse output. Returning None.\n",
      "Failed to parse output. Returning None.\n",
      "Failed to parse output. Returning None.\n",
      "Runner in Executor raised an exception\n",
      "Traceback (most recent call last):\n",
      "  File \"/opt/environment/lib/python3.10/site-packages/ragas/executor.py\", line 78, in _aresults\n",
      "    r = await future\n",
      "  File \"/usr/lib/python3.10/asyncio/tasks.py\", line 571, in _wait_for_one\n",
      "    return f.result()  # May raise f.exception().\n",
      "  File \"/usr/lib/python3.10/asyncio/futures.py\", line 201, in result\n",
      "    raise self._exception.with_traceback(self._exception_tb)\n",
      "  File \"/usr/lib/python3.10/asyncio/tasks.py\", line 232, in __step\n",
      "    result = coro.send(None)\n",
      "  File \"/opt/environment/lib/python3.10/site-packages/ragas/executor.py\", line 37, in sema_coro\n",
      "    return await coro\n",
      "  File \"/opt/environment/lib/python3.10/site-packages/ragas/executor.py\", line 111, in wrapped_callable_async\n",
      "    return counter, await callable(*args, **kwargs)\n",
      "  File \"/opt/environment/lib/python3.10/site-packages/ragas/metrics/base.py\", line 125, in ascore\n",
      "    raise e\n",
      "  File \"/opt/environment/lib/python3.10/site-packages/ragas/metrics/base.py\", line 121, in ascore\n",
      "    score = await self._ascore(row=row, callbacks=group_cm, is_async=is_async)\n",
      "  File \"/opt/environment/lib/python3.10/site-packages/ragas/metrics/_context_precision.py\", line 183, in _ascore\n",
      "    answers = ContextPrecisionVerifications(__root__=answers)\n",
      "  File \"/opt/environment/lib/python3.10/site-packages/pydantic/v1/main.py\", line 341, in __init__\n",
      "    raise validation_error\n",
      "pydantic.v1.error_wrappers.ValidationError: 2 validation errors for ContextPrecisionVerifications\n",
      "__root__ -> 2 -> reason\n",
      "  field required (type=value_error.missing)\n",
      "__root__ -> 2 -> verdict\n",
      "  field required (type=value_error.missing)\n",
      "Evaluating:  19%|█▉        | 14/72 [04:45<18:13, 18.85s/it]Failed to parse output. Returning None.\n",
      "Failed to parse output. Returning None.\n",
      "Runner in Executor raised an exception\n",
      "Traceback (most recent call last):\n",
      "  File \"/opt/environment/lib/python3.10/site-packages/ragas/executor.py\", line 78, in _aresults\n",
      "    r = await future\n",
      "  File \"/usr/lib/python3.10/asyncio/tasks.py\", line 571, in _wait_for_one\n",
      "    return f.result()  # May raise f.exception().\n",
      "  File \"/usr/lib/python3.10/asyncio/futures.py\", line 201, in result\n",
      "    raise self._exception.with_traceback(self._exception_tb)\n",
      "  File \"/usr/lib/python3.10/asyncio/tasks.py\", line 232, in __step\n",
      "    result = coro.send(None)\n",
      "  File \"/opt/environment/lib/python3.10/site-packages/ragas/executor.py\", line 37, in sema_coro\n",
      "    return await coro\n",
      "  File \"/opt/environment/lib/python3.10/site-packages/ragas/executor.py\", line 111, in wrapped_callable_async\n",
      "    return counter, await callable(*args, **kwargs)\n",
      "  File \"/opt/environment/lib/python3.10/site-packages/ragas/metrics/base.py\", line 125, in ascore\n",
      "    raise e\n",
      "  File \"/opt/environment/lib/python3.10/site-packages/ragas/metrics/base.py\", line 121, in ascore\n",
      "    score = await self._ascore(row=row, callbacks=group_cm, is_async=is_async)\n",
      "  File \"/opt/environment/lib/python3.10/site-packages/ragas/metrics/_context_precision.py\", line 183, in _ascore\n",
      "    answers = ContextPrecisionVerifications(__root__=answers)\n",
      "  File \"/opt/environment/lib/python3.10/site-packages/pydantic/v1/main.py\", line 341, in __init__\n",
      "    raise validation_error\n",
      "pydantic.v1.error_wrappers.ValidationError: 2 validation errors for ContextPrecisionVerifications\n",
      "__root__ -> 2 -> reason\n",
      "  field required (type=value_error.missing)\n",
      "__root__ -> 2 -> verdict\n",
      "  field required (type=value_error.missing)\n",
      "Evaluating:  22%|██▏       | 16/72 [05:11<14:11, 15.20s/it]Failed to parse output. Returning None.\n",
      "Evaluating:  25%|██▌       | 18/72 [05:26<10:17, 11.43s/it]Failed to parse output. Returning None.\n",
      "Evaluating:  26%|██▋       | 19/72 [05:56<15:01, 17.01s/it]Failed to parse output. Returning None.\n",
      "Failed to parse output. Returning None.\n",
      "Evaluating:  29%|██▉       | 21/72 [06:16<11:01, 12.97s/it]Failed to parse output. Returning None.\n",
      "Failed to parse output. Returning None.\n",
      "Evaluating:  33%|███▎      | 24/72 [07:00<09:30, 11.89s/it]Failed to parse output. Returning None.\n",
      "Evaluating:  35%|███▍      | 25/72 [07:04<07:37,  9.73s/it]Failed to parse output. Returning None.\n",
      "Evaluating:  36%|███▌      | 26/72 [07:12<07:04,  9.22s/it]Failed to parse output. Returning None.\n",
      "Evaluating:  39%|███▉      | 28/72 [07:27<05:46,  7.87s/it]Failed to parse output. Returning None.\n",
      "Evaluating:  42%|████▏     | 30/72 [07:50<07:07, 10.18s/it]Failed to parse output. Returning None.\n",
      "Evaluating:  50%|█████     | 36/72 [08:43<04:10,  6.95s/it]Failed to parse output. Returning None.\n",
      "Evaluating:  57%|█████▋    | 41/72 [09:13<03:12,  6.21s/it]Failed to parse output. Returning None.\n",
      "Evaluating:  67%|██████▋   | 48/72 [10:18<03:56,  9.87s/it]Failed to parse output. Returning None.\n",
      "Evaluating:  69%|██████▉   | 50/72 [10:44<04:10, 11.41s/it]Failed to parse output. Returning None.\n",
      "Evaluating:  74%|███████▎  | 53/72 [10:57<02:15,  7.14s/it]Failed to parse output. Returning None.\n",
      "Evaluating:  86%|████████▌ | 62/72 [12:00<01:14,  7.43s/it]Failed to parse output. Returning None.\n",
      "Evaluating:  89%|████████▉ | 64/72 [12:24<01:14,  9.35s/it]Failed to parse output. Returning None.\n",
      "Evaluating:  92%|█████████▏| 66/72 [12:41<00:49,  8.25s/it]Failed to parse output. Returning None.\n",
      "Evaluating:  97%|█████████▋| 70/72 [13:02<00:09,  5.00s/it]Failed to parse output. Returning None.\n",
      "Evaluating:  99%|█████████▊| 71/72 [13:07<00:04,  4.94s/it]Failed to parse output. Returning None.\n",
      "Evaluating: 100%|██████████| 72/72 [13:14<00:00, 11.03s/it]\n"
     ]
    },
    {
     "name": "stdout",
     "output_type": "stream",
     "text": [
      "                                             question  \\\n",
      "0   Quins drets lingüístics reconeix la Constituci...   \n",
      "1   Què estableix la Constitució Espanyola sobre l...   \n",
      "2   Quins són els valors superiors de l'ordenament...   \n",
      "3   Quines condicions específiques es poden aplica...   \n",
      "4   Com es defineix i s'estableix la durada del pe...   \n",
      "5   Quins drets de bonificació a la Seguretat Soci...   \n",
      "6   What are the conditions under which an employm...   \n",
      "7   What are the stipulations for holiday entitlem...   \n",
      "8   What are the employer’s rights concerning term...   \n",
      "9   What are the proposed alternatives for the str...   \n",
      "10  What rights are explicitly protected under the...   \n",
      "11  How does the document propose constitutional a...   \n",
      "12  ¿Qué derechos lingüísticos reconoce la Constit...   \n",
      "13  ¿Qué establece la Constitución Española sobre ...   \n",
      "14  ¿Cuáles son los valores superiores del ordenam...   \n",
      "15  ¿Qué condiciones específicas pueden aplicarse ...   \n",
      "16  ¿Cómo se define y establece la duración del pe...   \n",
      "17  ¿Qué derechos de bonificación a la Seguridad S...   \n",
      "\n",
      "                                               answer  \\\n",
      "0   La Constitució Espanyola reconeix el castellà ...   \n",
      "1   La Constitució Espanyola estableix que la dete...   \n",
      "2   Segons la Constitució Espanyola, els valors su...   \n",
      "3   En un contracte indefinit per a persones amb d...   \n",
      "4   La durada del període de prova en un contracte...   \n",
      "5   Per als contractes indefinits celebrats amb tr...   \n",
      "6   The probationary period may be extended or ter...   \n",
      "7   The holiday entitlement is 5.6 weeks per year,...   \n",
      "8   During the probationary period, both parties m...   \n",
      "9   The document offers alternatives for the Secon...   \n",
      "10  The proposed Bill of Rights includes rights su...   \n",
      "11  The document proposes that constitutional amen...   \n",
      "12  La Constitución Española reconoce el castellan...   \n",
      "13  La Constitución Española establece que la dete...   \n",
      "14  Según la Constitución Española, los valores su...   \n",
      "15  En un contrato indefinido para personas con di...   \n",
      "16  La duración del período de prueba en un contra...   \n",
      "17  Para los contratos indefinidos celebrados con ...   \n",
      "\n",
      "                                             contexts  \\\n",
      "0   [deber de conocerla y el derecho a usarla.\\n2....   \n",
      "1   [la societat espanyola i mantindran les conseg...   \n",
      "2   [Diputados, y cuatro a propuesta del Senado, e...   \n",
      "3   [la\\n\\t\\nvigència\\n\\t\\ndel\\n\\t\\ncontracte:\\n T...   \n",
      "4   [procedents\\n\\t\\nde\\n\\t\\nserveis\\n\\t\\nde\\n\\t\\n...   \n",
      "5   [per\\n\\t\\nles\\n\\t\\nComunitats\\n\\tAutònomes\\n\\t...   \n",
      "6   [relationship is no t agreeable the probationa...   \n",
      "7   [agreement. Holiday can be carried over if you...   \n",
      "8   [......................(1) que perteneciendo a...   \n",
      "9   [13\\nPossible alternative 2:\\n The Second Cham...   \n",
      "10  [17\\nBILL OF RIGHTS10\\nThe following rights, d...   \n",
      "11  [6\\nAmendment:4\\nConstitutional laws and rules...   \n",
      "12  [deber de conocerla y el derecho a usarla.\\n2....   \n",
      "13  [Artículo 17.  \\n1. Toda persona tiene derecho...   \n",
      "14  [Diputados, y cuatro a propuesta del Senado, e...   \n",
      "15  [Los centros especiales de empleo que contrate...   \n",
      "16  [En lo no previsto en este contrato se estará ...   \n",
      "17  [3. La Constitución garantiza el principio de ...   \n",
      "\n",
      "                                         ground_truth  faithfulness  \\\n",
      "0   La Constitució Espanyola reconeix el castellà ...           NaN   \n",
      "1   La Constitució Espanyola estableix que la dete...      1.000000   \n",
      "2   Segons la Constitució Espanyola, els valors su...      1.000000   \n",
      "3   En un contracte indefinit per a persones amb d...      1.000000   \n",
      "4   La durada del període de prova en un contracte...      1.000000   \n",
      "5   Per als contractes indefinits celebrats amb tr...      1.000000   \n",
      "6   The probationary period may be extended or ter...      1.000000   \n",
      "7   The holiday entitlement is 5.6 weeks per year,...      0.833333   \n",
      "8   During the probationary period, both parties m...      1.000000   \n",
      "9   The document offers alternatives for the Secon...           NaN   \n",
      "10  The proposed Bill of Rights includes rights su...      0.500000   \n",
      "11  The document proposes that constitutional amen...      0.500000   \n",
      "12  La Constitución Española reconoce el castellan...      0.500000   \n",
      "13  La Constitución Española establece que la dete...      1.000000   \n",
      "14  Según la Constitución Española, los valores su...           NaN   \n",
      "15  En un contrato indefinido para personas con di...           NaN   \n",
      "16  La duración del período de prueba en un contra...           NaN   \n",
      "17  Para los contratos indefinidos celebrados con ...      0.500000   \n",
      "\n",
      "    answer_relevancy  context_precision  context_recall  \n",
      "0                NaN           1.000000        0.705556  \n",
      "1                NaN           1.000000        0.626944  \n",
      "2                NaN                NaN             NaN  \n",
      "3                NaN           1.000000        0.712433  \n",
      "4                NaN           0.250000        0.529806  \n",
      "5                NaN                NaN        0.639350  \n",
      "6                NaN           1.000000        0.795888  \n",
      "7           1.000000           1.000000        0.844966  \n",
      "8                NaN                NaN             NaN  \n",
      "9           0.666667           0.907001        1.000000  \n",
      "10          0.428571           0.889380        1.000000  \n",
      "11          1.000000           0.918136        0.333333  \n",
      "12          0.750000           0.755851        1.000000  \n",
      "13               NaN                NaN        1.000000  \n",
      "14               NaN           0.919545        0.333333  \n",
      "15          1.000000           0.620101        0.833333  \n",
      "16          0.000000           0.634590        1.000000  \n",
      "17               NaN                NaN             NaN  \n"
     ]
    }
   ],
   "source": [
    "import nest_asyncio\n",
    "from ragas.run_config import RunConfig\n",
    "\n",
    "\n",
    "nest_asyncio.apply()\n",
    "\n",
    "try:\n",
    "    score = evaluate(\n",
    "        dataset,\n",
    "        metrics=[faithfulness, answer_relevancy, context_precision, context_recall],\n",
    "        llm=llm,\n",
    "        embeddings=embeddings,\n",
    "        raise_exceptions=False,\n",
    "        run_config=RunConfig(\n",
    "            max_retries=30, # Default is 10\n",
    "            max_wait=180, # Default is 60\n",
    "            #max_workers=64 # Default is 16\n",
    "        )\n",
    "    )\n",
    "except Exception as e:\n",
    "    print(f\"An error ocurred: {e}\")\n",
    "\n",
    "df_score = score.to_pandas()\n",
    "print(df_score)"
   ]
  },
  {
   "cell_type": "code",
   "execution_count": 16,
   "metadata": {},
   "outputs": [
    {
     "data": {
      "text/html": [
       "<div>\n",
       "<style scoped>\n",
       "    .dataframe tbody tr th:only-of-type {\n",
       "        vertical-align: middle;\n",
       "    }\n",
       "\n",
       "    .dataframe tbody tr th {\n",
       "        vertical-align: top;\n",
       "    }\n",
       "\n",
       "    .dataframe thead th {\n",
       "        text-align: right;\n",
       "    }\n",
       "</style>\n",
       "<table border=\"1\" class=\"dataframe\">\n",
       "  <thead>\n",
       "    <tr style=\"text-align: right;\">\n",
       "      <th></th>\n",
       "      <th>question</th>\n",
       "      <th>answer</th>\n",
       "      <th>contexts</th>\n",
       "      <th>ground_truth</th>\n",
       "      <th>faithfulness</th>\n",
       "      <th>answer_relevancy</th>\n",
       "      <th>context_precision</th>\n",
       "      <th>context_recall</th>\n",
       "    </tr>\n",
       "  </thead>\n",
       "  <tbody>\n",
       "    <tr>\n",
       "      <th>0</th>\n",
       "      <td>Quins drets lingüístics reconeix la Constituci...</td>\n",
       "      <td>La Constitució Espanyola reconeix el castellà ...</td>\n",
       "      <td>[deber de conocerla y el derecho a usarla.\\n2....</td>\n",
       "      <td>La Constitució Espanyola reconeix el castellà ...</td>\n",
       "      <td>NaN</td>\n",
       "      <td>NaN</td>\n",
       "      <td>1.000000</td>\n",
       "      <td>0.705556</td>\n",
       "    </tr>\n",
       "    <tr>\n",
       "      <th>1</th>\n",
       "      <td>Què estableix la Constitució Espanyola sobre l...</td>\n",
       "      <td>La Constitució Espanyola estableix que la dete...</td>\n",
       "      <td>[la societat espanyola i mantindran les conseg...</td>\n",
       "      <td>La Constitució Espanyola estableix que la dete...</td>\n",
       "      <td>1.000000</td>\n",
       "      <td>NaN</td>\n",
       "      <td>1.000000</td>\n",
       "      <td>0.626944</td>\n",
       "    </tr>\n",
       "    <tr>\n",
       "      <th>2</th>\n",
       "      <td>Quins són els valors superiors de l'ordenament...</td>\n",
       "      <td>Segons la Constitució Espanyola, els valors su...</td>\n",
       "      <td>[Diputados, y cuatro a propuesta del Senado, e...</td>\n",
       "      <td>Segons la Constitució Espanyola, els valors su...</td>\n",
       "      <td>1.000000</td>\n",
       "      <td>NaN</td>\n",
       "      <td>NaN</td>\n",
       "      <td>NaN</td>\n",
       "    </tr>\n",
       "    <tr>\n",
       "      <th>3</th>\n",
       "      <td>Quines condicions específiques es poden aplica...</td>\n",
       "      <td>En un contracte indefinit per a persones amb d...</td>\n",
       "      <td>[la\\n\\t\\nvigència\\n\\t\\ndel\\n\\t\\ncontracte:\\n T...</td>\n",
       "      <td>En un contracte indefinit per a persones amb d...</td>\n",
       "      <td>1.000000</td>\n",
       "      <td>NaN</td>\n",
       "      <td>1.000000</td>\n",
       "      <td>0.712433</td>\n",
       "    </tr>\n",
       "    <tr>\n",
       "      <th>4</th>\n",
       "      <td>Com es defineix i s'estableix la durada del pe...</td>\n",
       "      <td>La durada del període de prova en un contracte...</td>\n",
       "      <td>[procedents\\n\\t\\nde\\n\\t\\nserveis\\n\\t\\nde\\n\\t\\n...</td>\n",
       "      <td>La durada del període de prova en un contracte...</td>\n",
       "      <td>1.000000</td>\n",
       "      <td>NaN</td>\n",
       "      <td>0.250000</td>\n",
       "      <td>0.529806</td>\n",
       "    </tr>\n",
       "    <tr>\n",
       "      <th>5</th>\n",
       "      <td>Quins drets de bonificació a la Seguretat Soci...</td>\n",
       "      <td>Per als contractes indefinits celebrats amb tr...</td>\n",
       "      <td>[per\\n\\t\\nles\\n\\t\\nComunitats\\n\\tAutònomes\\n\\t...</td>\n",
       "      <td>Per als contractes indefinits celebrats amb tr...</td>\n",
       "      <td>1.000000</td>\n",
       "      <td>NaN</td>\n",
       "      <td>NaN</td>\n",
       "      <td>0.639350</td>\n",
       "    </tr>\n",
       "    <tr>\n",
       "      <th>6</th>\n",
       "      <td>What are the conditions under which an employm...</td>\n",
       "      <td>The probationary period may be extended or ter...</td>\n",
       "      <td>[relationship is no t agreeable the probationa...</td>\n",
       "      <td>The probationary period may be extended or ter...</td>\n",
       "      <td>1.000000</td>\n",
       "      <td>NaN</td>\n",
       "      <td>1.000000</td>\n",
       "      <td>0.795888</td>\n",
       "    </tr>\n",
       "    <tr>\n",
       "      <th>7</th>\n",
       "      <td>What are the stipulations for holiday entitlem...</td>\n",
       "      <td>The holiday entitlement is 5.6 weeks per year,...</td>\n",
       "      <td>[agreement. Holiday can be carried over if you...</td>\n",
       "      <td>The holiday entitlement is 5.6 weeks per year,...</td>\n",
       "      <td>0.833333</td>\n",
       "      <td>1.000000</td>\n",
       "      <td>1.000000</td>\n",
       "      <td>0.844966</td>\n",
       "    </tr>\n",
       "    <tr>\n",
       "      <th>8</th>\n",
       "      <td>What are the employer’s rights concerning term...</td>\n",
       "      <td>During the probationary period, both parties m...</td>\n",
       "      <td>[......................(1) que perteneciendo a...</td>\n",
       "      <td>During the probationary period, both parties m...</td>\n",
       "      <td>1.000000</td>\n",
       "      <td>NaN</td>\n",
       "      <td>NaN</td>\n",
       "      <td>NaN</td>\n",
       "    </tr>\n",
       "    <tr>\n",
       "      <th>9</th>\n",
       "      <td>What are the proposed alternatives for the str...</td>\n",
       "      <td>The document offers alternatives for the Secon...</td>\n",
       "      <td>[13\\nPossible alternative 2:\\n The Second Cham...</td>\n",
       "      <td>The document offers alternatives for the Secon...</td>\n",
       "      <td>NaN</td>\n",
       "      <td>0.666667</td>\n",
       "      <td>0.907001</td>\n",
       "      <td>1.000000</td>\n",
       "    </tr>\n",
       "  </tbody>\n",
       "</table>\n",
       "</div>"
      ],
      "text/plain": [
       "                                            question  \\\n",
       "0  Quins drets lingüístics reconeix la Constituci...   \n",
       "1  Què estableix la Constitució Espanyola sobre l...   \n",
       "2  Quins són els valors superiors de l'ordenament...   \n",
       "3  Quines condicions específiques es poden aplica...   \n",
       "4  Com es defineix i s'estableix la durada del pe...   \n",
       "5  Quins drets de bonificació a la Seguretat Soci...   \n",
       "6  What are the conditions under which an employm...   \n",
       "7  What are the stipulations for holiday entitlem...   \n",
       "8  What are the employer’s rights concerning term...   \n",
       "9  What are the proposed alternatives for the str...   \n",
       "\n",
       "                                              answer  \\\n",
       "0  La Constitució Espanyola reconeix el castellà ...   \n",
       "1  La Constitució Espanyola estableix que la dete...   \n",
       "2  Segons la Constitució Espanyola, els valors su...   \n",
       "3  En un contracte indefinit per a persones amb d...   \n",
       "4  La durada del període de prova en un contracte...   \n",
       "5  Per als contractes indefinits celebrats amb tr...   \n",
       "6  The probationary period may be extended or ter...   \n",
       "7  The holiday entitlement is 5.6 weeks per year,...   \n",
       "8  During the probationary period, both parties m...   \n",
       "9  The document offers alternatives for the Secon...   \n",
       "\n",
       "                                            contexts  \\\n",
       "0  [deber de conocerla y el derecho a usarla.\\n2....   \n",
       "1  [la societat espanyola i mantindran les conseg...   \n",
       "2  [Diputados, y cuatro a propuesta del Senado, e...   \n",
       "3  [la\\n\\t\\nvigència\\n\\t\\ndel\\n\\t\\ncontracte:\\n T...   \n",
       "4  [procedents\\n\\t\\nde\\n\\t\\nserveis\\n\\t\\nde\\n\\t\\n...   \n",
       "5  [per\\n\\t\\nles\\n\\t\\nComunitats\\n\\tAutònomes\\n\\t...   \n",
       "6  [relationship is no t agreeable the probationa...   \n",
       "7  [agreement. Holiday can be carried over if you...   \n",
       "8  [......................(1) que perteneciendo a...   \n",
       "9  [13\\nPossible alternative 2:\\n The Second Cham...   \n",
       "\n",
       "                                        ground_truth  faithfulness  \\\n",
       "0  La Constitució Espanyola reconeix el castellà ...           NaN   \n",
       "1  La Constitució Espanyola estableix que la dete...      1.000000   \n",
       "2  Segons la Constitució Espanyola, els valors su...      1.000000   \n",
       "3  En un contracte indefinit per a persones amb d...      1.000000   \n",
       "4  La durada del període de prova en un contracte...      1.000000   \n",
       "5  Per als contractes indefinits celebrats amb tr...      1.000000   \n",
       "6  The probationary period may be extended or ter...      1.000000   \n",
       "7  The holiday entitlement is 5.6 weeks per year,...      0.833333   \n",
       "8  During the probationary period, both parties m...      1.000000   \n",
       "9  The document offers alternatives for the Secon...           NaN   \n",
       "\n",
       "   answer_relevancy  context_precision  context_recall  \n",
       "0               NaN           1.000000        0.705556  \n",
       "1               NaN           1.000000        0.626944  \n",
       "2               NaN                NaN             NaN  \n",
       "3               NaN           1.000000        0.712433  \n",
       "4               NaN           0.250000        0.529806  \n",
       "5               NaN                NaN        0.639350  \n",
       "6               NaN           1.000000        0.795888  \n",
       "7          1.000000           1.000000        0.844966  \n",
       "8               NaN                NaN             NaN  \n",
       "9          0.666667           0.907001        1.000000  "
      ]
     },
     "execution_count": 16,
     "metadata": {},
     "output_type": "execute_result"
    }
   ],
   "source": [
    "df_score.head(10)"
   ]
  },
  {
   "cell_type": "code",
   "execution_count": null,
   "metadata": {},
   "outputs": [],
   "source": []
  }
 ],
 "metadata": {
  "kernelspec": {
   "display_name": "Python 3 (ipykernel)",
   "language": "python",
   "name": "python3"
  },
  "language_info": {
   "codemirror_mode": {
    "name": "ipython",
    "version": 3
   },
   "file_extension": ".py",
   "mimetype": "text/x-python",
   "name": "python",
   "nbconvert_exporter": "python",
   "pygments_lexer": "ipython3",
   "version": "3.10.12"
  }
 },
 "nbformat": 4,
 "nbformat_minor": 4
}
