{
 "cells": [
  {
   "cell_type": "markdown",
   "metadata": {},
   "source": [
    "# Análisis de los diferentes modelos"
   ]
  },
  {
   "cell_type": "markdown",
   "metadata": {},
   "source": [
    "## 1. Importación de librerías y modulos"
   ]
  },
  {
   "cell_type": "code",
   "execution_count": 1,
   "metadata": {},
   "outputs": [],
   "source": [
    "#%pip install -r requirements.txt"
   ]
  },
  {
   "cell_type": "code",
   "execution_count": 2,
   "metadata": {},
   "outputs": [
    {
     "name": "stderr",
     "output_type": "stream",
     "text": [
      "/opt/environment/lib/python3.10/site-packages/tqdm/auto.py:21: TqdmWarning: IProgress not found. Please update jupyter and ipywidgets. See https://ipywidgets.readthedocs.io/en/stable/user_install.html\n",
      "  from .autonotebook import tqdm as notebook_tqdm\n"
     ]
    }
   ],
   "source": [
    "from datasets import Dataset\n",
    "from ragas import evaluate\n",
    "from ragas.metrics import faithfulness, answer_relevancy, context_precision, context_recall\n",
    "from langchain_community.document_loaders.pdf import PyPDFDirectoryLoader\n",
    "from langchain_community.llms import Ollama\n",
    "from langchain_chroma import Chroma\n",
    "import nest_asyncio\n",
    "from ragas.run_config import RunConfig\n",
    "import tqdm\n",
    "from module import *"
   ]
  },
  {
   "cell_type": "code",
   "execution_count": 3,
   "metadata": {},
   "outputs": [],
   "source": [
    "embbedings = [\n",
    "    \"multilingual_large\",\n",
    "    \"baai_large\",\n",
    "    \"mxbai_large\",\n",
    "    \"baai_small\"\n",
    "]\n",
    "\n",
    "llm = [\n",
    "    \"llama3\",\n",
    "    \"mistral\",\n",
    "    \"phi3\",\n",
    "    \"gemma\"\n",
    "]\n",
    "\n",
    "emb_model = embbedings[3]\n",
    "llm_model = llm[0]"
   ]
  },
  {
   "cell_type": "markdown",
   "metadata": {},
   "source": [
    "## 2. Carga de datos "
   ]
  },
  {
   "cell_type": "code",
   "execution_count": 4,
   "metadata": {},
   "outputs": [
    {
     "name": "stdout",
     "output_type": "stream",
     "text": [
      "Loaded 132 documents\n"
     ]
    }
   ],
   "source": [
    "documents_loader = PyPDFDirectoryLoader(\"./data/test3\")\n",
    "documents = documents_loader.load()\n",
    "print(f\"Loaded {len(documents)} documents\")"
   ]
  },
  {
   "cell_type": "code",
   "execution_count": 5,
   "metadata": {},
   "outputs": [
    {
     "name": "stdout",
     "output_type": "stream",
     "text": [
      "Number of chunks:  616\n"
     ]
    }
   ],
   "source": [
    "chunks = split_documents(documents, chunk_size=512)\n",
    "print(\"Number of chunks: \", len(chunks))"
   ]
  },
  {
   "cell_type": "markdown",
   "metadata": {},
   "source": [
    "## 3. Creación de la base de datos vectorial"
   ]
  },
  {
   "cell_type": "code",
   "execution_count": 6,
   "metadata": {},
   "outputs": [
    {
     "name": "stderr",
     "output_type": "stream",
     "text": [
      "/opt/environment/lib/python3.10/site-packages/huggingface_hub/file_download.py:1132: FutureWarning: `resume_download` is deprecated and will be removed in version 1.0.0. Downloads always resume when possible. If you want to force a new download, use `force_download=True`.\n",
      "  warnings.warn(\n"
     ]
    }
   ],
   "source": [
    "# Load the existing database.\n",
    "db = Chroma(\n",
    "    collection_name=\"test3\",\n",
    "    persist_directory=\"./database\",\n",
    "    embedding_function=get_embedding_function(emb_model)\n",
    ")"
   ]
  },
  {
   "cell_type": "code",
   "execution_count": 7,
   "metadata": {},
   "outputs": [
    {
     "name": "stdout",
     "output_type": "stream",
     "text": [
      "Number of existing documents in DB: 0\n"
     ]
    }
   ],
   "source": [
    "# Calculate Page IDs.\n",
    "chunks_with_ids = calculate_chunk_ids(chunks)\n",
    "\n",
    "# Add or Update the documents.\n",
    "existing_items = db.get(include=[])  # IDs are always included by default\n",
    "existing_ids = set(existing_items[\"ids\"])\n",
    "print(f\"Number of existing documents in DB: {len(existing_ids)}\")"
   ]
  },
  {
   "cell_type": "code",
   "execution_count": 8,
   "metadata": {},
   "outputs": [],
   "source": [
    "# Only add documents that don't exist in the DB.\n",
    "new_chunks = []\n",
    "for chunk in chunks_with_ids:\n",
    "    if chunk.metadata[\"id\"] not in existing_ids:\n",
    "        new_chunks.append(chunk)"
   ]
  },
  {
   "cell_type": "code",
   "execution_count": 9,
   "metadata": {},
   "outputs": [
    {
     "name": "stdout",
     "output_type": "stream",
     "text": [
      "👉 Adding new documents: 616\n"
     ]
    },
    {
     "name": "stderr",
     "output_type": "stream",
     "text": [
      "100%|██████████| 616/616 [00:12<00:00, 48.10it/s]"
     ]
    },
    {
     "name": "stdout",
     "output_type": "stream",
     "text": [
      "Documents added correctly ✅\n",
      "132 documents added to the database correctly\n"
     ]
    },
    {
     "name": "stderr",
     "output_type": "stream",
     "text": [
      "\n"
     ]
    }
   ],
   "source": [
    "if len(new_chunks):\n",
    "    print(f\"👉 Adding new documents: {len(new_chunks)}\")\n",
    "    with tqdm.tqdm(total=len(new_chunks)) as pbar:\n",
    "        for chunk in new_chunks:\n",
    "            db.add_documents([chunk], ids=[chunk.metadata[\"id\"]])\n",
    "            pbar.update(1)\n",
    "    print(\"Documents added correctly ✅\")\n",
    "else:\n",
    "    print(\"✅ No new documents to add\")\n",
    "\n",
    "print(f\"{len(documents)} documents added to the database correctly\")"
   ]
  },
  {
   "cell_type": "markdown",
   "metadata": {},
   "source": [
    "## 4. Preguntas de interés"
   ]
  },
  {
   "cell_type": "code",
   "execution_count": 10,
   "metadata": {},
   "outputs": [],
   "source": [
    "questions_docs_cat = [\n",
    "    \"Quins són els principals medicaments que poden desencadenar o exacerbar la insuficiència cardíaca segons l'article?\",\n",
    "    \"Quins mecanismes estan implicats en la toxicitat miocardíaca induïda per certs fàrmacs?\",\n",
    "    \"Com es categoritzen els medicaments segons el risc de provocar insuficiència cardíaca en pacients amb aquesta patologia?\",\n",
    "    \"Com actuen els inhibidors de l'enzim convertidor d'angiotensina (IECA) en el tractament de la insuficiència cardíaca?\",\n",
    "    \"Per què és important no interrompre el tractament farmacològic de la insuficiència cardíaca fins i tot si els símptomes milloren?\",\n",
    "    \"Com es realitza el seguiment mèdic d'un pacient amb insuficiència cardíaca en tractament farmacològic?\"\n",
    "]\n",
    "\n",
    "questions_docs_en = [\n",
    "    \"What is the fundamental postulate of Einstein's theory of special relativity?\",\n",
    "    \"Explain the mass-energy equivalence formula and its significance in special relativity.\",\n",
    "    \"How does special relativity reconcile with the principle of the constancy of the speed of light in a vacuum?\",\n",
    "    \"Explain the concept of the 'Imitation Game' (Turing Test) and its significance in evaluating machine intelligence.\",\n",
    "    \"What role does the concept of discrete state machines play in Turing's argument about machine intelligence?\",\n",
    "    \"Discuss the significance of the concept of 'universal machines' as introduced by Turing in the context of machine intelligence.\"\n",
    "]\n",
    "\n",
    "questions_docs_es = [\n",
    "    \"¿Qué papel juega la arquitectura von Neumann en la estructura funcional de un ordenador?\",\n",
    "    \"Explica la función de la Unidad de Control (UC) en un CPU y cómo afecta el rendimiento del ordenador.\",\n",
    "    \"¿Cuál es la fórmula que define la ejecución de un programa en un ordenador según las instrucciones y datos de entrada?\",\n",
    "    \"¿Qué es el algoritmo K-means y cómo se utiliza en el contexto del análisis de consumo energético?\",\n",
    "    \"¿Cómo se determina el número óptimo de clústeres en un análisis con K-means?\",\n",
    "    \"¿Qué metodología se utiliza para tratar los datos atípicos antes de aplicar el algoritmo K-means?\"\n",
    "]\n",
    "\n",
    "questions = questions_docs_cat + questions_docs_en + questions_docs_es"
   ]
  },
  {
   "cell_type": "code",
   "execution_count": 11,
   "metadata": {},
   "outputs": [
    {
     "name": "stdout",
     "output_type": "stream",
     "text": [
      "[['Aquest article explica les pautes que se segueixen actual ment per tractar la insuficiència cardíaca, quins \\nmedicaments hi ha disponibles, com funcionen, com s’administren i quins són els principals efectes \\nadversos.  \\nLa informació proporcionada en aquest article és complementària a les recomanacions del vostre \\nmetge i en cap cas pretén substituir-la. En cas de dubte, poseu-vos en contacte amb el vostre \\nprofessional de salut de referència o truqueu al 061 CatSalut Respon.', 'un recull dels medicaments que poden donar lloc o exacerbar la IC.\\n1 Per l’interès del tema i la seva repercussió assistencial, s’ha \\ncregut oportú posar a l’abast dels professionals d’una manera \\nresumida aquests continguts. La informació s’ha intentat ade -\\nquar a les característiques del mercat i del nostre entorn assis-\\ntencial.\\nImportància de la insuficiència \\ncardíaca\\nL’any 2011 s’estimava que més de 1.300.000 persones a Espa-', 'acabar, es llisten algunes recomanacions generals per minimitzar la polimedicació i millorar la seguretat \\nen l’àmbit terapèutic d’aquests pacients.\\nParaules clau: Insuficiència cardíaca, reaccions adverses a medicaments, interaccions.Joan Costa i Pagès\\nMetge i farmacòleg clínic\\nMembre de la Comissió d’Informació Terapèutica. Servei Català de la SalutButlletí\\nd’informacióterapèuticaDepartament de Salut\\nIntroducció\\nLa insuficiència cardíaca (IC) és una situació clínica en la qual el'], ['A la taula 3, es troben aquells fàrmacs que causen toxicitat miocardíaca directa agrupats per classe terapèutica.\\nMedicaments amb contingut de sodi elevat\\nLa restricció en la ingesta de sodi és una recomanació usual per als pacients amb IC. Es fan advertències en relació amb la restricció', 'Fàrmacs que poden donar lloc o \\nexacerbar la insuficiència cardía-ca\\nA la taula 1, es reflecteixen aquells medicaments que poden \\nexacerbar la IC i es documenta la seva afectació, ja sigui associ-ada a toxicitat o disfunció miocardíaca, la magnitud de la seva inducció o precipitació, el nivell d’evidència per a la inducció o precipitació, els possibles mecanismes implicats i la velocitat d’aparició.\\nTaula 1. Fàrmacs que poden donar lloc o exacerbar la insuficiència cardíaca (IC)', 'vivència i de l’edat de la població, i també amb la seva vinculació a la morbimortalitat que comporta. Es tabulen de forma resumida aquells medicaments que poden desencadenar o exacerbar la IC i es docu-\\nmenta la seva associació, ja sigui per toxicitat o disfunció miocardíaca, la magnitud de la seva acció, els \\npossibles mecanismes implicats i la velocitat d’aparició de la IC. També es categoritzen en funció del risc'], ['Aquest article explica les pautes que se segueixen actual ment per tractar la insuficiència cardíaca, quins \\nmedicaments hi ha disponibles, com funcionen, com s’administren i quins són els principals efectes \\nadversos.  \\nLa informació proporcionada en aquest article és complementària a les recomanacions del vostre \\nmetge i en cap cas pretén substituir-la. En cas de dubte, poseu-vos en contacte amb el vostre \\nprofessional de salut de referència o truqueu al 061 CatSalut Respon.', 'acabar, es llisten algunes recomanacions generals per minimitzar la polimedicació i millorar la seguretat \\nen l’àmbit terapèutic d’aquests pacients.\\nParaules clau: Insuficiència cardíaca, reaccions adverses a medicaments, interaccions.Joan Costa i Pagès\\nMetge i farmacòleg clínic\\nMembre de la Comissió d’Informació Terapèutica. Servei Català de la SalutButlletí\\nd’informacióterapèuticaDepartament de Salut\\nIntroducció\\nLa insuficiència cardíaca (IC) és una situació clínica en la qual el', '49\\nBIT. Vol. 28 / núm. 6 / 2017Taula 6. Recomanacions per a la millora en la seguretat dels tractaments en pacients \\namb insuficiència cardíaca1Classe\\nrecomanacióNivell\\nevidència\\nAnamnesi farmacològica completa\\nEls professionals sanitaris han de realitzar una completa conciliació de la medicació en cada visita clínica i en cada admissió.'], ['Canal Salut. Medicaments i Farmàcia       Tractament farmacològic de la insuficiència cardíaca \\n \\n \\nData d’actualització: 23.03.2017 2/6     \\nhttp://medicaments.gencat.cat/ca/ciutadania /tractaments/insuficiencia-cardiaca/  \\n  Quins tipus de medicaments hi ha? \\n Hi ha diferents grups de medicaments, els més habituals són:  \\n‐ Inhibidors de l’enzim convertidor d’angiotensina (IECA):  captopril, enalapril, lisinopril i ramipril.', '41\\nBIT. Vol. 28 / núm. 6 / 2017RISCOS DELS MEDICAMENTS EN LA INSUFICIÈNCIA \\nCARDÍACA\\nResum\\nLa insuficiència cardíaca (IC) suposa el fracàs de la funció de bomba del cor i la repercussió deletèria en \\nd’altres òrgans. La prevalença de la IC és important en el nostre entorn sanitari i comporta una gran nom-bre d’ingressos, reingressos i despesa sanitària. Aquests aspectes s’agreugen amb l’augment de la super -', 'd’edat avançada. La causa principal és la pressió arterial alta (hipertensió), tot i que hi ha altres causes \\ncom l’infart, l’angina de pit o la diabetis.  \\nLa IC és una malaltia crònica que no té un tractament curatiu, però es pot controlar i es poden disminuir els \\ningressos hospitalaris i millorar-ne els símptomes si s’adopten hàbits de vida saludables  i mitjançant el \\ntractament amb medicaments .'], ['cardíaca o un factor d’empitjorament. En aquest BIT dedicarem l’atenció no al tractament d’aquesta patologia, sinó a descriu-re el paper d’aquells fàrmacs que en poden justificar l’aparició, persistència o empitjorament, i que és necessari conèixer per poder prevenir i fer front a la insuficiència cardíaca, així com per facilitar i millorar la qualitat de vida d’aquests pacients.\\nEl tractament de la IC s’associa ja de per si, en ocasions, a un', 'experiència d’ús. No necessàriament els medicaments més nous han de ser els més adequats per al \\nvostre cas.  \\nAquesta taula no és una llista exhaustiva i pot no estar actualitzada en qualsevol moment. \\n \\nMés informació \\n\\uf0b7 Canal Salut: \\n http://canalsalut.gencat.cat/ca/salut-a-z/i/insu ficiencia-cardiaca/insuficiencia-cardiaca/  \\n\\uf0b7 Guia pràctica clínica per als pacients amb insuficiència cardíaca: \\nhttp://canalsalut.gencat.cat/web/.content/home_canal_salut/ciutadania/la_salut_de_la_a_a_la_z/i/in', 'Com funcionen els medicaments per tractar la insuficiència cardíaca? \\nEls medicaments per tractar la IC actuen de diverses  maneres. Alguns relaxen els vasos sanguinis perquè \\nel cor treballi millor. D’altres fan disminuir la freqüència cardíaca, ajuden a enfortir-lo perquè bombegi més \\nfort o eliminen líquid extra del cos. Tot això farà millorar-ne els símptomes, ja que disminuirà la fatiga física \\ni millorarà la respiració.'], ['49\\nBIT. Vol. 28 / núm. 6 / 2017Taula 6. Recomanacions per a la millora en la seguretat dels tractaments en pacients \\namb insuficiència cardíaca1Classe\\nrecomanacióNivell\\nevidència\\nAnamnesi farmacològica completa\\nEls professionals sanitaris han de realitzar una completa conciliació de la medicació en cada visita clínica i en cada admissió.', 'Canal Salut. Medicaments i Farmàcia       Tractament farmacològic de la insuficiència cardíaca \\n \\n \\nData d’actualització: 23.03.2017 4/6     \\nhttp://medicaments.gencat.cat/ca/ciutadania /tractaments/insuficiencia-cardiaca/  \\n  Els medicaments per a la insuficiència cardíaca poden interaccionar amb altres medicaments que \\nestigui prenent? \\nÉs molt important que informeu el metge sobre altres medicaments que us estigueu prenent, ja que de', 'acabar, es llisten algunes recomanacions generals per minimitzar la polimedicació i millorar la seguretat \\nen l’àmbit terapèutic d’aquests pacients.\\nParaules clau: Insuficiència cardíaca, reaccions adverses a medicaments, interaccions.Joan Costa i Pagès\\nMetge i farmacòleg clínic\\nMembre de la Comissió d’Informació Terapèutica. Servei Català de la SalutButlletí\\nd’informacióterapèuticaDepartament de Salut\\nIntroducció\\nLa insuficiència cardíaca (IC) és una situació clínica en la qual el'], ['RELATIVITY \\nTHE SPECIAL AND GENERAL THEORY \\n \\n \\n \\nALBERT EINSTEIN', 'xi  \\n \\n \\nPART II \\nTHE GENERAL THEORY OF RELATIVITY \\n  \\nXVIII. Special and General Principle of Relativity \\nXIX. The Gravitational Field                                 \\nXX. The Equality of Inertial and Gravitational Mass as an \\n        Argument for the General Postulate of \\n        Relativity                                                               \\nXXI. In what Respects are the Foundations of Classical \\n        Mechanics and of the Special Theory of', 'special theory of relativity to distinguish it from the extended theory, \\nwith which we shall deal later. In the following pages we shall \\npresent the fundamental ideas of the special theory of relativity.'], ['RELATIVITY \\nTHE SPECIAL AND GENERAL THEORY \\n \\n \\n \\nALBERT EINSTEIN', 'XIII. Theorem of the Addition of Velocities. The Experiment \\n        of Fizeau                                                                   \\nXIV. The Heuristic Value of the Theory of Relativity \\nXV. General Results of the Theory                            \\nXVI. Experience and the Special Theory of Relativity \\nXVII. Minkowski’s Four-dimensional Space', 'v  \\n \\n \\n \\nPREFACE \\n \\nHE present book is intended, as far as possible, to give an exact \\n  insight into the theory of Relativity to those readers who, from \\n  a general scientific and philosophical point of view, are \\ninterested in the theory, but who are not conversant with the \\nmathematical apparatus 1 of theoretical physics. The work presumes a \\nstandard of education corresponding to that of a university \\nmatriculation examination, and, despite the shortness of the book, a'], ['propagation of light must necessarily hold with respect to the \\ncarriage—a result contradictory to the principle of relativity.  \\nIn view of this dilemma there appears to be nothing else for it \\nthan to abandon either the principle of relativity or the simple law of \\nthe propagation of light in vacuo. Those of you who have carefully \\nfollowed the preceding discussion are almost sure to expect that we \\nshould retain the principle of relativity, which appeals so', '16 investigations of H. A. Lorentz on the electrodynamical and optical \\nphenomena connected with moving bodies show that experience in \\nthis domain leads conclusively to a theory of electromagnetic \\nphenomena, of which the law of the constancy of the velocity of light \\nin vacuo is a necessary consequence. Prominent theoretical physicists \\nwere therefore more inclined to reject the principle of relativity, in \\nspite of the fact that no empirical data had been found which were', 'thinkable answer to this question of such a nature that the law of \\ntransmission of light in vacuo does not contradict the principle of \\nrelativity? In other words: Can we conceive of a relation between \\nplace and time of the individual events relative to both reference-\\nbodies, such that every ray of light possesses the velocity of T'], ['433 VOL. LIX. NO. 236.]  [October, 1950  \\nM I N D  \\nA QUARTERLY REVIEW  \\nOF \\nPSYCHOLOGY AND PHILOSOPHY  \\n \\nI.—COMPUTING MACHINERY AND \\nINTELLIGENCE  \\nBY A. M. TURING  \\n1. The Imitation Game.  \\nI PROPOSE  to consider the question, ‘Can machines think? ’ This should \\nbegin with definitions of the meaning of the terms ‘machine ’ and \\n‘think ’. The definitions might be framed so as to reflect so far as \\npossible the normal use of the words, but this attitude is dangerous. If', 'would be given away at once  by slowness and inaccuracy in arithmetic. \\nMay not machines carry out something which ought to be described as \\nthinking but which is very different from what a man does? This objection \\nis a very strong one, but at least we can say that if, nevertheless, a machine \\ncan be constructed to play the imitation game satisfactorily, we need not be \\ntroubled by this objection.  \\nIt might be urged that when playing the ‘imitation game ’ the best', 'have scored our petty triumph. There would be no ques tion of triumphing \\nsimultaneously over all machines. In short, then, there might be men \\ncleverer than any given machine, but then again there might be other \\nmachines cleverer again, and so on.  \\nThose who hold to the mathematical argument would, I think, mos tly \\nbe willing to accept the imitation game as a basis for discussion. Those who \\nbelieve in the two previous objections would probably not be interested in \\nany criteria.'], ['COMPUTING MACHINERY AND INTELLIGENCE  455 \\nor do we eventually come to the skin which has nothing in it? In the latter \\ncase the whole mind is mechanical. (It would not be a discrete -state \\nmachine however. We have discussed this.)  \\nThese last two paragraphs do not claim to be convincing arguments. \\nThey  should rather be described as ‘recitations tending to produce belief ’. \\nThe only really satisfactory support that can be given for the view', 'general and ask ‘Are there discrete state machines which would do well? ’ \\nBut in view of the universality property we see that either of these questions \\nis equivalent to this, ‘Let us fix our attention on one particula r digital \\ncomputer C. Is it true that by modifying this computer to have an adequate \\nstorage, suitably increasing its speed of action, and providing it with an \\nappropriate programme, C can be made to play satisfactorily the part of A', 'the powers of discrete -state machines. The best known of these results is \\nknown as Gödel ’s theorem,1 and shows that in any sufficiently powerful \\nlogical system statements can be formulated which can neither be proved \\nnor disprov ed within the system, unless possibly the system itself is \\ninconsistent. There are other, in some respects similar, results due to \\nChurch, Kleene, Rosser,  and Turing.  The latter result is the most \\nconvenient to consider, since it refers directly to machine s, whereas the'], ['well as working sufficiently fast. Moreover, it must be programmed afresh \\nfor each new machine which it is desired to mimic.  \\nThis special property of digital computers, that they can mimic any \\ndiscrete state machine, is described by saying that they are universal  \\nmachines. The existence of machines with this property has the important \\nconsequence that, considerations of speed ap art, it is unnecessary to design', '442 A. M. TURING:  \\ndone with one digital computer, suitably programmed for each case. It will \\nbe seen that as a consequence of this all digital computers are in a sense  \\nequivalent.  \\nWe may now consider again the point raised at the end of §3. It was \\nsuggested tentatively that the question, ‘Can machines think? ’ should be \\nreplaced by ‘Are there imaginable digital computers which would do well \\nin the imitation game? ’ If we wi sh we can make this superficially more', '433 VOL. LIX. NO. 236.]  [October, 1950  \\nM I N D  \\nA QUARTERLY REVIEW  \\nOF \\nPSYCHOLOGY AND PHILOSOPHY  \\n \\nI.—COMPUTING MACHINERY AND \\nINTELLIGENCE  \\nBY A. M. TURING  \\n1. The Imitation Game.  \\nI PROPOSE  to consider the question, ‘Can machines think? ’ This should \\nbegin with definitions of the meaning of the terms ‘machine ’ and \\n‘think ’. The definitions might be framed so as to reflect so far as \\npossible the normal use of the words, but this attitude is dangerous. If'], ['Introducción a la Informática  - 7 - © Fernando Berzal  Estructura funcional  \\nde un ordenador:  \\nArquitectura von Neumann   \\n \\n \\n \\nIDEA CLAVE: El programa se almacena en memoria junto con los datos.  \\n \\n \\nUnidades de entrada  \\nDispositivos por  medio de los cuales se introducen datos e instrucciones en el \\nordenador.  \\n  \\n vg: Teclado, ratón, cámara digital, escáner, lector de códigos de barras...  \\n \\n \\nUnidades de salida  \\nDispositivos por donde se obtienen los resultados de los programas ejecutados', 'Introducción a la Informática   \\nConceptos básicos  \\n Informática  \\nOrdenador  \\nHardware y software  \\nCodificación de la información  \\n Código binario  \\n Bits y bytes  \\nEstructura funcional de un ordenador: Arquitectura von Neumann  \\n Unidades de entrada y de salida  \\n Memori a (principal y auxiliar)  \\n CPU = ALU + UC  \\nSoporte lógico de los ordenadores  \\nSistema operativo  \\nSoftware de aplicación  \\nApéndices  \\n Historia de la Informática  \\nComponentes de un PC  \\n \\n \\nLecturas recomendadas', 'Ä  ARQUITECTURA DE COMPUTADORES  \\n \\n   \\n \\nLo mismo puede decirse del software: no trata sólo de los programas d e \\nordenador, sino de todas las materias relacionadas con la construcción y uso de \\nlos programas (organización y estructuración de los datos, análisis de \\naplicaciones, metodologías de diseño, etc.).  \\n \\nÄ  INGENIERÍA DEL SOFTWARE  \\n \\n \\n \\nUn ordenador necesita ambos  soportes, tan imprescindible es el hardware \\ncomo el software. Aunque son muy distintos y sus disciplinas relacionadas son'], ['Introducción a la Informática  - 9 - © Fernando Berzal  CPU [Central  Processing Unit]  \\n \\nCPU = ALU + UC  \\n \\n \\nUnidad aritmético -lógica (UAL o ALU)  \\nUnidad encargada de efectuar las operaciones aritméticas y lógicas  \\n \\n \\nUnidad de control (UC)  \\nDetecta señales de estado procedentes de las distintas partes del ordenador y \\ngenera seña les de control dirigidas a todas las unidades para controlar el \\nfuncionamiento de la máquina.', 'Introducción a la Informática   \\nConceptos básicos  \\n Informática  \\nOrdenador  \\nHardware y software  \\nCodificación de la información  \\n Código binario  \\n Bits y bytes  \\nEstructura funcional de un ordenador: Arquitectura von Neumann  \\n Unidades de entrada y de salida  \\n Memori a (principal y auxiliar)  \\n CPU = ALU + UC  \\nSoporte lógico de los ordenadores  \\nSistema operativo  \\nSoftware de aplicación  \\nApéndices  \\n Historia de la Informática  \\nComponentes de un PC  \\n \\n \\nLecturas recomendadas', 'Introducción a la Informática  - 13 - © Fernando Berzal  Sistemas operativos  \\n \\n \\nSistema operativo  \\nConjunto de programas encargado de controlar los recursos del ordenador  \\n \\n \\nFunciones  \\n• Evitar que el usuario/aplicación tenga que conocer con demasiados \\ndetalles el hardware (esto es, servir de puente entre el hardware y los \\nprogramas de aplicación)  \\n• Ofrecer una interfaz de usuario que permita ejecutar aplicaciones (p.ej. \\ninterfaz gráfica de usuario tipo WIMP)  \\n \\nMódulos'], ['Introducción a la Informática  - 10 - © Fernando Berzal  Ejecución de un programa  \\n \\nUna vez cargado el programa en memoria, se le cede el control del ordenador:   \\n1. Se lee una instrucción del programa.   \\n2. La unidad de control decodifica la instrucción   \\n3. La unidad de control envía las señales necesarias para ejecutar la instrucción:  \\na. Se leen los datos de entrada (1 ó 2)  \\nb. Se efectúa una operación con ellos en la ALU (p.ej. suma)  \\nc. Se almacena el resultado', 'Introducción a la Informática  - 3 - © Fernando Berzal  El ordenador c omo sistema  \\n“Caja negra” cuyas salidas dependen de las entradas  \\n \\n \\n \\nTeniendo en cuenta las instrucciones del programa almacenado en el ordenador:  \\n \\nDatos de salida = f (Datos de entrada, Instrucciones)  \\n \\n \\nDato  \\nRepresentación formal de hechos, conceptos o in strucciones adecuada para su \\ncomunicación, interpretación y procesamiento por seres humanos o medios \\nautomáticos.  \\n \\n  Ejemplos:  25ºC, 25m, 1234 -BCD, 4/10/2004...', 'Introducción a la Informática  - 11 - © Fernando Berzal  Clasificaci ón de los ordenadores   \\n \\nSegún el uso que se les da:  \\n \\n• Ordenador de propósito general : Admiten distintos tipos de \\naplicaciones que sólo dependen del programa que se ejecuta.  \\n \\n• Ordenador de propósito específico : Sólo admite una aplicación \\nconcreta, utiliza muy pocos programas y las unidades de E/S suelen estar \\nadaptadas para la aplicación en q ue se emplea.  \\n \\nvg:  electrodomésticos (lavadoras, microondas...)'], ['entrada para políticas públicas del país.\\nCONCLUSIONES\\nEl presente estudio consideró sobre un millar \\nde consumidores de energía eléctrica. Los datos \\nprovenientes de los medidores inteligentes fueron \\ntratados con el algoritmo K-means  implementado \\nen MATLAB® para encontrar comportamientos \\nsimilares de consumo.\\nLa aplicación del algoritmo reveló que dos clústeres \\nbien definidos logran la mejor representación de \\nlos clientes analizados. Este resultado es confiable', 'Ingeniare. Revista chilena de ingeniería, vol.\\xa029 Nº\\xa04, 2021, pp.\\xa0778-787\\nUso de algoritmo K-means para clasificar perfiles de clientes con datos  \\nde medidores inteligentes de consumo eléctrico: Un caso de estudio\\nUsing K-means algorithm to classify customer profiles with data from  \\nsmart energy consumption meters: A case study\\nLester Marrero1  Dante Carrizo2  Luis García-Santander1*  Fernando Ulloa-Vásquez3\\nRecibido 6 de enero de 2021, aceptado 28 de agosto de 2021', 'de la red eléctrica, al proporcionar información sobre los perfiles de consumo de energía eléctrica y \\nlos precios de ésta. El presente trabajo realiza una clasificación de clientes residenciales a partir de los \\ndatos de consumo obtenidos desde medidores inteligentes. Para esto, se utiliza una metodología basada \\nen el algoritmo K-means  para identificar patrones de comportamiento en el consumo asociado a 1179'], ['de imputación seleccionado es el valor medio (valor \\nmás probable).\\nAlgoritmo K-means  simple\\nEl principal objetivo del análisis clúster se enfoca en \\nagrupar objetos basándose en las características que \\nposeen. Los conglomerados de objetos resultantes \\nmuestran altos grados de homogeneidad interna y \\nde heterogeneidad externa. Al conformar grupos \\nhomogéneos, resulta factible la descripción \\nde taxonomías, la simplificación de datos y la', 'Marrero, Carrizo, García-Santander y Ulloa-Vásquez: Uso de algoritmo K-means para clasificar perfiles de clientes…781Detección e imputación de atípicos\\nEn la búsqueda de su estructura, el análisis clúster \\ndesarrollado es muy sensible a la inclusión de \\nvariables irrelevantes. Los datos atípicos pueden \\nrepresentar tanto observaciones verdaderas, que no son \\nrepresentativas en general, como una muestra reducida \\ndel grupo que provoca una mala representación. En', 'identificación de relaciones.En el presente estudio, se aplica el método no \\njerárquico K-means  que particiona los individuos, \\nen este caso clientes, en un número específico de \\ngrupos. Este algoritmo ha mantenido su popularidad \\nen aplicaciones de agrupamiento debido a su buen \\nrendimiento y competitividad con enfoques sugeridos \\nmás recientemente [20].\\nPartiendo de un conjunto de 𝑁 observaciones de \\nuna variable aleatoria 𝑋 d-dimensional { 𝑥1, 𝑥2, ...,'], ['Marrero, Carrizo, García-Santander y Ulloa-Vásquez: Uso de algoritmo K-means para clasificar perfiles de clientes…781Detección e imputación de atípicos\\nEn la búsqueda de su estructura, el análisis clúster \\ndesarrollado es muy sensible a la inclusión de \\nvariables irrelevantes. Los datos atípicos pueden \\nrepresentar tanto observaciones verdaderas, que no son \\nrepresentativas en general, como una muestra reducida \\ndel grupo que provoca una mala representación. En', 'de imputación seleccionado es el valor medio (valor \\nmás probable).\\nAlgoritmo K-means  simple\\nEl principal objetivo del análisis clúster se enfoca en \\nagrupar objetos basándose en las características que \\nposeen. Los conglomerados de objetos resultantes \\nmuestran altos grados de homogeneidad interna y \\nde heterogeneidad externa. Al conformar grupos \\nhomogéneos, resulta factible la descripción \\nde taxonomías, la simplificación de datos y la', 'identificación de relaciones.En el presente estudio, se aplica el método no \\njerárquico K-means  que particiona los individuos, \\nen este caso clientes, en un número específico de \\ngrupos. Este algoritmo ha mantenido su popularidad \\nen aplicaciones de agrupamiento debido a su buen \\nrendimiento y competitividad con enfoques sugeridos \\nmás recientemente [20].\\nPartiendo de un conjunto de 𝑁 observaciones de \\nuna variable aleatoria 𝑋 d-dimensional { 𝑥1, 𝑥2, ...,']]\n"
     ]
    }
   ],
   "source": [
    "contexts = []\n",
    "\n",
    "for question in questions:\n",
    "    # Get the top 5 most relevant documents\n",
    "    results = db.similarity_search_with_score(question, k=3)\n",
    "\n",
    "    # Make a list of the contexts\n",
    "    question_contexts = []\n",
    "    for doc, _score in results:\n",
    "        question_contexts.append(doc.page_content)\n",
    "\n",
    "    # Append the context sub-list to the list of contexts\n",
    "    contexts.append(question_contexts)"
   ]
  },
  {
   "cell_type": "markdown",
   "metadata": {},
   "source": [
    "Ahora creamos las respuestas esperadas para cada pregunta."
   ]
  },
  {
   "cell_type": "code",
   "execution_count": 12,
   "metadata": {},
   "outputs": [],
   "source": [
    "answers_docs_cat = [\n",
    "    \"Els principals medicaments que poden desencadenar o exacerbar la insuficiència cardíaca inclouen antiinflamatoris no esteroïdals (AINE), certs anestèsics, antiarrítmics, i alguns antidiabètics, entre d'altres, segons els mecanismes de toxicitat miocardíaca o disfunció cardíaca.\",\n",
    "    \"Els mecanismes implicats en la toxicitat miocardíaca inclouen l'estrès oxidatiu, la inhibició de prostaglandines, la retenció de sodi i aigua, i la depressió de la funció miocàrdica, entre d'altres. Aquests mecanismes poden variar segons el fàrmac i la seva acció específica sobre el cor.\",\n",
    "    \"Els fàrmacs associats amb la prolongació de l'interval QT i el risc de torsades de pointes inclouen amiodarona, citalopram, escitalopram, metadona, sotalol, entre d'altres. Aquests medicaments poden provocar arítmies greus, especialment en pacients amb insuficiència cardíaca.\",\n",
    "    \"Els inhibidors de l'enzim convertidor d'angiotensina (IECA) actuen dilatant els vasos sanguinis, cosa que facilita el bombeig de sang per part del cor i redueix la pressió arterial, ajudant a millorar els símptomes de la insuficiència cardíaca.\",\n",
    "    \"És important no interrompre el tractament perquè els medicaments no només milloren els símptomes, sinó que també prevenen l'empitjorament de la insuficiència cardíaca. Encara que el pacient es trobi bé, ha de continuar amb el tractament prescrit.\",\n",
    "    \"El seguiment mèdic inclou la monitorització de la pressió arterial, el ritme cardíac, el pes del pacient, i la realització d'analítiques de sang per controlar els nivells de potassi, sodi, i la funció renal. També es poden fer electrocardiogrames per avaluar la funció cardíaca.\"\n",
    "]\n",
    "\n",
    "answers_docs_en = [\n",
    "    \"The fundamental postulate of Einstein's theory of special relativity is that the laws of physics are the same in all inertial frames of reference, and that the speed of light in a vacuum is constant for all observers, regardless of the motion of the light source or the observer.\",\n",
    "    \"The mass-energy equivalence formula is given by: E=mc^2, where E is the energy, m is the mass, and c is the speed of light. This formula signifies that mass and energy are interchangeable, and a small amount of mass can be converted into a large amount of energy.\",\n",
    "    \"Special relativity reconciles with the principle of the constancy of the speed of light by postulating that the speed of light in a vacuum is the same for all observers, regardless of their motion relative to the light source. This leads to the need for a new understanding of space and time as being interwoven into a four-dimensional spacetime.\",\n",
    "    \"The 'Imitation Game' involves a human interrogator communicating with both a human and a machine through written text, without knowing which is which. The interrogator's task is to determine which participant is the machine. If the machine can consistently convince the interrogator that it is human, it is considered to have passed the test, suggesting a form of intelligence.\",\n",
    "    \"Discrete state machines are central to Turing's argument as they represent the basic structure of digital computers, which operate by transitioning between distinct states based on inputs. Turing argues that digital computers, as discrete state machines, can be programmed to simulate any other discrete state machine, including those that mimic human intelligence.\",\n",
    "    \"The concept of 'universal machines' is significant because it implies that a single machine, with appropriate programming, can perform the tasks of any other machine. Turing suggests that this universality allows digital computers to potentially exhibit behaviors that we would classify as intelligent, supporting his thesis that machines can think.\"\n",
    "]\n",
    "\n",
    "answers_docs_es = [\n",
    "    \"La arquitectura von Neumann es clave en la estructura funcional de un ordenador porque establece que tanto los datos como las instrucciones del programa se almacenan en la memoria principal, permitiendo que el ordenador ejecute programas de manera secuencial y eficiente.\",\n",
    "    \"La Unidad de Control (UC) en un CPU es responsable de descodificar y ejecutar las instrucciones almacenadas en la memoria principal, enviando señales de control a las demás unidades del ordenador. La frecuencia del reloj de la UC, medida en MHz o GHz, determina en parte la velocidad de funcionamiento del ordenador, afectando su rendimiento.\",\n",
    "    \"La fórmula que define la ejecución de un programa en un ordenador es: Datos de salida=f(Datos de entrada,Instrucciones), esta fórmula indica que los datos de salida de un programa dependen tanto de los datos de entrada como de las instrucciones del programa almacenado en el ordenador.\",\n",
    "    \"El algoritmo K-means es un método de agrupamiento no jerárquico que particiona un conjunto de datos en un número específico de grupos (clústeres) basándose en las características compartidas. En el contexto del análisis de consumo energético, K-means se utiliza para identificar patrones de consumo similares entre diferentes clientes, permitiendo una mejor gestión y optimización de recursos energéticos.\",\n",
    "    \"El número óptimo de clústeres en un análisis con K-means se determina mediante la evaluación de la precisión y la calidad de los clústeres utilizando medidas proporcionadas por la teoría de los conjuntos aproximados (RST), así como mediante la ejecución repetida del algoritmo con diferentes particiones iniciales.\",\n",
    "    \"La metodología utilizada para tratar los datos atípicos antes de aplicar el algoritmo K-means incluye la detección de atípicos utilizando un rango de tres desviaciones estándar y la imputación de valores ausentes o atípicos mediante el valor medio del resto de las lecturas válidas, asegurando que los datos sean representativos y minimizando la distorsión en los clústeres resultantes.\"\n",
    "]\n",
    "\n",
    "answers = answers_docs_cat + answers_docs_en + answers_docs_es"
   ]
  },
  {
   "cell_type": "markdown",
   "metadata": {},
   "source": [
    "Finalmente creamos el DataFrame para evaluar los modelos."
   ]
  },
  {
   "cell_type": "code",
   "execution_count": 13,
   "metadata": {},
   "outputs": [],
   "source": [
    "data_samples = {\n",
    "    'question': questions,\n",
    "    'answer': answers,\n",
    "    'contexts': contexts,\n",
    "    'ground_truth': answers\n",
    "}\n",
    "\n",
    "dataset = Dataset.from_dict(data_samples)"
   ]
  },
  {
   "cell_type": "markdown",
   "metadata": {},
   "source": [
    "## 5. Evaluación de los modelos"
   ]
  },
  {
   "cell_type": "code",
   "execution_count": 14,
   "metadata": {},
   "outputs": [],
   "source": [
    "embeddings = get_embedding_function(emb_model)\n",
    "llm = Ollama(model=llm_model)"
   ]
  },
  {
   "cell_type": "code",
   "execution_count": 15,
   "metadata": {},
   "outputs": [
    {
     "name": "stderr",
     "output_type": "stream",
     "text": [
      "Evaluating: 100%|██████████| 72/72 [07:21<00:00,  6.13s/it]\n"
     ]
    },
    {
     "name": "stdout",
     "output_type": "stream",
     "text": [
      "                                             question  \\\n",
      "0   Quins són els principals medicaments que poden...   \n",
      "1   Quins mecanismes estan implicats en la toxicit...   \n",
      "2   Com es categoritzen els medicaments segons el ...   \n",
      "3   Com actuen els inhibidors de l'enzim convertid...   \n",
      "4   Per què és important no interrompre el tractam...   \n",
      "5   Com es realitza el seguiment mèdic d'un pacien...   \n",
      "6   What is the fundamental postulate of Einstein'...   \n",
      "7   Explain the mass-energy equivalence formula an...   \n",
      "8   How does special relativity reconcile with the...   \n",
      "9   Explain the concept of the 'Imitation Game' (T...   \n",
      "10  What role does the concept of discrete state m...   \n",
      "11  Discuss the significance of the concept of 'un...   \n",
      "12  ¿Qué papel juega la arquitectura von Neumann e...   \n",
      "13  Explica la función de la Unidad de Control (UC...   \n",
      "14  ¿Cuál es la fórmula que define la ejecución de...   \n",
      "15  ¿Qué es el algoritmo K-means y cómo se utiliza...   \n",
      "16  ¿Cómo se determina el número óptimo de clúster...   \n",
      "17  ¿Qué metodología se utiliza para tratar los da...   \n",
      "\n",
      "                                               answer  \\\n",
      "0   Els principals medicaments que poden desencade...   \n",
      "1   Els mecanismes implicats en la toxicitat mioca...   \n",
      "2   Els fàrmacs associats amb la prolongació de l'...   \n",
      "3   Els inhibidors de l'enzim convertidor d'angiot...   \n",
      "4   És important no interrompre el tractament perq...   \n",
      "5   El seguiment mèdic inclou la monitorització de...   \n",
      "6   The fundamental postulate of Einstein's theory...   \n",
      "7   The mass-energy equivalence formula is given b...   \n",
      "8   Special relativity reconciles with the princip...   \n",
      "9   The 'Imitation Game' involves a human interrog...   \n",
      "10  Discrete state machines are central to Turing'...   \n",
      "11  The concept of 'universal machines' is signifi...   \n",
      "12  La arquitectura von Neumann es clave en la est...   \n",
      "13  La Unidad de Control (UC) en un CPU es respons...   \n",
      "14  La fórmula que define la ejecución de un progr...   \n",
      "15  El algoritmo K-means es un método de agrupamie...   \n",
      "16  El número óptimo de clústeres en un análisis c...   \n",
      "17  La metodología utilizada para tratar los datos...   \n",
      "\n",
      "                                             contexts  \\\n",
      "0   [Aquest article explica les pautes que se segu...   \n",
      "1   [A la taula 3, es troben aquells fàrmacs que c...   \n",
      "2   [Aquest article explica les pautes que se segu...   \n",
      "3   [Canal Salut. Medicaments i Farmàcia       Tra...   \n",
      "4   [cardíaca o un factor d’empitjorament. En aque...   \n",
      "5   [49\\nBIT. Vol. 28 / núm. 6 / 2017Taula 6. Reco...   \n",
      "6   [RELATIVITY \\nTHE SPECIAL AND GENERAL THEORY \\...   \n",
      "7   [RELATIVITY \\nTHE SPECIAL AND GENERAL THEORY \\...   \n",
      "8   [propagation of light must necessarily hold wi...   \n",
      "9   [433 VOL. LIX. NO. 236.]  [October, 1950  \\nM ...   \n",
      "10  [COMPUTING MACHINERY AND INTELLIGENCE  455 \\no...   \n",
      "11  [well as working sufficiently fast. Moreover, ...   \n",
      "12  [Introducción a la Informática  - 7 - © Fernan...   \n",
      "13  [Introducción a la Informática  - 9 - © Fernan...   \n",
      "14  [Introducción a la Informática  - 10 - © Ferna...   \n",
      "15  [entrada para políticas públicas del país.\\nCO...   \n",
      "16  [de imputación seleccionado es el valor medio ...   \n",
      "17  [Marrero, Carrizo, García-Santander y Ulloa-Vá...   \n",
      "\n",
      "                                         ground_truth  faithfulness  \\\n",
      "0   Els principals medicaments que poden desencade...          0.00   \n",
      "1   Els mecanismes implicats en la toxicitat mioca...          0.00   \n",
      "2   Els fàrmacs associats amb la prolongació de l'...          1.00   \n",
      "3   Els inhibidors de l'enzim convertidor d'angiot...          0.50   \n",
      "4   És important no interrompre el tractament perq...          1.00   \n",
      "5   El seguiment mèdic inclou la monitorització de...          0.20   \n",
      "6   The fundamental postulate of Einstein's theory...          1.00   \n",
      "7   The mass-energy equivalence formula is given b...          1.00   \n",
      "8   Special relativity reconciles with the princip...          1.00   \n",
      "9   The 'Imitation Game' involves a human interrog...          1.00   \n",
      "10  Discrete state machines are central to Turing'...          0.80   \n",
      "11  The concept of 'universal machines' is signifi...          1.00   \n",
      "12  La arquitectura von Neumann es clave en la est...          0.50   \n",
      "13  La Unidad de Control (UC) en un CPU es respons...          0.50   \n",
      "14  La fórmula que define la ejecución de un progr...          0.50   \n",
      "15  El algoritmo K-means es un método de agrupamie...          0.75   \n",
      "16  El número óptimo de clústeres en un análisis c...          0.00   \n",
      "17  La metodología utilizada para tratar los datos...          0.50   \n",
      "\n",
      "    answer_relevancy  context_precision  context_recall  \n",
      "0           0.696278           1.000000             1.0  \n",
      "1           0.706411           1.000000             1.0  \n",
      "2           0.681708           1.000000             1.0  \n",
      "3           0.887179           1.000000             1.0  \n",
      "4           0.543742           0.833333             1.0  \n",
      "5           0.617785           0.333333             0.5  \n",
      "6           1.000000           0.583333             1.0  \n",
      "7           0.872057           1.000000             1.0  \n",
      "8           0.743167           1.000000             1.0  \n",
      "9           0.828894           1.000000             1.0  \n",
      "10          0.832999           1.000000             1.0  \n",
      "11          0.793508           1.000000             1.0  \n",
      "12          0.580673           1.000000             1.0  \n",
      "13          0.916537           1.000000             1.0  \n",
      "14          0.702491           1.000000             1.0  \n",
      "15          0.831040           1.000000             1.0  \n",
      "16          0.871003           1.000000             1.0  \n",
      "17          0.752659           1.000000             1.0  \n"
     ]
    }
   ],
   "source": [
    "nest_asyncio.apply()\n",
    "\n",
    "try:\n",
    "    score = evaluate(\n",
    "        dataset,\n",
    "        metrics=[faithfulness, answer_relevancy, context_precision, context_recall],\n",
    "        llm=llm,\n",
    "        embeddings=embeddings,\n",
    "        raise_exceptions=False,\n",
    "        run_config=RunConfig(\n",
    "            max_retries=30, # Default is 10\n",
    "            max_wait=180, # Default is 60\n",
    "            #max_workers=64 # Default is 16\n",
    "        )\n",
    "    )\n",
    "except Exception as e:\n",
    "    print(f\"An error ocurred: {e}\")\n",
    "\n",
    "df_score = score.to_pandas()\n",
    "print(df_score)"
   ]
  },
  {
   "cell_type": "code",
   "execution_count": 16,
   "metadata": {},
   "outputs": [
    {
     "data": {
      "text/html": [
       "<div>\n",
       "<style scoped>\n",
       "    .dataframe tbody tr th:only-of-type {\n",
       "        vertical-align: middle;\n",
       "    }\n",
       "\n",
       "    .dataframe tbody tr th {\n",
       "        vertical-align: top;\n",
       "    }\n",
       "\n",
       "    .dataframe thead th {\n",
       "        text-align: right;\n",
       "    }\n",
       "</style>\n",
       "<table border=\"1\" class=\"dataframe\">\n",
       "  <thead>\n",
       "    <tr style=\"text-align: right;\">\n",
       "      <th></th>\n",
       "      <th>question</th>\n",
       "      <th>answer</th>\n",
       "      <th>contexts</th>\n",
       "      <th>ground_truth</th>\n",
       "      <th>faithfulness</th>\n",
       "      <th>answer_relevancy</th>\n",
       "      <th>context_precision</th>\n",
       "      <th>context_recall</th>\n",
       "    </tr>\n",
       "  </thead>\n",
       "  <tbody>\n",
       "    <tr>\n",
       "      <th>0</th>\n",
       "      <td>Quins són els principals medicaments que poden...</td>\n",
       "      <td>Els principals medicaments que poden desencade...</td>\n",
       "      <td>[Aquest article explica les pautes que se segu...</td>\n",
       "      <td>Els principals medicaments que poden desencade...</td>\n",
       "      <td>0.0</td>\n",
       "      <td>0.696278</td>\n",
       "      <td>1.000000</td>\n",
       "      <td>1.0</td>\n",
       "    </tr>\n",
       "    <tr>\n",
       "      <th>1</th>\n",
       "      <td>Quins mecanismes estan implicats en la toxicit...</td>\n",
       "      <td>Els mecanismes implicats en la toxicitat mioca...</td>\n",
       "      <td>[A la taula 3, es troben aquells fàrmacs que c...</td>\n",
       "      <td>Els mecanismes implicats en la toxicitat mioca...</td>\n",
       "      <td>0.0</td>\n",
       "      <td>0.706411</td>\n",
       "      <td>1.000000</td>\n",
       "      <td>1.0</td>\n",
       "    </tr>\n",
       "    <tr>\n",
       "      <th>2</th>\n",
       "      <td>Com es categoritzen els medicaments segons el ...</td>\n",
       "      <td>Els fàrmacs associats amb la prolongació de l'...</td>\n",
       "      <td>[Aquest article explica les pautes que se segu...</td>\n",
       "      <td>Els fàrmacs associats amb la prolongació de l'...</td>\n",
       "      <td>1.0</td>\n",
       "      <td>0.681708</td>\n",
       "      <td>1.000000</td>\n",
       "      <td>1.0</td>\n",
       "    </tr>\n",
       "    <tr>\n",
       "      <th>3</th>\n",
       "      <td>Com actuen els inhibidors de l'enzim convertid...</td>\n",
       "      <td>Els inhibidors de l'enzim convertidor d'angiot...</td>\n",
       "      <td>[Canal Salut. Medicaments i Farmàcia       Tra...</td>\n",
       "      <td>Els inhibidors de l'enzim convertidor d'angiot...</td>\n",
       "      <td>0.5</td>\n",
       "      <td>0.887179</td>\n",
       "      <td>1.000000</td>\n",
       "      <td>1.0</td>\n",
       "    </tr>\n",
       "    <tr>\n",
       "      <th>4</th>\n",
       "      <td>Per què és important no interrompre el tractam...</td>\n",
       "      <td>És important no interrompre el tractament perq...</td>\n",
       "      <td>[cardíaca o un factor d’empitjorament. En aque...</td>\n",
       "      <td>És important no interrompre el tractament perq...</td>\n",
       "      <td>1.0</td>\n",
       "      <td>0.543742</td>\n",
       "      <td>0.833333</td>\n",
       "      <td>1.0</td>\n",
       "    </tr>\n",
       "    <tr>\n",
       "      <th>5</th>\n",
       "      <td>Com es realitza el seguiment mèdic d'un pacien...</td>\n",
       "      <td>El seguiment mèdic inclou la monitorització de...</td>\n",
       "      <td>[49\\nBIT. Vol. 28 / núm. 6 / 2017Taula 6. Reco...</td>\n",
       "      <td>El seguiment mèdic inclou la monitorització de...</td>\n",
       "      <td>0.2</td>\n",
       "      <td>0.617785</td>\n",
       "      <td>0.333333</td>\n",
       "      <td>0.5</td>\n",
       "    </tr>\n",
       "    <tr>\n",
       "      <th>6</th>\n",
       "      <td>What is the fundamental postulate of Einstein'...</td>\n",
       "      <td>The fundamental postulate of Einstein's theory...</td>\n",
       "      <td>[RELATIVITY \\nTHE SPECIAL AND GENERAL THEORY \\...</td>\n",
       "      <td>The fundamental postulate of Einstein's theory...</td>\n",
       "      <td>1.0</td>\n",
       "      <td>1.000000</td>\n",
       "      <td>0.583333</td>\n",
       "      <td>1.0</td>\n",
       "    </tr>\n",
       "    <tr>\n",
       "      <th>7</th>\n",
       "      <td>Explain the mass-energy equivalence formula an...</td>\n",
       "      <td>The mass-energy equivalence formula is given b...</td>\n",
       "      <td>[RELATIVITY \\nTHE SPECIAL AND GENERAL THEORY \\...</td>\n",
       "      <td>The mass-energy equivalence formula is given b...</td>\n",
       "      <td>1.0</td>\n",
       "      <td>0.872057</td>\n",
       "      <td>1.000000</td>\n",
       "      <td>1.0</td>\n",
       "    </tr>\n",
       "    <tr>\n",
       "      <th>8</th>\n",
       "      <td>How does special relativity reconcile with the...</td>\n",
       "      <td>Special relativity reconciles with the princip...</td>\n",
       "      <td>[propagation of light must necessarily hold wi...</td>\n",
       "      <td>Special relativity reconciles with the princip...</td>\n",
       "      <td>1.0</td>\n",
       "      <td>0.743167</td>\n",
       "      <td>1.000000</td>\n",
       "      <td>1.0</td>\n",
       "    </tr>\n",
       "    <tr>\n",
       "      <th>9</th>\n",
       "      <td>Explain the concept of the 'Imitation Game' (T...</td>\n",
       "      <td>The 'Imitation Game' involves a human interrog...</td>\n",
       "      <td>[433 VOL. LIX. NO. 236.]  [October, 1950  \\nM ...</td>\n",
       "      <td>The 'Imitation Game' involves a human interrog...</td>\n",
       "      <td>1.0</td>\n",
       "      <td>0.828894</td>\n",
       "      <td>1.000000</td>\n",
       "      <td>1.0</td>\n",
       "    </tr>\n",
       "  </tbody>\n",
       "</table>\n",
       "</div>"
      ],
      "text/plain": [
       "                                            question  \\\n",
       "0  Quins són els principals medicaments que poden...   \n",
       "1  Quins mecanismes estan implicats en la toxicit...   \n",
       "2  Com es categoritzen els medicaments segons el ...   \n",
       "3  Com actuen els inhibidors de l'enzim convertid...   \n",
       "4  Per què és important no interrompre el tractam...   \n",
       "5  Com es realitza el seguiment mèdic d'un pacien...   \n",
       "6  What is the fundamental postulate of Einstein'...   \n",
       "7  Explain the mass-energy equivalence formula an...   \n",
       "8  How does special relativity reconcile with the...   \n",
       "9  Explain the concept of the 'Imitation Game' (T...   \n",
       "\n",
       "                                              answer  \\\n",
       "0  Els principals medicaments que poden desencade...   \n",
       "1  Els mecanismes implicats en la toxicitat mioca...   \n",
       "2  Els fàrmacs associats amb la prolongació de l'...   \n",
       "3  Els inhibidors de l'enzim convertidor d'angiot...   \n",
       "4  És important no interrompre el tractament perq...   \n",
       "5  El seguiment mèdic inclou la monitorització de...   \n",
       "6  The fundamental postulate of Einstein's theory...   \n",
       "7  The mass-energy equivalence formula is given b...   \n",
       "8  Special relativity reconciles with the princip...   \n",
       "9  The 'Imitation Game' involves a human interrog...   \n",
       "\n",
       "                                            contexts  \\\n",
       "0  [Aquest article explica les pautes que se segu...   \n",
       "1  [A la taula 3, es troben aquells fàrmacs que c...   \n",
       "2  [Aquest article explica les pautes que se segu...   \n",
       "3  [Canal Salut. Medicaments i Farmàcia       Tra...   \n",
       "4  [cardíaca o un factor d’empitjorament. En aque...   \n",
       "5  [49\\nBIT. Vol. 28 / núm. 6 / 2017Taula 6. Reco...   \n",
       "6  [RELATIVITY \\nTHE SPECIAL AND GENERAL THEORY \\...   \n",
       "7  [RELATIVITY \\nTHE SPECIAL AND GENERAL THEORY \\...   \n",
       "8  [propagation of light must necessarily hold wi...   \n",
       "9  [433 VOL. LIX. NO. 236.]  [October, 1950  \\nM ...   \n",
       "\n",
       "                                        ground_truth  faithfulness  \\\n",
       "0  Els principals medicaments que poden desencade...           0.0   \n",
       "1  Els mecanismes implicats en la toxicitat mioca...           0.0   \n",
       "2  Els fàrmacs associats amb la prolongació de l'...           1.0   \n",
       "3  Els inhibidors de l'enzim convertidor d'angiot...           0.5   \n",
       "4  És important no interrompre el tractament perq...           1.0   \n",
       "5  El seguiment mèdic inclou la monitorització de...           0.2   \n",
       "6  The fundamental postulate of Einstein's theory...           1.0   \n",
       "7  The mass-energy equivalence formula is given b...           1.0   \n",
       "8  Special relativity reconciles with the princip...           1.0   \n",
       "9  The 'Imitation Game' involves a human interrog...           1.0   \n",
       "\n",
       "   answer_relevancy  context_precision  context_recall  \n",
       "0          0.696278           1.000000             1.0  \n",
       "1          0.706411           1.000000             1.0  \n",
       "2          0.681708           1.000000             1.0  \n",
       "3          0.887179           1.000000             1.0  \n",
       "4          0.543742           0.833333             1.0  \n",
       "5          0.617785           0.333333             0.5  \n",
       "6          1.000000           0.583333             1.0  \n",
       "7          0.872057           1.000000             1.0  \n",
       "8          0.743167           1.000000             1.0  \n",
       "9          0.828894           1.000000             1.0  "
      ]
     },
     "execution_count": 16,
     "metadata": {},
     "output_type": "execute_result"
    }
   ],
   "source": [
    "df_score.head(10)"
   ]
  },
  {
   "cell_type": "code",
   "execution_count": 17,
   "metadata": {},
   "outputs": [],
   "source": [
    "df_score.to_csv(f\"./data/test3/test3_{llm_model}.csv\", index=False)"
   ]
  }
 ],
 "metadata": {
  "kernelspec": {
   "display_name": "Python 3 (ipykernel)",
   "language": "python",
   "name": "python3"
  },
  "language_info": {
   "codemirror_mode": {
    "name": "ipython",
    "version": 3
   },
   "file_extension": ".py",
   "mimetype": "text/x-python",
   "name": "python",
   "nbconvert_exporter": "python",
   "pygments_lexer": "ipython3",
   "version": "3.10.12"
  }
 },
 "nbformat": 4,
 "nbformat_minor": 4
}
