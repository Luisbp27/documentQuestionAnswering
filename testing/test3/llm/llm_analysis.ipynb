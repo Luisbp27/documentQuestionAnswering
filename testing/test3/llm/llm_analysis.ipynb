{
 "cells": [
  {
   "cell_type": "code",
   "execution_count": null,
   "metadata": {},
   "outputs": [],
   "source": [
    "import pandas as pd\n",
    "import matplotlib.pyplot as plt\n",
    "from module import *"
   ]
  },
  {
   "cell_type": "code",
   "execution_count": null,
   "metadata": {},
   "outputs": [],
   "source": [
    "df_llama3 = pd.read_csv(\"test3_llama3_multilingual_large.csv\")\n",
    "df_mistral = pd.read_csv(\"test3_mistral_multilingual_large.csv\")\n",
    "df_phi3 = pd.read_csv(\"test3_phi3_multilingual_large.csv\")\n",
    "df_gemma = pd.read_csv(\"test3_gemma_multilingual_large.csv\")\n",
    "df_llama3.head(12)"
   ]
  },
  {
   "cell_type": "code",
   "execution_count": null,
   "metadata": {},
   "outputs": [],
   "source": [
    "nan_counts_llama3 = df_llama3.isna().sum().sum()\n",
    "nan_counts_mistral = df_mistral.isna().sum().sum()\n",
    "nan_counts_phi3 = df_phi3.isna().sum().sum()\n",
    "nan_counts_gemma = df_gemma.isna().sum().sum()\n",
    "\n",
    "print(\"Number of NaN values in llama3: \", nan_counts_llama3)\n",
    "print(\"Number of NaN values in mistral: \", nan_counts_mistral)\n",
    "print(\"Number of NaN values in phi3: \", nan_counts_phi3)\n",
    "print(\"Number of NaN values in gemma: \", nan_counts_gemma)"
   ]
  },
  {
   "cell_type": "code",
   "execution_count": null,
   "metadata": {},
   "outputs": [],
   "source": [
    "# Crear un diccionario con los nombres de los modelos y los conteos de NaN\n",
    "nan_counts = {\n",
    "    \"Llama3\": nan_counts_llama3,\n",
    "    \"Mistral\": nan_counts_mistral,\n",
    "    \"Phi3\": nan_counts_phi3,\n",
    "    \"Gemma\": nan_counts_gemma\n",
    "}\n",
    "\n",
    "# Convertir el diccionario a un DataFrame para facilitar el graficado\n",
    "df_nan_counts = pd.DataFrame(list(nan_counts.items()), columns=[\"Model\", \"NaN Count\"])\n",
    "\n",
    "# Crear el gráfico de barras\n",
    "plt.figure(figsize=(8, 6))\n",
    "plt.bar(df_nan_counts[\"Model\"], df_nan_counts[\"NaN Count\"], color=\"#0b5394\")\n",
    "\n",
    "# Configurar etiquetas y título\n",
    "plt.xlabel(\"Modelo\")\n",
    "plt.ylabel(\"Número total de NaN\")\n",
    "plt.title(\"Número total de NaN por modelo\", fontweight=\"bold\")\n",
    "plt.ylim(0, df_nan_counts[\"NaN Count\"].max() + 5)  # Añadir un poco de espacio en la parte superior\n",
    "\n",
    "# Guardar el gráfico en un archivo\n",
    "plt.savefig(\"nan_counts.png\")\n",
    "\n",
    "# Mostrar el gráfico\n",
    "plt.show()"
   ]
  },
  {
   "cell_type": "code",
   "execution_count": null,
   "metadata": {},
   "outputs": [],
   "source": [
    "df_llama3 = df_llama3.fillna(0, inplace=False)\n",
    "df_mistral = df_mistral.fillna(0, inplace=False)\n",
    "df_phi3 = df_phi3.fillna(0, inplace=False)\n",
    "df_gemma = df_gemma.fillna(0, inplace=False)"
   ]
  },
  {
   "cell_type": "code",
   "execution_count": null,
   "metadata": {},
   "outputs": [],
   "source": [
    "df_llama3_cat = df_llama3.iloc[:6]\n",
    "df_llama3_en = df_llama3.iloc[6:12]\n",
    "df_llama3_es = df_llama3.iloc[12:]\n",
    "\n",
    "df_mistral_cat = df_mistral.iloc[:6]\n",
    "df_mistral_en = df_mistral.iloc[6:12]\n",
    "df_mistral_es = df_mistral.iloc[12:]\n",
    "\n",
    "df_phi3_cat = df_phi3.iloc[:6]\n",
    "df_phi3_en = df_phi3.iloc[6:12]\n",
    "df_phi3_es = df_phi3.iloc[12:]\n",
    "\n",
    "df_gemma_cat = df_gemma.iloc[:6]\n",
    "df_gemma_en = df_gemma.iloc[6:12]\n",
    "df_gemma_es = df_gemma.iloc[12:]\n",
    "df_llama3_cat"
   ]
  },
  {
   "cell_type": "code",
   "execution_count": null,
   "metadata": {},
   "outputs": [],
   "source": [
    "df_llama3_cat_gen = df_llama3_cat.drop(columns=[\"question\", \"answer\", \"contexts\", \"ground_truth\", \"context_precision\", \"context_recall\"])\n",
    "df_llama3_en_gen = df_llama3_en.drop(columns=[\"question\", \"answer\", \"contexts\", \"ground_truth\", \"context_precision\", \"context_recall\"])\n",
    "df_llama3_es_gen = df_llama3_es.drop(columns=[\"question\", \"answer\", \"contexts\", \"ground_truth\", \"context_precision\", \"context_recall\"])\n",
    "\n",
    "df_mistral_cat_gen = df_mistral_cat.drop(columns=[\"question\", \"answer\", \"contexts\", \"ground_truth\", \"context_precision\", \"context_recall\"])\n",
    "df_mistral_en_gen = df_mistral_en.drop(columns=[\"question\", \"answer\", \"contexts\", \"ground_truth\", \"context_precision\", \"context_recall\"])\n",
    "df_mistral_es_gen = df_mistral_es.drop(columns=[\"question\", \"answer\", \"contexts\", \"ground_truth\", \"context_precision\", \"context_recall\"])\n",
    "\n",
    "df_phi3_cat_gen = df_phi3_cat.drop(columns=[\"question\", \"answer\", \"contexts\", \"ground_truth\", \"context_precision\", \"context_recall\"])\n",
    "df_phi3_en_gen = df_phi3_en.drop(columns=[\"question\", \"answer\", \"contexts\", \"ground_truth\", \"context_precision\", \"context_recall\"])\n",
    "df_phi3_es_gen = df_phi3_es.drop(columns=[\"question\", \"answer\", \"contexts\", \"ground_truth\", \"context_precision\", \"context_recall\"])\n",
    "\n",
    "df_gemma_cat_gen = df_gemma_cat.drop(columns=[\"question\", \"answer\", \"contexts\", \"ground_truth\", \"context_precision\", \"context_recall\"])\n",
    "df_gemma_en_gen = df_gemma_en.drop(columns=[\"question\", \"answer\", \"contexts\", \"ground_truth\", \"context_precision\", \"context_recall\"])\n",
    "df_gemma_es_gen = df_gemma_es.drop(columns=[\"question\", \"answer\", \"contexts\", \"ground_truth\", \"context_precision\", \"context_recall\"])\n",
    "df_llama3_cat_gen"
   ]
  },
  {
   "cell_type": "code",
   "execution_count": null,
   "metadata": {},
   "outputs": [],
   "source": [
    "df_llama3_cat_mean = df_llama3_cat_gen.mean()\n",
    "df_llama3_en_mean = df_llama3_en_gen.mean()\n",
    "df_llama3_es_mean = df_llama3_es_gen.mean()\n",
    "\n",
    "df_mistral_cat_mean = df_mistral_cat_gen.mean()\n",
    "df_mistral_en_mean = df_mistral_en_gen.mean()\n",
    "df_mistral_es_mean = df_mistral_es_gen.mean()\n",
    "\n",
    "df_phi3_cat_mean = df_phi3_cat_gen.mean()\n",
    "df_phi3_en_mean = df_phi3_en_gen.mean()\n",
    "df_phi3_es_mean = df_phi3_es_gen.mean()\n",
    "\n",
    "df_gemma_cat_mean = df_gemma_cat_gen.mean()\n",
    "df_gemma_en_mean = df_gemma_en_gen.mean()\n",
    "df_gemma_es_mean = df_gemma_es_gen.mean()\n",
    "df_llama3_cat_mean"
   ]
  },
  {
   "cell_type": "code",
   "execution_count": null,
   "metadata": {},
   "outputs": [],
   "source": [
    "df_llama3_means = get_df(df_llama3_cat_mean, df_llama3_en_mean, df_llama3_es_mean)\n",
    "df_mistral_means = get_df(df_mistral_cat_mean, df_mistral_en_mean, df_mistral_es_mean)\n",
    "df_phi3_means = get_df(df_phi3_cat_mean, df_phi3_en_mean, df_phi3_es_mean)\n",
    "df_gemma_means = get_df(df_gemma_cat_mean, df_gemma_en_mean, df_gemma_es_mean)\n",
    "df_llama3_means"
   ]
  },
  {
   "cell_type": "code",
   "execution_count": null,
   "metadata": {},
   "outputs": [],
   "source": [
    "# Definir colores para los gráficos\n",
    "colors = [\"#f1c232\", \"#0b5394\", \"#cc0000\"]\n",
    "\n",
    "def add_values_labels(ax):\n",
    "    \"\"\"Añadir etiquetas de valor en la parte superior de cada barra.\"\"\"\n",
    "    for container in ax.containers:\n",
    "        ax.bar_label(container, fmt=\"%.2f\", label_type=\"edge\")\n",
    "\n",
    "# Gráfico para df_llama3_means\n",
    "fig, ax = plt.subplots(figsize=(5, 5))\n",
    "df_llama3_means.plot(kind=\"bar\", color=colors, ax=ax)\n",
    "plt.title(\"Medias del Modelo Llama3 las métricas de los modelos de embeddings\", loc=\"center\", pad=30, fontweight=\"bold\")\n",
    "ax.text(0.5, 1.05, \"Experimento 3 - Documentos científico-técnicos\", transform=ax.transAxes, fontsize=10, ha=\"center\")\n",
    "ax.set_ylabel(\"Media\")\n",
    "ax.set_ylim(0, 1)\n",
    "add_values_labels(ax)\n",
    "ax.legend()\n",
    "plt.tight_layout()\n",
    "fig.savefig(\"experimento3_llama3_medias.png\")\n",
    "plt.show()\n",
    "\n",
    "# Gráfico para df_mistral_means\n",
    "fig, ax = plt.subplots(figsize=(5, 5))\n",
    "df_mistral_means.plot(kind=\"bar\", color=colors, ax=ax, legend=False)\n",
    "plt.title(\"Medias del Modelo Mistral las métricas de los modelos de embeddings\", loc=\"center\", pad=30, fontweight=\"bold\")\n",
    "ax.text(0.5, 1.05, \"Experimento 3 - Documentos científico-técnicos\", transform=ax.transAxes, fontsize=10, ha=\"center\")\n",
    "ax.set_ylim(0, 1)\n",
    "add_values_labels(ax)\n",
    "ax.legend()\n",
    "plt.tight_layout()\n",
    "fig.savefig(\"experimento3_mistral_medias.png\")\n",
    "plt.show()\n",
    "\n",
    "# Gráfico para df_phi3_means\n",
    "fig, ax = plt.subplots(figsize=(5, 5))\n",
    "df_phi3_means.plot(kind=\"bar\", color=colors, ax=ax, legend=False)\n",
    "plt.title(\"Medias del Modelo Phi 3 las métricas de los modelos de embeddings\", loc=\"center\", pad=30, fontweight=\"bold\")\n",
    "ax.text(0.5, 1.05, \"Experimento 3 - Documentos científico-técnicos\", transform=ax.transAxes, fontsize=10, ha=\"center\")\n",
    "ax.set_ylim(0, 1)\n",
    "add_values_labels(ax)\n",
    "ax.legend(loc=\"upper left\")\n",
    "plt.tight_layout()\n",
    "fig.savefig(\"experimento3_phi3_medias.png\")\n",
    "plt.show()\n",
    "\n",
    "# Gráfico para df_gemma_means\n",
    "fig, ax = plt.subplots(figsize=(5, 5))\n",
    "df_gemma_means.plot(kind=\"bar\", color=colors, ax=ax, legend=False)\n",
    "plt.title(\"Medias del Modelo Gemma las métricas de los modelos de embeddings\", loc=\"center\", pad=30, fontweight=\"bold\")\n",
    "ax.text(0.5, 1.05, \"Experimento 3 - Documentos científico-técnicos\", transform=ax.transAxes, fontsize=10, ha=\"center\")\n",
    "ax.set_ylim(0, 1)\n",
    "add_values_labels(ax)\n",
    "ax.legend()\n",
    "plt.tight_layout()\n",
    "fig.savefig(\"experimento3_gemma_medias.png\")\n",
    "plt.show()"
   ]
  }
 ],
 "metadata": {
  "kernelspec": {
   "display_name": ".venv",
   "language": "python",
   "name": "python3"
  },
  "language_info": {
   "codemirror_mode": {
    "name": "ipython",
    "version": 3
   },
   "file_extension": ".py",
   "mimetype": "text/x-python",
   "name": "python",
   "nbconvert_exporter": "python",
   "pygments_lexer": "ipython3",
   "version": "3.12.5"
  }
 },
 "nbformat": 4,
 "nbformat_minor": 2
}
