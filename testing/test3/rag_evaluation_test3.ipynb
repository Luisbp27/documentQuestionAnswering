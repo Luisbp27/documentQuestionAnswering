{
 "cells": [
  {
   "cell_type": "markdown",
   "metadata": {},
   "source": [
    "# Análisis de los diferentes modelos"
   ]
  },
  {
   "cell_type": "markdown",
   "metadata": {},
   "source": [
    "## 1. Importación de librerías y modulos"
   ]
  },
  {
   "cell_type": "code",
   "execution_count": 1,
   "metadata": {},
   "outputs": [],
   "source": [
    "#%pip install -r requirements.txt"
   ]
  },
  {
   "cell_type": "code",
   "execution_count": 2,
   "metadata": {},
   "outputs": [
    {
     "name": "stderr",
     "output_type": "stream",
     "text": [
      "/opt/environment/lib/python3.10/site-packages/tqdm/auto.py:21: TqdmWarning: IProgress not found. Please update jupyter and ipywidgets. See https://ipywidgets.readthedocs.io/en/stable/user_install.html\n",
      "  from .autonotebook import tqdm as notebook_tqdm\n"
     ]
    }
   ],
   "source": [
    "from datasets import Dataset\n",
    "from ragas import evaluate\n",
    "from ragas.metrics import faithfulness, answer_relevancy, context_precision, context_recall\n",
    "from langchain_community.document_loaders.pdf import PyPDFDirectoryLoader\n",
    "from langchain_community.llms import Ollama\n",
    "from langchain_chroma import Chroma\n",
    "import nest_asyncio\n",
    "from ragas.run_config import RunConfig\n",
    "import tqdm\n",
    "from module import *"
   ]
  },
  {
   "cell_type": "code",
   "execution_count": 3,
   "metadata": {},
   "outputs": [],
   "source": [
    "embbedings = [\n",
    "    \"multilingual_large\",\n",
    "    \"baai_large\",\n",
    "    \"mxbai_large\",\n",
    "    \"baai_small\"\n",
    "]\n",
    "\n",
    "llm = [\n",
    "    \"llama3\",\n",
    "    \"mistral\",\n",
    "    \"phi3\",\n",
    "    \"gemma\"\n",
    "]\n",
    "\n",
    "emb_model = embbedings[0]\n",
    "llm_model = llm[0]"
   ]
  },
  {
   "cell_type": "markdown",
   "metadata": {},
   "source": [
    "## 2. Carga de datos "
   ]
  },
  {
   "cell_type": "code",
   "execution_count": 4,
   "metadata": {},
   "outputs": [
    {
     "name": "stdout",
     "output_type": "stream",
     "text": [
      "Loaded 132 documents\n"
     ]
    }
   ],
   "source": [
    "documents_loader = PyPDFDirectoryLoader(\"./data\")\n",
    "documents = documents_loader.load()\n",
    "print(f\"Loaded {len(documents)} documents\")"
   ]
  },
  {
   "cell_type": "code",
   "execution_count": 5,
   "metadata": {},
   "outputs": [
    {
     "name": "stdout",
     "output_type": "stream",
     "text": [
      "Number of chunks:  616\n"
     ]
    }
   ],
   "source": [
    "chunks = split_documents(documents, chunk_size=512)\n",
    "print(\"Number of chunks: \", len(chunks))"
   ]
  },
  {
   "cell_type": "markdown",
   "metadata": {},
   "source": [
    "## 3. Creación de la base de datos vectorial"
   ]
  },
  {
   "cell_type": "code",
   "execution_count": 6,
   "metadata": {},
   "outputs": [
    {
     "name": "stderr",
     "output_type": "stream",
     "text": [
      "/opt/environment/lib/python3.10/site-packages/huggingface_hub/file_download.py:1132: FutureWarning: `resume_download` is deprecated and will be removed in version 1.0.0. Downloads always resume when possible. If you want to force a new download, use `force_download=True`.\n",
      "  warnings.warn(\n"
     ]
    }
   ],
   "source": [
    "# Load the existing database.\n",
    "db = Chroma(\n",
    "    collection_name=\"test3\",\n",
    "    persist_directory=\"../database\",\n",
    "    embedding_function=get_embedding_function(emb_model)\n",
    ")"
   ]
  },
  {
   "cell_type": "code",
   "execution_count": 7,
   "metadata": {},
   "outputs": [
    {
     "name": "stdout",
     "output_type": "stream",
     "text": [
      "Number of existing documents in DB: 0\n"
     ]
    }
   ],
   "source": [
    "# Calculate Page IDs.\n",
    "chunks_with_ids = calculate_chunk_ids(chunks)\n",
    "\n",
    "# Add or Update the documents.\n",
    "existing_items = db.get(include=[])  # IDs are always included by default\n",
    "existing_ids = set(existing_items[\"ids\"])\n",
    "print(f\"Number of existing documents in DB: {len(existing_ids)}\")"
   ]
  },
  {
   "cell_type": "code",
   "execution_count": 8,
   "metadata": {},
   "outputs": [],
   "source": [
    "# Only add documents that don't exist in the DB.\n",
    "new_chunks = []\n",
    "for chunk in chunks_with_ids:\n",
    "    if chunk.metadata[\"id\"] not in existing_ids:\n",
    "        new_chunks.append(chunk)"
   ]
  },
  {
   "cell_type": "code",
   "execution_count": 9,
   "metadata": {},
   "outputs": [
    {
     "name": "stdout",
     "output_type": "stream",
     "text": [
      "👉 Adding new documents: 616\n"
     ]
    },
    {
     "name": "stderr",
     "output_type": "stream",
     "text": [
      "100%|██████████| 616/616 [01:34<00:00,  6.55it/s]"
     ]
    },
    {
     "name": "stdout",
     "output_type": "stream",
     "text": [
      "Documents added correctly ✅\n",
      "132 documents added to the database correctly\n"
     ]
    },
    {
     "name": "stderr",
     "output_type": "stream",
     "text": [
      "\n"
     ]
    }
   ],
   "source": [
    "if len(new_chunks):\n",
    "    print(f\"👉 Adding new documents: {len(new_chunks)}\")\n",
    "    with tqdm.tqdm(total=len(new_chunks)) as pbar:\n",
    "        for chunk in new_chunks:\n",
    "            db.add_documents([chunk], ids=[chunk.metadata[\"id\"]])\n",
    "            pbar.update(1)\n",
    "    print(\"Documents added correctly ✅\")\n",
    "else:\n",
    "    print(\"✅ No new documents to add\")\n",
    "\n",
    "print(f\"{len(documents)} documents added to the database correctly\")"
   ]
  },
  {
   "cell_type": "markdown",
   "metadata": {},
   "source": [
    "## 4. Preguntas de interés"
   ]
  },
  {
   "cell_type": "code",
   "execution_count": 10,
   "metadata": {},
   "outputs": [],
   "source": [
    "questions_docs_cat = [\n",
    "    \"Quins són els principals medicaments que poden desencadenar o exacerbar la insuficiència cardíaca segons l'article?\",\n",
    "    \"Quins mecanismes estan implicats en la toxicitat miocardíaca induïda per certs fàrmacs?\",\n",
    "    \"Com es categoritzen els medicaments segons el risc de provocar insuficiència cardíaca en pacients amb aquesta patologia?\",\n",
    "    \"Com actuen els inhibidors de l'enzim convertidor d'angiotensina (IECA) en el tractament de la insuficiència cardíaca?\",\n",
    "    \"Per què és important no interrompre el tractament farmacològic de la insuficiència cardíaca fins i tot si els símptomes milloren?\",\n",
    "    \"Com es realitza el seguiment mèdic d'un pacient amb insuficiència cardíaca en tractament farmacològic?\"\n",
    "]\n",
    "\n",
    "questions_docs_en = [\n",
    "    \"What is the fundamental postulate of Einstein's theory of special relativity?\",\n",
    "    \"Explain the mass-energy equivalence formula and its significance in special relativity.\",\n",
    "    \"How does special relativity reconcile with the principle of the constancy of the speed of light in a vacuum?\",\n",
    "    \"Explain the concept of the 'Imitation Game' (Turing Test) and its significance in evaluating machine intelligence.\",\n",
    "    \"What role does the concept of discrete state machines play in Turing's argument about machine intelligence?\",\n",
    "    \"Discuss the significance of the concept of 'universal machines' as introduced by Turing in the context of machine intelligence.\"\n",
    "]\n",
    "\n",
    "questions_docs_es = [\n",
    "    \"¿Qué papel juega la arquitectura von Neumann en la estructura funcional de un ordenador?\",\n",
    "    \"Explica la función de la Unidad de Control (UC) en un CPU y cómo afecta el rendimiento del ordenador.\",\n",
    "    \"¿Cuál es la fórmula que define la ejecución de un programa en un ordenador según las instrucciones y datos de entrada?\",\n",
    "    \"¿Qué es el algoritmo K-means y cómo se utiliza en el contexto del análisis de consumo energético?\",\n",
    "    \"¿Cómo se determina el número óptimo de clústeres en un análisis con K-means?\",\n",
    "    \"¿Qué metodología se utiliza para tratar los datos atípicos antes de aplicar el algoritmo K-means?\"\n",
    "]\n",
    "\n",
    "questions = questions_docs_cat + questions_docs_en + questions_docs_es"
   ]
  },
  {
   "cell_type": "code",
   "execution_count": 11,
   "metadata": {},
   "outputs": [],
   "source": [
    "contexts = []\n",
    "\n",
    "for question in questions:\n",
    "    # Get the top 5 most relevant documents\n",
    "    results = db.similarity_search_with_score(question, k=3)\n",
    "\n",
    "    # Make a list of the contexts\n",
    "    question_contexts = []\n",
    "    for doc, _score in results:\n",
    "        question_contexts.append(doc.page_content)\n",
    "\n",
    "    # Append the context sub-list to the list of contexts\n",
    "    contexts.append(question_contexts)"
   ]
  },
  {
   "cell_type": "markdown",
   "metadata": {},
   "source": [
    "Ahora creamos las respuestas esperadas para cada pregunta."
   ]
  },
  {
   "cell_type": "code",
   "execution_count": 12,
   "metadata": {},
   "outputs": [],
   "source": [
    "answers_docs_cat = [\n",
    "    \"Els principals medicaments que poden desencadenar o exacerbar la insuficiència cardíaca inclouen antiinflamatoris no esteroïdals (AINE), certs anestèsics, antiarrítmics, i alguns antidiabètics, entre d'altres, segons els mecanismes de toxicitat miocardíaca o disfunció cardíaca.\",\n",
    "    \"Els mecanismes implicats en la toxicitat miocardíaca inclouen l'estrès oxidatiu, la inhibició de prostaglandines, la retenció de sodi i aigua, i la depressió de la funció miocàrdica, entre d'altres. Aquests mecanismes poden variar segons el fàrmac i la seva acció específica sobre el cor.\",\n",
    "    \"Els fàrmacs associats amb la prolongació de l'interval QT i el risc de torsades de pointes inclouen amiodarona, citalopram, escitalopram, metadona, sotalol, entre d'altres. Aquests medicaments poden provocar arítmies greus, especialment en pacients amb insuficiència cardíaca.\",\n",
    "    \"Els inhibidors de l'enzim convertidor d'angiotensina (IECA) actuen dilatant els vasos sanguinis, cosa que facilita el bombeig de sang per part del cor i redueix la pressió arterial, ajudant a millorar els símptomes de la insuficiència cardíaca.\",\n",
    "    \"És important no interrompre el tractament perquè els medicaments no només milloren els símptomes, sinó que també prevenen l'empitjorament de la insuficiència cardíaca. Encara que el pacient es trobi bé, ha de continuar amb el tractament prescrit.\",\n",
    "    \"El seguiment mèdic inclou la monitorització de la pressió arterial, el ritme cardíac, el pes del pacient, i la realització d'analítiques de sang per controlar els nivells de potassi, sodi, i la funció renal. També es poden fer electrocardiogrames per avaluar la funció cardíaca.\"\n",
    "]\n",
    "\n",
    "answers_docs_en = [\n",
    "    \"The fundamental postulate of Einstein's theory of special relativity is that the laws of physics are the same in all inertial frames of reference, and that the speed of light in a vacuum is constant for all observers, regardless of the motion of the light source or the observer.\",\n",
    "    \"The mass-energy equivalence formula is given by: E=mc^2, where E is the energy, m is the mass, and c is the speed of light. This formula signifies that mass and energy are interchangeable, and a small amount of mass can be converted into a large amount of energy.\",\n",
    "    \"Special relativity reconciles with the principle of the constancy of the speed of light by postulating that the speed of light in a vacuum is the same for all observers, regardless of their motion relative to the light source. This leads to the need for a new understanding of space and time as being interwoven into a four-dimensional spacetime.\",\n",
    "    \"The 'Imitation Game' involves a human interrogator communicating with both a human and a machine through written text, without knowing which is which. The interrogator's task is to determine which participant is the machine. If the machine can consistently convince the interrogator that it is human, it is considered to have passed the test, suggesting a form of intelligence.\",\n",
    "    \"Discrete state machines are central to Turing's argument as they represent the basic structure of digital computers, which operate by transitioning between distinct states based on inputs. Turing argues that digital computers, as discrete state machines, can be programmed to simulate any other discrete state machine, including those that mimic human intelligence.\",\n",
    "    \"The concept of 'universal machines' is significant because it implies that a single machine, with appropriate programming, can perform the tasks of any other machine. Turing suggests that this universality allows digital computers to potentially exhibit behaviors that we would classify as intelligent, supporting his thesis that machines can think.\"\n",
    "]\n",
    "\n",
    "answers_docs_es = [\n",
    "    \"La arquitectura von Neumann es clave en la estructura funcional de un ordenador porque establece que tanto los datos como las instrucciones del programa se almacenan en la memoria principal, permitiendo que el ordenador ejecute programas de manera secuencial y eficiente.\",\n",
    "    \"La Unidad de Control (UC) en un CPU es responsable de descodificar y ejecutar las instrucciones almacenadas en la memoria principal, enviando señales de control a las demás unidades del ordenador. La frecuencia del reloj de la UC, medida en MHz o GHz, determina en parte la velocidad de funcionamiento del ordenador, afectando su rendimiento.\",\n",
    "    \"La fórmula que define la ejecución de un programa en un ordenador es: Datos de salida=f(Datos de entrada,Instrucciones), esta fórmula indica que los datos de salida de un programa dependen tanto de los datos de entrada como de las instrucciones del programa almacenado en el ordenador.\",\n",
    "    \"El algoritmo K-means es un método de agrupamiento no jerárquico que particiona un conjunto de datos en un número específico de grupos (clústeres) basándose en las características compartidas. En el contexto del análisis de consumo energético, K-means se utiliza para identificar patrones de consumo similares entre diferentes clientes, permitiendo una mejor gestión y optimización de recursos energéticos.\",\n",
    "    \"El número óptimo de clústeres en un análisis con K-means se determina mediante la evaluación de la precisión y la calidad de los clústeres utilizando medidas proporcionadas por la teoría de los conjuntos aproximados (RST), así como mediante la ejecución repetida del algoritmo con diferentes particiones iniciales.\",\n",
    "    \"La metodología utilizada para tratar los datos atípicos antes de aplicar el algoritmo K-means incluye la detección de atípicos utilizando un rango de tres desviaciones estándar y la imputación de valores ausentes o atípicos mediante el valor medio del resto de las lecturas válidas, asegurando que los datos sean representativos y minimizando la distorsión en los clústeres resultantes.\"\n",
    "]\n",
    "\n",
    "answers = answers_docs_cat + answers_docs_en + answers_docs_es"
   ]
  },
  {
   "cell_type": "markdown",
   "metadata": {},
   "source": [
    "Finalmente creamos el DataFrame para evaluar los modelos."
   ]
  },
  {
   "cell_type": "code",
   "execution_count": 13,
   "metadata": {},
   "outputs": [],
   "source": [
    "data_samples = {\n",
    "    'question': questions,\n",
    "    'answer': answers,\n",
    "    'contexts': contexts,\n",
    "    'ground_truth': answers\n",
    "}\n",
    "\n",
    "dataset = Dataset.from_dict(data_samples)"
   ]
  },
  {
   "cell_type": "markdown",
   "metadata": {},
   "source": [
    "## 5. Evaluación de los modelos"
   ]
  },
  {
   "cell_type": "code",
   "execution_count": 14,
   "metadata": {},
   "outputs": [],
   "source": [
    "embeddings = get_embedding_function(emb_model)\n",
    "llm = Ollama(model=llm_model)"
   ]
  },
  {
   "cell_type": "code",
   "execution_count": 15,
   "metadata": {},
   "outputs": [
    {
     "name": "stderr",
     "output_type": "stream",
     "text": [
      "Evaluating: 100%|██████████| 72/72 [07:17<00:00,  6.07s/it]\n"
     ]
    },
    {
     "name": "stdout",
     "output_type": "stream",
     "text": [
      "                                             question  \\\n",
      "0   Quins són els principals medicaments que poden...   \n",
      "1   Quins mecanismes estan implicats en la toxicit...   \n",
      "2   Com es categoritzen els medicaments segons el ...   \n",
      "3   Com actuen els inhibidors de l'enzim convertid...   \n",
      "4   Per què és important no interrompre el tractam...   \n",
      "5   Com es realitza el seguiment mèdic d'un pacien...   \n",
      "6   What is the fundamental postulate of Einstein'...   \n",
      "7   Explain the mass-energy equivalence formula an...   \n",
      "8   How does special relativity reconcile with the...   \n",
      "9   Explain the concept of the 'Imitation Game' (T...   \n",
      "10  What role does the concept of discrete state m...   \n",
      "11  Discuss the significance of the concept of 'un...   \n",
      "12  ¿Qué papel juega la arquitectura von Neumann e...   \n",
      "13  Explica la función de la Unidad de Control (UC...   \n",
      "14  ¿Cuál es la fórmula que define la ejecución de...   \n",
      "15  ¿Qué es el algoritmo K-means y cómo se utiliza...   \n",
      "16  ¿Cómo se determina el número óptimo de clúster...   \n",
      "17  ¿Qué metodología se utiliza para tratar los da...   \n",
      "\n",
      "                                               answer  \\\n",
      "0   Els principals medicaments que poden desencade...   \n",
      "1   Els mecanismes implicats en la toxicitat mioca...   \n",
      "2   Els fàrmacs associats amb la prolongació de l'...   \n",
      "3   Els inhibidors de l'enzim convertidor d'angiot...   \n",
      "4   És important no interrompre el tractament perq...   \n",
      "5   El seguiment mèdic inclou la monitorització de...   \n",
      "6   The fundamental postulate of Einstein's theory...   \n",
      "7   The mass-energy equivalence formula is given b...   \n",
      "8   Special relativity reconciles with the princip...   \n",
      "9   The 'Imitation Game' involves a human interrog...   \n",
      "10  Discrete state machines are central to Turing'...   \n",
      "11  The concept of 'universal machines' is signifi...   \n",
      "12  La arquitectura von Neumann es clave en la est...   \n",
      "13  La Unidad de Control (UC) en un CPU es respons...   \n",
      "14  La fórmula que define la ejecución de un progr...   \n",
      "15  El algoritmo K-means es un método de agrupamie...   \n",
      "16  El número óptimo de clústeres en un análisis c...   \n",
      "17  La metodología utilizada para tratar los datos...   \n",
      "\n",
      "                                             contexts  \\\n",
      "0   [Aquest article explica les pautes que se segu...   \n",
      "1   [Fàrmacs que poden donar lloc o \\nexacerbar la...   \n",
      "2   [cardíaca o un factor d’empitjorament. En aque...   \n",
      "3   [Canal Salut. Medicaments i Farmàcia       Tra...   \n",
      "4   [Data d’actualització: 23.03.2017 1/6     \\nht...   \n",
      "5   [cardíaca o un factor d’empitjorament. En aque...   \n",
      "6   [special theory of relativity to distinguish i...   \n",
      "7   [always small in comparison with the second, w...   \n",
      "8   [propagation of light must necessarily hold wi...   \n",
      "9   [433 VOL. LIX. NO. 236.]  [October, 1950  \\nM ...   \n",
      "10  [COMPUTING MACHINERY AND INTELLIGENCE  441 \\nA...   \n",
      "11  [433 VOL. LIX. NO. 236.]  [October, 1950  \\nM ...   \n",
      "12  [Introducción a la Informática  - 7 - © Fernan...   \n",
      "13  [Introducción a la Informática  - 9 - © Fernan...   \n",
      "14  [Introducción a la Informática  - 10 - © Ferna...   \n",
      "15  [entrada para políticas públicas del país.\\nCO...   \n",
      "16  [Marrero, Carrizo, García-Santander y Ulloa-Vá...   \n",
      "17  [identificación de relaciones.En el presente e...   \n",
      "\n",
      "                                         ground_truth  faithfulness  \\\n",
      "0   Els principals medicaments que poden desencade...          1.00   \n",
      "1   Els mecanismes implicats en la toxicitat mioca...          0.40   \n",
      "2   Els fàrmacs associats amb la prolongació de l'...          0.00   \n",
      "3   Els inhibidors de l'enzim convertidor d'angiot...          0.50   \n",
      "4   És important no interrompre el tractament perq...          1.00   \n",
      "5   El seguiment mèdic inclou la monitorització de...          0.20   \n",
      "6   The fundamental postulate of Einstein's theory...          1.00   \n",
      "7   The mass-energy equivalence formula is given b...          0.50   \n",
      "8   Special relativity reconciles with the princip...          0.75   \n",
      "9   The 'Imitation Game' involves a human interrog...          1.00   \n",
      "10  Discrete state machines are central to Turing'...          0.80   \n",
      "11  The concept of 'universal machines' is signifi...          1.00   \n",
      "12  La arquitectura von Neumann es clave en la est...          0.50   \n",
      "13  La Unidad de Control (UC) en un CPU es respons...          1.00   \n",
      "14  La fórmula que define la ejecución de un progr...          1.00   \n",
      "15  El algoritmo K-means es un método de agrupamie...          0.75   \n",
      "16  El número óptimo de clústeres en un análisis c...          0.50   \n",
      "17  La metodología utilizada para tratar los datos...          0.00   \n",
      "\n",
      "    answer_relevancy  context_precision  context_recall  \n",
      "0           0.638305           1.000000             0.5  \n",
      "1           0.700025           1.000000             1.0  \n",
      "2           0.579291           1.000000             1.0  \n",
      "3           0.880366           1.000000             1.0  \n",
      "4           0.573702           1.000000             1.0  \n",
      "5           0.581315           1.000000             0.5  \n",
      "6           1.000000           0.833333             1.0  \n",
      "7           0.861328           0.583333             1.0  \n",
      "8           0.684563           1.000000             1.0  \n",
      "9           0.800380           1.000000             1.0  \n",
      "10          0.855295           0.833333             1.0  \n",
      "11          0.839670           1.000000             1.0  \n",
      "12          0.617882           1.000000             1.0  \n",
      "13          0.902652           1.000000             1.0  \n",
      "14          0.714143           1.000000             0.5  \n",
      "15          0.822062           1.000000             1.0  \n",
      "16          0.841270           1.000000             1.0  \n",
      "17          0.757961           0.583333             1.0  \n"
     ]
    }
   ],
   "source": [
    "nest_asyncio.apply()\n",
    "\n",
    "try:\n",
    "    score = evaluate(\n",
    "        dataset,\n",
    "        metrics=[faithfulness, answer_relevancy, context_precision, context_recall],\n",
    "        llm=llm,\n",
    "        embeddings=embeddings,\n",
    "        raise_exceptions=False,\n",
    "        run_config=RunConfig(\n",
    "            max_retries=30, # Default is 10\n",
    "            max_wait=180, # Default is 60\n",
    "            #max_workers=64 # Default is 16\n",
    "        )\n",
    "    )\n",
    "except Exception as e:\n",
    "    print(f\"An error ocurred: {e}\")\n",
    "\n",
    "df_score = score.to_pandas()\n",
    "print(df_score)"
   ]
  },
  {
   "cell_type": "code",
   "execution_count": 16,
   "metadata": {},
   "outputs": [
    {
     "data": {
      "text/html": [
       "<div>\n",
       "<style scoped>\n",
       "    .dataframe tbody tr th:only-of-type {\n",
       "        vertical-align: middle;\n",
       "    }\n",
       "\n",
       "    .dataframe tbody tr th {\n",
       "        vertical-align: top;\n",
       "    }\n",
       "\n",
       "    .dataframe thead th {\n",
       "        text-align: right;\n",
       "    }\n",
       "</style>\n",
       "<table border=\"1\" class=\"dataframe\">\n",
       "  <thead>\n",
       "    <tr style=\"text-align: right;\">\n",
       "      <th></th>\n",
       "      <th>question</th>\n",
       "      <th>answer</th>\n",
       "      <th>contexts</th>\n",
       "      <th>ground_truth</th>\n",
       "      <th>faithfulness</th>\n",
       "      <th>answer_relevancy</th>\n",
       "      <th>context_precision</th>\n",
       "      <th>context_recall</th>\n",
       "    </tr>\n",
       "  </thead>\n",
       "  <tbody>\n",
       "    <tr>\n",
       "      <th>0</th>\n",
       "      <td>Quins són els principals medicaments que poden...</td>\n",
       "      <td>Els principals medicaments que poden desencade...</td>\n",
       "      <td>[Aquest article explica les pautes que se segu...</td>\n",
       "      <td>Els principals medicaments que poden desencade...</td>\n",
       "      <td>1.00</td>\n",
       "      <td>0.638305</td>\n",
       "      <td>1.000000</td>\n",
       "      <td>0.5</td>\n",
       "    </tr>\n",
       "    <tr>\n",
       "      <th>1</th>\n",
       "      <td>Quins mecanismes estan implicats en la toxicit...</td>\n",
       "      <td>Els mecanismes implicats en la toxicitat mioca...</td>\n",
       "      <td>[Fàrmacs que poden donar lloc o \\nexacerbar la...</td>\n",
       "      <td>Els mecanismes implicats en la toxicitat mioca...</td>\n",
       "      <td>0.40</td>\n",
       "      <td>0.700025</td>\n",
       "      <td>1.000000</td>\n",
       "      <td>1.0</td>\n",
       "    </tr>\n",
       "    <tr>\n",
       "      <th>2</th>\n",
       "      <td>Com es categoritzen els medicaments segons el ...</td>\n",
       "      <td>Els fàrmacs associats amb la prolongació de l'...</td>\n",
       "      <td>[cardíaca o un factor d’empitjorament. En aque...</td>\n",
       "      <td>Els fàrmacs associats amb la prolongació de l'...</td>\n",
       "      <td>0.00</td>\n",
       "      <td>0.579291</td>\n",
       "      <td>1.000000</td>\n",
       "      <td>1.0</td>\n",
       "    </tr>\n",
       "    <tr>\n",
       "      <th>3</th>\n",
       "      <td>Com actuen els inhibidors de l'enzim convertid...</td>\n",
       "      <td>Els inhibidors de l'enzim convertidor d'angiot...</td>\n",
       "      <td>[Canal Salut. Medicaments i Farmàcia       Tra...</td>\n",
       "      <td>Els inhibidors de l'enzim convertidor d'angiot...</td>\n",
       "      <td>0.50</td>\n",
       "      <td>0.880366</td>\n",
       "      <td>1.000000</td>\n",
       "      <td>1.0</td>\n",
       "    </tr>\n",
       "    <tr>\n",
       "      <th>4</th>\n",
       "      <td>Per què és important no interrompre el tractam...</td>\n",
       "      <td>És important no interrompre el tractament perq...</td>\n",
       "      <td>[Data d’actualització: 23.03.2017 1/6     \\nht...</td>\n",
       "      <td>És important no interrompre el tractament perq...</td>\n",
       "      <td>1.00</td>\n",
       "      <td>0.573702</td>\n",
       "      <td>1.000000</td>\n",
       "      <td>1.0</td>\n",
       "    </tr>\n",
       "    <tr>\n",
       "      <th>5</th>\n",
       "      <td>Com es realitza el seguiment mèdic d'un pacien...</td>\n",
       "      <td>El seguiment mèdic inclou la monitorització de...</td>\n",
       "      <td>[cardíaca o un factor d’empitjorament. En aque...</td>\n",
       "      <td>El seguiment mèdic inclou la monitorització de...</td>\n",
       "      <td>0.20</td>\n",
       "      <td>0.581315</td>\n",
       "      <td>1.000000</td>\n",
       "      <td>0.5</td>\n",
       "    </tr>\n",
       "    <tr>\n",
       "      <th>6</th>\n",
       "      <td>What is the fundamental postulate of Einstein'...</td>\n",
       "      <td>The fundamental postulate of Einstein's theory...</td>\n",
       "      <td>[special theory of relativity to distinguish i...</td>\n",
       "      <td>The fundamental postulate of Einstein's theory...</td>\n",
       "      <td>1.00</td>\n",
       "      <td>1.000000</td>\n",
       "      <td>0.833333</td>\n",
       "      <td>1.0</td>\n",
       "    </tr>\n",
       "    <tr>\n",
       "      <th>7</th>\n",
       "      <td>Explain the mass-energy equivalence formula an...</td>\n",
       "      <td>The mass-energy equivalence formula is given b...</td>\n",
       "      <td>[always small in comparison with the second, w...</td>\n",
       "      <td>The mass-energy equivalence formula is given b...</td>\n",
       "      <td>0.50</td>\n",
       "      <td>0.861328</td>\n",
       "      <td>0.583333</td>\n",
       "      <td>1.0</td>\n",
       "    </tr>\n",
       "    <tr>\n",
       "      <th>8</th>\n",
       "      <td>How does special relativity reconcile with the...</td>\n",
       "      <td>Special relativity reconciles with the princip...</td>\n",
       "      <td>[propagation of light must necessarily hold wi...</td>\n",
       "      <td>Special relativity reconciles with the princip...</td>\n",
       "      <td>0.75</td>\n",
       "      <td>0.684563</td>\n",
       "      <td>1.000000</td>\n",
       "      <td>1.0</td>\n",
       "    </tr>\n",
       "    <tr>\n",
       "      <th>9</th>\n",
       "      <td>Explain the concept of the 'Imitation Game' (T...</td>\n",
       "      <td>The 'Imitation Game' involves a human interrog...</td>\n",
       "      <td>[433 VOL. LIX. NO. 236.]  [October, 1950  \\nM ...</td>\n",
       "      <td>The 'Imitation Game' involves a human interrog...</td>\n",
       "      <td>1.00</td>\n",
       "      <td>0.800380</td>\n",
       "      <td>1.000000</td>\n",
       "      <td>1.0</td>\n",
       "    </tr>\n",
       "  </tbody>\n",
       "</table>\n",
       "</div>"
      ],
      "text/plain": [
       "                                            question  \\\n",
       "0  Quins són els principals medicaments que poden...   \n",
       "1  Quins mecanismes estan implicats en la toxicit...   \n",
       "2  Com es categoritzen els medicaments segons el ...   \n",
       "3  Com actuen els inhibidors de l'enzim convertid...   \n",
       "4  Per què és important no interrompre el tractam...   \n",
       "5  Com es realitza el seguiment mèdic d'un pacien...   \n",
       "6  What is the fundamental postulate of Einstein'...   \n",
       "7  Explain the mass-energy equivalence formula an...   \n",
       "8  How does special relativity reconcile with the...   \n",
       "9  Explain the concept of the 'Imitation Game' (T...   \n",
       "\n",
       "                                              answer  \\\n",
       "0  Els principals medicaments que poden desencade...   \n",
       "1  Els mecanismes implicats en la toxicitat mioca...   \n",
       "2  Els fàrmacs associats amb la prolongació de l'...   \n",
       "3  Els inhibidors de l'enzim convertidor d'angiot...   \n",
       "4  És important no interrompre el tractament perq...   \n",
       "5  El seguiment mèdic inclou la monitorització de...   \n",
       "6  The fundamental postulate of Einstein's theory...   \n",
       "7  The mass-energy equivalence formula is given b...   \n",
       "8  Special relativity reconciles with the princip...   \n",
       "9  The 'Imitation Game' involves a human interrog...   \n",
       "\n",
       "                                            contexts  \\\n",
       "0  [Aquest article explica les pautes que se segu...   \n",
       "1  [Fàrmacs que poden donar lloc o \\nexacerbar la...   \n",
       "2  [cardíaca o un factor d’empitjorament. En aque...   \n",
       "3  [Canal Salut. Medicaments i Farmàcia       Tra...   \n",
       "4  [Data d’actualització: 23.03.2017 1/6     \\nht...   \n",
       "5  [cardíaca o un factor d’empitjorament. En aque...   \n",
       "6  [special theory of relativity to distinguish i...   \n",
       "7  [always small in comparison with the second, w...   \n",
       "8  [propagation of light must necessarily hold wi...   \n",
       "9  [433 VOL. LIX. NO. 236.]  [October, 1950  \\nM ...   \n",
       "\n",
       "                                        ground_truth  faithfulness  \\\n",
       "0  Els principals medicaments que poden desencade...          1.00   \n",
       "1  Els mecanismes implicats en la toxicitat mioca...          0.40   \n",
       "2  Els fàrmacs associats amb la prolongació de l'...          0.00   \n",
       "3  Els inhibidors de l'enzim convertidor d'angiot...          0.50   \n",
       "4  És important no interrompre el tractament perq...          1.00   \n",
       "5  El seguiment mèdic inclou la monitorització de...          0.20   \n",
       "6  The fundamental postulate of Einstein's theory...          1.00   \n",
       "7  The mass-energy equivalence formula is given b...          0.50   \n",
       "8  Special relativity reconciles with the princip...          0.75   \n",
       "9  The 'Imitation Game' involves a human interrog...          1.00   \n",
       "\n",
       "   answer_relevancy  context_precision  context_recall  \n",
       "0          0.638305           1.000000             0.5  \n",
       "1          0.700025           1.000000             1.0  \n",
       "2          0.579291           1.000000             1.0  \n",
       "3          0.880366           1.000000             1.0  \n",
       "4          0.573702           1.000000             1.0  \n",
       "5          0.581315           1.000000             0.5  \n",
       "6          1.000000           0.833333             1.0  \n",
       "7          0.861328           0.583333             1.0  \n",
       "8          0.684563           1.000000             1.0  \n",
       "9          0.800380           1.000000             1.0  "
      ]
     },
     "execution_count": 16,
     "metadata": {},
     "output_type": "execute_result"
    }
   ],
   "source": [
    "df_score.head(10)"
   ]
  },
  {
   "cell_type": "code",
   "execution_count": 17,
   "metadata": {},
   "outputs": [],
   "source": [
    "df_score.to_csv(f\"./test3_{llm_model}_{emb_model}.csv\", index=False)"
   ]
  },
  {
   "cell_type": "code",
   "execution_count": null,
   "metadata": {},
   "outputs": [],
   "source": []
  }
 ],
 "metadata": {
  "kernelspec": {
   "display_name": "Python 3 (ipykernel)",
   "language": "python",
   "name": "python3"
  },
  "language_info": {
   "codemirror_mode": {
    "name": "ipython",
    "version": 3
   },
   "file_extension": ".py",
   "mimetype": "text/x-python",
   "name": "python",
   "nbconvert_exporter": "python",
   "pygments_lexer": "ipython3",
   "version": "3.10.12"
  }
 },
 "nbformat": 4,
 "nbformat_minor": 4
}
