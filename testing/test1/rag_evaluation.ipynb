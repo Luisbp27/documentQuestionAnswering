{
 "cells": [
  {
   "cell_type": "markdown",
   "metadata": {},
   "source": [
    "# Análisis de los diferentes modelos"
   ]
  },
  {
   "cell_type": "markdown",
   "metadata": {},
   "source": [
    "## 1. Importación de librerías y modulos"
   ]
  },
  {
   "cell_type": "code",
   "execution_count": 1,
   "metadata": {},
   "outputs": [],
   "source": [
    "#%pip install -r requirements.txt"
   ]
  },
  {
   "cell_type": "code",
   "execution_count": 2,
   "metadata": {},
   "outputs": [
    {
     "name": "stderr",
     "output_type": "stream",
     "text": [
      "/opt/environment/lib/python3.10/site-packages/tqdm/auto.py:21: TqdmWarning: IProgress not found. Please update jupyter and ipywidgets. See https://ipywidgets.readthedocs.io/en/stable/user_install.html\n",
      "  from .autonotebook import tqdm as notebook_tqdm\n"
     ]
    }
   ],
   "source": [
    "from datasets import Dataset\n",
    "from ragas import evaluate\n",
    "from ragas.metrics import faithfulness, answer_relevancy, context_precision, context_recall\n",
    "from langchain_community.document_loaders.pdf import PyPDFDirectoryLoader\n",
    "from langchain_community.llms import Ollama\n",
    "from langchain_chroma import Chroma\n",
    "import nest_asyncio\n",
    "from ragas.run_config import RunConfig\n",
    "import tqdm\n",
    "from module import *"
   ]
  },
  {
   "cell_type": "code",
   "execution_count": 3,
   "metadata": {},
   "outputs": [],
   "source": [
    "embbedings = [\n",
    "    \"multilingual_large\",\n",
    "    \"baai_large\",\n",
    "    \"mxbai_large\",\n",
    "    \"baai_small\"\n",
    "]\n",
    "\n",
    "llm = [\n",
    "    \"llama3\",\n",
    "    \"mistral\",\n",
    "    \"phi3\",\n",
    "    \"gemma\"\n",
    "]\n",
    "\n",
    "emb_model = embbedings[0]\n",
    "llm_model = llm[0]"
   ]
  },
  {
   "cell_type": "markdown",
   "metadata": {},
   "source": [
    "## 2. Carga de datos "
   ]
  },
  {
   "cell_type": "code",
   "execution_count": 4,
   "metadata": {},
   "outputs": [
    {
     "name": "stdout",
     "output_type": "stream",
     "text": [
      "Loaded 150 documents\n"
     ]
    }
   ],
   "source": [
    "documents_loader = PyPDFDirectoryLoader(\"./data\")\n",
    "documents = documents_loader.load()\n",
    "print(f\"Loaded {len(documents)} documents\")"
   ]
  },
  {
   "cell_type": "code",
   "execution_count": 5,
   "metadata": {},
   "outputs": [
    {
     "name": "stdout",
     "output_type": "stream",
     "text": [
      "Number of chunks:  901\n"
     ]
    }
   ],
   "source": [
    "chunks = split_documents(documents, chunk_size=512)\n",
    "print(\"Number of chunks: \", len(chunks))"
   ]
  },
  {
   "cell_type": "markdown",
   "metadata": {},
   "source": [
    "## 3. Creación de la base de datos vectorial"
   ]
  },
  {
   "cell_type": "code",
   "execution_count": 6,
   "metadata": {},
   "outputs": [
    {
     "name": "stderr",
     "output_type": "stream",
     "text": [
      "/opt/environment/lib/python3.10/site-packages/huggingface_hub/file_download.py:1132: FutureWarning: `resume_download` is deprecated and will be removed in version 1.0.0. Downloads always resume when possible. If you want to force a new download, use `force_download=True`.\n",
      "  warnings.warn(\n"
     ]
    }
   ],
   "source": [
    "# Load the existing database.\n",
    "db = Chroma(\n",
    "    collection_name=\"test1\",\n",
    "    persist_directory=\"../database\",\n",
    "    embedding_function=get_embedding_function(emb_model)\n",
    ")"
   ]
  },
  {
   "cell_type": "code",
   "execution_count": 7,
   "metadata": {},
   "outputs": [
    {
     "name": "stdout",
     "output_type": "stream",
     "text": [
      "Number of existing documents in DB: 0\n"
     ]
    }
   ],
   "source": [
    "# Calculate Page IDs.\n",
    "chunks_with_ids = calculate_chunk_ids(chunks)\n",
    "\n",
    "# Add or Update the documents.\n",
    "existing_items = db.get(include=[])  # IDs are always included by default\n",
    "existing_ids = set(existing_items[\"ids\"])\n",
    "print(f\"Number of existing documents in DB: {len(existing_ids)}\")"
   ]
  },
  {
   "cell_type": "code",
   "execution_count": 8,
   "metadata": {},
   "outputs": [],
   "source": [
    "# Only add documents that don't exist in the DB.\n",
    "new_chunks = []\n",
    "for chunk in chunks_with_ids:\n",
    "    if chunk.metadata[\"id\"] not in existing_ids:\n",
    "        new_chunks.append(chunk)"
   ]
  },
  {
   "cell_type": "code",
   "execution_count": 9,
   "metadata": {},
   "outputs": [
    {
     "name": "stdout",
     "output_type": "stream",
     "text": [
      "👉 Adding new documents: 901\n"
     ]
    },
    {
     "name": "stderr",
     "output_type": "stream",
     "text": [
      "100%|██████████| 901/901 [02:07<00:00,  7.09it/s]"
     ]
    },
    {
     "name": "stdout",
     "output_type": "stream",
     "text": [
      "Documents added correctly ✅\n",
      "150 documents added to the database correctly\n"
     ]
    },
    {
     "name": "stderr",
     "output_type": "stream",
     "text": [
      "\n"
     ]
    }
   ],
   "source": [
    "if len(new_chunks):\n",
    "    print(f\"👉 Adding new documents: {len(new_chunks)}\")\n",
    "    with tqdm.tqdm(total=len(new_chunks)) as pbar:\n",
    "        for chunk in new_chunks:\n",
    "            db.add_documents([chunk], ids=[chunk.metadata[\"id\"]])\n",
    "            pbar.update(1)\n",
    "    print(\"Documents added correctly ✅\")\n",
    "else:\n",
    "    print(\"✅ No new documents to add\")\n",
    "\n",
    "print(f\"{len(documents)} documents added to the database correctly\")"
   ]
  },
  {
   "cell_type": "markdown",
   "metadata": {},
   "source": [
    "## 4. Preguntas de interés"
   ]
  },
  {
   "cell_type": "code",
   "execution_count": 10,
   "metadata": {},
   "outputs": [],
   "source": [
    "questions_docs_cat = [\n",
    "    \"Quins drets lingüístics reconeix la Constitució Espanyola?\",\n",
    "    \"Què estableix la Constitució Espanyola sobre la detenció preventiva i els drets de les persones detingudes?\",\n",
    "    \"Quins són els valors superiors de l'ordenament jurídic espanyol segons la Constitució?\",\n",
    "    \"Quines condicions específiques es poden aplicar en un contracte indefinit per a persones amb discapacitat?\",\n",
    "    \"Com es defineix i s'estableix la durada del període de prova en un contracte indefinit segons el document?\",\n",
    "    \"Quins drets de bonificació a la Seguretat Social es mencionen per a contractes indefinits celebrats amb treballadors pertanyents al Sistema Nacional de Garantia Juvenil?\",\n",
    "]\n",
    "\n",
    "questions_docs_en = [\n",
    "    \"What are the conditions under which an employment contract's probationary period may be extended or terminated?\",\n",
    "    \"What are the stipulations for holiday entitlement and the conditions under which holiday can be carried over to the next year?\",\n",
    "    \"What are the employer’s rights concerning termination of employment during and after the probationary period?\",\n",
    "    \"What are the proposed alternatives for the structure and election of the UK Parliament’s Second Chamber?\",\n",
    "    \"What rights are explicitly protected under the proposed Bill of Rights in the document?\",\n",
    "    \"How does the document propose constitutional amendments should be enacted or repealed?\",\n",
    "]\n",
    "\n",
    "questions_docs_es = [\n",
    "    \"¿Qué derechos lingüísticos reconoce la Constitución Española?\",\n",
    "    \"¿Qué establece la Constitución Española sobre la detención preventiva y los derechos de las personas detenidas?\",\n",
    "    \"¿Cuáles son los valores superiores del ordenamiento jurídico español según la Constitución?\",\n",
    "    \"¿Qué condiciones específicas pueden aplicarse en un contrato indefinido para personas con discapacidad?\",\n",
    "    \"¿Cómo se define y establece la duración del período de prueba en un contrato indefinido según el documento?\",\n",
    "    \"¿Qué derechos de bonificación a la Seguridad Social se mencionan para contratos indefinidos celebrados con trabajadores pertenecientes al Sistema Nacional de Garantía Juvenil?\"\n",
    "]\n",
    "\n",
    "questions = questions_docs_cat + questions_docs_en + questions_docs_es"
   ]
  },
  {
   "cell_type": "code",
   "execution_count": 11,
   "metadata": {},
   "outputs": [],
   "source": [
    "contexts = []\n",
    "\n",
    "for question in questions:\n",
    "    # Get the top 5 most relevant documents\n",
    "    results = db.similarity_search_with_score(question, k=3)\n",
    "\n",
    "    # Make a list of the contexts\n",
    "    question_contexts = []\n",
    "    for doc, _score in results:\n",
    "        question_contexts.append(doc.page_content)\n",
    "\n",
    "    # Append the context sub-list to the list of contexts\n",
    "    contexts.append(question_contexts)"
   ]
  },
  {
   "cell_type": "markdown",
   "metadata": {},
   "source": [
    "Ahora creamos las respuestas esperadas para cada pregunta."
   ]
  },
  {
   "cell_type": "code",
   "execution_count": 12,
   "metadata": {},
   "outputs": [],
   "source": [
    "answers_docs_cat = [\n",
    "    \"La Constitució Espanyola reconeix el castellà com a llengua oficial de l'Estat i estableix que tots els espanyols tenen el deure de conèixer-la i el dret a usar-la. També reconeix que les altres llengües espanyoles seran oficials en les respectives Comunitats Autònomes d'acord amb els seus Estatuts, i protegeix la riquesa de les diferents modalitats lingüístiques d'Espanya com un patrimoni cultural que ha de ser objecte d'especial respecte i protecció.\",\n",
    "    \"La Constitució Espanyola estableix que la detenció preventiva no pot durar més del temps estrictament necessari per a la realització de les averiguacions, i en tot cas, el detingut ha de ser posat en llibertat o a disposició de l'autoritat judicial en un termini màxim de 72 hores. A més, garanteix el dret a ser informat de forma immediata i comprensible sobre els drets i les raons de la detenció, així com el dret a l'assistència d'un advocat.\",\n",
    "    \"Segons la Constitució Espanyola, els valors superiors de l'ordenament jurídic espanyol són la llibertat, la justícia, la igualtat i el pluralisme polític.\",\n",
    "    \"En un contracte indefinit per a persones amb discapacitat, es poden aplicar condicions específiques com bonificacions en la quota empresarial a la Seguretat Social, subvencions, i adaptacions del lloc de treball segons les característiques de la persona. A més, es poden establir períodes de prova i d'adaptació al treball adequats a la situació del treballador.\",\n",
    "    \"La durada del període de prova en un contracte indefinit es defineix d'acord amb el que estableix l'Estatut dels Treballadors, respectant les normes legals vigents. Pot variar segons el grup professional o el nivell del treballador, i en alguns casos pot ser de fins a un any si s'acull a certes disposicions legals.\",\n",
    "    \"Per als contractes indefinits celebrats amb treballadors pertanyents al Sistema Nacional de Garantia Juvenil, es mencionen bonificacions de 300 euros mensuals en la cotització empresarial a la Seguretat Social durant un període de 6 mesos. En el cas de contractes a temps parcial, la bonificació s'ajusta proporcionalment al percentatge de la jornada.\",\n",
    "]\n",
    "\n",
    "answers_docs_en = [\n",
    "    \"The probationary period may be extended or terminated if the employee's work performance is not up to the required standard or if the working relationship is not agreeable. Both parties are required to give one week's written notice during this period.\",\n",
    "    \"The holiday entitlement is 5.6 weeks per year, pro-rata for part-time employees. Holidays must be taken within the year, and carrying over untaken holidays requires prior agreement, except in cases of sickness preventing the leave.\",\n",
    "    \"During the probationary period, both parties must give one week's notice to terminate employment. After the probationary period, four weeks' notice is required, increasing by one week per year of service up to a maximum of twelve weeks. The employer may terminate employment without notice in cases of serious breach, gross misconduct, or gross negligence.\",\n",
    "    \"The document offers alternatives for the Second Chamber: a directly elected body representing the nations and regions of the UK, or a Chamber of Experts appointed for 15 years based on recognized expertise. It also suggests the possibility of the Second Chamber having the power to veto bills under certain conditions.\",\n",
    "    \"The proposed Bill of Rights includes rights such as the right to life, freedom from torture, slavery, and forced labor, and the right to a fair trial. Other rights include freedom of thought, expression, assembly, and the right to marry and found a family.\",\n",
    "    \"The document proposes that constitutional amendments could be enacted or repealed by Parliament through ordinary legislative procedures, with some suggesting the need for a two-thirds majority in both Houses and approval by a public referendum.\"\n",
    "]\n",
    "\n",
    "answers_docs_es = [\n",
    "    \"La Constitución Española reconoce el castellano como lengua oficial del Estado y establece que todos los españoles tienen el deber de conocerla y el derecho a usarla. También reconoce que las demás lenguas españolas serán oficiales en las respectivas Comunidades Autónomas de acuerdo con sus Estatutos, y protege la riqueza de las distintas modalidades lingüísticas de España como un patrimonio cultural que debe ser objeto de especial respeto y protección.\",\n",
    "    \"La Constitución Española establece que la detención preventiva no puede durar más del tiempo estrictamente necesario para la realización de las averiguaciones, y en todo caso, el detenido debe ser puesto en libertad o a disposición de la autoridad judicial en un plazo máximo de 72 horas. Además, garantiza el derecho a ser informado de forma inmediata y comprensible sobre los derechos y las razones de la detención, así como el derecho a la asistencia de un abogado.\",\n",
    "    \"Según la Constitución Española, los valores superiores del ordenamiento jurídico español son la libertad, la justicia, la igualdad y el pluralismo político.\",\n",
    "    \"En un contrato indefinido para personas con discapacidad, se pueden aplicar condiciones específicas como bonificaciones en la cuota empresarial a la Seguridad Social, subvenciones, y adaptaciones del puesto de trabajo según las características de la persona. Además, se pueden establecer períodos de prueba y de adaptación al trabajo adecuados a la situación del trabajador.\",\n",
    "    \"La duración del período de prueba en un contrato indefinido se define de acuerdo con lo establecido en el Estatuto de los Trabajadores, respetando las normas legales vigentes. Puede variar según el grupo profesional o el nivel del trabajador, y en algunos casos puede ser de hasta un año si se acoge a ciertas disposiciones legales.\",\n",
    "    \"Para los contratos indefinidos celebrados con trabajadores pertenecientes al Sistema Nacional de Garantía Juvenil, se mencionan bonificaciones de 300 euros mensuales en la cotización empresarial a la Seguridad Social durante un período de 6 meses. En el caso de contratos a tiempo parcial, la bonificación se ajusta proporcionalmente al porcentaje de la jornada.\",\n",
    "]\n",
    "\n",
    "\n",
    "answers = answers_docs_cat + answers_docs_en + answers_docs_es"
   ]
  },
  {
   "cell_type": "markdown",
   "metadata": {},
   "source": [
    "Finalmente creamos el DataFrame para evaluar los modelos."
   ]
  },
  {
   "cell_type": "code",
   "execution_count": 13,
   "metadata": {},
   "outputs": [],
   "source": [
    "data_samples = {\n",
    "    'question': questions,\n",
    "    'answer': answers,\n",
    "    'contexts': contexts,\n",
    "    'ground_truth': answers\n",
    "}\n",
    "\n",
    "dataset = Dataset.from_dict(data_samples)"
   ]
  },
  {
   "cell_type": "markdown",
   "metadata": {},
   "source": [
    "## 5. Evaluación de los modelos"
   ]
  },
  {
   "cell_type": "code",
   "execution_count": 14,
   "metadata": {},
   "outputs": [],
   "source": [
    "embeddings = get_embedding_function(emb_model)\n",
    "llm = Ollama(model=llm_model)"
   ]
  },
  {
   "cell_type": "code",
   "execution_count": 15,
   "metadata": {},
   "outputs": [
    {
     "name": "stderr",
     "output_type": "stream",
     "text": [
      "Evaluating: 100%|██████████| 72/72 [07:33<00:00,  6.29s/it]\n"
     ]
    },
    {
     "name": "stdout",
     "output_type": "stream",
     "text": [
      "                                             question  \\\n",
      "0   Quins drets lingüístics reconeix la Constituci...   \n",
      "1   Què estableix la Constitució Espanyola sobre l...   \n",
      "2   Quins són els valors superiors de l'ordenament...   \n",
      "3   Quines condicions específiques es poden aplica...   \n",
      "4   Com es defineix i s'estableix la durada del pe...   \n",
      "5   Quins drets de bonificació a la Seguretat Soci...   \n",
      "6   What are the conditions under which an employm...   \n",
      "7   What are the stipulations for holiday entitlem...   \n",
      "8   What are the employer’s rights concerning term...   \n",
      "9   What are the proposed alternatives for the str...   \n",
      "10  What rights are explicitly protected under the...   \n",
      "11  How does the document propose constitutional a...   \n",
      "12  ¿Qué derechos lingüísticos reconoce la Constit...   \n",
      "13  ¿Qué establece la Constitución Española sobre ...   \n",
      "14  ¿Cuáles son los valores superiores del ordenam...   \n",
      "15  ¿Qué condiciones específicas pueden aplicarse ...   \n",
      "16  ¿Cómo se define y establece la duración del pe...   \n",
      "17  ¿Qué derechos de bonificación a la Seguridad S...   \n",
      "\n",
      "                                               answer  \\\n",
      "0   La Constitució Espanyola reconeix el castellà ...   \n",
      "1   La Constitució Espanyola estableix que la dete...   \n",
      "2   Segons la Constitució Espanyola, els valors su...   \n",
      "3   En un contracte indefinit per a persones amb d...   \n",
      "4   La durada del període de prova en un contracte...   \n",
      "5   Per als contractes indefinits celebrats amb tr...   \n",
      "6   The probationary period may be extended or ter...   \n",
      "7   The holiday entitlement is 5.6 weeks per year,...   \n",
      "8   During the probationary period, both parties m...   \n",
      "9   The document offers alternatives for the Secon...   \n",
      "10  The proposed Bill of Rights includes rights su...   \n",
      "11  The document proposes that constitutional amen...   \n",
      "12  La Constitución Española reconoce el castellan...   \n",
      "13  La Constitución Española establece que la dete...   \n",
      "14  Según la Constitución Española, los valores su...   \n",
      "15  En un contrato indefinido para personas con di...   \n",
      "16  La duración del período de prueba en un contra...   \n",
      "17  Para los contratos indefinidos celebrados con ...   \n",
      "\n",
      "                                             contexts  \\\n",
      "0   [La Constitució es fonamenta en la indissolubl...   \n",
      "1   [la societat espanyola i mantindran les conseg...   \n",
      "2   [Títol Preliminar \\n \\nArticle 1 \\n1. Espanya ...   \n",
      "3   [Els\\n\\t\\ncentres\\n\\t\\nespecials\\n\\t\\nd’ocupac...   \n",
      "4   [present\\n\\t\\ncontracte\\n\\t\\nserà\\n\\t\\nINDEFIN...   \n",
      "5   [gener.\\nSi\\n\\t\\nes\\n\\t\\nreuneixen\\n\\t\\nels\\n\\...   \n",
      "6   [de la Empresa                                ...   \n",
      "7   [forward any untaken holiday entitlement to th...   \n",
      "8   [If your work performance is not up to the req...   \n",
      "9   [Which of the options in the document, if any,...   \n",
      "10  [18\\nPossible alternative 1:\\n There shall be ...   \n",
      "11  [6\\nAmendment:4\\nConstitutional laws and rules...   \n",
      "12  [1. El castellano es la lengua española oficia...   \n",
      "13  [Artículo 17.  \\n1. Toda persona tiene derecho...   \n",
      "14  [Colaborar en el fortalecimiento de unas relac...   \n",
      "15  [Los centros especiales de empleo que contrate...   \n",
      "16  [CUARTA:  La duración del presente contrato se...   \n",
      "17  [1)       Indicar el organismo oficial que ha ...   \n",
      "\n",
      "                                         ground_truth  faithfulness  \\\n",
      "0   La Constitució Espanyola reconeix el castellà ...      0.500000   \n",
      "1   La Constitució Espanyola estableix que la dete...      1.000000   \n",
      "2   Segons la Constitució Espanyola, els valors su...      1.000000   \n",
      "3   En un contracte indefinit per a persones amb d...      0.333333   \n",
      "4   La durada del període de prova en un contracte...      0.000000   \n",
      "5   Per als contractes indefinits celebrats amb tr...      0.333333   \n",
      "6   The probationary period may be extended or ter...      0.333333   \n",
      "7   The holiday entitlement is 5.6 weeks per year,...      0.400000   \n",
      "8   During the probationary period, both parties m...      1.000000   \n",
      "9   The document offers alternatives for the Secon...      0.666667   \n",
      "10  The proposed Bill of Rights includes rights su...      0.857143   \n",
      "11  The document proposes that constitutional amen...      0.666667   \n",
      "12  La Constitución Española reconoce el castellan...      1.000000   \n",
      "13  La Constitución Española establece que la dete...      1.000000   \n",
      "14  Según la Constitución Española, los valores su...      1.000000   \n",
      "15  En un contrato indefinido para personas con di...      1.000000   \n",
      "16  La duración del período de prueba en un contra...      0.000000   \n",
      "17  Para los contratos indefinidos celebrados con ...      0.333333   \n",
      "\n",
      "    answer_relevancy  context_precision  context_recall  \n",
      "0           0.833968           1.000000        1.000000  \n",
      "1           0.880212           1.000000        1.000000  \n",
      "2           0.894722           1.000000        1.000000  \n",
      "3           0.938415           1.000000        1.000000  \n",
      "4           0.909788           1.000000        0.500000  \n",
      "5           0.909273           1.000000        1.000000  \n",
      "6           0.966420           0.000000        0.000000  \n",
      "7           0.890421           0.000000        0.666667  \n",
      "8           0.889508           1.000000        0.750000  \n",
      "9           0.939117           0.583333        0.500000  \n",
      "10          0.932143           0.000000        0.500000  \n",
      "11          0.900490           0.500000        0.500000  \n",
      "12          0.861177           1.000000        0.750000  \n",
      "13          0.886200           1.000000        1.000000  \n",
      "14          0.891933           0.833333        1.000000  \n",
      "15          0.923561           1.000000        1.000000  \n",
      "16          0.899163           0.833333        1.000000  \n",
      "17          0.888313           1.000000        1.000000  \n"
     ]
    }
   ],
   "source": [
    "nest_asyncio.apply()\n",
    "\n",
    "try:\n",
    "    score = evaluate(\n",
    "        dataset,\n",
    "        metrics=[faithfulness, answer_relevancy, context_precision, context_recall],\n",
    "        llm=llm,\n",
    "        embeddings=embeddings,\n",
    "        raise_exceptions=False,\n",
    "        run_config=RunConfig(\n",
    "            max_retries=30, # Default is 10\n",
    "            max_wait=180, # Default is 60\n",
    "            #max_workers=64 # Default is 16\n",
    "        )\n",
    "    )\n",
    "except Exception as e:\n",
    "    print(f\"An error ocurred: {e}\")\n",
    "\n",
    "df_score = score.to_pandas()\n",
    "print(df_score)"
   ]
  },
  {
   "cell_type": "code",
   "execution_count": 16,
   "metadata": {},
   "outputs": [
    {
     "data": {
      "text/html": [
       "<div>\n",
       "<style scoped>\n",
       "    .dataframe tbody tr th:only-of-type {\n",
       "        vertical-align: middle;\n",
       "    }\n",
       "\n",
       "    .dataframe tbody tr th {\n",
       "        vertical-align: top;\n",
       "    }\n",
       "\n",
       "    .dataframe thead th {\n",
       "        text-align: right;\n",
       "    }\n",
       "</style>\n",
       "<table border=\"1\" class=\"dataframe\">\n",
       "  <thead>\n",
       "    <tr style=\"text-align: right;\">\n",
       "      <th></th>\n",
       "      <th>question</th>\n",
       "      <th>answer</th>\n",
       "      <th>contexts</th>\n",
       "      <th>ground_truth</th>\n",
       "      <th>faithfulness</th>\n",
       "      <th>answer_relevancy</th>\n",
       "      <th>context_precision</th>\n",
       "      <th>context_recall</th>\n",
       "    </tr>\n",
       "  </thead>\n",
       "  <tbody>\n",
       "    <tr>\n",
       "      <th>0</th>\n",
       "      <td>Quins drets lingüístics reconeix la Constituci...</td>\n",
       "      <td>La Constitució Espanyola reconeix el castellà ...</td>\n",
       "      <td>[La Constitució es fonamenta en la indissolubl...</td>\n",
       "      <td>La Constitució Espanyola reconeix el castellà ...</td>\n",
       "      <td>0.500000</td>\n",
       "      <td>0.833968</td>\n",
       "      <td>1.000000</td>\n",
       "      <td>1.000000</td>\n",
       "    </tr>\n",
       "    <tr>\n",
       "      <th>1</th>\n",
       "      <td>Què estableix la Constitució Espanyola sobre l...</td>\n",
       "      <td>La Constitució Espanyola estableix que la dete...</td>\n",
       "      <td>[la societat espanyola i mantindran les conseg...</td>\n",
       "      <td>La Constitució Espanyola estableix que la dete...</td>\n",
       "      <td>1.000000</td>\n",
       "      <td>0.880212</td>\n",
       "      <td>1.000000</td>\n",
       "      <td>1.000000</td>\n",
       "    </tr>\n",
       "    <tr>\n",
       "      <th>2</th>\n",
       "      <td>Quins són els valors superiors de l'ordenament...</td>\n",
       "      <td>Segons la Constitució Espanyola, els valors su...</td>\n",
       "      <td>[Títol Preliminar \\n \\nArticle 1 \\n1. Espanya ...</td>\n",
       "      <td>Segons la Constitució Espanyola, els valors su...</td>\n",
       "      <td>1.000000</td>\n",
       "      <td>0.894722</td>\n",
       "      <td>1.000000</td>\n",
       "      <td>1.000000</td>\n",
       "    </tr>\n",
       "    <tr>\n",
       "      <th>3</th>\n",
       "      <td>Quines condicions específiques es poden aplica...</td>\n",
       "      <td>En un contracte indefinit per a persones amb d...</td>\n",
       "      <td>[Els\\n\\t\\ncentres\\n\\t\\nespecials\\n\\t\\nd’ocupac...</td>\n",
       "      <td>En un contracte indefinit per a persones amb d...</td>\n",
       "      <td>0.333333</td>\n",
       "      <td>0.938415</td>\n",
       "      <td>1.000000</td>\n",
       "      <td>1.000000</td>\n",
       "    </tr>\n",
       "    <tr>\n",
       "      <th>4</th>\n",
       "      <td>Com es defineix i s'estableix la durada del pe...</td>\n",
       "      <td>La durada del període de prova en un contracte...</td>\n",
       "      <td>[present\\n\\t\\ncontracte\\n\\t\\nserà\\n\\t\\nINDEFIN...</td>\n",
       "      <td>La durada del període de prova en un contracte...</td>\n",
       "      <td>0.000000</td>\n",
       "      <td>0.909788</td>\n",
       "      <td>1.000000</td>\n",
       "      <td>0.500000</td>\n",
       "    </tr>\n",
       "    <tr>\n",
       "      <th>5</th>\n",
       "      <td>Quins drets de bonificació a la Seguretat Soci...</td>\n",
       "      <td>Per als contractes indefinits celebrats amb tr...</td>\n",
       "      <td>[gener.\\nSi\\n\\t\\nes\\n\\t\\nreuneixen\\n\\t\\nels\\n\\...</td>\n",
       "      <td>Per als contractes indefinits celebrats amb tr...</td>\n",
       "      <td>0.333333</td>\n",
       "      <td>0.909273</td>\n",
       "      <td>1.000000</td>\n",
       "      <td>1.000000</td>\n",
       "    </tr>\n",
       "    <tr>\n",
       "      <th>6</th>\n",
       "      <td>What are the conditions under which an employm...</td>\n",
       "      <td>The probationary period may be extended or ter...</td>\n",
       "      <td>[de la Empresa                                ...</td>\n",
       "      <td>The probationary period may be extended or ter...</td>\n",
       "      <td>0.333333</td>\n",
       "      <td>0.966420</td>\n",
       "      <td>0.000000</td>\n",
       "      <td>0.000000</td>\n",
       "    </tr>\n",
       "    <tr>\n",
       "      <th>7</th>\n",
       "      <td>What are the stipulations for holiday entitlem...</td>\n",
       "      <td>The holiday entitlement is 5.6 weeks per year,...</td>\n",
       "      <td>[forward any untaken holiday entitlement to th...</td>\n",
       "      <td>The holiday entitlement is 5.6 weeks per year,...</td>\n",
       "      <td>0.400000</td>\n",
       "      <td>0.890421</td>\n",
       "      <td>0.000000</td>\n",
       "      <td>0.666667</td>\n",
       "    </tr>\n",
       "    <tr>\n",
       "      <th>8</th>\n",
       "      <td>What are the employer’s rights concerning term...</td>\n",
       "      <td>During the probationary period, both parties m...</td>\n",
       "      <td>[If your work performance is not up to the req...</td>\n",
       "      <td>During the probationary period, both parties m...</td>\n",
       "      <td>1.000000</td>\n",
       "      <td>0.889508</td>\n",
       "      <td>1.000000</td>\n",
       "      <td>0.750000</td>\n",
       "    </tr>\n",
       "    <tr>\n",
       "      <th>9</th>\n",
       "      <td>What are the proposed alternatives for the str...</td>\n",
       "      <td>The document offers alternatives for the Secon...</td>\n",
       "      <td>[Which of the options in the document, if any,...</td>\n",
       "      <td>The document offers alternatives for the Secon...</td>\n",
       "      <td>0.666667</td>\n",
       "      <td>0.939117</td>\n",
       "      <td>0.583333</td>\n",
       "      <td>0.500000</td>\n",
       "    </tr>\n",
       "  </tbody>\n",
       "</table>\n",
       "</div>"
      ],
      "text/plain": [
       "                                            question  \\\n",
       "0  Quins drets lingüístics reconeix la Constituci...   \n",
       "1  Què estableix la Constitució Espanyola sobre l...   \n",
       "2  Quins són els valors superiors de l'ordenament...   \n",
       "3  Quines condicions específiques es poden aplica...   \n",
       "4  Com es defineix i s'estableix la durada del pe...   \n",
       "5  Quins drets de bonificació a la Seguretat Soci...   \n",
       "6  What are the conditions under which an employm...   \n",
       "7  What are the stipulations for holiday entitlem...   \n",
       "8  What are the employer’s rights concerning term...   \n",
       "9  What are the proposed alternatives for the str...   \n",
       "\n",
       "                                              answer  \\\n",
       "0  La Constitució Espanyola reconeix el castellà ...   \n",
       "1  La Constitució Espanyola estableix que la dete...   \n",
       "2  Segons la Constitució Espanyola, els valors su...   \n",
       "3  En un contracte indefinit per a persones amb d...   \n",
       "4  La durada del període de prova en un contracte...   \n",
       "5  Per als contractes indefinits celebrats amb tr...   \n",
       "6  The probationary period may be extended or ter...   \n",
       "7  The holiday entitlement is 5.6 weeks per year,...   \n",
       "8  During the probationary period, both parties m...   \n",
       "9  The document offers alternatives for the Secon...   \n",
       "\n",
       "                                            contexts  \\\n",
       "0  [La Constitució es fonamenta en la indissolubl...   \n",
       "1  [la societat espanyola i mantindran les conseg...   \n",
       "2  [Títol Preliminar \\n \\nArticle 1 \\n1. Espanya ...   \n",
       "3  [Els\\n\\t\\ncentres\\n\\t\\nespecials\\n\\t\\nd’ocupac...   \n",
       "4  [present\\n\\t\\ncontracte\\n\\t\\nserà\\n\\t\\nINDEFIN...   \n",
       "5  [gener.\\nSi\\n\\t\\nes\\n\\t\\nreuneixen\\n\\t\\nels\\n\\...   \n",
       "6  [de la Empresa                                ...   \n",
       "7  [forward any untaken holiday entitlement to th...   \n",
       "8  [If your work performance is not up to the req...   \n",
       "9  [Which of the options in the document, if any,...   \n",
       "\n",
       "                                        ground_truth  faithfulness  \\\n",
       "0  La Constitució Espanyola reconeix el castellà ...      0.500000   \n",
       "1  La Constitució Espanyola estableix que la dete...      1.000000   \n",
       "2  Segons la Constitució Espanyola, els valors su...      1.000000   \n",
       "3  En un contracte indefinit per a persones amb d...      0.333333   \n",
       "4  La durada del període de prova en un contracte...      0.000000   \n",
       "5  Per als contractes indefinits celebrats amb tr...      0.333333   \n",
       "6  The probationary period may be extended or ter...      0.333333   \n",
       "7  The holiday entitlement is 5.6 weeks per year,...      0.400000   \n",
       "8  During the probationary period, both parties m...      1.000000   \n",
       "9  The document offers alternatives for the Secon...      0.666667   \n",
       "\n",
       "   answer_relevancy  context_precision  context_recall  \n",
       "0          0.833968           1.000000        1.000000  \n",
       "1          0.880212           1.000000        1.000000  \n",
       "2          0.894722           1.000000        1.000000  \n",
       "3          0.938415           1.000000        1.000000  \n",
       "4          0.909788           1.000000        0.500000  \n",
       "5          0.909273           1.000000        1.000000  \n",
       "6          0.966420           0.000000        0.000000  \n",
       "7          0.890421           0.000000        0.666667  \n",
       "8          0.889508           1.000000        0.750000  \n",
       "9          0.939117           0.583333        0.500000  "
      ]
     },
     "execution_count": 16,
     "metadata": {},
     "output_type": "execute_result"
    }
   ],
   "source": [
    "df_score.head(10)"
   ]
  },
  {
   "cell_type": "code",
   "execution_count": 17,
   "metadata": {},
   "outputs": [],
   "source": [
    "df_score.to_csv(f\"./test1_{llm_model}_{emb_model}.csv\", index=False)"
   ]
  },
  {
   "cell_type": "code",
   "execution_count": null,
   "metadata": {},
   "outputs": [],
   "source": []
  }
 ],
 "metadata": {
  "kernelspec": {
   "display_name": "Python 3 (ipykernel)",
   "language": "python",
   "name": "python3"
  },
  "language_info": {
   "codemirror_mode": {
    "name": "ipython",
    "version": 3
   },
   "file_extension": ".py",
   "mimetype": "text/x-python",
   "name": "python",
   "nbconvert_exporter": "python",
   "pygments_lexer": "ipython3",
   "version": "3.10.12"
  }
 },
 "nbformat": 4,
 "nbformat_minor": 4
}
