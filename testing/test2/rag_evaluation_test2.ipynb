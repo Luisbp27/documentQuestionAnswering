{
 "cells": [
  {
   "cell_type": "markdown",
   "metadata": {},
   "source": [
    "# Análisis de los diferentes modelos"
   ]
  },
  {
   "cell_type": "markdown",
   "metadata": {},
   "source": [
    "## 1. Importación de librerías y modulos"
   ]
  },
  {
   "cell_type": "code",
   "execution_count": 1,
   "metadata": {},
   "outputs": [],
   "source": [
    "#%pip install -r requirements.txt"
   ]
  },
  {
   "cell_type": "code",
   "execution_count": 2,
   "metadata": {},
   "outputs": [
    {
     "name": "stderr",
     "output_type": "stream",
     "text": [
      "/opt/environment/lib/python3.10/site-packages/tqdm/auto.py:21: TqdmWarning: IProgress not found. Please update jupyter and ipywidgets. See https://ipywidgets.readthedocs.io/en/stable/user_install.html\n",
      "  from .autonotebook import tqdm as notebook_tqdm\n"
     ]
    }
   ],
   "source": [
    "from datasets import Dataset\n",
    "from ragas import evaluate\n",
    "from ragas.metrics import faithfulness, answer_relevancy, context_precision, context_recall\n",
    "from langchain_community.document_loaders.pdf import PyPDFDirectoryLoader\n",
    "from langchain_community.llms import Ollama\n",
    "from langchain_chroma import Chroma\n",
    "import nest_asyncio\n",
    "from ragas.run_config import RunConfig\n",
    "import tqdm\n",
    "from module import *"
   ]
  },
  {
   "cell_type": "code",
   "execution_count": 3,
   "metadata": {},
   "outputs": [],
   "source": [
    "embbedings = [\n",
    "    \"multilingual_large\",\n",
    "    \"baai_large\",\n",
    "    \"mxbai_large\",\n",
    "    \"baai_small\"\n",
    "]\n",
    "\n",
    "llm = [\n",
    "    \"llama3\",\n",
    "    \"mistral\",\n",
    "    \"phi3\",\n",
    "    \"gemma\"\n",
    "]\n",
    "\n",
    "emb_model = embbedings[2]\n",
    "llm_model = llm[0]"
   ]
  },
  {
   "cell_type": "markdown",
   "metadata": {},
   "source": [
    "## 2. Carga de datos "
   ]
  },
  {
   "cell_type": "code",
   "execution_count": 4,
   "metadata": {},
   "outputs": [
    {
     "name": "stdout",
     "output_type": "stream",
     "text": [
      "Loaded 306 documents\n"
     ]
    }
   ],
   "source": [
    "documents_loader = PyPDFDirectoryLoader(\"./data\")\n",
    "documents = documents_loader.load()\n",
    "print(f\"Loaded {len(documents)} documents\")"
   ]
  },
  {
   "cell_type": "code",
   "execution_count": 5,
   "metadata": {},
   "outputs": [
    {
     "name": "stdout",
     "output_type": "stream",
     "text": [
      "Number of chunks:  1653\n"
     ]
    }
   ],
   "source": [
    "chunks = split_documents(documents, chunk_size=512)\n",
    "print(\"Number of chunks: \", len(chunks))"
   ]
  },
  {
   "cell_type": "markdown",
   "metadata": {},
   "source": [
    "## 3. Creación de la base de datos vectorial"
   ]
  },
  {
   "cell_type": "code",
   "execution_count": 6,
   "metadata": {},
   "outputs": [
    {
     "name": "stderr",
     "output_type": "stream",
     "text": [
      "/opt/environment/lib/python3.10/site-packages/huggingface_hub/file_download.py:1132: FutureWarning: `resume_download` is deprecated and will be removed in version 1.0.0. Downloads always resume when possible. If you want to force a new download, use `force_download=True`.\n",
      "  warnings.warn(\n"
     ]
    }
   ],
   "source": [
    "# Load the existing database.\n",
    "db = Chroma(\n",
    "    collection_name=\"test2\",\n",
    "    persist_directory=\"../database\",\n",
    "    embedding_function=get_embedding_function(emb_model)\n",
    ")"
   ]
  },
  {
   "cell_type": "code",
   "execution_count": 7,
   "metadata": {},
   "outputs": [
    {
     "name": "stdout",
     "output_type": "stream",
     "text": [
      "Number of existing documents in DB: 0\n"
     ]
    }
   ],
   "source": [
    "# Calculate Page IDs.\n",
    "chunks_with_ids = calculate_chunk_ids(chunks)\n",
    "\n",
    "# Add or Update the documents.\n",
    "existing_items = db.get(include=[])  # IDs are always included by default\n",
    "existing_ids = set(existing_items[\"ids\"])\n",
    "print(f\"Number of existing documents in DB: {len(existing_ids)}\")"
   ]
  },
  {
   "cell_type": "code",
   "execution_count": 8,
   "metadata": {},
   "outputs": [],
   "source": [
    "# Only add documents that don't exist in the DB.\n",
    "new_chunks = []\n",
    "for chunk in chunks_with_ids:\n",
    "    if chunk.metadata[\"id\"] not in existing_ids:\n",
    "        new_chunks.append(chunk)"
   ]
  },
  {
   "cell_type": "code",
   "execution_count": 9,
   "metadata": {},
   "outputs": [
    {
     "name": "stdout",
     "output_type": "stream",
     "text": [
      "👉 Adding new documents: 1653\n"
     ]
    },
    {
     "name": "stderr",
     "output_type": "stream",
     "text": [
      "100%|██████████| 1653/1653 [05:32<00:00,  4.97it/s]"
     ]
    },
    {
     "name": "stdout",
     "output_type": "stream",
     "text": [
      "Documents added correctly ✅\n",
      "306 documents added to the database correctly\n"
     ]
    },
    {
     "name": "stderr",
     "output_type": "stream",
     "text": [
      "\n"
     ]
    }
   ],
   "source": [
    "if len(new_chunks):\n",
    "    print(f\"👉 Adding new documents: {len(new_chunks)}\")\n",
    "    with tqdm.tqdm(total=len(new_chunks)) as pbar:\n",
    "        for chunk in new_chunks:\n",
    "            db.add_documents([chunk], ids=[chunk.metadata[\"id\"]])\n",
    "            pbar.update(1)\n",
    "    print(\"Documents added correctly ✅\")\n",
    "else:\n",
    "    print(\"✅ No new documents to add\")\n",
    "\n",
    "print(f\"{len(documents)} documents added to the database correctly\")"
   ]
  },
  {
   "cell_type": "markdown",
   "metadata": {},
   "source": [
    "## 4. Preguntas de interés"
   ]
  },
  {
   "cell_type": "code",
   "execution_count": 10,
   "metadata": {},
   "outputs": [],
   "source": [
    "questions_docs_cat = [\n",
    "    \"Quines són les principals causes de l'augment del PIB de Catalunya el 2022 segons l'informe financer?\",\n",
    "    \"Quins sectors econòmics han tingut una evolució més positiva i quins han patit més durant el 2022?\",\n",
    "    \"Quina és la importància del turisme estranger per a l'economia catalana segons l'informe?\"\n",
    "    \"Com es distribueixen les competències entre l'Estat i la Generalitat de Catalunya segons l'informe financer?\",\n",
    "    \"Com afecta la capacitat fiscal a la distribució de recursos entre comunitats autònomes?\",\n",
    "    \"Quin impacte han tingut les transferències estatals en els ingressos no financers de la Generalitat de Catalunya el 2022?\"\n",
    "]\n",
    "\n",
    "questions_docs_en = [\n",
    "    \"What were Accenture's total revenues and operating margins for the fourth quarter of fiscal 2023?\",\n",
    "    \"What were the new bookings for Accenture in the fourth quarter of fiscal 2023, and how did they compare to the previous year?\",\n",
    "    \"What revenue trends were observed in Accenture's key geographic markets during the fourth quarter of fiscal 2023?\",\n",
    "    \"What changes occurred in NTT Data's total assets and equity between March 31, 2024, and June 30, 2024?\",\n",
    "    \"How did NTT Data's consolidated financial results for the fiscal year ending March 31, 2025, compare to the previous fiscal year?\",\n",
    "    \"What were the trends in NTT Data's cash flows from operating, investing, and financing activities during the three months ended June 30, 2024?\"\n",
    "]\n",
    "\n",
    "questions_docs_es = [\n",
    "    \"¿Cuáles son los principales retos estructurales que enfrenta la economía española según el informe del Banco de España?\",\n",
    "    \"¿Cómo se ha comportado la inflación en España durante 2023 y cuáles son las perspectivas para los próximos años?\",\n",
    "    \"¿Cómo se describe el proceso de envejecimiento poblacional en España y cuáles son sus implicaciones económicas?\",\n",
    "    \"¿Qué impacto ha tenido la volatilidad de los precios del petróleo en los resultados financieros de Repsol?\",\n",
    "    \"¿Cómo ha afectado la transición energética a las estrategias y operaciones de Repsol?\",\n",
    "    \"¿Qué medidas ha implementado Repsol para mejorar su sostenibilidad financiera y operativa?\"\n",
    "]\n",
    "\n",
    "questions = questions_docs_cat + questions_docs_en + questions_docs_es"
   ]
  },
  {
   "cell_type": "code",
   "execution_count": 11,
   "metadata": {},
   "outputs": [],
   "source": [
    "contexts = []\n",
    "\n",
    "for question in questions:\n",
    "    # Get the top 5 most relevant documents\n",
    "    results = db.similarity_search_with_score(question, k=3)\n",
    "\n",
    "    # Make a list of the contexts\n",
    "    question_contexts = []\n",
    "    for doc, _score in results:\n",
    "        question_contexts.append(doc.page_content)\n",
    "\n",
    "    # Append the context sub-list to the list of contexts\n",
    "    contexts.append(question_contexts)"
   ]
  },
  {
   "cell_type": "markdown",
   "metadata": {},
   "source": [
    "Ahora creamos las respuestas esperadas para cada pregunta."
   ]
  },
  {
   "cell_type": "code",
   "execution_count": 12,
   "metadata": {},
   "outputs": [],
   "source": [
    "answers_docs_cat = [\n",
    "    \"L'augment del PIB de Catalunya el 2022, que ha estat del 5,5%, s'atribueix a factors com la recuperació del consum de les llars, l'augment de la inversió en béns d'equipament i construcció, així com un fort increment de les exportacions totals, especialment impulsades pel turisme estranger.\",\n",
    "    \"Els sectors que han tingut una evolució més positiva són els serveis, especialment el comerç, transport i hostaleria, amb un creixement del 7,9%. En canvi, la indústria ha patit una contracció del 2,0%, i el sector agrari ha experimentat una caiguda del 13,9%.\",\n",
    "    \"El turisme estranger ha estat crucial per a l'economia catalana el 2022, amb un total de 14,9 milions de turistes i una despesa de 16.479 milions d'euros, representant el 20,7% del total de turistes estrangers a Espanya.\",\n",
    "    \"Les competències es distribueixen en competències exclusives, compartides i executives, amb la Generalitat exercint un alt nivell d'autonomia en àrees com l'agricultura, cultura, dret civil, i ordenació territorial, entre altres.\",\n",
    "    \"La capacitat fiscal determina que les comunitats autònomes amb menor capacitat rebin transferències positives per equilibrar els recursos necessaris per finançar els serveis públics fonamentals, mentre que aquelles amb major capacitat han de fer aportacions a les altres comunitats.\",\n",
    "    \"Les transferències estatals van tenir un gran impacte el 2021 a causa de la despesa Covid, però el 2022, la seva reducció ha fet que els ingressos no financers tornin a dependre més del model de finançament autonòmic tradicional.\"\n",
    "]\n",
    "\n",
    "answers_docs_en = [\n",
    "    \"Accenture's total revenues for the fourth quarter of fiscal 2023 were $16.0 billion, with a GAAP operating margin of 12.0%. The adjusted operating margin was 14.9%.\",\n",
    "    \"New bookings for Accenture in the fourth quarter of fiscal 2023 were $16.6 billion, a decrease of 10% compared to the previous year.\",\n",
    "    \"During the fourth quarter of fiscal 2023, revenues in North America remained flat in U.S. dollars but increased by 1% in local currency, while Europe saw a 10% increase in U.S. dollars and 7% in local currency, and Growth Markets experienced a 1% increase in U.S. dollars and 6% in local currency.\",\n",
    "    \"Between March 31, 2024, and June 30, 2024, NTT Data's total assets increased from ¥29,604,223 million to ¥29,989,405 million, while total equity rose from ¥10,893,059 million to ¥11,068,578 million.\",\n",
    "    \"NTT Data's consolidated financial results forecast for the fiscal year ending March 31, 2025, includes expected operating revenues of ¥13,460,000 million, a 0.6% increase, and a profit attributable to NTT of ¥1,100,000 million, a 14.0% decrease compared to the previous fiscal year.\",\n",
    "    \"During the three months ended June 30, 2024, NTT Data's cash flows from operating activities decreased by ¥145,742 million compared to the previous year, while cash used in investing activities increased by ¥135,046 million, and cash provided by financing activities increased by ¥193,981 million.\"\n",
    "]\n",
    "\n",
    "answers_docs_es = [\n",
    "    \"Los principales retos estructurales que enfrenta la economía española incluyen impulsar el crecimiento de la productividad, reducir la elevada tasa de paro estructural, incrementar el tamaño empresarial, mejorar la calidad y confianza en las instituciones, reforzar la sostenibilidad de las cuentas públicas, y afrontar los desafíos del envejecimiento poblacional y la transición ecológica.\",\n",
    "    \"Durante 2023, la inflación en España continuó una moderación más intensa de lo esperado, impulsada principalmente por una evolución favorable de los precios de la energía. Se prevé que la inflación siga desacelerándose gradualmente en los próximos trimestres.\",\n",
    "    \"El envejecimiento poblacional en España se caracteriza por una baja tasa de fecundidad y una alta esperanza de vida, lo que supone un desafío para el mercado laboral y las finanzas públicas debido al incremento del gasto en pensiones y sanidad. Se requieren políticas para promover la prolongación de la vida laboral y mejorar la formación continua.\"\n",
    "    \"La volatilidad de los precios del petróleo ha afectado los ingresos de Repsol, aunque la compañía ha logrado mitigar los impactos a través de estrategias de cobertura y diversificación de sus fuentes de ingresos.\",\n",
    "    \"La transición energética ha llevado a Repsol a invertir significativamente en energías renovables y a reorientar sus operaciones hacia fuentes de energía más sostenibles, lo que refleja su compromiso con la reducción de emisiones de carbono.\",\n",
    "    \"Repsol ha implementado medidas como la optimización de su portafolio de activos, la reducción de deuda y la inversión en tecnología para mejorar su sostenibilidad financiera y operativa a largo plazo.\"\n",
    "]\n",
    "\n",
    "\n",
    "answers = answers_docs_cat + answers_docs_en + answers_docs_es"
   ]
  },
  {
   "cell_type": "markdown",
   "metadata": {},
   "source": [
    "Finalmente creamos el DataFrame para evaluar los modelos."
   ]
  },
  {
   "cell_type": "code",
   "execution_count": 13,
   "metadata": {},
   "outputs": [],
   "source": [
    "data_samples = {\n",
    "    'question': questions,\n",
    "    'answer': answers,\n",
    "    'contexts': contexts,\n",
    "    'ground_truth': answers\n",
    "}\n",
    "\n",
    "dataset = Dataset.from_dict(data_samples)"
   ]
  },
  {
   "cell_type": "markdown",
   "metadata": {},
   "source": [
    "## 5. Evaluación de los modelos"
   ]
  },
  {
   "cell_type": "code",
   "execution_count": 14,
   "metadata": {},
   "outputs": [],
   "source": [
    "embeddings = get_embedding_function(emb_model)\n",
    "llm = Ollama(model=llm_model)"
   ]
  },
  {
   "cell_type": "code",
   "execution_count": 15,
   "metadata": {},
   "outputs": [
    {
     "name": "stderr",
     "output_type": "stream",
     "text": [
      "Evaluating: 100%|██████████| 68/68 [07:26<00:00,  6.57s/it]\n"
     ]
    },
    {
     "name": "stdout",
     "output_type": "stream",
     "text": [
      "                                             question  \\\n",
      "0   Quines són les principals causes de l'augment ...   \n",
      "1   Quins sectors econòmics han tingut una evoluci...   \n",
      "2   Quina és la importància del turisme estranger ...   \n",
      "3   Com afecta la capacitat fiscal a la distribuci...   \n",
      "4   Quin impacte han tingut les transferències est...   \n",
      "5   What were Accenture's total revenues and opera...   \n",
      "6   What were the new bookings for Accenture in th...   \n",
      "7   What revenue trends were observed in Accenture...   \n",
      "8   What changes occurred in NTT Data's total asse...   \n",
      "9   How did NTT Data's consolidated financial resu...   \n",
      "10  What were the trends in NTT Data's cash flows ...   \n",
      "11  ¿Cuáles son los principales retos estructurale...   \n",
      "12  ¿Cómo se ha comportado la inflación en España ...   \n",
      "13  ¿Cómo se describe el proceso de envejecimiento...   \n",
      "14  ¿Qué impacto ha tenido la volatilidad de los p...   \n",
      "15  ¿Cómo ha afectado la transición energética a l...   \n",
      "16  ¿Qué medidas ha implementado Repsol para mejor...   \n",
      "\n",
      "                                               answer  \\\n",
      "0   L'augment del PIB de Catalunya el 2022, que ha...   \n",
      "1   Els sectors que han tingut una evolució més po...   \n",
      "2   El turisme estranger ha estat crucial per a l'...   \n",
      "3   Les competències es distribueixen en competènc...   \n",
      "4   La capacitat fiscal determina que les comunita...   \n",
      "5   Les transferències estatals van tenir un gran ...   \n",
      "6   Accenture's total revenues for the fourth quar...   \n",
      "7   New bookings for Accenture in the fourth quart...   \n",
      "8   During the fourth quarter of fiscal 2023, reve...   \n",
      "9   Between March 31, 2024, and June 30, 2024, NTT...   \n",
      "10  NTT Data's consolidated financial results fore...   \n",
      "11  During the three months ended June 30, 2024, N...   \n",
      "12  Los principales retos estructurales que enfren...   \n",
      "13  Durante 2023, la inflación en España continuó ...   \n",
      "14  El envejecimiento poblacional en España se car...   \n",
      "15  La transición energética ha llevado a Repsol a...   \n",
      "16  Repsol ha implementado medidas como la optimiz...   \n",
      "\n",
      "                                             contexts  \\\n",
      "0   [9\\nInforme  fInancer  anual  2022L’any 2022, ...   \n",
      "1   [L’economia catalana ha resistit els xocs geop...   \n",
      "2   [17\\nInforme  fInancer  anual  2022III. La Gen...   \n",
      "3   [1. El finançament per habitant en termes homo...   \n",
      "4   [34\\nInforme  fInancer  anual  2022Estructura ...   \n",
      "5   [Accenture Reports Fourth-Quarter and Strong F...   \n",
      "6   [Days services outstanding, or DSOs, were 42 d...   \n",
      "7   [diluted EPS of $11.41 to $11.76, a 6% to 9% i...   \n",
      "8   [March 31, 2024 29,604,223 10,893,059 9,844,16...   \n",
      "9   [March 31, 2024 29,604,223 10,893,059 9,844,16...   \n",
      "10  [Attributable  to NTT\\nYear Ending\\nMarch  31,...   \n",
      "11  [DIRECCIÓN GENERAL DE ECONOMÍA Y ESTADÍSTICA –...   \n",
      "12  [DIRECCIÓN GENERAL DE ECONOMÍA Y ESTADÍSTICA –...   \n",
      "13  [DIRECCIÓN GENERAL DE ECONOMÍA Y ESTADÍSTICA –...   \n",
      "14  [IV. La cotización de la acción de Repsol dura...   \n",
      "15  [requerirá a las empresas una estrategia de ad...   \n",
      "16  [y (iv) el registro contable de operaciones so...   \n",
      "\n",
      "                                         ground_truth  faithfulness  \\\n",
      "0   L'augment del PIB de Catalunya el 2022, que ha...          0.00   \n",
      "1   Els sectors que han tingut una evolució més po...          0.00   \n",
      "2   El turisme estranger ha estat crucial per a l'...          0.00   \n",
      "3   Les competències es distribueixen en competènc...          0.00   \n",
      "4   La capacitat fiscal determina que les comunita...          0.00   \n",
      "5   Les transferències estatals van tenir un gran ...          0.00   \n",
      "6   Accenture's total revenues for the fourth quar...          1.00   \n",
      "7   New bookings for Accenture in the fourth quart...          0.50   \n",
      "8   During the fourth quarter of fiscal 2023, reve...          0.00   \n",
      "9   Between March 31, 2024, and June 30, 2024, NTT...          0.00   \n",
      "10  NTT Data's consolidated financial results fore...          1.00   \n",
      "11  During the three months ended June 30, 2024, N...          0.00   \n",
      "12  Los principales retos estructurales que enfren...          0.00   \n",
      "13  Durante 2023, la inflación en España continuó ...          0.00   \n",
      "14  El envejecimiento poblacional en España se car...          0.25   \n",
      "15  La transición energética ha llevado a Repsol a...          1.00   \n",
      "16  Repsol ha implementado medidas como la optimiz...          0.00   \n",
      "\n",
      "    answer_relevancy  context_precision  context_recall  \n",
      "0           0.629127           1.000000        0.666667  \n",
      "1           0.664598           0.833333        1.000000  \n",
      "2           0.656891           0.000000        1.000000  \n",
      "3           0.513100           1.000000        0.833333  \n",
      "4           0.571351           0.833333        0.200000  \n",
      "5           0.390350           1.000000        0.875000  \n",
      "6           0.862955           1.000000        1.000000  \n",
      "7           0.831821           1.000000        0.800000  \n",
      "8           0.532192           0.000000        0.000000  \n",
      "9           0.792183           0.000000        0.000000  \n",
      "10          0.732859           1.000000        0.750000  \n",
      "11          0.368438           0.000000        0.000000  \n",
      "12          0.635506           0.000000        0.800000  \n",
      "13          0.791750           0.833333        0.800000  \n",
      "14          0.453275           1.000000        1.000000  \n",
      "15          0.823613           1.000000        1.000000  \n",
      "16          0.796524           1.000000        0.000000  \n"
     ]
    }
   ],
   "source": [
    "nest_asyncio.apply()\n",
    "\n",
    "try:\n",
    "    score = evaluate(\n",
    "        dataset,\n",
    "        metrics=[faithfulness, answer_relevancy, context_precision, context_recall],\n",
    "        llm=llm,\n",
    "        embeddings=embeddings,\n",
    "        raise_exceptions=False,\n",
    "        run_config=RunConfig(\n",
    "            max_retries=30, # Default is 10\n",
    "            max_wait=180, # Default is 60\n",
    "            #max_workers=64 # Default is 16\n",
    "        )\n",
    "    )\n",
    "except Exception as e:\n",
    "    print(f\"An error ocurred: {e}\")\n",
    "\n",
    "df_score = score.to_pandas()\n",
    "print(df_score)"
   ]
  },
  {
   "cell_type": "code",
   "execution_count": 16,
   "metadata": {},
   "outputs": [
    {
     "data": {
      "text/html": [
       "<div>\n",
       "<style scoped>\n",
       "    .dataframe tbody tr th:only-of-type {\n",
       "        vertical-align: middle;\n",
       "    }\n",
       "\n",
       "    .dataframe tbody tr th {\n",
       "        vertical-align: top;\n",
       "    }\n",
       "\n",
       "    .dataframe thead th {\n",
       "        text-align: right;\n",
       "    }\n",
       "</style>\n",
       "<table border=\"1\" class=\"dataframe\">\n",
       "  <thead>\n",
       "    <tr style=\"text-align: right;\">\n",
       "      <th></th>\n",
       "      <th>question</th>\n",
       "      <th>answer</th>\n",
       "      <th>contexts</th>\n",
       "      <th>ground_truth</th>\n",
       "      <th>faithfulness</th>\n",
       "      <th>answer_relevancy</th>\n",
       "      <th>context_precision</th>\n",
       "      <th>context_recall</th>\n",
       "    </tr>\n",
       "  </thead>\n",
       "  <tbody>\n",
       "    <tr>\n",
       "      <th>0</th>\n",
       "      <td>Quines són les principals causes de l'augment ...</td>\n",
       "      <td>L'augment del PIB de Catalunya el 2022, que ha...</td>\n",
       "      <td>[9\\nInforme  fInancer  anual  2022L’any 2022, ...</td>\n",
       "      <td>L'augment del PIB de Catalunya el 2022, que ha...</td>\n",
       "      <td>0.0</td>\n",
       "      <td>0.629127</td>\n",
       "      <td>1.000000</td>\n",
       "      <td>0.666667</td>\n",
       "    </tr>\n",
       "    <tr>\n",
       "      <th>1</th>\n",
       "      <td>Quins sectors econòmics han tingut una evoluci...</td>\n",
       "      <td>Els sectors que han tingut una evolució més po...</td>\n",
       "      <td>[L’economia catalana ha resistit els xocs geop...</td>\n",
       "      <td>Els sectors que han tingut una evolució més po...</td>\n",
       "      <td>0.0</td>\n",
       "      <td>0.664598</td>\n",
       "      <td>0.833333</td>\n",
       "      <td>1.000000</td>\n",
       "    </tr>\n",
       "    <tr>\n",
       "      <th>2</th>\n",
       "      <td>Quina és la importància del turisme estranger ...</td>\n",
       "      <td>El turisme estranger ha estat crucial per a l'...</td>\n",
       "      <td>[17\\nInforme  fInancer  anual  2022III. La Gen...</td>\n",
       "      <td>El turisme estranger ha estat crucial per a l'...</td>\n",
       "      <td>0.0</td>\n",
       "      <td>0.656891</td>\n",
       "      <td>0.000000</td>\n",
       "      <td>1.000000</td>\n",
       "    </tr>\n",
       "    <tr>\n",
       "      <th>3</th>\n",
       "      <td>Com afecta la capacitat fiscal a la distribuci...</td>\n",
       "      <td>Les competències es distribueixen en competènc...</td>\n",
       "      <td>[1. El finançament per habitant en termes homo...</td>\n",
       "      <td>Les competències es distribueixen en competènc...</td>\n",
       "      <td>0.0</td>\n",
       "      <td>0.513100</td>\n",
       "      <td>1.000000</td>\n",
       "      <td>0.833333</td>\n",
       "    </tr>\n",
       "    <tr>\n",
       "      <th>4</th>\n",
       "      <td>Quin impacte han tingut les transferències est...</td>\n",
       "      <td>La capacitat fiscal determina que les comunita...</td>\n",
       "      <td>[34\\nInforme  fInancer  anual  2022Estructura ...</td>\n",
       "      <td>La capacitat fiscal determina que les comunita...</td>\n",
       "      <td>0.0</td>\n",
       "      <td>0.571351</td>\n",
       "      <td>0.833333</td>\n",
       "      <td>0.200000</td>\n",
       "    </tr>\n",
       "    <tr>\n",
       "      <th>5</th>\n",
       "      <td>What were Accenture's total revenues and opera...</td>\n",
       "      <td>Les transferències estatals van tenir un gran ...</td>\n",
       "      <td>[Accenture Reports Fourth-Quarter and Strong F...</td>\n",
       "      <td>Les transferències estatals van tenir un gran ...</td>\n",
       "      <td>0.0</td>\n",
       "      <td>0.390350</td>\n",
       "      <td>1.000000</td>\n",
       "      <td>0.875000</td>\n",
       "    </tr>\n",
       "    <tr>\n",
       "      <th>6</th>\n",
       "      <td>What were the new bookings for Accenture in th...</td>\n",
       "      <td>Accenture's total revenues for the fourth quar...</td>\n",
       "      <td>[Days services outstanding, or DSOs, were 42 d...</td>\n",
       "      <td>Accenture's total revenues for the fourth quar...</td>\n",
       "      <td>1.0</td>\n",
       "      <td>0.862955</td>\n",
       "      <td>1.000000</td>\n",
       "      <td>1.000000</td>\n",
       "    </tr>\n",
       "    <tr>\n",
       "      <th>7</th>\n",
       "      <td>What revenue trends were observed in Accenture...</td>\n",
       "      <td>New bookings for Accenture in the fourth quart...</td>\n",
       "      <td>[diluted EPS of $11.41 to $11.76, a 6% to 9% i...</td>\n",
       "      <td>New bookings for Accenture in the fourth quart...</td>\n",
       "      <td>0.5</td>\n",
       "      <td>0.831821</td>\n",
       "      <td>1.000000</td>\n",
       "      <td>0.800000</td>\n",
       "    </tr>\n",
       "    <tr>\n",
       "      <th>8</th>\n",
       "      <td>What changes occurred in NTT Data's total asse...</td>\n",
       "      <td>During the fourth quarter of fiscal 2023, reve...</td>\n",
       "      <td>[March 31, 2024 29,604,223 10,893,059 9,844,16...</td>\n",
       "      <td>During the fourth quarter of fiscal 2023, reve...</td>\n",
       "      <td>0.0</td>\n",
       "      <td>0.532192</td>\n",
       "      <td>0.000000</td>\n",
       "      <td>0.000000</td>\n",
       "    </tr>\n",
       "    <tr>\n",
       "      <th>9</th>\n",
       "      <td>How did NTT Data's consolidated financial resu...</td>\n",
       "      <td>Between March 31, 2024, and June 30, 2024, NTT...</td>\n",
       "      <td>[March 31, 2024 29,604,223 10,893,059 9,844,16...</td>\n",
       "      <td>Between March 31, 2024, and June 30, 2024, NTT...</td>\n",
       "      <td>0.0</td>\n",
       "      <td>0.792183</td>\n",
       "      <td>0.000000</td>\n",
       "      <td>0.000000</td>\n",
       "    </tr>\n",
       "  </tbody>\n",
       "</table>\n",
       "</div>"
      ],
      "text/plain": [
       "                                            question  \\\n",
       "0  Quines són les principals causes de l'augment ...   \n",
       "1  Quins sectors econòmics han tingut una evoluci...   \n",
       "2  Quina és la importància del turisme estranger ...   \n",
       "3  Com afecta la capacitat fiscal a la distribuci...   \n",
       "4  Quin impacte han tingut les transferències est...   \n",
       "5  What were Accenture's total revenues and opera...   \n",
       "6  What were the new bookings for Accenture in th...   \n",
       "7  What revenue trends were observed in Accenture...   \n",
       "8  What changes occurred in NTT Data's total asse...   \n",
       "9  How did NTT Data's consolidated financial resu...   \n",
       "\n",
       "                                              answer  \\\n",
       "0  L'augment del PIB de Catalunya el 2022, que ha...   \n",
       "1  Els sectors que han tingut una evolució més po...   \n",
       "2  El turisme estranger ha estat crucial per a l'...   \n",
       "3  Les competències es distribueixen en competènc...   \n",
       "4  La capacitat fiscal determina que les comunita...   \n",
       "5  Les transferències estatals van tenir un gran ...   \n",
       "6  Accenture's total revenues for the fourth quar...   \n",
       "7  New bookings for Accenture in the fourth quart...   \n",
       "8  During the fourth quarter of fiscal 2023, reve...   \n",
       "9  Between March 31, 2024, and June 30, 2024, NTT...   \n",
       "\n",
       "                                            contexts  \\\n",
       "0  [9\\nInforme  fInancer  anual  2022L’any 2022, ...   \n",
       "1  [L’economia catalana ha resistit els xocs geop...   \n",
       "2  [17\\nInforme  fInancer  anual  2022III. La Gen...   \n",
       "3  [1. El finançament per habitant en termes homo...   \n",
       "4  [34\\nInforme  fInancer  anual  2022Estructura ...   \n",
       "5  [Accenture Reports Fourth-Quarter and Strong F...   \n",
       "6  [Days services outstanding, or DSOs, were 42 d...   \n",
       "7  [diluted EPS of $11.41 to $11.76, a 6% to 9% i...   \n",
       "8  [March 31, 2024 29,604,223 10,893,059 9,844,16...   \n",
       "9  [March 31, 2024 29,604,223 10,893,059 9,844,16...   \n",
       "\n",
       "                                        ground_truth  faithfulness  \\\n",
       "0  L'augment del PIB de Catalunya el 2022, que ha...           0.0   \n",
       "1  Els sectors que han tingut una evolució més po...           0.0   \n",
       "2  El turisme estranger ha estat crucial per a l'...           0.0   \n",
       "3  Les competències es distribueixen en competènc...           0.0   \n",
       "4  La capacitat fiscal determina que les comunita...           0.0   \n",
       "5  Les transferències estatals van tenir un gran ...           0.0   \n",
       "6  Accenture's total revenues for the fourth quar...           1.0   \n",
       "7  New bookings for Accenture in the fourth quart...           0.5   \n",
       "8  During the fourth quarter of fiscal 2023, reve...           0.0   \n",
       "9  Between March 31, 2024, and June 30, 2024, NTT...           0.0   \n",
       "\n",
       "   answer_relevancy  context_precision  context_recall  \n",
       "0          0.629127           1.000000        0.666667  \n",
       "1          0.664598           0.833333        1.000000  \n",
       "2          0.656891           0.000000        1.000000  \n",
       "3          0.513100           1.000000        0.833333  \n",
       "4          0.571351           0.833333        0.200000  \n",
       "5          0.390350           1.000000        0.875000  \n",
       "6          0.862955           1.000000        1.000000  \n",
       "7          0.831821           1.000000        0.800000  \n",
       "8          0.532192           0.000000        0.000000  \n",
       "9          0.792183           0.000000        0.000000  "
      ]
     },
     "execution_count": 16,
     "metadata": {},
     "output_type": "execute_result"
    }
   ],
   "source": [
    "df_score.head(10)"
   ]
  },
  {
   "cell_type": "code",
   "execution_count": 17,
   "metadata": {},
   "outputs": [],
   "source": [
    "df_score.to_csv(f\"./test2_{llm_model}_{emb_model}.csv\", index=False)"
   ]
  },
  {
   "cell_type": "code",
   "execution_count": null,
   "metadata": {},
   "outputs": [],
   "source": []
  }
 ],
 "metadata": {
  "kernelspec": {
   "display_name": "Python 3 (ipykernel)",
   "language": "python",
   "name": "python3"
  },
  "language_info": {
   "codemirror_mode": {
    "name": "ipython",
    "version": 3
   },
   "file_extension": ".py",
   "mimetype": "text/x-python",
   "name": "python",
   "nbconvert_exporter": "python",
   "pygments_lexer": "ipython3",
   "version": "3.10.12"
  }
 },
 "nbformat": 4,
 "nbformat_minor": 4
}
