{
 "cells": [
  {
   "cell_type": "markdown",
   "metadata": {},
   "source": [
    "# Análisis de los diferentes modelos"
   ]
  },
  {
   "cell_type": "markdown",
   "metadata": {},
   "source": [
    "## 1. Importación de librerías y modulos"
   ]
  },
  {
   "cell_type": "code",
   "execution_count": 13,
   "metadata": {},
   "outputs": [
    {
     "name": "stdout",
     "output_type": "stream",
     "text": [
      "Requirement already satisfied: ragas in c:\\users\\luisb\\documents\\github\\documentquestionanswering\\.venv\\lib\\site-packages (0.1.13)\n",
      "Requirement already satisfied: numpy in c:\\users\\luisb\\documents\\github\\documentquestionanswering\\.venv\\lib\\site-packages (from ragas) (1.26.4)\n",
      "Requirement already satisfied: datasets in c:\\users\\luisb\\documents\\github\\documentquestionanswering\\.venv\\lib\\site-packages (from ragas) (2.20.0)\n",
      "Requirement already satisfied: tiktoken in c:\\users\\luisb\\documents\\github\\documentquestionanswering\\.venv\\lib\\site-packages (from ragas) (0.7.0)\n",
      "Requirement already satisfied: langchain in c:\\users\\luisb\\documents\\github\\documentquestionanswering\\.venv\\lib\\site-packages (from ragas) (0.2.12)\n",
      "Requirement already satisfied: langchain-core in c:\\users\\luisb\\documents\\github\\documentquestionanswering\\.venv\\lib\\site-packages (from ragas) (0.2.29)\n",
      "Requirement already satisfied: langchain-community in c:\\users\\luisb\\documents\\github\\documentquestionanswering\\.venv\\lib\\site-packages (from ragas) (0.2.11)\n",
      "Requirement already satisfied: langchain-openai in c:\\users\\luisb\\documents\\github\\documentquestionanswering\\.venv\\lib\\site-packages (from ragas) (0.1.21)\n",
      "Requirement already satisfied: openai>1 in c:\\users\\luisb\\documents\\github\\documentquestionanswering\\.venv\\lib\\site-packages (from ragas) (1.40.3)\n",
      "Requirement already satisfied: pysbd>=0.3.4 in c:\\users\\luisb\\documents\\github\\documentquestionanswering\\.venv\\lib\\site-packages (from ragas) (0.3.4)\n",
      "Requirement already satisfied: nest-asyncio in c:\\users\\luisb\\documents\\github\\documentquestionanswering\\.venv\\lib\\site-packages (from ragas) (1.6.0)\n",
      "Requirement already satisfied: appdirs in c:\\users\\luisb\\documents\\github\\documentquestionanswering\\.venv\\lib\\site-packages (from ragas) (1.4.4)\n",
      "Requirement already satisfied: anyio<5,>=3.5.0 in c:\\users\\luisb\\documents\\github\\documentquestionanswering\\.venv\\lib\\site-packages (from openai>1->ragas) (4.4.0)\n",
      "Requirement already satisfied: distro<2,>=1.7.0 in c:\\users\\luisb\\documents\\github\\documentquestionanswering\\.venv\\lib\\site-packages (from openai>1->ragas) (1.9.0)\n",
      "Requirement already satisfied: httpx<1,>=0.23.0 in c:\\users\\luisb\\documents\\github\\documentquestionanswering\\.venv\\lib\\site-packages (from openai>1->ragas) (0.27.0)\n",
      "Requirement already satisfied: jiter<1,>=0.4.0 in c:\\users\\luisb\\documents\\github\\documentquestionanswering\\.venv\\lib\\site-packages (from openai>1->ragas) (0.5.0)\n",
      "Requirement already satisfied: pydantic<3,>=1.9.0 in c:\\users\\luisb\\documents\\github\\documentquestionanswering\\.venv\\lib\\site-packages (from openai>1->ragas) (2.8.2)\n",
      "Requirement already satisfied: sniffio in c:\\users\\luisb\\documents\\github\\documentquestionanswering\\.venv\\lib\\site-packages (from openai>1->ragas) (1.3.1)\n",
      "Requirement already satisfied: tqdm>4 in c:\\users\\luisb\\documents\\github\\documentquestionanswering\\.venv\\lib\\site-packages (from openai>1->ragas) (4.66.5)\n",
      "Requirement already satisfied: typing-extensions<5,>=4.11 in c:\\users\\luisb\\documents\\github\\documentquestionanswering\\.venv\\lib\\site-packages (from openai>1->ragas) (4.12.2)\n",
      "Requirement already satisfied: filelock in c:\\users\\luisb\\documents\\github\\documentquestionanswering\\.venv\\lib\\site-packages (from datasets->ragas) (3.15.4)\n",
      "Requirement already satisfied: pyarrow>=15.0.0 in c:\\users\\luisb\\documents\\github\\documentquestionanswering\\.venv\\lib\\site-packages (from datasets->ragas) (17.0.0)\n",
      "Requirement already satisfied: pyarrow-hotfix in c:\\users\\luisb\\documents\\github\\documentquestionanswering\\.venv\\lib\\site-packages (from datasets->ragas) (0.6)\n",
      "Requirement already satisfied: dill<0.3.9,>=0.3.0 in c:\\users\\luisb\\documents\\github\\documentquestionanswering\\.venv\\lib\\site-packages (from datasets->ragas) (0.3.8)\n",
      "Requirement already satisfied: pandas in c:\\users\\luisb\\documents\\github\\documentquestionanswering\\.venv\\lib\\site-packages (from datasets->ragas) (2.2.2)\n",
      "Requirement already satisfied: requests>=2.32.2 in c:\\users\\luisb\\documents\\github\\documentquestionanswering\\.venv\\lib\\site-packages (from datasets->ragas) (2.32.3)\n",
      "Requirement already satisfied: xxhash in c:\\users\\luisb\\documents\\github\\documentquestionanswering\\.venv\\lib\\site-packages (from datasets->ragas) (3.4.1)\n",
      "Requirement already satisfied: multiprocess in c:\\users\\luisb\\documents\\github\\documentquestionanswering\\.venv\\lib\\site-packages (from datasets->ragas) (0.70.16)\n",
      "Requirement already satisfied: fsspec<=2024.5.0,>=2023.1.0 in c:\\users\\luisb\\documents\\github\\documentquestionanswering\\.venv\\lib\\site-packages (from fsspec[http]<=2024.5.0,>=2023.1.0->datasets->ragas) (2024.5.0)\n",
      "Requirement already satisfied: aiohttp in c:\\users\\luisb\\documents\\github\\documentquestionanswering\\.venv\\lib\\site-packages (from datasets->ragas) (3.10.3)\n",
      "Requirement already satisfied: huggingface-hub>=0.21.2 in c:\\users\\luisb\\documents\\github\\documentquestionanswering\\.venv\\lib\\site-packages (from datasets->ragas) (0.24.5)\n",
      "Requirement already satisfied: packaging in c:\\users\\luisb\\documents\\github\\documentquestionanswering\\.venv\\lib\\site-packages (from datasets->ragas) (24.1)\n",
      "Requirement already satisfied: pyyaml>=5.1 in c:\\users\\luisb\\documents\\github\\documentquestionanswering\\.venv\\lib\\site-packages (from datasets->ragas) (6.0.2)\n",
      "Requirement already satisfied: SQLAlchemy<3,>=1.4 in c:\\users\\luisb\\documents\\github\\documentquestionanswering\\.venv\\lib\\site-packages (from langchain->ragas) (2.0.32)\n",
      "Requirement already satisfied: langchain-text-splitters<0.3.0,>=0.2.0 in c:\\users\\luisb\\documents\\github\\documentquestionanswering\\.venv\\lib\\site-packages (from langchain->ragas) (0.2.2)\n",
      "Requirement already satisfied: langsmith<0.2.0,>=0.1.17 in c:\\users\\luisb\\documents\\github\\documentquestionanswering\\.venv\\lib\\site-packages (from langchain->ragas) (0.1.98)\n",
      "Requirement already satisfied: tenacity!=8.4.0,<9.0.0,>=8.1.0 in c:\\users\\luisb\\documents\\github\\documentquestionanswering\\.venv\\lib\\site-packages (from langchain->ragas) (8.5.0)\n",
      "Requirement already satisfied: jsonpatch<2.0,>=1.33 in c:\\users\\luisb\\documents\\github\\documentquestionanswering\\.venv\\lib\\site-packages (from langchain-core->ragas) (1.33)\n",
      "Requirement already satisfied: dataclasses-json<0.7,>=0.5.7 in c:\\users\\luisb\\documents\\github\\documentquestionanswering\\.venv\\lib\\site-packages (from langchain-community->ragas) (0.6.7)\n",
      "Requirement already satisfied: regex>=2022.1.18 in c:\\users\\luisb\\documents\\github\\documentquestionanswering\\.venv\\lib\\site-packages (from tiktoken->ragas) (2024.7.24)\n",
      "Requirement already satisfied: aiohappyeyeballs>=2.3.0 in c:\\users\\luisb\\documents\\github\\documentquestionanswering\\.venv\\lib\\site-packages (from aiohttp->datasets->ragas) (2.3.5)\n",
      "Requirement already satisfied: aiosignal>=1.1.2 in c:\\users\\luisb\\documents\\github\\documentquestionanswering\\.venv\\lib\\site-packages (from aiohttp->datasets->ragas) (1.3.1)\n",
      "Requirement already satisfied: attrs>=17.3.0 in c:\\users\\luisb\\documents\\github\\documentquestionanswering\\.venv\\lib\\site-packages (from aiohttp->datasets->ragas) (24.2.0)\n",
      "Requirement already satisfied: frozenlist>=1.1.1 in c:\\users\\luisb\\documents\\github\\documentquestionanswering\\.venv\\lib\\site-packages (from aiohttp->datasets->ragas) (1.4.1)\n",
      "Requirement already satisfied: multidict<7.0,>=4.5 in c:\\users\\luisb\\documents\\github\\documentquestionanswering\\.venv\\lib\\site-packages (from aiohttp->datasets->ragas) (6.0.5)\n",
      "Requirement already satisfied: yarl<2.0,>=1.0 in c:\\users\\luisb\\documents\\github\\documentquestionanswering\\.venv\\lib\\site-packages (from aiohttp->datasets->ragas) (1.9.4)\n",
      "Requirement already satisfied: idna>=2.8 in c:\\users\\luisb\\documents\\github\\documentquestionanswering\\.venv\\lib\\site-packages (from anyio<5,>=3.5.0->openai>1->ragas) (3.7)\n",
      "Requirement already satisfied: marshmallow<4.0.0,>=3.18.0 in c:\\users\\luisb\\documents\\github\\documentquestionanswering\\.venv\\lib\\site-packages (from dataclasses-json<0.7,>=0.5.7->langchain-community->ragas) (3.21.3)\n",
      "Requirement already satisfied: typing-inspect<1,>=0.4.0 in c:\\users\\luisb\\documents\\github\\documentquestionanswering\\.venv\\lib\\site-packages (from dataclasses-json<0.7,>=0.5.7->langchain-community->ragas) (0.9.0)\n",
      "Requirement already satisfied: certifi in c:\\users\\luisb\\documents\\github\\documentquestionanswering\\.venv\\lib\\site-packages (from httpx<1,>=0.23.0->openai>1->ragas) (2024.7.4)\n",
      "Requirement already satisfied: httpcore==1.* in c:\\users\\luisb\\documents\\github\\documentquestionanswering\\.venv\\lib\\site-packages (from httpx<1,>=0.23.0->openai>1->ragas) (1.0.5)\n",
      "Requirement already satisfied: h11<0.15,>=0.13 in c:\\users\\luisb\\documents\\github\\documentquestionanswering\\.venv\\lib\\site-packages (from httpcore==1.*->httpx<1,>=0.23.0->openai>1->ragas) (0.14.0)\n",
      "Requirement already satisfied: jsonpointer>=1.9 in c:\\users\\luisb\\documents\\github\\documentquestionanswering\\.venv\\lib\\site-packages (from jsonpatch<2.0,>=1.33->langchain-core->ragas) (3.0.0)\n",
      "Requirement already satisfied: orjson<4.0.0,>=3.9.14 in c:\\users\\luisb\\documents\\github\\documentquestionanswering\\.venv\\lib\\site-packages (from langsmith<0.2.0,>=0.1.17->langchain->ragas) (3.10.7)\n",
      "Requirement already satisfied: annotated-types>=0.4.0 in c:\\users\\luisb\\documents\\github\\documentquestionanswering\\.venv\\lib\\site-packages (from pydantic<3,>=1.9.0->openai>1->ragas) (0.7.0)\n",
      "Requirement already satisfied: pydantic-core==2.20.1 in c:\\users\\luisb\\documents\\github\\documentquestionanswering\\.venv\\lib\\site-packages (from pydantic<3,>=1.9.0->openai>1->ragas) (2.20.1)\n",
      "Requirement already satisfied: charset-normalizer<4,>=2 in c:\\users\\luisb\\documents\\github\\documentquestionanswering\\.venv\\lib\\site-packages (from requests>=2.32.2->datasets->ragas) (3.3.2)\n",
      "Requirement already satisfied: urllib3<3,>=1.21.1 in c:\\users\\luisb\\documents\\github\\documentquestionanswering\\.venv\\lib\\site-packages (from requests>=2.32.2->datasets->ragas) (1.26.19)\n",
      "Requirement already satisfied: greenlet!=0.4.17 in c:\\users\\luisb\\documents\\github\\documentquestionanswering\\.venv\\lib\\site-packages (from SQLAlchemy<3,>=1.4->langchain->ragas) (3.0.3)\n",
      "Requirement already satisfied: colorama in c:\\users\\luisb\\documents\\github\\documentquestionanswering\\.venv\\lib\\site-packages (from tqdm>4->openai>1->ragas) (0.4.6)\n",
      "Requirement already satisfied: python-dateutil>=2.8.2 in c:\\users\\luisb\\documents\\github\\documentquestionanswering\\.venv\\lib\\site-packages (from pandas->datasets->ragas) (2.9.0.post0)\n",
      "Requirement already satisfied: pytz>=2020.1 in c:\\users\\luisb\\documents\\github\\documentquestionanswering\\.venv\\lib\\site-packages (from pandas->datasets->ragas) (2024.1)\n",
      "Requirement already satisfied: tzdata>=2022.7 in c:\\users\\luisb\\documents\\github\\documentquestionanswering\\.venv\\lib\\site-packages (from pandas->datasets->ragas) (2024.1)\n",
      "Requirement already satisfied: six>=1.5 in c:\\users\\luisb\\documents\\github\\documentquestionanswering\\.venv\\lib\\site-packages (from python-dateutil>=2.8.2->pandas->datasets->ragas) (1.16.0)\n",
      "Requirement already satisfied: mypy-extensions>=0.3.0 in c:\\users\\luisb\\documents\\github\\documentquestionanswering\\.venv\\lib\\site-packages (from typing-inspect<1,>=0.4.0->dataclasses-json<0.7,>=0.5.7->langchain-community->ragas) (1.0.0)\n"
     ]
    }
   ],
   "source": [
    "#%pip install -r requirements.txt\n",
    "!pip install ragas"
   ]
  },
  {
   "cell_type": "code",
   "execution_count": 14,
   "metadata": {},
   "outputs": [
    {
     "name": "stdout",
     "output_type": "stream",
     "text": [
      "Requirement already satisfied: langchain-huggingface in c:\\users\\luisb\\documents\\github\\documentquestionanswering\\.venv\\lib\\site-packages (0.0.3)\n",
      "Requirement already satisfied: huggingface-hub>=0.23.0 in c:\\users\\luisb\\documents\\github\\documentquestionanswering\\.venv\\lib\\site-packages (from langchain-huggingface) (0.24.5)\n",
      "Requirement already satisfied: langchain-core<0.3,>=0.1.52 in c:\\users\\luisb\\documents\\github\\documentquestionanswering\\.venv\\lib\\site-packages (from langchain-huggingface) (0.2.29)\n",
      "Requirement already satisfied: sentence-transformers>=2.6.0 in c:\\users\\luisb\\documents\\github\\documentquestionanswering\\.venv\\lib\\site-packages (from langchain-huggingface) (3.0.1)\n",
      "Requirement already satisfied: tokenizers>=0.19.1 in c:\\users\\luisb\\documents\\github\\documentquestionanswering\\.venv\\lib\\site-packages (from langchain-huggingface) (0.19.1)\n",
      "Requirement already satisfied: transformers>=4.39.0 in c:\\users\\luisb\\documents\\github\\documentquestionanswering\\.venv\\lib\\site-packages (from langchain-huggingface) (4.44.0)\n",
      "Requirement already satisfied: filelock in c:\\users\\luisb\\documents\\github\\documentquestionanswering\\.venv\\lib\\site-packages (from huggingface-hub>=0.23.0->langchain-huggingface) (3.15.4)\n",
      "Requirement already satisfied: fsspec>=2023.5.0 in c:\\users\\luisb\\documents\\github\\documentquestionanswering\\.venv\\lib\\site-packages (from huggingface-hub>=0.23.0->langchain-huggingface) (2024.5.0)\n",
      "Requirement already satisfied: packaging>=20.9 in c:\\users\\luisb\\documents\\github\\documentquestionanswering\\.venv\\lib\\site-packages (from huggingface-hub>=0.23.0->langchain-huggingface) (24.1)\n",
      "Requirement already satisfied: pyyaml>=5.1 in c:\\users\\luisb\\documents\\github\\documentquestionanswering\\.venv\\lib\\site-packages (from huggingface-hub>=0.23.0->langchain-huggingface) (6.0.2)\n",
      "Requirement already satisfied: requests in c:\\users\\luisb\\documents\\github\\documentquestionanswering\\.venv\\lib\\site-packages (from huggingface-hub>=0.23.0->langchain-huggingface) (2.32.3)\n",
      "Requirement already satisfied: tqdm>=4.42.1 in c:\\users\\luisb\\documents\\github\\documentquestionanswering\\.venv\\lib\\site-packages (from huggingface-hub>=0.23.0->langchain-huggingface) (4.66.5)\n",
      "Requirement already satisfied: typing-extensions>=3.7.4.3 in c:\\users\\luisb\\documents\\github\\documentquestionanswering\\.venv\\lib\\site-packages (from huggingface-hub>=0.23.0->langchain-huggingface) (4.12.2)\n",
      "Requirement already satisfied: jsonpatch<2.0,>=1.33 in c:\\users\\luisb\\documents\\github\\documentquestionanswering\\.venv\\lib\\site-packages (from langchain-core<0.3,>=0.1.52->langchain-huggingface) (1.33)\n",
      "Requirement already satisfied: langsmith<0.2.0,>=0.1.75 in c:\\users\\luisb\\documents\\github\\documentquestionanswering\\.venv\\lib\\site-packages (from langchain-core<0.3,>=0.1.52->langchain-huggingface) (0.1.98)\n",
      "Requirement already satisfied: pydantic<3.0.0,>=2.7.4 in c:\\users\\luisb\\documents\\github\\documentquestionanswering\\.venv\\lib\\site-packages (from langchain-core<0.3,>=0.1.52->langchain-huggingface) (2.8.2)\n",
      "Requirement already satisfied: tenacity!=8.4.0,<9.0.0,>=8.1.0 in c:\\users\\luisb\\documents\\github\\documentquestionanswering\\.venv\\lib\\site-packages (from langchain-core<0.3,>=0.1.52->langchain-huggingface) (8.5.0)\n",
      "Requirement already satisfied: torch>=1.11.0 in c:\\users\\luisb\\documents\\github\\documentquestionanswering\\.venv\\lib\\site-packages (from sentence-transformers>=2.6.0->langchain-huggingface) (2.4.0)\n",
      "Requirement already satisfied: numpy in c:\\users\\luisb\\documents\\github\\documentquestionanswering\\.venv\\lib\\site-packages (from sentence-transformers>=2.6.0->langchain-huggingface) (1.26.4)\n",
      "Requirement already satisfied: scikit-learn in c:\\users\\luisb\\documents\\github\\documentquestionanswering\\.venv\\lib\\site-packages (from sentence-transformers>=2.6.0->langchain-huggingface) (1.5.1)\n",
      "Requirement already satisfied: scipy in c:\\users\\luisb\\documents\\github\\documentquestionanswering\\.venv\\lib\\site-packages (from sentence-transformers>=2.6.0->langchain-huggingface) (1.14.0)\n",
      "Requirement already satisfied: Pillow in c:\\users\\luisb\\documents\\github\\documentquestionanswering\\.venv\\lib\\site-packages (from sentence-transformers>=2.6.0->langchain-huggingface) (10.4.0)\n",
      "Requirement already satisfied: regex!=2019.12.17 in c:\\users\\luisb\\documents\\github\\documentquestionanswering\\.venv\\lib\\site-packages (from transformers>=4.39.0->langchain-huggingface) (2024.7.24)\n",
      "Requirement already satisfied: safetensors>=0.4.1 in c:\\users\\luisb\\documents\\github\\documentquestionanswering\\.venv\\lib\\site-packages (from transformers>=4.39.0->langchain-huggingface) (0.4.4)\n",
      "Requirement already satisfied: jsonpointer>=1.9 in c:\\users\\luisb\\documents\\github\\documentquestionanswering\\.venv\\lib\\site-packages (from jsonpatch<2.0,>=1.33->langchain-core<0.3,>=0.1.52->langchain-huggingface) (3.0.0)\n",
      "Requirement already satisfied: orjson<4.0.0,>=3.9.14 in c:\\users\\luisb\\documents\\github\\documentquestionanswering\\.venv\\lib\\site-packages (from langsmith<0.2.0,>=0.1.75->langchain-core<0.3,>=0.1.52->langchain-huggingface) (3.10.7)\n",
      "Requirement already satisfied: annotated-types>=0.4.0 in c:\\users\\luisb\\documents\\github\\documentquestionanswering\\.venv\\lib\\site-packages (from pydantic<3.0.0,>=2.7.4->langchain-core<0.3,>=0.1.52->langchain-huggingface) (0.7.0)\n",
      "Requirement already satisfied: pydantic-core==2.20.1 in c:\\users\\luisb\\documents\\github\\documentquestionanswering\\.venv\\lib\\site-packages (from pydantic<3.0.0,>=2.7.4->langchain-core<0.3,>=0.1.52->langchain-huggingface) (2.20.1)\n",
      "Requirement already satisfied: charset-normalizer<4,>=2 in c:\\users\\luisb\\documents\\github\\documentquestionanswering\\.venv\\lib\\site-packages (from requests->huggingface-hub>=0.23.0->langchain-huggingface) (3.3.2)\n",
      "Requirement already satisfied: idna<4,>=2.5 in c:\\users\\luisb\\documents\\github\\documentquestionanswering\\.venv\\lib\\site-packages (from requests->huggingface-hub>=0.23.0->langchain-huggingface) (3.7)\n",
      "Requirement already satisfied: urllib3<3,>=1.21.1 in c:\\users\\luisb\\documents\\github\\documentquestionanswering\\.venv\\lib\\site-packages (from requests->huggingface-hub>=0.23.0->langchain-huggingface) (1.26.19)\n",
      "Requirement already satisfied: certifi>=2017.4.17 in c:\\users\\luisb\\documents\\github\\documentquestionanswering\\.venv\\lib\\site-packages (from requests->huggingface-hub>=0.23.0->langchain-huggingface) (2024.7.4)\n",
      "Requirement already satisfied: sympy in c:\\users\\luisb\\documents\\github\\documentquestionanswering\\.venv\\lib\\site-packages (from torch>=1.11.0->sentence-transformers>=2.6.0->langchain-huggingface) (1.13.1)\n",
      "Requirement already satisfied: networkx in c:\\users\\luisb\\documents\\github\\documentquestionanswering\\.venv\\lib\\site-packages (from torch>=1.11.0->sentence-transformers>=2.6.0->langchain-huggingface) (3.3)\n",
      "Requirement already satisfied: jinja2 in c:\\users\\luisb\\documents\\github\\documentquestionanswering\\.venv\\lib\\site-packages (from torch>=1.11.0->sentence-transformers>=2.6.0->langchain-huggingface) (3.1.4)\n",
      "Requirement already satisfied: setuptools in c:\\users\\luisb\\documents\\github\\documentquestionanswering\\.venv\\lib\\site-packages (from torch>=1.11.0->sentence-transformers>=2.6.0->langchain-huggingface) (72.1.0)\n",
      "Requirement already satisfied: colorama in c:\\users\\luisb\\documents\\github\\documentquestionanswering\\.venv\\lib\\site-packages (from tqdm>=4.42.1->huggingface-hub>=0.23.0->langchain-huggingface) (0.4.6)\n",
      "Requirement already satisfied: joblib>=1.2.0 in c:\\users\\luisb\\documents\\github\\documentquestionanswering\\.venv\\lib\\site-packages (from scikit-learn->sentence-transformers>=2.6.0->langchain-huggingface) (1.4.2)\n",
      "Requirement already satisfied: threadpoolctl>=3.1.0 in c:\\users\\luisb\\documents\\github\\documentquestionanswering\\.venv\\lib\\site-packages (from scikit-learn->sentence-transformers>=2.6.0->langchain-huggingface) (3.5.0)\n",
      "Requirement already satisfied: MarkupSafe>=2.0 in c:\\users\\luisb\\documents\\github\\documentquestionanswering\\.venv\\lib\\site-packages (from jinja2->torch>=1.11.0->sentence-transformers>=2.6.0->langchain-huggingface) (2.1.5)\n",
      "Requirement already satisfied: mpmath<1.4,>=1.1.0 in c:\\users\\luisb\\documents\\github\\documentquestionanswering\\.venv\\lib\\site-packages (from sympy->torch>=1.11.0->sentence-transformers>=2.6.0->langchain-huggingface) (1.3.0)\n"
     ]
    }
   ],
   "source": [
    "!pip install langchain-huggingface"
   ]
  },
  {
   "cell_type": "code",
   "execution_count": 15,
   "metadata": {},
   "outputs": [],
   "source": [
    "from datasets import Dataset\n",
    "from ragas import evaluate\n",
    "from ragas.metrics import faithfulness, answer_relevancy, context_precision, context_recall, answer_correctness\n",
    "from langchain_community.document_loaders.pdf import PyPDFDirectoryLoader\n",
    "from langchain_community.llms import Ollama\n",
    "from langchain_chroma import Chroma\n",
    "import tqdm\n",
    "from module import *"
   ]
  },
  {
   "cell_type": "code",
   "execution_count": 16,
   "metadata": {},
   "outputs": [],
   "source": [
    "emb_model = [\n",
    "    \"baai_small\"\n",
    "]\n",
    "\n",
    "llm_model = [\n",
    "    \"llama3.1\"\n",
    "]"
   ]
  },
  {
   "cell_type": "markdown",
   "metadata": {},
   "source": [
    "## 2. Carga de datos "
   ]
  },
  {
   "cell_type": "code",
   "execution_count": 17,
   "metadata": {},
   "outputs": [
    {
     "data": {
      "text/plain": [
       "'c:\\\\Users\\\\luisb\\\\Documents\\\\GitHub\\\\documentQuestionAnswering\\\\testing'"
      ]
     },
     "execution_count": 17,
     "metadata": {},
     "output_type": "execute_result"
    }
   ],
   "source": [
    "import os\n",
    "os.getcwd()"
   ]
  },
  {
   "cell_type": "code",
   "execution_count": 18,
   "metadata": {},
   "outputs": [],
   "source": [
    "documents_loader = PyPDFDirectoryLoader(\"./data/test1/cat\")\n",
    "documents = documents_loader.load()"
   ]
  },
  {
   "cell_type": "code",
   "execution_count": 19,
   "metadata": {},
   "outputs": [
    {
     "data": {
      "text/plain": [
       "Document(metadata={'source': 'data\\\\test1\\\\cat\\\\constitucio_espanyola.pdf', 'page': 0}, page_content=\"  \\n \\n \\nConstitució espanyola \\n \\n \\nTEXT CONSOLIDAT \\n \\nVigència 17/02/2024 - \\n \\nLa Nació espanyola, amb el desig d'establir la justícia, la llibertat i la seguretat i de promoure el bé de \\ntots els qui la integren, en ús de la seva sobirania, proclama la voluntat de:  \\nGarantir la convivència democràtica dins la Constitució i les lleis de conformitat amb un ordre econòmic i \\nsocial just.  \\nConsolidar un Estat de Dret que asseguri l'imperi de la Llei com a expressió de la voluntat popular.  \\nProtegir tots els espanyols i els pobles d'Espanya en l'exercici dels drets humans, les seves cultures i \\ntradicions, llengües i institucions.  \\nPromoure el progrés de la cultura i de l'economia per tal d'assegurar a tothom una qualitat de vida \\ndigna.  \\nEstablir una societat democràtica avançada, i  \\nCol·laborar a l'enfortiment d'unes relacions pacífiques i de cooperació eficaç entre tots els pobles de la \\nTerra.  \\nEn conseqüència, les Corts aproven i el poble espanyol ratifica la següent  \\nCONSTITUCIÓ \\n \\nTítol Preliminar \\n \\nArticle 1 \\n1. Espanya es constitueix en un Estat social i democràtic de Dret, que propugna com a valors superiors \\ndel seu ordenament jurídic la llibertat, la justícia, la igualtat i el pluralisme polític.  \\n2. La sobirania nacional resideix en el poble espanyol, del qual emanen els poders de l'Estat.  \\n3. La forma política de l'Estat espanyol és la Monarquia parlamentària. \\n \\nArticle 2 \\nLa Constitució es fonamenta en la indissoluble unitat de la Nació espanyola, pàtria comuna i indivisible \\nde tots els espanyols, i reconeix i garanteix el dret a l'autonomia de les nacionalitats i de les regions que \\nla integren i la solidaritat entre totes elles. \\n \\nArticle 3 \\n1. El castellà és la llengua espanyola oficial de l'Estat. Tots els espanyols tenen el deure de conèixer-la i el \\n1\")"
      ]
     },
     "execution_count": 19,
     "metadata": {},
     "output_type": "execute_result"
    }
   ],
   "source": [
    "documents[0]"
   ]
  },
  {
   "cell_type": "markdown",
   "metadata": {},
   "source": [
    "## 3. Creación de la base de datos vectorial"
   ]
  },
  {
   "cell_type": "code",
   "execution_count": 20,
   "metadata": {},
   "outputs": [],
   "source": [
    "# Load the existing database.\n",
    "db = Chroma(\n",
    "    collection_name=\"test1\",\n",
    "    persist_directory=\"./database\",\n",
    "    embedding_function=get_embedding_function(emb_model[0])\n",
    ")"
   ]
  },
  {
   "cell_type": "code",
   "execution_count": 21,
   "metadata": {},
   "outputs": [
    {
     "name": "stdout",
     "output_type": "stream",
     "text": [
      ".\n",
      ".\n",
      ".\n",
      ".\n",
      ".\n",
      ".\n",
      ".\n",
      ".\n",
      ".\n",
      ".\n",
      ".\n",
      ".\n",
      ".\n",
      ".\n",
      ".\n",
      ".\n",
      ".\n",
      ".\n",
      ".\n",
      ".\n",
      ".\n",
      ".\n",
      ".\n",
      ".\n",
      ".\n",
      ".\n",
      ".\n",
      ".\n",
      ".\n",
      ".\n",
      ".\n",
      ".\n",
      ".\n",
      ".\n",
      ".\n",
      ".\n",
      ".\n",
      ".\n",
      ".\n",
      ".\n",
      ".\n",
      ".\n",
      ".\n",
      ".\n",
      ".\n",
      ".\n",
      ".\n",
      ".\n",
      ".\n",
      ".\n",
      ".\n",
      ".\n",
      ".\n",
      ".\n",
      ".\n",
      ".\n",
      ".\n",
      ".\n",
      ".\n",
      ".\n",
      ".\n",
      ".\n",
      ".\n"
     ]
    }
   ],
   "source": [
    "# Adding documents with a progress bar\n",
    "\n",
    "for document in documents:\n",
    "    db.add_documents([document])\n",
    "    print(\".\")\n"
   ]
  },
  {
   "cell_type": "code",
   "execution_count": 22,
   "metadata": {},
   "outputs": [
    {
     "name": "stdout",
     "output_type": "stream",
     "text": [
      "*   \n",
      " \n",
      " \n",
      "Constitució espanyola \n",
      " \n",
      " \n",
      "TEXT CONSOLIDAT \n",
      " \n",
      "Vigència 17/02/2024 - \n",
      " \n",
      "La Nació espanyola, amb el desig d'establir la justícia, la llibertat i la seguretat i de promoure el bé de \n",
      "tots els qui la integren, en ús de la seva sobirania, proclama la voluntat de:  \n",
      "Garantir la convivència democràtica dins la Constitució i les lleis de conformitat amb un ordre econòmic i \n",
      "social just.  \n",
      "Consolidar un Estat de Dret que asseguri l'imperi de la Llei com a expressió de la voluntat popular.  \n",
      "Protegir tots els espanyols i els pobles d'Espanya en l'exercici dels drets humans, les seves cultures i \n",
      "tradicions, llengües i institucions.  \n",
      "Promoure el progrés de la cultura i de l'economia per tal d'assegurar a tothom una qualitat de vida \n",
      "digna.  \n",
      "Establir una societat democràtica avançada, i  \n",
      "Col·laborar a l'enfortiment d'unes relacions pacífiques i de cooperació eficaç entre tots els pobles de la \n",
      "Terra.  \n",
      "En conseqüència, les Corts aproven i el poble espanyol ratifica la següent  \n",
      "CONSTITUCIÓ \n",
      " \n",
      "Títol Preliminar \n",
      " \n",
      "Article 1 \n",
      "1. Espanya es constitueix en un Estat social i democràtic de Dret, que propugna com a valors superiors \n",
      "del seu ordenament jurídic la llibertat, la justícia, la igualtat i el pluralisme polític.  \n",
      "2. La sobirania nacional resideix en el poble espanyol, del qual emanen els poders de l'Estat.  \n",
      "3. La forma política de l'Estat espanyol és la Monarquia parlamentària. \n",
      " \n",
      "Article 2 \n",
      "La Constitució es fonamenta en la indissoluble unitat de la Nació espanyola, pàtria comuna i indivisible \n",
      "de tots els espanyols, i reconeix i garanteix el dret a l'autonomia de les nacionalitats i de les regions que \n",
      "la integren i la solidaritat entre totes elles. \n",
      " \n",
      "Article 3 \n",
      "1. El castellà és la llengua espanyola oficial de l'Estat. Tots els espanyols tenen el deure de conèixer-la i el \n",
      "1 [{'page': 0, 'source': 'data\\\\test1\\\\cat\\\\constitucio_espanyola.pdf'}]\n"
     ]
    }
   ],
   "source": [
    "results = db.similarity_search(query=\"La Nació espanyola, amb el desig d'establir la justícia, la llibertat i la seguretat\",k=1)\n",
    "for doc in results:\n",
    "    print(f\"* {doc.page_content} [{doc.metadata}]\")"
   ]
  },
  {
   "cell_type": "markdown",
   "metadata": {},
   "source": [
    "## 4. Preguntas de interés"
   ]
  },
  {
   "cell_type": "code",
   "execution_count": 23,
   "metadata": {},
   "outputs": [],
   "source": [
    "questions_docs_cat = [\n",
    "    \"Quins drets lingüístics reconeix la Constitució Espanyola?\",\n",
    "    \"Què estableix la Constitució Espanyola sobre la detenció preventiva i els drets de les persones detingudes?\",\n",
    "    # \"Quins són els valors superiors de l'ordenament jurídic espanyol segons la Constitució?\",\n",
    "    # \"Quines condicions específiques es poden aplicar en un contracte indefinit per a persones amb discapacitat?\",\n",
    "    # \"Com es defineix i s'estableix la durada del període de prova en un contracte indefinit segons el document?\",\n",
    "    # \"Quins drets de bonificació a la Seguretat Social es mencionen per a contractes indefinits celebrats amb treballadors pertanyents al Sistema Nacional de Garantia Juvenil?\",\n",
    "]\n",
    "\n",
    "# questions_docs_en = [\n",
    "#     \"What are the conditions under which an employment contract's probationary period may be extended or terminated?\",\n",
    "#     \"What are the stipulations for holiday entitlement and the conditions under which holiday can be carried over to the next year?\",\n",
    "#     \"What are the employer’s rights concerning termination of employment during and after the probationary period?\",\n",
    "#     \"What are the proposed alternatives for the structure and election of the UK Parliament’s Second Chamber?\",\n",
    "#     \"What rights are explicitly protected under the proposed Bill of Rights in the document?\",\n",
    "#     \"How does the document propose constitutional amendments should be enacted or repealed?\",\n",
    "# ]\n",
    "\n",
    "# questions_docs_es = [\n",
    "#     \"¿Qué derechos lingüísticos reconoce la Constitución Española?\",\n",
    "#     \"¿Qué establece la Constitución Española sobre la detención preventiva y los derechos de las personas detenidas?\",\n",
    "#     \"¿Cuáles son los valores superiores del ordenamiento jurídico español según la Constitución?\",\n",
    "#     \"¿Qué condiciones específicas pueden aplicarse en un contrato indefinido para personas con discapacidad?\",\n",
    "#     \"¿Cómo se define y establece la duración del período de prueba en un contrato indefinido según el documento?\",\n",
    "#     \"¿Qué derechos de bonificación a la Seguridad Social se mencionan para contratos indefinidos celebrados con trabajadores pertenecientes al Sistema Nacional de Garantía Juvenil?\"\n",
    "# ]\n",
    "\n",
    "questions = questions_docs_cat #+ questions_docs_en + questions_docs_es"
   ]
  },
  {
   "cell_type": "code",
   "execution_count": 24,
   "metadata": {},
   "outputs": [
    {
     "data": {
      "text/plain": [
       "['Quins drets lingüístics reconeix la Constitució Espanyola?',\n",
       " 'Què estableix la Constitució Espanyola sobre la detenció preventiva i els drets de les persones detingudes?']"
      ]
     },
     "execution_count": 24,
     "metadata": {},
     "output_type": "execute_result"
    }
   ],
   "source": [
    "questions"
   ]
  },
  {
   "cell_type": "code",
   "execution_count": 25,
   "metadata": {},
   "outputs": [],
   "source": [
    "contexts = []\n",
    "\n",
    "for question in questions:\n",
    "    # Get the top 5 most relevant documents\n",
    "    results = db.similarity_search_with_score(question, k=5)\n",
    "\n",
    "    # Make a list of the contexts\n",
    "    question_contexts = []\n",
    "    for doc, _score in results:\n",
    "        question_contexts.append(doc.page_content)\n",
    "\n",
    "    # Append the context sub-list to the list of contexts\n",
    "    contexts.append(question_contexts)"
   ]
  },
  {
   "cell_type": "code",
   "execution_count": 26,
   "metadata": {},
   "outputs": [
    {
     "data": {
      "text/plain": [
       "[[\"  \\n \\n \\nConstitució espanyola \\n \\n \\nTEXT CONSOLIDAT \\n \\nVigència 17/02/2024 - \\n \\nLa Nació espanyola, amb el desig d'establir la justícia, la llibertat i la seguretat i de promoure el bé de \\ntots els qui la integren, en ús de la seva sobirania, proclama la voluntat de:  \\nGarantir la convivència democràtica dins la Constitució i les lleis de conformitat amb un ordre econòmic i \\nsocial just.  \\nConsolidar un Estat de Dret que asseguri l'imperi de la Llei com a expressió de la voluntat popular.  \\nProtegir tots els espanyols i els pobles d'Espanya en l'exercici dels drets humans, les seves cultures i \\ntradicions, llengües i institucions.  \\nPromoure el progrés de la cultura i de l'economia per tal d'assegurar a tothom una qualitat de vida \\ndigna.  \\nEstablir una societat democràtica avançada, i  \\nCol·laborar a l'enfortiment d'unes relacions pacífiques i de cooperació eficaç entre tots els pobles de la \\nTerra.  \\nEn conseqüència, les Corts aproven i el poble espanyol ratifica la següent  \\nCONSTITUCIÓ \\n \\nTítol Preliminar \\n \\nArticle 1 \\n1. Espanya es constitueix en un Estat social i democràtic de Dret, que propugna com a valors superiors \\ndel seu ordenament jurídic la llibertat, la justícia, la igualtat i el pluralisme polític.  \\n2. La sobirania nacional resideix en el poble espanyol, del qual emanen els poders de l'Estat.  \\n3. La forma política de l'Estat espanyol és la Monarquia parlamentària. \\n \\nArticle 2 \\nLa Constitució es fonamenta en la indissoluble unitat de la Nació espanyola, pàtria comuna i indivisible \\nde tots els espanyols, i reconeix i garanteix el dret a l'autonomia de les nacionalitats i de les regions que \\nla integren i la solidaritat entre totes elles. \\n \\nArticle 3 \\n1. El castellà és la llengua espanyola oficial de l'Estat. Tots els espanyols tenen el deure de conèixer-la i el \\n1\",\n",
       "  \"dret d'usar-la.  \\n2. Les altres llengües espanyoles seran també oficials en les respectives Comunitats Autònomes d'acord \\namb els seus Estatuts.  \\n3. La riquesa de les diferents modalitats lingüístiques d'Espanya és un patrimoni cultural que serà \\nobjecte d'especial respecte i protecció. \\n \\nArticle 4 \\n1. La bandera d'Espanya és formada per tres franges horitzontals, vermella, groga i vermella; la groga és \\nde doble amplada que la de cadascuna de les vermelles.  \\n2. Els Estatuts podran reconèixer banderes i ensenyes pròpies de les Comunitats Autònomes. Aquestes \\ns'utilitzaran juntament amb la bandera d'Espanya en els seus edificis públics i en els seus actes oficials. \\n \\nArticle 5 \\nLa capital de l'Estat és la vila de Madrid. \\n \\nArticle 6 \\nEls partits polítics expressen el pluralisme polític, concorren a la formació i a la manifestació de la \\nvoluntat popular i són instrument fonamental per a la participació política. Podran ser creats i exerciran \\nla seva activitat lliurement dins el respecte a la Constitució i a la llei. L'estructura interna i el \\nfuncionament hauran de ser democràtics. \\n \\nArticle 7 \\nEls sindicats de treballadors i les associacions empresarials contribueixen a la defensa i a la promoció \\ndels interessos econòmics i socials que els són propis. Podran ser creats i exerciran la seva activitat \\nlliurement dins el respecte a la Constitució i a la llei. L'estructura interna i el funcionament hauran de ser \\ndemocràtics. \\n \\nArticle 8 \\n1. Les Forces Armades, constituïdes per l'Exèrcit de Terra, l'Armada i l'Exèrcit de l'Aire, tenen com a \\nmissió garantir la sobirania i la independència d'Espanya, defensar-ne la integritat territorial i \\nl'ordenament constitucional.  \\n2. Una llei orgànica regularà les bases de l'organització militar de conformitat amb els principis de la \\npresent Constitució. \\n \\nArticle 9 \\n1. Els ciutadans i els poders públics resten subjectes a la Constitució i a la resta de l'ordenament jurídic.  \\n2. Correspon als poders públics de promoure les condicions per tal que la llibertat i la igualtat de \\nl'individu i dels grups en els quals s'integra siguin reals i efectives; remoure els obstacles que \\nn'impedeixin o en dificultin la plenitud i facilitar la participació de tots els ciutadans en la vida política, \\neconòmica, cultural i social.  \\n3. La Constitució garanteix el principi de legalitat, la jerarquia normativa, la publicitat de les normes, la Portal Jurídic de Catalunya \\n2\",\n",
       "  \"ciutadans i el ple exercici dels seus drets. \\n \\nArticle 19 \\nEls espanyols tenen dret a elegir lliurement la residència i a circular pel territori nacional.  \\nTenen també dret a entrar i sortir lliurement d'Espanya en els termes que la llei estableixi. Aquest dret \\nno podrà ser limitat per motius polítics o ideològics. \\n \\nArticle 20 \\n1. Es reconeixen i es protegeixen els drets:  \\na) A expressar i difondre lliurement els pensaments, les idees i les opinions mitjançant la paraula, \\nl'escriptura o qualsevol altre mitjà de reproducció.  \\nb) A la producció i a la creació literària, artística, científica i tècnica.  \\nc) A la llibertat de càtedra.  \\nd) A comunicar o a rebre lliurement informació veraç per qualsevol mitjà de difusió. La llei regularà el \\ndret a la clàusula de consciència i al secret professional en l'exercici d'aquestes llibertats.  \\n2. L'exercici d'aquests drets no pot ser restringit per mitjà de cap tipus de censura prèvia.  \\n3. La llei regularà l'organització i el control parlamentari dels mitjans de comunicació social que \\ndepenguin de l'Estat o de qualsevol ens públic i garantirà l'accés a aquests mitjans dels grups socials i \\npolítics significatius, respectant el pluralisme de la societat i de les diferents llengües d'Espanya.  \\n4. Aquestes llibertats tenen el límit en el respecte als drets reconeguts en aquest Títol, en els preceptes \\nde les lleis que el desenvolupin i, especialment, en el dret a l'honor, a la intimitat, a la imatge pròpia i a la \\nprotecció de la joventut i de la infància.  \\n5. Només podrà acordar-se el segrest de publicacions, gravacions i altres mitjans d'informació en virtut \\nde resolució judicial. \\n \\nArticle 21 \\n1. Es reconeix el dret de reunió pacífica i sense armes. Per a l'exercici d'aquest dret no caldrà \\nautorització prèvia.  \\n2. En els casos de reunions en llocs de trànsit públic i de manifestacions caldrà comunicar-ho \\nprèviament a l'autoritat, la qual només podrà prohibir-les quan hi hagi motius fonamentats d'alteració \\nde l'ordre públic, amb perill per a persones o béns. \\n \\nArticle 22 \\n1. Es reconeix el dret d'associació.  \\n2. Les associacions que cerquin finalitats o facin servir mitjans tipificats com a delicte són il·legals.  \\n3. Les associacions constituïdes a l'empara d'aquest article hauran d'inscriure's en un registre únicament \\na efectes de publicitat.  \\n4. Les associacions només podran ser dissoltes o les seves activitats suspeses en virtut d'una resolució \\njudicial motivada.  \\n5. Es prohibeixen les associacions secretes i les de caràcter paramilitar. Portal Jurídic de Catalunya \\n5\",\n",
       "  \"irretroactivitat de les disposicions sancionadores no favorables o restrictives de drets individuals, la \\nseguretat jurídica, la responsabilitat i la interdicció de l'arbitrarietat dels poders públics. \\n \\nTítol primer \\nDels drets i dels deures fonamentals \\n \\nArticle 10 \\n1. La dignitat de la persona, els drets inviolables que li són inherents, el lliure desenvolupament de la \\npersonalitat, el respecte a la llei i als drets dels altres són fonament de l'ordre polític i de la pau social.  \\n2. Les normes relatives als drets fonamentals i a les llibertats que la Constitució reconeix s'interpretaran \\nde conformitat amb la Declaració Universal de Drets Humans i els tractats i els acords internacionals \\nsobre aquestes matèries ratificats per Espanya. \\n \\nCapítol I \\nDels espanyols i dels estrangers \\n \\nArticle 11 \\n1. La nacionalitat espanyola s'adquireix, es conserva i es perd d'acord amb el que la llei estableix.  \\n2. Cap espanyol d'origen no podrà ser privat de la seva nacionalitat.  \\n3. L'Estat podrà concertar tractats de doble nacionalitat amb els països iberoamericans o amb aquells \\nque hagin tingut o tinguin una vinculació particular amb Espanya. En aquests països, encara que no \\nreconeguin als seus ciutadans un dret recíproc, els espanyols podran naturalitzar-s'hi sense perdre la \\nnacionalitat d'origen. \\n \\nArticle 12 \\nEls espanyols són majors d'edat als divuit anys. \\n \\nArticle 13 \\n1. Els estrangers gaudiran a Espanya de les llibertats públiques que garanteix el Títol present en els \\ntermes que estableixin els tractats i la llei.  \\n2. Només els espanyols seran titulars dels drets reconeguts en l'article 23, llevat d'allò que, amb criteris \\nde reciprocitat, fos establert per tractat o per llei per al dret de sufragi actiu i passiu en les eleccions \\nmunicipals.  \\n3. L'extradició només es concedirà en compliment d'un tractat o de la llei, d'acord amb el principi de \\nreciprocitat. Resten exclosos de l'extradició els delictes polítics i no seran considerats com a tals els actes \\nde terrorisme.  \\n4. La llei establirà els termes en què els ciutadans d'altres països i els apàtrides podran gaudir del dret \\nd'asil a Espanya. \\n \\nCapítol II \\nDrets i llibertats \\n Portal Jurídic de Catalunya \\n3\",\n",
       "  'Article 14 \\nEls espanyols són iguals davant la llei, sense que pugui prevaler cap discriminació per raó de naixença, \\nraça, sexe, religió, opinió o qualsevol altra condició o circumstància personal o social. \\n \\nSecció primera \\nDels drets fonamentals i de les llibertats públiques \\n \\nArticle 15 \\nTothom té dret a la vida i a la integritat física i moral, sense que, en cap cas, ningú no pugui ser sotmès a \\ntortura ni a penes o tractes inhumans o degradants. Resta abolida la pena de mort, llevat d\\'allò que \\npuguin disposar les lleis penals militars per a temps de guerra. \\n \\nArticle 16 \\n1. Es garanteix la llibertat ideològica, religiosa i de culte dels individus i de les comunitats sense cap més \\nlimitació, en les seves manifestacions, que la necessària per al manteniment de l\\'ordre públic protegit \\nper la llei.  \\n2. Ningú podrà ser obligat a declarar quant a la seva ideologia, religió o creences.  \\n3. Cap confessió tindrà caràcter estatal. Els poders públics tindran en compte les creences religioses de \\nla societat espanyola i mantindran les consegüents relacions de cooperació amb l\\'Església Catòlica i les \\naltres confessions. \\n \\nArticle 17 \\n1. Tota persona té dret a la llibertat i a la seguretat. Ningú podrà ser privat de la seva llibertat, sinó amb \\nl\\'observança del que estableix aquest article i en els casos i en la forma previstos en la llei.  \\n2. La detenció preventiva no podrà durar més temps del que sigui estrictament necessari per a fer les \\nindagacions per tal d\\'aclarir els fets i, en qualsevol cas, dins el termini màxim de setanta-dues hores, el \\ndetingut haurà de ser posat en llibertat o a disposició de l\\'autoritat judicial.  \\n3. Tota persona detinguda ha de ser informada immediatament i de manera que li sigui comprensible, \\ndels seus drets i de les raons de la detenció, i no podrà ser obligada a declarar. Es garanteix l\\'assistència \\nd\\'advocat al detingut en les diligències policials i judicials, en els termes que la llei estableixi.  \\n4. La llei regularà un procediment d\\'\"habeas corpus\" per tal de posar immediatament a disposició \\njudicial tota persona detinguda il·legalment. També es determinarà per llei el termini màxim de durada \\nde la presó provisional. \\n \\nArticle 18 \\n1. Es garanteix el dret a l\\'honor, a la intimitat personal i familiar i a la pròpia imatge.  \\n2. El domicili és inviolable. No s\\'hi podrà entrar ni fer-hi cap escorcoll sense el consentiment del titular o \\nsense resolució judicial, llevat del cas de delicte flagrant.  \\n3. Es garanteix el secret de les comunicacions i, especialment, de les postals, telegràfiques i telefòniques, \\nexcepte en cas de resolució judicial.  \\n4. La llei limitarà l\\'ús de la informàtica per tal de garantir l\\'honor i la intimitat personal i familiar dels Portal Jurídic de Catalunya \\n4'],\n",
       " [\"  \\n \\n \\nConstitució espanyola \\n \\n \\nTEXT CONSOLIDAT \\n \\nVigència 17/02/2024 - \\n \\nLa Nació espanyola, amb el desig d'establir la justícia, la llibertat i la seguretat i de promoure el bé de \\ntots els qui la integren, en ús de la seva sobirania, proclama la voluntat de:  \\nGarantir la convivència democràtica dins la Constitució i les lleis de conformitat amb un ordre econòmic i \\nsocial just.  \\nConsolidar un Estat de Dret que asseguri l'imperi de la Llei com a expressió de la voluntat popular.  \\nProtegir tots els espanyols i els pobles d'Espanya en l'exercici dels drets humans, les seves cultures i \\ntradicions, llengües i institucions.  \\nPromoure el progrés de la cultura i de l'economia per tal d'assegurar a tothom una qualitat de vida \\ndigna.  \\nEstablir una societat democràtica avançada, i  \\nCol·laborar a l'enfortiment d'unes relacions pacífiques i de cooperació eficaç entre tots els pobles de la \\nTerra.  \\nEn conseqüència, les Corts aproven i el poble espanyol ratifica la següent  \\nCONSTITUCIÓ \\n \\nTítol Preliminar \\n \\nArticle 1 \\n1. Espanya es constitueix en un Estat social i democràtic de Dret, que propugna com a valors superiors \\ndel seu ordenament jurídic la llibertat, la justícia, la igualtat i el pluralisme polític.  \\n2. La sobirania nacional resideix en el poble espanyol, del qual emanen els poders de l'Estat.  \\n3. La forma política de l'Estat espanyol és la Monarquia parlamentària. \\n \\nArticle 2 \\nLa Constitució es fonamenta en la indissoluble unitat de la Nació espanyola, pàtria comuna i indivisible \\nde tots els espanyols, i reconeix i garanteix el dret a l'autonomia de les nacionalitats i de les regions que \\nla integren i la solidaritat entre totes elles. \\n \\nArticle 3 \\n1. El castellà és la llengua espanyola oficial de l'Estat. Tots els espanyols tenen el deure de conèixer-la i el \\n1\",\n",
       "  \"irretroactivitat de les disposicions sancionadores no favorables o restrictives de drets individuals, la \\nseguretat jurídica, la responsabilitat i la interdicció de l'arbitrarietat dels poders públics. \\n \\nTítol primer \\nDels drets i dels deures fonamentals \\n \\nArticle 10 \\n1. La dignitat de la persona, els drets inviolables que li són inherents, el lliure desenvolupament de la \\npersonalitat, el respecte a la llei i als drets dels altres són fonament de l'ordre polític i de la pau social.  \\n2. Les normes relatives als drets fonamentals i a les llibertats que la Constitució reconeix s'interpretaran \\nde conformitat amb la Declaració Universal de Drets Humans i els tractats i els acords internacionals \\nsobre aquestes matèries ratificats per Espanya. \\n \\nCapítol I \\nDels espanyols i dels estrangers \\n \\nArticle 11 \\n1. La nacionalitat espanyola s'adquireix, es conserva i es perd d'acord amb el que la llei estableix.  \\n2. Cap espanyol d'origen no podrà ser privat de la seva nacionalitat.  \\n3. L'Estat podrà concertar tractats de doble nacionalitat amb els països iberoamericans o amb aquells \\nque hagin tingut o tinguin una vinculació particular amb Espanya. En aquests països, encara que no \\nreconeguin als seus ciutadans un dret recíproc, els espanyols podran naturalitzar-s'hi sense perdre la \\nnacionalitat d'origen. \\n \\nArticle 12 \\nEls espanyols són majors d'edat als divuit anys. \\n \\nArticle 13 \\n1. Els estrangers gaudiran a Espanya de les llibertats públiques que garanteix el Títol present en els \\ntermes que estableixin els tractats i la llei.  \\n2. Només els espanyols seran titulars dels drets reconeguts en l'article 23, llevat d'allò que, amb criteris \\nde reciprocitat, fos establert per tractat o per llei per al dret de sufragi actiu i passiu en les eleccions \\nmunicipals.  \\n3. L'extradició només es concedirà en compliment d'un tractat o de la llei, d'acord amb el principi de \\nreciprocitat. Resten exclosos de l'extradició els delictes polítics i no seran considerats com a tals els actes \\nde terrorisme.  \\n4. La llei establirà els termes en què els ciutadans d'altres països i els apàtrides podran gaudir del dret \\nd'asil a Espanya. \\n \\nCapítol II \\nDrets i llibertats \\n Portal Jurídic de Catalunya \\n3\",\n",
       "  \"de l'article 17 en el supòsit de declaració de l'estat d'excepció.  \\n2. Una llei orgànica podrà determinar la forma i els casos en què, de forma individual i amb la necessària \\nintervenció judicial i l'adequat control parlamentari, els drets reconeguts en els articles 17, apartat 2, i \\n18, apartats 2 i 3, puguin ser suspesos per a persones determinades, en relació amb les investigacions \\ncorresponents a l'actuació de bandes armades o elements terroristes.  \\nLa utilització injustificada o abusiva de les facultats reconegudes en la dita llei orgànica comportarà \\nresponsabilitat penal per violació dels drets i de les llibertats reconegudes per les lleis. \\n \\nTítol II \\nDe la Corona \\n \\nArticle 56 \\n1. El Rei és el Cap de l'Estat, símbol de la seva unitat i permanència, arbitra i modera el funcionament \\nregular de les institucions, assumeix la més alta representació de l'Estat espanyol en les relacions \\ninternacionals, especialment amb les nacions de la seva comunitat històrica, i exerceix les funcions que li \\natribueixen expressament la Constitució i les lleis.  \\n2. El seu títol és el de Rei d'Espanya, i podrà utilitzar els altres que corresponguin a la Corona.  \\n3. La persona del Rei és inviolable i no està subjecta a responsabilitat. Els seus actes seran sempre \\nreferendats en la forma establerta en l'article 64, i sense aquest referendament no tindran validesa, \\nllevat del que disposa l'article 65.2. \\n \\nArticle 57 \\n1. La Corona d'Espanya és hereditària en els successors de S. M. Joan Carles I de Borbó, legítim hereu de \\nla dinastia històrica. La successió al tron seguirà l'ordre regular de primogenitura i representació, i serà \\npreferida sempre la línia anterior a les posteriors; en la mateixa línia, el grau més pròxim al més remot; \\nen el mateix grau, l'home a la dona, i en el mateix sexe, la persona major a la menor.  \\n2. El Príncep hereu, des del naixement o des que s'esdevingui el fet que origini la crida, tindrà la dignitat \\nde Príncep d'Astúries i els altres títols vinculats tradicionalment al successor de la Corona d'Espanya.  \\n3. Havent-se extingit totes les línies cridades a Dret, les Corts Generals proveiran la successió a la Corona \\nen la forma que més convingui als interessos d'Espanya.  \\n4. Les persones que, tenint dret a la successió al tron, contraguessin matrimoni contra la prohibició \\nexpressa del Rei i de les Corts Generals, restaran excloses de la successió a la Corona elles mateixes i els \\nseus descendents.  \\n5. Les abdicacions i les renúncies i qualsevol dubte de fet o de dret que s'esdevingui en l'ordre de \\nsuccessió a la Corona es resoldran amb una llei orgànica. \\n \\nArticle 58 \\nLa Reina consort o el consort de la Reina no podran assumir funcions constitucionals, llevat del que es \\ndisposa per a la Regència. \\n \\nArticle 59 Portal Jurídic de Catalunya \\n12\",\n",
       "  \"control judicial en els termes que estableixi la llei electoral. \\n \\nArticle 71 \\n1. Els Diputats i els Senadors gaudiran d'inviolabilitat per les opinions manifestades en l'exercici de les \\nseves funcions.  \\n2. Durant el període del seu mandat, els Diputats i els Senadors gaudiran també d'immunitat, i només \\npodran ser detinguts en cas de delicte flagrant. No podran ser inculpats ni processats sense \\nl'autorització prèvia de la Cambra respectiva.  \\n3. En les causes contra Diputats i Senadors serà competent la Sala Penal del Tribunal Suprem.  \\n4. Els Diputats i els Senadors percebran una assignació que serà fixada per les Cambres respectives. \\n \\nArticle 72 \\n1. Les Cambres estableixen els seus propis Reglaments, aproven autònomament els seus pressupostos i, \\nde comú acord, regulen l'estatut del personal de les Corts Generals. Els Reglaments i la reforma \\nd'aquests seran sotmesos a una votació final sobre la totalitat, la qual requerirà la majoria absoluta.  \\n2. Les Cambres elegeixen els Presidents respectius i els altres membres de les Meses. Les sessions \\nconjuntes seran presidides pel President del Congrés i es regiran mitjançant un Reglament de les Corts \\nGenerals aprovat per la majoria absoluta de cada Cambra.  \\n3. Els Presidents de les Cambres exerceixen en nom d'aquestes tots els poders administratius i les \\nfacultats de policia a l'interior de les seus respectives. \\n \\nArticle 73 \\n1. Les Cambres es reuniran anualment en dos períodes ordinaris de sessions: el primer, del setembre al \\ndesembre, i el segon, del febrer al juny.  \\n2. Les Cambres podran reunir-se en sessions extraordinàries a petició del Govern, de la Diputació \\nPermanent o de la majoria absoluta dels membres de qualsevol de les Cambres. Les sessions \\nextraordinàries hauran de ser convocades amb un ordre del dia determinat i seran closes després \\nd'haver-lo exhaurit. \\n \\nArticle 74 \\n1. Les Cambres es reuniran en sessió conjunta per tal d'exercir les competències no legislatives que el \\nTítol II atribueix expressament a les Corts Generals.  \\n2. L'adopció de les decisions de les Corts Generals previstes en els articles 94.1, 145.2 i 158.2 requerirà la \\nmajoria de cada una de les Cambres. En el primer cas, el procediment serà iniciat pel Congrés, i en els \\naltres dos, pel Senat. En tots dos casos, si no hi hagués acord entre el Senat i el Congrés, s'intentarà \\nobtenir-lo mitjançant una Comissió Mixta composta per un mateix nombre de Diputats i de Senadors. La \\nComissió presentarà un text que haurà de ser votat per totes dues Cambres. Si no s'aprova en la forma \\nestablerta, decidirà el Congrés per majoria absoluta. \\n \\nArticle 75 \\n1. Les Cambres funcionaran en Ple i per Comissions.  Portal Jurídic de Catalunya \\n16\",\n",
       "  \"dret d'usar-la.  \\n2. Les altres llengües espanyoles seran també oficials en les respectives Comunitats Autònomes d'acord \\namb els seus Estatuts.  \\n3. La riquesa de les diferents modalitats lingüístiques d'Espanya és un patrimoni cultural que serà \\nobjecte d'especial respecte i protecció. \\n \\nArticle 4 \\n1. La bandera d'Espanya és formada per tres franges horitzontals, vermella, groga i vermella; la groga és \\nde doble amplada que la de cadascuna de les vermelles.  \\n2. Els Estatuts podran reconèixer banderes i ensenyes pròpies de les Comunitats Autònomes. Aquestes \\ns'utilitzaran juntament amb la bandera d'Espanya en els seus edificis públics i en els seus actes oficials. \\n \\nArticle 5 \\nLa capital de l'Estat és la vila de Madrid. \\n \\nArticle 6 \\nEls partits polítics expressen el pluralisme polític, concorren a la formació i a la manifestació de la \\nvoluntat popular i són instrument fonamental per a la participació política. Podran ser creats i exerciran \\nla seva activitat lliurement dins el respecte a la Constitució i a la llei. L'estructura interna i el \\nfuncionament hauran de ser democràtics. \\n \\nArticle 7 \\nEls sindicats de treballadors i les associacions empresarials contribueixen a la defensa i a la promoció \\ndels interessos econòmics i socials que els són propis. Podran ser creats i exerciran la seva activitat \\nlliurement dins el respecte a la Constitució i a la llei. L'estructura interna i el funcionament hauran de ser \\ndemocràtics. \\n \\nArticle 8 \\n1. Les Forces Armades, constituïdes per l'Exèrcit de Terra, l'Armada i l'Exèrcit de l'Aire, tenen com a \\nmissió garantir la sobirania i la independència d'Espanya, defensar-ne la integritat territorial i \\nl'ordenament constitucional.  \\n2. Una llei orgànica regularà les bases de l'organització militar de conformitat amb els principis de la \\npresent Constitució. \\n \\nArticle 9 \\n1. Els ciutadans i els poders públics resten subjectes a la Constitució i a la resta de l'ordenament jurídic.  \\n2. Correspon als poders públics de promoure les condicions per tal que la llibertat i la igualtat de \\nl'individu i dels grups en els quals s'integra siguin reals i efectives; remoure els obstacles que \\nn'impedeixin o en dificultin la plenitud i facilitar la participació de tots els ciutadans en la vida política, \\neconòmica, cultural i social.  \\n3. La Constitució garanteix el principi de legalitat, la jerarquia normativa, la publicitat de les normes, la Portal Jurídic de Catalunya \\n2\"]]"
      ]
     },
     "execution_count": 26,
     "metadata": {},
     "output_type": "execute_result"
    }
   ],
   "source": [
    "contexts"
   ]
  },
  {
   "cell_type": "code",
   "execution_count": 27,
   "metadata": {},
   "outputs": [
    {
     "name": "stdout",
     "output_type": "stream",
     "text": [
      "2\n",
      "5\n",
      "5\n"
     ]
    }
   ],
   "source": [
    "from pprint import pprint\n",
    "print(len(contexts))\n",
    "print(len(contexts[0]))\n",
    "print(len(question_contexts))"
   ]
  },
  {
   "cell_type": "code",
   "execution_count": 28,
   "metadata": {},
   "outputs": [
    {
     "name": "stdout",
     "output_type": "stream",
     "text": [
      "['  \\n \\n \\nConstitució espanyola \\n \\n \\nTEXT CONSOLIDAT \\n \\nVigència 17/02/2024 - \\n \\nLa Nació espanyola, amb el desig d\\'establir la justícia, la llibertat i la seguretat i de promoure el bé de \\ntots els qui la integren, en ús de la seva sobirania, proclama la voluntat de:  \\nGarantir la convivència democràtica dins la Constitució i les lleis de conformitat amb un ordre econòmic i \\nsocial just.  \\nConsolidar un Estat de Dret que asseguri l\\'imperi de la Llei com a expressió de la voluntat popular.  \\nProtegir tots els espanyols i els pobles d\\'Espanya en l\\'exercici dels drets humans, les seves cultures i \\ntradicions, llengües i institucions.  \\nPromoure el progrés de la cultura i de l\\'economia per tal d\\'assegurar a tothom una qualitat de vida \\ndigna.  \\nEstablir una societat democràtica avançada, i  \\nCol·laborar a l\\'enfortiment d\\'unes relacions pacífiques i de cooperació eficaç entre tots els pobles de la \\nTerra.  \\nEn conseqüència, les Corts aproven i el poble espanyol ratifica la següent  \\nCONSTITUCIÓ \\n \\nTítol Preliminar \\n \\nArticle 1 \\n1. Espanya es constitueix en un Estat social i democràtic de Dret, que propugna com a valors superiors \\ndel seu ordenament jurídic la llibertat, la justícia, la igualtat i el pluralisme polític.  \\n2. La sobirania nacional resideix en el poble espanyol, del qual emanen els poders de l\\'Estat.  \\n3. La forma política de l\\'Estat espanyol és la Monarquia parlamentària. \\n \\nArticle 2 \\nLa Constitució es fonamenta en la indissoluble unitat de la Nació espanyola, pàtria comuna i indivisible \\nde tots els espanyols, i reconeix i garanteix el dret a l\\'autonomia de les nacionalitats i de les regions que \\nla integren i la solidaritat entre totes elles. \\n \\nArticle 3 \\n1. El castellà és la llengua espanyola oficial de l\\'Estat. Tots els espanyols tenen el deure de conèixer-la i el \\n1 dret d\\'usar-la.  \\n2. Les altres llengües espanyoles seran també oficials en les respectives Comunitats Autònomes d\\'acord \\namb els seus Estatuts.  \\n3. La riquesa de les diferents modalitats lingüístiques d\\'Espanya és un patrimoni cultural que serà \\nobjecte d\\'especial respecte i protecció. \\n \\nArticle 4 \\n1. La bandera d\\'Espanya és formada per tres franges horitzontals, vermella, groga i vermella; la groga és \\nde doble amplada que la de cadascuna de les vermelles.  \\n2. Els Estatuts podran reconèixer banderes i ensenyes pròpies de les Comunitats Autònomes. Aquestes \\ns\\'utilitzaran juntament amb la bandera d\\'Espanya en els seus edificis públics i en els seus actes oficials. \\n \\nArticle 5 \\nLa capital de l\\'Estat és la vila de Madrid. \\n \\nArticle 6 \\nEls partits polítics expressen el pluralisme polític, concorren a la formació i a la manifestació de la \\nvoluntat popular i són instrument fonamental per a la participació política. Podran ser creats i exerciran \\nla seva activitat lliurement dins el respecte a la Constitució i a la llei. L\\'estructura interna i el \\nfuncionament hauran de ser democràtics. \\n \\nArticle 7 \\nEls sindicats de treballadors i les associacions empresarials contribueixen a la defensa i a la promoció \\ndels interessos econòmics i socials que els són propis. Podran ser creats i exerciran la seva activitat \\nlliurement dins el respecte a la Constitució i a la llei. L\\'estructura interna i el funcionament hauran de ser \\ndemocràtics. \\n \\nArticle 8 \\n1. Les Forces Armades, constituïdes per l\\'Exèrcit de Terra, l\\'Armada i l\\'Exèrcit de l\\'Aire, tenen com a \\nmissió garantir la sobirania i la independència d\\'Espanya, defensar-ne la integritat territorial i \\nl\\'ordenament constitucional.  \\n2. Una llei orgànica regularà les bases de l\\'organització militar de conformitat amb els principis de la \\npresent Constitució. \\n \\nArticle 9 \\n1. Els ciutadans i els poders públics resten subjectes a la Constitució i a la resta de l\\'ordenament jurídic.  \\n2. Correspon als poders públics de promoure les condicions per tal que la llibertat i la igualtat de \\nl\\'individu i dels grups en els quals s\\'integra siguin reals i efectives; remoure els obstacles que \\nn\\'impedeixin o en dificultin la plenitud i facilitar la participació de tots els ciutadans en la vida política, \\neconòmica, cultural i social.  \\n3. La Constitució garanteix el principi de legalitat, la jerarquia normativa, la publicitat de les normes, la Portal Jurídic de Catalunya \\n2 ciutadans i el ple exercici dels seus drets. \\n \\nArticle 19 \\nEls espanyols tenen dret a elegir lliurement la residència i a circular pel territori nacional.  \\nTenen també dret a entrar i sortir lliurement d\\'Espanya en els termes que la llei estableixi. Aquest dret \\nno podrà ser limitat per motius polítics o ideològics. \\n \\nArticle 20 \\n1. Es reconeixen i es protegeixen els drets:  \\na) A expressar i difondre lliurement els pensaments, les idees i les opinions mitjançant la paraula, \\nl\\'escriptura o qualsevol altre mitjà de reproducció.  \\nb) A la producció i a la creació literària, artística, científica i tècnica.  \\nc) A la llibertat de càtedra.  \\nd) A comunicar o a rebre lliurement informació veraç per qualsevol mitjà de difusió. La llei regularà el \\ndret a la clàusula de consciència i al secret professional en l\\'exercici d\\'aquestes llibertats.  \\n2. L\\'exercici d\\'aquests drets no pot ser restringit per mitjà de cap tipus de censura prèvia.  \\n3. La llei regularà l\\'organització i el control parlamentari dels mitjans de comunicació social que \\ndepenguin de l\\'Estat o de qualsevol ens públic i garantirà l\\'accés a aquests mitjans dels grups socials i \\npolítics significatius, respectant el pluralisme de la societat i de les diferents llengües d\\'Espanya.  \\n4. Aquestes llibertats tenen el límit en el respecte als drets reconeguts en aquest Títol, en els preceptes \\nde les lleis que el desenvolupin i, especialment, en el dret a l\\'honor, a la intimitat, a la imatge pròpia i a la \\nprotecció de la joventut i de la infància.  \\n5. Només podrà acordar-se el segrest de publicacions, gravacions i altres mitjans d\\'informació en virtut \\nde resolució judicial. \\n \\nArticle 21 \\n1. Es reconeix el dret de reunió pacífica i sense armes. Per a l\\'exercici d\\'aquest dret no caldrà \\nautorització prèvia.  \\n2. En els casos de reunions en llocs de trànsit públic i de manifestacions caldrà comunicar-ho \\nprèviament a l\\'autoritat, la qual només podrà prohibir-les quan hi hagi motius fonamentats d\\'alteració \\nde l\\'ordre públic, amb perill per a persones o béns. \\n \\nArticle 22 \\n1. Es reconeix el dret d\\'associació.  \\n2. Les associacions que cerquin finalitats o facin servir mitjans tipificats com a delicte són il·legals.  \\n3. Les associacions constituïdes a l\\'empara d\\'aquest article hauran d\\'inscriure\\'s en un registre únicament \\na efectes de publicitat.  \\n4. Les associacions només podran ser dissoltes o les seves activitats suspeses en virtut d\\'una resolució \\njudicial motivada.  \\n5. Es prohibeixen les associacions secretes i les de caràcter paramilitar. Portal Jurídic de Catalunya \\n5 irretroactivitat de les disposicions sancionadores no favorables o restrictives de drets individuals, la \\nseguretat jurídica, la responsabilitat i la interdicció de l\\'arbitrarietat dels poders públics. \\n \\nTítol primer \\nDels drets i dels deures fonamentals \\n \\nArticle 10 \\n1. La dignitat de la persona, els drets inviolables que li són inherents, el lliure desenvolupament de la \\npersonalitat, el respecte a la llei i als drets dels altres són fonament de l\\'ordre polític i de la pau social.  \\n2. Les normes relatives als drets fonamentals i a les llibertats que la Constitució reconeix s\\'interpretaran \\nde conformitat amb la Declaració Universal de Drets Humans i els tractats i els acords internacionals \\nsobre aquestes matèries ratificats per Espanya. \\n \\nCapítol I \\nDels espanyols i dels estrangers \\n \\nArticle 11 \\n1. La nacionalitat espanyola s\\'adquireix, es conserva i es perd d\\'acord amb el que la llei estableix.  \\n2. Cap espanyol d\\'origen no podrà ser privat de la seva nacionalitat.  \\n3. L\\'Estat podrà concertar tractats de doble nacionalitat amb els països iberoamericans o amb aquells \\nque hagin tingut o tinguin una vinculació particular amb Espanya. En aquests països, encara que no \\nreconeguin als seus ciutadans un dret recíproc, els espanyols podran naturalitzar-s\\'hi sense perdre la \\nnacionalitat d\\'origen. \\n \\nArticle 12 \\nEls espanyols són majors d\\'edat als divuit anys. \\n \\nArticle 13 \\n1. Els estrangers gaudiran a Espanya de les llibertats públiques que garanteix el Títol present en els \\ntermes que estableixin els tractats i la llei.  \\n2. Només els espanyols seran titulars dels drets reconeguts en l\\'article 23, llevat d\\'allò que, amb criteris \\nde reciprocitat, fos establert per tractat o per llei per al dret de sufragi actiu i passiu en les eleccions \\nmunicipals.  \\n3. L\\'extradició només es concedirà en compliment d\\'un tractat o de la llei, d\\'acord amb el principi de \\nreciprocitat. Resten exclosos de l\\'extradició els delictes polítics i no seran considerats com a tals els actes \\nde terrorisme.  \\n4. La llei establirà els termes en què els ciutadans d\\'altres països i els apàtrides podran gaudir del dret \\nd\\'asil a Espanya. \\n \\nCapítol II \\nDrets i llibertats \\n Portal Jurídic de Catalunya \\n3 Article 14 \\nEls espanyols són iguals davant la llei, sense que pugui prevaler cap discriminació per raó de naixença, \\nraça, sexe, religió, opinió o qualsevol altra condició o circumstància personal o social. \\n \\nSecció primera \\nDels drets fonamentals i de les llibertats públiques \\n \\nArticle 15 \\nTothom té dret a la vida i a la integritat física i moral, sense que, en cap cas, ningú no pugui ser sotmès a \\ntortura ni a penes o tractes inhumans o degradants. Resta abolida la pena de mort, llevat d\\'allò que \\npuguin disposar les lleis penals militars per a temps de guerra. \\n \\nArticle 16 \\n1. Es garanteix la llibertat ideològica, religiosa i de culte dels individus i de les comunitats sense cap més \\nlimitació, en les seves manifestacions, que la necessària per al manteniment de l\\'ordre públic protegit \\nper la llei.  \\n2. Ningú podrà ser obligat a declarar quant a la seva ideologia, religió o creences.  \\n3. Cap confessió tindrà caràcter estatal. Els poders públics tindran en compte les creences religioses de \\nla societat espanyola i mantindran les consegüents relacions de cooperació amb l\\'Església Catòlica i les \\naltres confessions. \\n \\nArticle 17 \\n1. Tota persona té dret a la llibertat i a la seguretat. Ningú podrà ser privat de la seva llibertat, sinó amb \\nl\\'observança del que estableix aquest article i en els casos i en la forma previstos en la llei.  \\n2. La detenció preventiva no podrà durar més temps del que sigui estrictament necessari per a fer les \\nindagacions per tal d\\'aclarir els fets i, en qualsevol cas, dins el termini màxim de setanta-dues hores, el \\ndetingut haurà de ser posat en llibertat o a disposició de l\\'autoritat judicial.  \\n3. Tota persona detinguda ha de ser informada immediatament i de manera que li sigui comprensible, \\ndels seus drets i de les raons de la detenció, i no podrà ser obligada a declarar. Es garanteix l\\'assistència \\nd\\'advocat al detingut en les diligències policials i judicials, en els termes que la llei estableixi.  \\n4. La llei regularà un procediment d\\'\"habeas corpus\" per tal de posar immediatament a disposició \\njudicial tota persona detinguda il·legalment. També es determinarà per llei el termini màxim de durada \\nde la presó provisional. \\n \\nArticle 18 \\n1. Es garanteix el dret a l\\'honor, a la intimitat personal i familiar i a la pròpia imatge.  \\n2. El domicili és inviolable. No s\\'hi podrà entrar ni fer-hi cap escorcoll sense el consentiment del titular o \\nsense resolució judicial, llevat del cas de delicte flagrant.  \\n3. Es garanteix el secret de les comunicacions i, especialment, de les postals, telegràfiques i telefòniques, \\nexcepte en cas de resolució judicial.  \\n4. La llei limitarà l\\'ús de la informàtica per tal de garantir l\\'honor i la intimitat personal i familiar dels Portal Jurídic de Catalunya \\n4', \"  \\n \\n \\nConstitució espanyola \\n \\n \\nTEXT CONSOLIDAT \\n \\nVigència 17/02/2024 - \\n \\nLa Nació espanyola, amb el desig d'establir la justícia, la llibertat i la seguretat i de promoure el bé de \\ntots els qui la integren, en ús de la seva sobirania, proclama la voluntat de:  \\nGarantir la convivència democràtica dins la Constitució i les lleis de conformitat amb un ordre econòmic i \\nsocial just.  \\nConsolidar un Estat de Dret que asseguri l'imperi de la Llei com a expressió de la voluntat popular.  \\nProtegir tots els espanyols i els pobles d'Espanya en l'exercici dels drets humans, les seves cultures i \\ntradicions, llengües i institucions.  \\nPromoure el progrés de la cultura i de l'economia per tal d'assegurar a tothom una qualitat de vida \\ndigna.  \\nEstablir una societat democràtica avançada, i  \\nCol·laborar a l'enfortiment d'unes relacions pacífiques i de cooperació eficaç entre tots els pobles de la \\nTerra.  \\nEn conseqüència, les Corts aproven i el poble espanyol ratifica la següent  \\nCONSTITUCIÓ \\n \\nTítol Preliminar \\n \\nArticle 1 \\n1. Espanya es constitueix en un Estat social i democràtic de Dret, que propugna com a valors superiors \\ndel seu ordenament jurídic la llibertat, la justícia, la igualtat i el pluralisme polític.  \\n2. La sobirania nacional resideix en el poble espanyol, del qual emanen els poders de l'Estat.  \\n3. La forma política de l'Estat espanyol és la Monarquia parlamentària. \\n \\nArticle 2 \\nLa Constitució es fonamenta en la indissoluble unitat de la Nació espanyola, pàtria comuna i indivisible \\nde tots els espanyols, i reconeix i garanteix el dret a l'autonomia de les nacionalitats i de les regions que \\nla integren i la solidaritat entre totes elles. \\n \\nArticle 3 \\n1. El castellà és la llengua espanyola oficial de l'Estat. Tots els espanyols tenen el deure de conèixer-la i el \\n1 irretroactivitat de les disposicions sancionadores no favorables o restrictives de drets individuals, la \\nseguretat jurídica, la responsabilitat i la interdicció de l'arbitrarietat dels poders públics. \\n \\nTítol primer \\nDels drets i dels deures fonamentals \\n \\nArticle 10 \\n1. La dignitat de la persona, els drets inviolables que li són inherents, el lliure desenvolupament de la \\npersonalitat, el respecte a la llei i als drets dels altres són fonament de l'ordre polític i de la pau social.  \\n2. Les normes relatives als drets fonamentals i a les llibertats que la Constitució reconeix s'interpretaran \\nde conformitat amb la Declaració Universal de Drets Humans i els tractats i els acords internacionals \\nsobre aquestes matèries ratificats per Espanya. \\n \\nCapítol I \\nDels espanyols i dels estrangers \\n \\nArticle 11 \\n1. La nacionalitat espanyola s'adquireix, es conserva i es perd d'acord amb el que la llei estableix.  \\n2. Cap espanyol d'origen no podrà ser privat de la seva nacionalitat.  \\n3. L'Estat podrà concertar tractats de doble nacionalitat amb els països iberoamericans o amb aquells \\nque hagin tingut o tinguin una vinculació particular amb Espanya. En aquests països, encara que no \\nreconeguin als seus ciutadans un dret recíproc, els espanyols podran naturalitzar-s'hi sense perdre la \\nnacionalitat d'origen. \\n \\nArticle 12 \\nEls espanyols són majors d'edat als divuit anys. \\n \\nArticle 13 \\n1. Els estrangers gaudiran a Espanya de les llibertats públiques que garanteix el Títol present en els \\ntermes que estableixin els tractats i la llei.  \\n2. Només els espanyols seran titulars dels drets reconeguts en l'article 23, llevat d'allò que, amb criteris \\nde reciprocitat, fos establert per tractat o per llei per al dret de sufragi actiu i passiu en les eleccions \\nmunicipals.  \\n3. L'extradició només es concedirà en compliment d'un tractat o de la llei, d'acord amb el principi de \\nreciprocitat. Resten exclosos de l'extradició els delictes polítics i no seran considerats com a tals els actes \\nde terrorisme.  \\n4. La llei establirà els termes en què els ciutadans d'altres països i els apàtrides podran gaudir del dret \\nd'asil a Espanya. \\n \\nCapítol II \\nDrets i llibertats \\n Portal Jurídic de Catalunya \\n3 de l'article 17 en el supòsit de declaració de l'estat d'excepció.  \\n2. Una llei orgànica podrà determinar la forma i els casos en què, de forma individual i amb la necessària \\nintervenció judicial i l'adequat control parlamentari, els drets reconeguts en els articles 17, apartat 2, i \\n18, apartats 2 i 3, puguin ser suspesos per a persones determinades, en relació amb les investigacions \\ncorresponents a l'actuació de bandes armades o elements terroristes.  \\nLa utilització injustificada o abusiva de les facultats reconegudes en la dita llei orgànica comportarà \\nresponsabilitat penal per violació dels drets i de les llibertats reconegudes per les lleis. \\n \\nTítol II \\nDe la Corona \\n \\nArticle 56 \\n1. El Rei és el Cap de l'Estat, símbol de la seva unitat i permanència, arbitra i modera el funcionament \\nregular de les institucions, assumeix la més alta representació de l'Estat espanyol en les relacions \\ninternacionals, especialment amb les nacions de la seva comunitat històrica, i exerceix les funcions que li \\natribueixen expressament la Constitució i les lleis.  \\n2. El seu títol és el de Rei d'Espanya, i podrà utilitzar els altres que corresponguin a la Corona.  \\n3. La persona del Rei és inviolable i no està subjecta a responsabilitat. Els seus actes seran sempre \\nreferendats en la forma establerta en l'article 64, i sense aquest referendament no tindran validesa, \\nllevat del que disposa l'article 65.2. \\n \\nArticle 57 \\n1. La Corona d'Espanya és hereditària en els successors de S. M. Joan Carles I de Borbó, legítim hereu de \\nla dinastia històrica. La successió al tron seguirà l'ordre regular de primogenitura i representació, i serà \\npreferida sempre la línia anterior a les posteriors; en la mateixa línia, el grau més pròxim al més remot; \\nen el mateix grau, l'home a la dona, i en el mateix sexe, la persona major a la menor.  \\n2. El Príncep hereu, des del naixement o des que s'esdevingui el fet que origini la crida, tindrà la dignitat \\nde Príncep d'Astúries i els altres títols vinculats tradicionalment al successor de la Corona d'Espanya.  \\n3. Havent-se extingit totes les línies cridades a Dret, les Corts Generals proveiran la successió a la Corona \\nen la forma que més convingui als interessos d'Espanya.  \\n4. Les persones que, tenint dret a la successió al tron, contraguessin matrimoni contra la prohibició \\nexpressa del Rei i de les Corts Generals, restaran excloses de la successió a la Corona elles mateixes i els \\nseus descendents.  \\n5. Les abdicacions i les renúncies i qualsevol dubte de fet o de dret que s'esdevingui en l'ordre de \\nsuccessió a la Corona es resoldran amb una llei orgànica. \\n \\nArticle 58 \\nLa Reina consort o el consort de la Reina no podran assumir funcions constitucionals, llevat del que es \\ndisposa per a la Regència. \\n \\nArticle 59 Portal Jurídic de Catalunya \\n12 control judicial en els termes que estableixi la llei electoral. \\n \\nArticle 71 \\n1. Els Diputats i els Senadors gaudiran d'inviolabilitat per les opinions manifestades en l'exercici de les \\nseves funcions.  \\n2. Durant el període del seu mandat, els Diputats i els Senadors gaudiran també d'immunitat, i només \\npodran ser detinguts en cas de delicte flagrant. No podran ser inculpats ni processats sense \\nl'autorització prèvia de la Cambra respectiva.  \\n3. En les causes contra Diputats i Senadors serà competent la Sala Penal del Tribunal Suprem.  \\n4. Els Diputats i els Senadors percebran una assignació que serà fixada per les Cambres respectives. \\n \\nArticle 72 \\n1. Les Cambres estableixen els seus propis Reglaments, aproven autònomament els seus pressupostos i, \\nde comú acord, regulen l'estatut del personal de les Corts Generals. Els Reglaments i la reforma \\nd'aquests seran sotmesos a una votació final sobre la totalitat, la qual requerirà la majoria absoluta.  \\n2. Les Cambres elegeixen els Presidents respectius i els altres membres de les Meses. Les sessions \\nconjuntes seran presidides pel President del Congrés i es regiran mitjançant un Reglament de les Corts \\nGenerals aprovat per la majoria absoluta de cada Cambra.  \\n3. Els Presidents de les Cambres exerceixen en nom d'aquestes tots els poders administratius i les \\nfacultats de policia a l'interior de les seus respectives. \\n \\nArticle 73 \\n1. Les Cambres es reuniran anualment en dos períodes ordinaris de sessions: el primer, del setembre al \\ndesembre, i el segon, del febrer al juny.  \\n2. Les Cambres podran reunir-se en sessions extraordinàries a petició del Govern, de la Diputació \\nPermanent o de la majoria absoluta dels membres de qualsevol de les Cambres. Les sessions \\nextraordinàries hauran de ser convocades amb un ordre del dia determinat i seran closes després \\nd'haver-lo exhaurit. \\n \\nArticle 74 \\n1. Les Cambres es reuniran en sessió conjunta per tal d'exercir les competències no legislatives que el \\nTítol II atribueix expressament a les Corts Generals.  \\n2. L'adopció de les decisions de les Corts Generals previstes en els articles 94.1, 145.2 i 158.2 requerirà la \\nmajoria de cada una de les Cambres. En el primer cas, el procediment serà iniciat pel Congrés, i en els \\naltres dos, pel Senat. En tots dos casos, si no hi hagués acord entre el Senat i el Congrés, s'intentarà \\nobtenir-lo mitjançant una Comissió Mixta composta per un mateix nombre de Diputats i de Senadors. La \\nComissió presentarà un text que haurà de ser votat per totes dues Cambres. Si no s'aprova en la forma \\nestablerta, decidirà el Congrés per majoria absoluta. \\n \\nArticle 75 \\n1. Les Cambres funcionaran en Ple i per Comissions.  Portal Jurídic de Catalunya \\n16 dret d'usar-la.  \\n2. Les altres llengües espanyoles seran també oficials en les respectives Comunitats Autònomes d'acord \\namb els seus Estatuts.  \\n3. La riquesa de les diferents modalitats lingüístiques d'Espanya és un patrimoni cultural que serà \\nobjecte d'especial respecte i protecció. \\n \\nArticle 4 \\n1. La bandera d'Espanya és formada per tres franges horitzontals, vermella, groga i vermella; la groga és \\nde doble amplada que la de cadascuna de les vermelles.  \\n2. Els Estatuts podran reconèixer banderes i ensenyes pròpies de les Comunitats Autònomes. Aquestes \\ns'utilitzaran juntament amb la bandera d'Espanya en els seus edificis públics i en els seus actes oficials. \\n \\nArticle 5 \\nLa capital de l'Estat és la vila de Madrid. \\n \\nArticle 6 \\nEls partits polítics expressen el pluralisme polític, concorren a la formació i a la manifestació de la \\nvoluntat popular i són instrument fonamental per a la participació política. Podran ser creats i exerciran \\nla seva activitat lliurement dins el respecte a la Constitució i a la llei. L'estructura interna i el \\nfuncionament hauran de ser democràtics. \\n \\nArticle 7 \\nEls sindicats de treballadors i les associacions empresarials contribueixen a la defensa i a la promoció \\ndels interessos econòmics i socials que els són propis. Podran ser creats i exerciran la seva activitat \\nlliurement dins el respecte a la Constitució i a la llei. L'estructura interna i el funcionament hauran de ser \\ndemocràtics. \\n \\nArticle 8 \\n1. Les Forces Armades, constituïdes per l'Exèrcit de Terra, l'Armada i l'Exèrcit de l'Aire, tenen com a \\nmissió garantir la sobirania i la independència d'Espanya, defensar-ne la integritat territorial i \\nl'ordenament constitucional.  \\n2. Una llei orgànica regularà les bases de l'organització militar de conformitat amb els principis de la \\npresent Constitució. \\n \\nArticle 9 \\n1. Els ciutadans i els poders públics resten subjectes a la Constitució i a la resta de l'ordenament jurídic.  \\n2. Correspon als poders públics de promoure les condicions per tal que la llibertat i la igualtat de \\nl'individu i dels grups en els quals s'integra siguin reals i efectives; remoure els obstacles que \\nn'impedeixin o en dificultin la plenitud i facilitar la participació de tots els ciutadans en la vida política, \\neconòmica, cultural i social.  \\n3. La Constitució garanteix el principi de legalitat, la jerarquia normativa, la publicitat de les normes, la Portal Jurídic de Catalunya \\n2\"]\n"
     ]
    }
   ],
   "source": [
    "truths = []\n",
    "\n",
    "for context in contexts:\n",
    "    # Concatenate the contexts of each context\n",
    "    context = \" \".join(context)\n",
    "    truths.append(context)\n",
    "\n",
    "print(truths)"
   ]
  },
  {
   "cell_type": "code",
   "execution_count": 29,
   "metadata": {},
   "outputs": [
    {
     "data": {
      "text/plain": [
       "2"
      ]
     },
     "execution_count": 29,
     "metadata": {},
     "output_type": "execute_result"
    }
   ],
   "source": [
    "len(truths)"
   ]
  },
  {
   "cell_type": "markdown",
   "metadata": {},
   "source": [
    "Ahora creamos las respuestas esperadas para cada pregunta."
   ]
  },
  {
   "cell_type": "code",
   "execution_count": 30,
   "metadata": {},
   "outputs": [],
   "source": [
    "answers_docs_cat = [\n",
    "    \"La Constitució Espanyola reconeix el castellà com a llengua oficial de l'Estat i estableix que tots els espanyols tenen el deure de conèixer-la i el dret a usar-la. També reconeix que les altres llengües espanyoles seran oficials en les respectives Comunitats Autònomes d'acord amb els seus Estatuts, i protegeix la riquesa de les diferents modalitats lingüístiques d'Espanya com un patrimoni cultural que ha de ser objecte d'especial respecte i protecció.\",\n",
    "    \"La Constitució Espanyola estableix que la detenció preventiva no pot durar més del temps estrictament necessari per a la realització de les averiguacions, i en tot cas, el detingut ha de ser posat en llibertat o a disposició de l'autoritat judicial en un termini màxim de 72 hores. A més, garanteix el dret a ser informat de forma immediata i comprensible sobre els drets i les raons de la detenció, així com el dret a l'assistència d'un advocat.\",\n",
    "    # \"Segons la Constitució Espanyola, els valors superiors de l'ordenament jurídic espanyol són la llibertat, la justícia, la igualtat i el pluralisme polític.\",\n",
    "    # \"En un contracte indefinit per a persones amb discapacitat, es poden aplicar condicions específiques com bonificacions en la quota empresarial a la Seguretat Social, subvencions, i adaptacions del lloc de treball segons les característiques de la persona. A més, es poden establir períodes de prova i d'adaptació al treball adequats a la situació del treballador.\",\n",
    "    # \"La durada del període de prova en un contracte indefinit es defineix d'acord amb el que estableix l'Estatut dels Treballadors, respectant les normes legals vigents. Pot variar segons el grup professional o el nivell del treballador, i en alguns casos pot ser de fins a un any si s'acull a certes disposicions legals.\",\n",
    "    # \"Per als contractes indefinits celebrats amb treballadors pertanyents al Sistema Nacional de Garantia Juvenil, es mencionen bonificacions de 300 euros mensuals en la cotització empresarial a la Seguretat Social durant un període de 6 mesos. En el cas de contractes a temps parcial, la bonificació s'ajusta proporcionalment al percentatge de la jornada.\",\n",
    "]\n",
    "\n",
    "# answers_docs_en = [\n",
    "#     \"The probationary period may be extended or terminated if the employee's work performance is not up to the required standard or if the working relationship is not agreeable. Both parties are required to give one week's written notice during this period.\",\n",
    "#     \"The holiday entitlement is 5.6 weeks per year, pro-rata for part-time employees. Holidays must be taken within the year, and carrying over untaken holidays requires prior agreement, except in cases of sickness preventing the leave.\",\n",
    "#     \"During the probationary period, both parties must give one week's notice to terminate employment. After the probationary period, four weeks' notice is required, increasing by one week per year of service up to a maximum of twelve weeks. The employer may terminate employment without notice in cases of serious breach, gross misconduct, or gross negligence.\",\n",
    "#     \"The document offers alternatives for the Second Chamber: a directly elected body representing the nations and regions of the UK, or a Chamber of Experts appointed for 15 years based on recognized expertise. It also suggests the possibility of the Second Chamber having the power to veto bills under certain conditions.\",\n",
    "#     \"The proposed Bill of Rights includes rights such as the right to life, freedom from torture, slavery, and forced labor, and the right to a fair trial. Other rights include freedom of thought, expression, assembly, and the right to marry and found a family.\",\n",
    "#     \"The document proposes that constitutional amendments could be enacted or repealed by Parliament through ordinary legislative procedures, with some suggesting the need for a two-thirds majority in both Houses and approval by a public referendum.\"\n",
    "# ]\n",
    "\n",
    "# answers_docs_es = [\n",
    "#     \"La Constitución Española reconoce el castellano como lengua oficial del Estado y establece que todos los españoles tienen el deber de conocerla y el derecho a usarla. También reconoce que las demás lenguas españolas serán oficiales en las respectivas Comunidades Autónomas de acuerdo con sus Estatutos, y protege la riqueza de las distintas modalidades lingüísticas de España como un patrimonio cultural que debe ser objeto de especial respeto y protección.\",\n",
    "#     \"La Constitución Española establece que la detención preventiva no puede durar más del tiempo estrictamente necesario para la realización de las averiguaciones, y en todo caso, el detenido debe ser puesto en libertad o a disposición de la autoridad judicial en un plazo máximo de 72 horas. Además, garantiza el derecho a ser informado de forma inmediata y comprensible sobre los derechos y las razones de la detención, así como el derecho a la asistencia de un abogado.\",\n",
    "#     \"Según la Constitución Española, los valores superiores del ordenamiento jurídico español son la libertad, la justicia, la igualdad y el pluralismo político.\",\n",
    "#     \"En un contrato indefinido para personas con discapacidad, se pueden aplicar condiciones específicas como bonificaciones en la cuota empresarial a la Seguridad Social, subvenciones, y adaptaciones del puesto de trabajo según las características de la persona. Además, se pueden establecer períodos de prueba y de adaptación al trabajo adecuados a la situación del trabajador.\",\n",
    "#     \"La duración del período de prueba en un contrato indefinido se define de acuerdo con lo establecido en el Estatuto de los Trabajadores, respetando las normas legales vigentes. Puede variar según el grupo profesional o el nivel del trabajador, y en algunos casos puede ser de hasta un año si se acoge a ciertas disposiciones legales.\",\n",
    "#     \"Para los contratos indefinidos celebrados con trabajadores pertenecientes al Sistema Nacional de Garantía Juvenil, se mencionan bonificaciones de 300 euros mensuales en la cotización empresarial a la Seguridad Social durante un período de 6 meses. En el caso de contratos a tiempo parcial, la bonificación se ajusta proporcionalmente al porcentaje de la jornada.\",\n",
    "# ]\n",
    "\n",
    "\n",
    "answers = answers_docs_cat #+ answers_docs_en + answers_docs_es"
   ]
  },
  {
   "cell_type": "markdown",
   "metadata": {},
   "source": [
    "Finalmente creamos el DataFrame para evaluar los modelos."
   ]
  },
  {
   "cell_type": "code",
   "execution_count": 31,
   "metadata": {},
   "outputs": [
    {
     "data": {
      "text/plain": [
       "2"
      ]
     },
     "execution_count": 31,
     "metadata": {},
     "output_type": "execute_result"
    }
   ],
   "source": [
    "len(questions)"
   ]
  },
  {
   "cell_type": "code",
   "execution_count": 32,
   "metadata": {},
   "outputs": [
    {
     "data": {
      "text/plain": [
       "2"
      ]
     },
     "execution_count": 32,
     "metadata": {},
     "output_type": "execute_result"
    }
   ],
   "source": [
    "len(answers)"
   ]
  },
  {
   "cell_type": "code",
   "execution_count": 33,
   "metadata": {},
   "outputs": [
    {
     "data": {
      "text/plain": [
       "2"
      ]
     },
     "execution_count": 33,
     "metadata": {},
     "output_type": "execute_result"
    }
   ],
   "source": [
    "len(contexts)"
   ]
  },
  {
   "cell_type": "code",
   "execution_count": null,
   "metadata": {},
   "outputs": [
    {
     "data": {
      "text/plain": [
       "[\"La intel·ligència artificial està transformant ràpidament la forma en què les empreses operen, automatitzant processos i millorant la presa de decisions a través de l'anàlisi de dades en temps real.\",\n",
       " \"La Constitució Espanyola estableix que la detenció preventiva no pot durar més del temps estrictament necessari per a la realització de les averiguacions, i en tot cas, el detingut ha de ser posat en llibertat o a disposició de l'autoritat judicial en un termini màxim de 72 hores. A més, garanteix el dret a ser informat de forma immediata i comprensible sobre els drets i les raons de la detenció, així com el dret a l'assistència d'un advocat.\"]"
      ]
     },
     "execution_count": 128,
     "metadata": {},
     "output_type": "execute_result"
    }
   ],
   "source": [
    "articles_tecnologia_cat = [\n",
    "    \"La intel·ligència artificial està transformant ràpidament la forma en què les empreses operen, automatitzant processos i millorant la presa de decisions a través de l'anàlisi de dades en temps real.\",\n",
    "    answers[1],\n",
    "    # \"El desenvolupament de la tecnologia 5G permetrà velocitats de connexió a internet significativament més altes, obrint la porta a noves aplicacions com la realitat augmentada i la Internet de les Coses (IoT).\",\n",
    "    # \"Els vehicles elèctrics estan guanyant popularitat a mesura que els consumidors busquen alternatives més ecològiques als motors de combustió interna. A més, els avenços en bateries estan millorant l'autonomia i el temps de càrrega.\",\n",
    "\n",
    "    # \"Les energies renovables, com l'energia solar i eòlica, estan experimentant un creixement ràpid gràcies a la seva disminució de costos i a la consciència creixent sobre el canvi climàtic i la sostenibilitat.\",\n",
    "    # \"La computació en núvol s'ha convertit en una eina essencial per a les empreses, permetent emmagatzematge flexible i accés remot a les dades, així com la capacitat de treballar col·laborativament des de qualsevol lloc del món.\",\n",
    "]\n",
    "articles_tecnologia_cat"
   ]
  },
  {
   "cell_type": "code",
   "execution_count": 34,
   "metadata": {},
   "outputs": [],
   "source": [
    "data_samples = {\n",
    "    'question': questions,\n",
    "    'answer': answers,\n",
    "    'contexts': contexts,\n",
    "    'ground_truth':  answers\n",
    "}\n",
    "\n",
    "dataset = Dataset.from_dict(data_samples)"
   ]
  },
  {
   "cell_type": "markdown",
   "metadata": {},
   "source": [
    "## 5. Evaluación de los modelos"
   ]
  },
  {
   "cell_type": "code",
   "execution_count": 35,
   "metadata": {},
   "outputs": [],
   "source": [
    "embeddings = get_embedding_function(emb_model[0])\n",
    "llm = Ollama(model=llm_model[0])"
   ]
  },
  {
   "cell_type": "code",
   "execution_count": 36,
   "metadata": {},
   "outputs": [],
   "source": [
    "import getpass\n",
    "import os\n",
    "\n",
    "os.environ[\"HUGGINGFACEHUB_API_TOKEN\"] = getpass.getpass(\n",
    "    \"Enter your Hugging Face API key: \"\n",
    ")"
   ]
  },
  {
   "cell_type": "code",
   "execution_count": 37,
   "metadata": {},
   "outputs": [
    {
     "ename": "OSError",
     "evalue": "You are trying to access a gated repo.\nMake sure to have access to it at https://huggingface.co/mistralai/Mistral-7B-Instruct-v0.3.\n401 Client Error. (Request ID: Root=1-66d06af2-63cb18360b1a37101eadc253;c5581b56-c053-44ce-936a-b935ecfbb01b)\n\nCannot access gated repo for url https://huggingface.co/mistralai/Mistral-7B-Instruct-v0.3/resolve/main/config.json.\nAccess to model mistralai/Mistral-7B-Instruct-v0.3 is restricted. You must be authenticated to access it.",
     "output_type": "error",
     "traceback": [
      "\u001b[1;31m---------------------------------------------------------------------------\u001b[0m",
      "\u001b[1;31mHTTPError\u001b[0m                                 Traceback (most recent call last)",
      "File \u001b[1;32mc:\\Users\\luisb\\Documents\\GitHub\\documentQuestionAnswering\\.venv\\Lib\\site-packages\\huggingface_hub\\utils\\_errors.py:304\u001b[0m, in \u001b[0;36mhf_raise_for_status\u001b[1;34m(response, endpoint_name)\u001b[0m\n\u001b[0;32m    303\u001b[0m \u001b[38;5;28;01mtry\u001b[39;00m:\n\u001b[1;32m--> 304\u001b[0m     \u001b[43mresponse\u001b[49m\u001b[38;5;241;43m.\u001b[39;49m\u001b[43mraise_for_status\u001b[49m\u001b[43m(\u001b[49m\u001b[43m)\u001b[49m\n\u001b[0;32m    305\u001b[0m \u001b[38;5;28;01mexcept\u001b[39;00m HTTPError \u001b[38;5;28;01mas\u001b[39;00m e:\n",
      "File \u001b[1;32mc:\\Users\\luisb\\Documents\\GitHub\\documentQuestionAnswering\\.venv\\Lib\\site-packages\\requests\\models.py:1024\u001b[0m, in \u001b[0;36mResponse.raise_for_status\u001b[1;34m(self)\u001b[0m\n\u001b[0;32m   1023\u001b[0m \u001b[38;5;28;01mif\u001b[39;00m http_error_msg:\n\u001b[1;32m-> 1024\u001b[0m     \u001b[38;5;28;01mraise\u001b[39;00m HTTPError(http_error_msg, response\u001b[38;5;241m=\u001b[39m\u001b[38;5;28mself\u001b[39m)\n",
      "\u001b[1;31mHTTPError\u001b[0m: 401 Client Error: Unauthorized for url: https://huggingface.co/mistralai/Mistral-7B-Instruct-v0.3/resolve/main/config.json",
      "\nThe above exception was the direct cause of the following exception:\n",
      "\u001b[1;31mGatedRepoError\u001b[0m                            Traceback (most recent call last)",
      "File \u001b[1;32mc:\\Users\\luisb\\Documents\\GitHub\\documentQuestionAnswering\\.venv\\Lib\\site-packages\\transformers\\utils\\hub.py:402\u001b[0m, in \u001b[0;36mcached_file\u001b[1;34m(path_or_repo_id, filename, cache_dir, force_download, resume_download, proxies, token, revision, local_files_only, subfolder, repo_type, user_agent, _raise_exceptions_for_gated_repo, _raise_exceptions_for_missing_entries, _raise_exceptions_for_connection_errors, _commit_hash, **deprecated_kwargs)\u001b[0m\n\u001b[0;32m    400\u001b[0m \u001b[38;5;28;01mtry\u001b[39;00m:\n\u001b[0;32m    401\u001b[0m     \u001b[38;5;66;03m# Load from URL or cache if already cached\u001b[39;00m\n\u001b[1;32m--> 402\u001b[0m     resolved_file \u001b[38;5;241m=\u001b[39m \u001b[43mhf_hub_download\u001b[49m\u001b[43m(\u001b[49m\n\u001b[0;32m    403\u001b[0m \u001b[43m        \u001b[49m\u001b[43mpath_or_repo_id\u001b[49m\u001b[43m,\u001b[49m\n\u001b[0;32m    404\u001b[0m \u001b[43m        \u001b[49m\u001b[43mfilename\u001b[49m\u001b[43m,\u001b[49m\n\u001b[0;32m    405\u001b[0m \u001b[43m        \u001b[49m\u001b[43msubfolder\u001b[49m\u001b[38;5;241;43m=\u001b[39;49m\u001b[38;5;28;43;01mNone\u001b[39;49;00m\u001b[43m \u001b[49m\u001b[38;5;28;43;01mif\u001b[39;49;00m\u001b[43m \u001b[49m\u001b[38;5;28;43mlen\u001b[39;49m\u001b[43m(\u001b[49m\u001b[43msubfolder\u001b[49m\u001b[43m)\u001b[49m\u001b[43m \u001b[49m\u001b[38;5;241;43m==\u001b[39;49m\u001b[43m \u001b[49m\u001b[38;5;241;43m0\u001b[39;49m\u001b[43m \u001b[49m\u001b[38;5;28;43;01melse\u001b[39;49;00m\u001b[43m \u001b[49m\u001b[43msubfolder\u001b[49m\u001b[43m,\u001b[49m\n\u001b[0;32m    406\u001b[0m \u001b[43m        \u001b[49m\u001b[43mrepo_type\u001b[49m\u001b[38;5;241;43m=\u001b[39;49m\u001b[43mrepo_type\u001b[49m\u001b[43m,\u001b[49m\n\u001b[0;32m    407\u001b[0m \u001b[43m        \u001b[49m\u001b[43mrevision\u001b[49m\u001b[38;5;241;43m=\u001b[39;49m\u001b[43mrevision\u001b[49m\u001b[43m,\u001b[49m\n\u001b[0;32m    408\u001b[0m \u001b[43m        \u001b[49m\u001b[43mcache_dir\u001b[49m\u001b[38;5;241;43m=\u001b[39;49m\u001b[43mcache_dir\u001b[49m\u001b[43m,\u001b[49m\n\u001b[0;32m    409\u001b[0m \u001b[43m        \u001b[49m\u001b[43muser_agent\u001b[49m\u001b[38;5;241;43m=\u001b[39;49m\u001b[43muser_agent\u001b[49m\u001b[43m,\u001b[49m\n\u001b[0;32m    410\u001b[0m \u001b[43m        \u001b[49m\u001b[43mforce_download\u001b[49m\u001b[38;5;241;43m=\u001b[39;49m\u001b[43mforce_download\u001b[49m\u001b[43m,\u001b[49m\n\u001b[0;32m    411\u001b[0m \u001b[43m        \u001b[49m\u001b[43mproxies\u001b[49m\u001b[38;5;241;43m=\u001b[39;49m\u001b[43mproxies\u001b[49m\u001b[43m,\u001b[49m\n\u001b[0;32m    412\u001b[0m \u001b[43m        \u001b[49m\u001b[43mresume_download\u001b[49m\u001b[38;5;241;43m=\u001b[39;49m\u001b[43mresume_download\u001b[49m\u001b[43m,\u001b[49m\n\u001b[0;32m    413\u001b[0m \u001b[43m        \u001b[49m\u001b[43mtoken\u001b[49m\u001b[38;5;241;43m=\u001b[39;49m\u001b[43mtoken\u001b[49m\u001b[43m,\u001b[49m\n\u001b[0;32m    414\u001b[0m \u001b[43m        \u001b[49m\u001b[43mlocal_files_only\u001b[49m\u001b[38;5;241;43m=\u001b[39;49m\u001b[43mlocal_files_only\u001b[49m\u001b[43m,\u001b[49m\n\u001b[0;32m    415\u001b[0m \u001b[43m    \u001b[49m\u001b[43m)\u001b[49m\n\u001b[0;32m    416\u001b[0m \u001b[38;5;28;01mexcept\u001b[39;00m GatedRepoError \u001b[38;5;28;01mas\u001b[39;00m e:\n",
      "File \u001b[1;32mc:\\Users\\luisb\\Documents\\GitHub\\documentQuestionAnswering\\.venv\\Lib\\site-packages\\huggingface_hub\\utils\\_deprecation.py:101\u001b[0m, in \u001b[0;36m_deprecate_arguments.<locals>._inner_deprecate_positional_args.<locals>.inner_f\u001b[1;34m(*args, **kwargs)\u001b[0m\n\u001b[0;32m    100\u001b[0m     warnings\u001b[38;5;241m.\u001b[39mwarn(message, \u001b[38;5;167;01mFutureWarning\u001b[39;00m)\n\u001b[1;32m--> 101\u001b[0m \u001b[38;5;28;01mreturn\u001b[39;00m \u001b[43mf\u001b[49m\u001b[43m(\u001b[49m\u001b[38;5;241;43m*\u001b[39;49m\u001b[43margs\u001b[49m\u001b[43m,\u001b[49m\u001b[43m \u001b[49m\u001b[38;5;241;43m*\u001b[39;49m\u001b[38;5;241;43m*\u001b[39;49m\u001b[43mkwargs\u001b[49m\u001b[43m)\u001b[49m\n",
      "File \u001b[1;32mc:\\Users\\luisb\\Documents\\GitHub\\documentQuestionAnswering\\.venv\\Lib\\site-packages\\huggingface_hub\\utils\\_validators.py:114\u001b[0m, in \u001b[0;36mvalidate_hf_hub_args.<locals>._inner_fn\u001b[1;34m(*args, **kwargs)\u001b[0m\n\u001b[0;32m    112\u001b[0m     kwargs \u001b[38;5;241m=\u001b[39m smoothly_deprecate_use_auth_token(fn_name\u001b[38;5;241m=\u001b[39mfn\u001b[38;5;241m.\u001b[39m\u001b[38;5;18m__name__\u001b[39m, has_token\u001b[38;5;241m=\u001b[39mhas_token, kwargs\u001b[38;5;241m=\u001b[39mkwargs)\n\u001b[1;32m--> 114\u001b[0m \u001b[38;5;28;01mreturn\u001b[39;00m \u001b[43mfn\u001b[49m\u001b[43m(\u001b[49m\u001b[38;5;241;43m*\u001b[39;49m\u001b[43margs\u001b[49m\u001b[43m,\u001b[49m\u001b[43m \u001b[49m\u001b[38;5;241;43m*\u001b[39;49m\u001b[38;5;241;43m*\u001b[39;49m\u001b[43mkwargs\u001b[49m\u001b[43m)\u001b[49m\n",
      "File \u001b[1;32mc:\\Users\\luisb\\Documents\\GitHub\\documentQuestionAnswering\\.venv\\Lib\\site-packages\\huggingface_hub\\file_download.py:1240\u001b[0m, in \u001b[0;36mhf_hub_download\u001b[1;34m(repo_id, filename, subfolder, repo_type, revision, library_name, library_version, cache_dir, local_dir, user_agent, force_download, proxies, etag_timeout, token, local_files_only, headers, endpoint, legacy_cache_layout, resume_download, force_filename, local_dir_use_symlinks)\u001b[0m\n\u001b[0;32m   1239\u001b[0m \u001b[38;5;28;01melse\u001b[39;00m:\n\u001b[1;32m-> 1240\u001b[0m     \u001b[38;5;28;01mreturn\u001b[39;00m \u001b[43m_hf_hub_download_to_cache_dir\u001b[49m\u001b[43m(\u001b[49m\n\u001b[0;32m   1241\u001b[0m \u001b[43m        \u001b[49m\u001b[38;5;66;43;03m# Destination\u001b[39;49;00m\n\u001b[0;32m   1242\u001b[0m \u001b[43m        \u001b[49m\u001b[43mcache_dir\u001b[49m\u001b[38;5;241;43m=\u001b[39;49m\u001b[43mcache_dir\u001b[49m\u001b[43m,\u001b[49m\n\u001b[0;32m   1243\u001b[0m \u001b[43m        \u001b[49m\u001b[38;5;66;43;03m# File info\u001b[39;49;00m\n\u001b[0;32m   1244\u001b[0m \u001b[43m        \u001b[49m\u001b[43mrepo_id\u001b[49m\u001b[38;5;241;43m=\u001b[39;49m\u001b[43mrepo_id\u001b[49m\u001b[43m,\u001b[49m\n\u001b[0;32m   1245\u001b[0m \u001b[43m        \u001b[49m\u001b[43mfilename\u001b[49m\u001b[38;5;241;43m=\u001b[39;49m\u001b[43mfilename\u001b[49m\u001b[43m,\u001b[49m\n\u001b[0;32m   1246\u001b[0m \u001b[43m        \u001b[49m\u001b[43mrepo_type\u001b[49m\u001b[38;5;241;43m=\u001b[39;49m\u001b[43mrepo_type\u001b[49m\u001b[43m,\u001b[49m\n\u001b[0;32m   1247\u001b[0m \u001b[43m        \u001b[49m\u001b[43mrevision\u001b[49m\u001b[38;5;241;43m=\u001b[39;49m\u001b[43mrevision\u001b[49m\u001b[43m,\u001b[49m\n\u001b[0;32m   1248\u001b[0m \u001b[43m        \u001b[49m\u001b[38;5;66;43;03m# HTTP info\u001b[39;49;00m\n\u001b[0;32m   1249\u001b[0m \u001b[43m        \u001b[49m\u001b[43mendpoint\u001b[49m\u001b[38;5;241;43m=\u001b[39;49m\u001b[43mendpoint\u001b[49m\u001b[43m,\u001b[49m\n\u001b[0;32m   1250\u001b[0m \u001b[43m        \u001b[49m\u001b[43metag_timeout\u001b[49m\u001b[38;5;241;43m=\u001b[39;49m\u001b[43metag_timeout\u001b[49m\u001b[43m,\u001b[49m\n\u001b[0;32m   1251\u001b[0m \u001b[43m        \u001b[49m\u001b[43mheaders\u001b[49m\u001b[38;5;241;43m=\u001b[39;49m\u001b[43mheaders\u001b[49m\u001b[43m,\u001b[49m\n\u001b[0;32m   1252\u001b[0m \u001b[43m        \u001b[49m\u001b[43mproxies\u001b[49m\u001b[38;5;241;43m=\u001b[39;49m\u001b[43mproxies\u001b[49m\u001b[43m,\u001b[49m\n\u001b[0;32m   1253\u001b[0m \u001b[43m        \u001b[49m\u001b[43mtoken\u001b[49m\u001b[38;5;241;43m=\u001b[39;49m\u001b[43mtoken\u001b[49m\u001b[43m,\u001b[49m\n\u001b[0;32m   1254\u001b[0m \u001b[43m        \u001b[49m\u001b[38;5;66;43;03m# Additional options\u001b[39;49;00m\n\u001b[0;32m   1255\u001b[0m \u001b[43m        \u001b[49m\u001b[43mlocal_files_only\u001b[49m\u001b[38;5;241;43m=\u001b[39;49m\u001b[43mlocal_files_only\u001b[49m\u001b[43m,\u001b[49m\n\u001b[0;32m   1256\u001b[0m \u001b[43m        \u001b[49m\u001b[43mforce_download\u001b[49m\u001b[38;5;241;43m=\u001b[39;49m\u001b[43mforce_download\u001b[49m\u001b[43m,\u001b[49m\n\u001b[0;32m   1257\u001b[0m \u001b[43m    \u001b[49m\u001b[43m)\u001b[49m\n",
      "File \u001b[1;32mc:\\Users\\luisb\\Documents\\GitHub\\documentQuestionAnswering\\.venv\\Lib\\site-packages\\huggingface_hub\\file_download.py:1347\u001b[0m, in \u001b[0;36m_hf_hub_download_to_cache_dir\u001b[1;34m(cache_dir, repo_id, filename, repo_type, revision, endpoint, etag_timeout, headers, proxies, token, local_files_only, force_download)\u001b[0m\n\u001b[0;32m   1346\u001b[0m     \u001b[38;5;66;03m# Otherwise, raise appropriate error\u001b[39;00m\n\u001b[1;32m-> 1347\u001b[0m     \u001b[43m_raise_on_head_call_error\u001b[49m\u001b[43m(\u001b[49m\u001b[43mhead_call_error\u001b[49m\u001b[43m,\u001b[49m\u001b[43m \u001b[49m\u001b[43mforce_download\u001b[49m\u001b[43m,\u001b[49m\u001b[43m \u001b[49m\u001b[43mlocal_files_only\u001b[49m\u001b[43m)\u001b[49m\n\u001b[0;32m   1349\u001b[0m \u001b[38;5;66;03m# From now on, etag, commit_hash, url and size are not None.\u001b[39;00m\n",
      "File \u001b[1;32mc:\\Users\\luisb\\Documents\\GitHub\\documentQuestionAnswering\\.venv\\Lib\\site-packages\\huggingface_hub\\file_download.py:1854\u001b[0m, in \u001b[0;36m_raise_on_head_call_error\u001b[1;34m(head_call_error, force_download, local_files_only)\u001b[0m\n\u001b[0;32m   1852\u001b[0m \u001b[38;5;28;01melif\u001b[39;00m \u001b[38;5;28misinstance\u001b[39m(head_call_error, RepositoryNotFoundError) \u001b[38;5;129;01mor\u001b[39;00m \u001b[38;5;28misinstance\u001b[39m(head_call_error, GatedRepoError):\n\u001b[0;32m   1853\u001b[0m     \u001b[38;5;66;03m# Repo not found or gated => let's raise the actual error\u001b[39;00m\n\u001b[1;32m-> 1854\u001b[0m     \u001b[38;5;28;01mraise\u001b[39;00m head_call_error\n\u001b[0;32m   1855\u001b[0m \u001b[38;5;28;01melse\u001b[39;00m:\n\u001b[0;32m   1856\u001b[0m     \u001b[38;5;66;03m# Otherwise: most likely a connection issue or Hub downtime => let's warn the user\u001b[39;00m\n",
      "File \u001b[1;32mc:\\Users\\luisb\\Documents\\GitHub\\documentQuestionAnswering\\.venv\\Lib\\site-packages\\huggingface_hub\\file_download.py:1751\u001b[0m, in \u001b[0;36m_get_metadata_or_catch_error\u001b[1;34m(repo_id, filename, repo_type, revision, endpoint, proxies, etag_timeout, headers, token, local_files_only, relative_filename, storage_folder)\u001b[0m\n\u001b[0;32m   1750\u001b[0m \u001b[38;5;28;01mtry\u001b[39;00m:\n\u001b[1;32m-> 1751\u001b[0m     metadata \u001b[38;5;241m=\u001b[39m \u001b[43mget_hf_file_metadata\u001b[49m\u001b[43m(\u001b[49m\n\u001b[0;32m   1752\u001b[0m \u001b[43m        \u001b[49m\u001b[43murl\u001b[49m\u001b[38;5;241;43m=\u001b[39;49m\u001b[43murl\u001b[49m\u001b[43m,\u001b[49m\u001b[43m \u001b[49m\u001b[43mproxies\u001b[49m\u001b[38;5;241;43m=\u001b[39;49m\u001b[43mproxies\u001b[49m\u001b[43m,\u001b[49m\u001b[43m \u001b[49m\u001b[43mtimeout\u001b[49m\u001b[38;5;241;43m=\u001b[39;49m\u001b[43metag_timeout\u001b[49m\u001b[43m,\u001b[49m\u001b[43m \u001b[49m\u001b[43mheaders\u001b[49m\u001b[38;5;241;43m=\u001b[39;49m\u001b[43mheaders\u001b[49m\u001b[43m,\u001b[49m\u001b[43m \u001b[49m\u001b[43mtoken\u001b[49m\u001b[38;5;241;43m=\u001b[39;49m\u001b[43mtoken\u001b[49m\n\u001b[0;32m   1753\u001b[0m \u001b[43m    \u001b[49m\u001b[43m)\u001b[49m\n\u001b[0;32m   1754\u001b[0m \u001b[38;5;28;01mexcept\u001b[39;00m EntryNotFoundError \u001b[38;5;28;01mas\u001b[39;00m http_error:\n",
      "File \u001b[1;32mc:\\Users\\luisb\\Documents\\GitHub\\documentQuestionAnswering\\.venv\\Lib\\site-packages\\huggingface_hub\\utils\\_validators.py:114\u001b[0m, in \u001b[0;36mvalidate_hf_hub_args.<locals>._inner_fn\u001b[1;34m(*args, **kwargs)\u001b[0m\n\u001b[0;32m    112\u001b[0m     kwargs \u001b[38;5;241m=\u001b[39m smoothly_deprecate_use_auth_token(fn_name\u001b[38;5;241m=\u001b[39mfn\u001b[38;5;241m.\u001b[39m\u001b[38;5;18m__name__\u001b[39m, has_token\u001b[38;5;241m=\u001b[39mhas_token, kwargs\u001b[38;5;241m=\u001b[39mkwargs)\n\u001b[1;32m--> 114\u001b[0m \u001b[38;5;28;01mreturn\u001b[39;00m \u001b[43mfn\u001b[49m\u001b[43m(\u001b[49m\u001b[38;5;241;43m*\u001b[39;49m\u001b[43margs\u001b[49m\u001b[43m,\u001b[49m\u001b[43m \u001b[49m\u001b[38;5;241;43m*\u001b[39;49m\u001b[38;5;241;43m*\u001b[39;49m\u001b[43mkwargs\u001b[49m\u001b[43m)\u001b[49m\n",
      "File \u001b[1;32mc:\\Users\\luisb\\Documents\\GitHub\\documentQuestionAnswering\\.venv\\Lib\\site-packages\\huggingface_hub\\file_download.py:1673\u001b[0m, in \u001b[0;36mget_hf_file_metadata\u001b[1;34m(url, token, proxies, timeout, library_name, library_version, user_agent, headers)\u001b[0m\n\u001b[0;32m   1672\u001b[0m \u001b[38;5;66;03m# Retrieve metadata\u001b[39;00m\n\u001b[1;32m-> 1673\u001b[0m r \u001b[38;5;241m=\u001b[39m \u001b[43m_request_wrapper\u001b[49m\u001b[43m(\u001b[49m\n\u001b[0;32m   1674\u001b[0m \u001b[43m    \u001b[49m\u001b[43mmethod\u001b[49m\u001b[38;5;241;43m=\u001b[39;49m\u001b[38;5;124;43m\"\u001b[39;49m\u001b[38;5;124;43mHEAD\u001b[39;49m\u001b[38;5;124;43m\"\u001b[39;49m\u001b[43m,\u001b[49m\n\u001b[0;32m   1675\u001b[0m \u001b[43m    \u001b[49m\u001b[43murl\u001b[49m\u001b[38;5;241;43m=\u001b[39;49m\u001b[43murl\u001b[49m\u001b[43m,\u001b[49m\n\u001b[0;32m   1676\u001b[0m \u001b[43m    \u001b[49m\u001b[43mheaders\u001b[49m\u001b[38;5;241;43m=\u001b[39;49m\u001b[43mheaders\u001b[49m\u001b[43m,\u001b[49m\n\u001b[0;32m   1677\u001b[0m \u001b[43m    \u001b[49m\u001b[43mallow_redirects\u001b[49m\u001b[38;5;241;43m=\u001b[39;49m\u001b[38;5;28;43;01mFalse\u001b[39;49;00m\u001b[43m,\u001b[49m\n\u001b[0;32m   1678\u001b[0m \u001b[43m    \u001b[49m\u001b[43mfollow_relative_redirects\u001b[49m\u001b[38;5;241;43m=\u001b[39;49m\u001b[38;5;28;43;01mTrue\u001b[39;49;00m\u001b[43m,\u001b[49m\n\u001b[0;32m   1679\u001b[0m \u001b[43m    \u001b[49m\u001b[43mproxies\u001b[49m\u001b[38;5;241;43m=\u001b[39;49m\u001b[43mproxies\u001b[49m\u001b[43m,\u001b[49m\n\u001b[0;32m   1680\u001b[0m \u001b[43m    \u001b[49m\u001b[43mtimeout\u001b[49m\u001b[38;5;241;43m=\u001b[39;49m\u001b[43mtimeout\u001b[49m\u001b[43m,\u001b[49m\n\u001b[0;32m   1681\u001b[0m \u001b[43m\u001b[49m\u001b[43m)\u001b[49m\n\u001b[0;32m   1682\u001b[0m hf_raise_for_status(r)\n",
      "File \u001b[1;32mc:\\Users\\luisb\\Documents\\GitHub\\documentQuestionAnswering\\.venv\\Lib\\site-packages\\huggingface_hub\\file_download.py:376\u001b[0m, in \u001b[0;36m_request_wrapper\u001b[1;34m(method, url, follow_relative_redirects, **params)\u001b[0m\n\u001b[0;32m    375\u001b[0m \u001b[38;5;28;01mif\u001b[39;00m follow_relative_redirects:\n\u001b[1;32m--> 376\u001b[0m     response \u001b[38;5;241m=\u001b[39m \u001b[43m_request_wrapper\u001b[49m\u001b[43m(\u001b[49m\n\u001b[0;32m    377\u001b[0m \u001b[43m        \u001b[49m\u001b[43mmethod\u001b[49m\u001b[38;5;241;43m=\u001b[39;49m\u001b[43mmethod\u001b[49m\u001b[43m,\u001b[49m\n\u001b[0;32m    378\u001b[0m \u001b[43m        \u001b[49m\u001b[43murl\u001b[49m\u001b[38;5;241;43m=\u001b[39;49m\u001b[43murl\u001b[49m\u001b[43m,\u001b[49m\n\u001b[0;32m    379\u001b[0m \u001b[43m        \u001b[49m\u001b[43mfollow_relative_redirects\u001b[49m\u001b[38;5;241;43m=\u001b[39;49m\u001b[38;5;28;43;01mFalse\u001b[39;49;00m\u001b[43m,\u001b[49m\n\u001b[0;32m    380\u001b[0m \u001b[43m        \u001b[49m\u001b[38;5;241;43m*\u001b[39;49m\u001b[38;5;241;43m*\u001b[39;49m\u001b[43mparams\u001b[49m\u001b[43m,\u001b[49m\n\u001b[0;32m    381\u001b[0m \u001b[43m    \u001b[49m\u001b[43m)\u001b[49m\n\u001b[0;32m    383\u001b[0m     \u001b[38;5;66;03m# If redirection, we redirect only relative paths.\u001b[39;00m\n\u001b[0;32m    384\u001b[0m     \u001b[38;5;66;03m# This is useful in case of a renamed repository.\u001b[39;00m\n",
      "File \u001b[1;32mc:\\Users\\luisb\\Documents\\GitHub\\documentQuestionAnswering\\.venv\\Lib\\site-packages\\huggingface_hub\\file_download.py:400\u001b[0m, in \u001b[0;36m_request_wrapper\u001b[1;34m(method, url, follow_relative_redirects, **params)\u001b[0m\n\u001b[0;32m    399\u001b[0m response \u001b[38;5;241m=\u001b[39m get_session()\u001b[38;5;241m.\u001b[39mrequest(method\u001b[38;5;241m=\u001b[39mmethod, url\u001b[38;5;241m=\u001b[39murl, \u001b[38;5;241m*\u001b[39m\u001b[38;5;241m*\u001b[39mparams)\n\u001b[1;32m--> 400\u001b[0m \u001b[43mhf_raise_for_status\u001b[49m\u001b[43m(\u001b[49m\u001b[43mresponse\u001b[49m\u001b[43m)\u001b[49m\n\u001b[0;32m    401\u001b[0m \u001b[38;5;28;01mreturn\u001b[39;00m response\n",
      "File \u001b[1;32mc:\\Users\\luisb\\Documents\\GitHub\\documentQuestionAnswering\\.venv\\Lib\\site-packages\\huggingface_hub\\utils\\_errors.py:321\u001b[0m, in \u001b[0;36mhf_raise_for_status\u001b[1;34m(response, endpoint_name)\u001b[0m\n\u001b[0;32m    318\u001b[0m     message \u001b[38;5;241m=\u001b[39m (\n\u001b[0;32m    319\u001b[0m         \u001b[38;5;124mf\u001b[39m\u001b[38;5;124m\"\u001b[39m\u001b[38;5;132;01m{\u001b[39;00mresponse\u001b[38;5;241m.\u001b[39mstatus_code\u001b[38;5;132;01m}\u001b[39;00m\u001b[38;5;124m Client Error.\u001b[39m\u001b[38;5;124m\"\u001b[39m \u001b[38;5;241m+\u001b[39m \u001b[38;5;124m\"\u001b[39m\u001b[38;5;130;01m\\n\u001b[39;00m\u001b[38;5;130;01m\\n\u001b[39;00m\u001b[38;5;124m\"\u001b[39m \u001b[38;5;241m+\u001b[39m \u001b[38;5;124mf\u001b[39m\u001b[38;5;124m\"\u001b[39m\u001b[38;5;124mCannot access gated repo for url \u001b[39m\u001b[38;5;132;01m{\u001b[39;00mresponse\u001b[38;5;241m.\u001b[39murl\u001b[38;5;132;01m}\u001b[39;00m\u001b[38;5;124m.\u001b[39m\u001b[38;5;124m\"\u001b[39m\n\u001b[0;32m    320\u001b[0m     )\n\u001b[1;32m--> 321\u001b[0m     \u001b[38;5;28;01mraise\u001b[39;00m GatedRepoError(message, response) \u001b[38;5;28;01mfrom\u001b[39;00m \u001b[38;5;21;01me\u001b[39;00m\n\u001b[0;32m    323\u001b[0m \u001b[38;5;28;01melif\u001b[39;00m error_message \u001b[38;5;241m==\u001b[39m \u001b[38;5;124m\"\u001b[39m\u001b[38;5;124mAccess to this resource is disabled.\u001b[39m\u001b[38;5;124m\"\u001b[39m:\n",
      "\u001b[1;31mGatedRepoError\u001b[0m: 401 Client Error. (Request ID: Root=1-66d06af2-63cb18360b1a37101eadc253;c5581b56-c053-44ce-936a-b935ecfbb01b)\n\nCannot access gated repo for url https://huggingface.co/mistralai/Mistral-7B-Instruct-v0.3/resolve/main/config.json.\nAccess to model mistralai/Mistral-7B-Instruct-v0.3 is restricted. You must be authenticated to access it.",
      "\nThe above exception was the direct cause of the following exception:\n",
      "\u001b[1;31mOSError\u001b[0m                                   Traceback (most recent call last)",
      "Cell \u001b[1;32mIn[37], line 2\u001b[0m\n\u001b[0;32m      1\u001b[0m \u001b[38;5;28;01mfrom\u001b[39;00m \u001b[38;5;21;01mtransformers\u001b[39;00m \u001b[38;5;28;01mimport\u001b[39;00m AutoTokenizer\n\u001b[1;32m----> 2\u001b[0m tokenizer \u001b[38;5;241m=\u001b[39m \u001b[43mAutoTokenizer\u001b[49m\u001b[38;5;241;43m.\u001b[39;49m\u001b[43mfrom_pretrained\u001b[49m\u001b[43m(\u001b[49m\u001b[38;5;124;43m\"\u001b[39;49m\u001b[38;5;124;43mmistralai/Mistral-7B-Instruct-v0.3\u001b[39;49m\u001b[38;5;124;43m\"\u001b[39;49m\u001b[43m)\u001b[49m\n\u001b[0;32m      5\u001b[0m \u001b[38;5;28;01mfrom\u001b[39;00m \u001b[38;5;21;01mlangchain_huggingface\u001b[39;00m \u001b[38;5;28;01mimport\u001b[39;00m ChatHuggingFace, HuggingFaceEndpoint\n\u001b[0;32m      7\u001b[0m end \u001b[38;5;241m=\u001b[39m HuggingFaceEndpoint(repo_id\u001b[38;5;241m=\u001b[39m\u001b[38;5;124m\"\u001b[39m\u001b[38;5;124mmistralai/Mistral-7B-Instruct-v0.3\u001b[39m\u001b[38;5;124m\"\u001b[39m, max_new_tokens\u001b[38;5;241m=\u001b[39m\u001b[38;5;241m512\u001b[39m)\n",
      "File \u001b[1;32mc:\\Users\\luisb\\Documents\\GitHub\\documentQuestionAnswering\\.venv\\Lib\\site-packages\\transformers\\models\\auto\\tokenization_auto.py:854\u001b[0m, in \u001b[0;36mAutoTokenizer.from_pretrained\u001b[1;34m(cls, pretrained_model_name_or_path, *inputs, **kwargs)\u001b[0m\n\u001b[0;32m    852\u001b[0m         config \u001b[38;5;241m=\u001b[39m AutoConfig\u001b[38;5;241m.\u001b[39mfor_model(\u001b[38;5;241m*\u001b[39m\u001b[38;5;241m*\u001b[39mconfig_dict)\n\u001b[0;32m    853\u001b[0m     \u001b[38;5;28;01melse\u001b[39;00m:\n\u001b[1;32m--> 854\u001b[0m         config \u001b[38;5;241m=\u001b[39m \u001b[43mAutoConfig\u001b[49m\u001b[38;5;241;43m.\u001b[39;49m\u001b[43mfrom_pretrained\u001b[49m\u001b[43m(\u001b[49m\n\u001b[0;32m    855\u001b[0m \u001b[43m            \u001b[49m\u001b[43mpretrained_model_name_or_path\u001b[49m\u001b[43m,\u001b[49m\u001b[43m \u001b[49m\u001b[43mtrust_remote_code\u001b[49m\u001b[38;5;241;43m=\u001b[39;49m\u001b[43mtrust_remote_code\u001b[49m\u001b[43m,\u001b[49m\u001b[43m \u001b[49m\u001b[38;5;241;43m*\u001b[39;49m\u001b[38;5;241;43m*\u001b[39;49m\u001b[43mkwargs\u001b[49m\n\u001b[0;32m    856\u001b[0m \u001b[43m        \u001b[49m\u001b[43m)\u001b[49m\n\u001b[0;32m    857\u001b[0m config_tokenizer_class \u001b[38;5;241m=\u001b[39m config\u001b[38;5;241m.\u001b[39mtokenizer_class\n\u001b[0;32m    858\u001b[0m \u001b[38;5;28;01mif\u001b[39;00m \u001b[38;5;28mhasattr\u001b[39m(config, \u001b[38;5;124m\"\u001b[39m\u001b[38;5;124mauto_map\u001b[39m\u001b[38;5;124m\"\u001b[39m) \u001b[38;5;129;01mand\u001b[39;00m \u001b[38;5;124m\"\u001b[39m\u001b[38;5;124mAutoTokenizer\u001b[39m\u001b[38;5;124m\"\u001b[39m \u001b[38;5;129;01min\u001b[39;00m config\u001b[38;5;241m.\u001b[39mauto_map:\n",
      "File \u001b[1;32mc:\\Users\\luisb\\Documents\\GitHub\\documentQuestionAnswering\\.venv\\Lib\\site-packages\\transformers\\models\\auto\\configuration_auto.py:976\u001b[0m, in \u001b[0;36mAutoConfig.from_pretrained\u001b[1;34m(cls, pretrained_model_name_or_path, **kwargs)\u001b[0m\n\u001b[0;32m    973\u001b[0m trust_remote_code \u001b[38;5;241m=\u001b[39m kwargs\u001b[38;5;241m.\u001b[39mpop(\u001b[38;5;124m\"\u001b[39m\u001b[38;5;124mtrust_remote_code\u001b[39m\u001b[38;5;124m\"\u001b[39m, \u001b[38;5;28;01mNone\u001b[39;00m)\n\u001b[0;32m    974\u001b[0m code_revision \u001b[38;5;241m=\u001b[39m kwargs\u001b[38;5;241m.\u001b[39mpop(\u001b[38;5;124m\"\u001b[39m\u001b[38;5;124mcode_revision\u001b[39m\u001b[38;5;124m\"\u001b[39m, \u001b[38;5;28;01mNone\u001b[39;00m)\n\u001b[1;32m--> 976\u001b[0m config_dict, unused_kwargs \u001b[38;5;241m=\u001b[39m \u001b[43mPretrainedConfig\u001b[49m\u001b[38;5;241;43m.\u001b[39;49m\u001b[43mget_config_dict\u001b[49m\u001b[43m(\u001b[49m\u001b[43mpretrained_model_name_or_path\u001b[49m\u001b[43m,\u001b[49m\u001b[43m \u001b[49m\u001b[38;5;241;43m*\u001b[39;49m\u001b[38;5;241;43m*\u001b[39;49m\u001b[43mkwargs\u001b[49m\u001b[43m)\u001b[49m\n\u001b[0;32m    977\u001b[0m has_remote_code \u001b[38;5;241m=\u001b[39m \u001b[38;5;124m\"\u001b[39m\u001b[38;5;124mauto_map\u001b[39m\u001b[38;5;124m\"\u001b[39m \u001b[38;5;129;01min\u001b[39;00m config_dict \u001b[38;5;129;01mand\u001b[39;00m \u001b[38;5;124m\"\u001b[39m\u001b[38;5;124mAutoConfig\u001b[39m\u001b[38;5;124m\"\u001b[39m \u001b[38;5;129;01min\u001b[39;00m config_dict[\u001b[38;5;124m\"\u001b[39m\u001b[38;5;124mauto_map\u001b[39m\u001b[38;5;124m\"\u001b[39m]\n\u001b[0;32m    978\u001b[0m has_local_code \u001b[38;5;241m=\u001b[39m \u001b[38;5;124m\"\u001b[39m\u001b[38;5;124mmodel_type\u001b[39m\u001b[38;5;124m\"\u001b[39m \u001b[38;5;129;01min\u001b[39;00m config_dict \u001b[38;5;129;01mand\u001b[39;00m config_dict[\u001b[38;5;124m\"\u001b[39m\u001b[38;5;124mmodel_type\u001b[39m\u001b[38;5;124m\"\u001b[39m] \u001b[38;5;129;01min\u001b[39;00m CONFIG_MAPPING\n",
      "File \u001b[1;32mc:\\Users\\luisb\\Documents\\GitHub\\documentQuestionAnswering\\.venv\\Lib\\site-packages\\transformers\\configuration_utils.py:632\u001b[0m, in \u001b[0;36mPretrainedConfig.get_config_dict\u001b[1;34m(cls, pretrained_model_name_or_path, **kwargs)\u001b[0m\n\u001b[0;32m    630\u001b[0m original_kwargs \u001b[38;5;241m=\u001b[39m copy\u001b[38;5;241m.\u001b[39mdeepcopy(kwargs)\n\u001b[0;32m    631\u001b[0m \u001b[38;5;66;03m# Get config dict associated with the base config file\u001b[39;00m\n\u001b[1;32m--> 632\u001b[0m config_dict, kwargs \u001b[38;5;241m=\u001b[39m \u001b[38;5;28;43mcls\u001b[39;49m\u001b[38;5;241;43m.\u001b[39;49m\u001b[43m_get_config_dict\u001b[49m\u001b[43m(\u001b[49m\u001b[43mpretrained_model_name_or_path\u001b[49m\u001b[43m,\u001b[49m\u001b[43m \u001b[49m\u001b[38;5;241;43m*\u001b[39;49m\u001b[38;5;241;43m*\u001b[39;49m\u001b[43mkwargs\u001b[49m\u001b[43m)\u001b[49m\n\u001b[0;32m    633\u001b[0m \u001b[38;5;28;01mif\u001b[39;00m \u001b[38;5;124m\"\u001b[39m\u001b[38;5;124m_commit_hash\u001b[39m\u001b[38;5;124m\"\u001b[39m \u001b[38;5;129;01min\u001b[39;00m config_dict:\n\u001b[0;32m    634\u001b[0m     original_kwargs[\u001b[38;5;124m\"\u001b[39m\u001b[38;5;124m_commit_hash\u001b[39m\u001b[38;5;124m\"\u001b[39m] \u001b[38;5;241m=\u001b[39m config_dict[\u001b[38;5;124m\"\u001b[39m\u001b[38;5;124m_commit_hash\u001b[39m\u001b[38;5;124m\"\u001b[39m]\n",
      "File \u001b[1;32mc:\\Users\\luisb\\Documents\\GitHub\\documentQuestionAnswering\\.venv\\Lib\\site-packages\\transformers\\configuration_utils.py:689\u001b[0m, in \u001b[0;36mPretrainedConfig._get_config_dict\u001b[1;34m(cls, pretrained_model_name_or_path, **kwargs)\u001b[0m\n\u001b[0;32m    685\u001b[0m configuration_file \u001b[38;5;241m=\u001b[39m kwargs\u001b[38;5;241m.\u001b[39mpop(\u001b[38;5;124m\"\u001b[39m\u001b[38;5;124m_configuration_file\u001b[39m\u001b[38;5;124m\"\u001b[39m, CONFIG_NAME) \u001b[38;5;28;01mif\u001b[39;00m gguf_file \u001b[38;5;129;01mis\u001b[39;00m \u001b[38;5;28;01mNone\u001b[39;00m \u001b[38;5;28;01melse\u001b[39;00m gguf_file\n\u001b[0;32m    687\u001b[0m \u001b[38;5;28;01mtry\u001b[39;00m:\n\u001b[0;32m    688\u001b[0m     \u001b[38;5;66;03m# Load from local folder or from cache or download from model Hub and cache\u001b[39;00m\n\u001b[1;32m--> 689\u001b[0m     resolved_config_file \u001b[38;5;241m=\u001b[39m \u001b[43mcached_file\u001b[49m\u001b[43m(\u001b[49m\n\u001b[0;32m    690\u001b[0m \u001b[43m        \u001b[49m\u001b[43mpretrained_model_name_or_path\u001b[49m\u001b[43m,\u001b[49m\n\u001b[0;32m    691\u001b[0m \u001b[43m        \u001b[49m\u001b[43mconfiguration_file\u001b[49m\u001b[43m,\u001b[49m\n\u001b[0;32m    692\u001b[0m \u001b[43m        \u001b[49m\u001b[43mcache_dir\u001b[49m\u001b[38;5;241;43m=\u001b[39;49m\u001b[43mcache_dir\u001b[49m\u001b[43m,\u001b[49m\n\u001b[0;32m    693\u001b[0m \u001b[43m        \u001b[49m\u001b[43mforce_download\u001b[49m\u001b[38;5;241;43m=\u001b[39;49m\u001b[43mforce_download\u001b[49m\u001b[43m,\u001b[49m\n\u001b[0;32m    694\u001b[0m \u001b[43m        \u001b[49m\u001b[43mproxies\u001b[49m\u001b[38;5;241;43m=\u001b[39;49m\u001b[43mproxies\u001b[49m\u001b[43m,\u001b[49m\n\u001b[0;32m    695\u001b[0m \u001b[43m        \u001b[49m\u001b[43mresume_download\u001b[49m\u001b[38;5;241;43m=\u001b[39;49m\u001b[43mresume_download\u001b[49m\u001b[43m,\u001b[49m\n\u001b[0;32m    696\u001b[0m \u001b[43m        \u001b[49m\u001b[43mlocal_files_only\u001b[49m\u001b[38;5;241;43m=\u001b[39;49m\u001b[43mlocal_files_only\u001b[49m\u001b[43m,\u001b[49m\n\u001b[0;32m    697\u001b[0m \u001b[43m        \u001b[49m\u001b[43mtoken\u001b[49m\u001b[38;5;241;43m=\u001b[39;49m\u001b[43mtoken\u001b[49m\u001b[43m,\u001b[49m\n\u001b[0;32m    698\u001b[0m \u001b[43m        \u001b[49m\u001b[43muser_agent\u001b[49m\u001b[38;5;241;43m=\u001b[39;49m\u001b[43muser_agent\u001b[49m\u001b[43m,\u001b[49m\n\u001b[0;32m    699\u001b[0m \u001b[43m        \u001b[49m\u001b[43mrevision\u001b[49m\u001b[38;5;241;43m=\u001b[39;49m\u001b[43mrevision\u001b[49m\u001b[43m,\u001b[49m\n\u001b[0;32m    700\u001b[0m \u001b[43m        \u001b[49m\u001b[43msubfolder\u001b[49m\u001b[38;5;241;43m=\u001b[39;49m\u001b[43msubfolder\u001b[49m\u001b[43m,\u001b[49m\n\u001b[0;32m    701\u001b[0m \u001b[43m        \u001b[49m\u001b[43m_commit_hash\u001b[49m\u001b[38;5;241;43m=\u001b[39;49m\u001b[43mcommit_hash\u001b[49m\u001b[43m,\u001b[49m\n\u001b[0;32m    702\u001b[0m \u001b[43m    \u001b[49m\u001b[43m)\u001b[49m\n\u001b[0;32m    703\u001b[0m     commit_hash \u001b[38;5;241m=\u001b[39m extract_commit_hash(resolved_config_file, commit_hash)\n\u001b[0;32m    704\u001b[0m \u001b[38;5;28;01mexcept\u001b[39;00m \u001b[38;5;167;01mEnvironmentError\u001b[39;00m:\n\u001b[0;32m    705\u001b[0m     \u001b[38;5;66;03m# Raise any environment error raise by `cached_file`. It will have a helpful error message adapted to\u001b[39;00m\n\u001b[0;32m    706\u001b[0m     \u001b[38;5;66;03m# the original exception.\u001b[39;00m\n",
      "File \u001b[1;32mc:\\Users\\luisb\\Documents\\GitHub\\documentQuestionAnswering\\.venv\\Lib\\site-packages\\transformers\\utils\\hub.py:420\u001b[0m, in \u001b[0;36mcached_file\u001b[1;34m(path_or_repo_id, filename, cache_dir, force_download, resume_download, proxies, token, revision, local_files_only, subfolder, repo_type, user_agent, _raise_exceptions_for_gated_repo, _raise_exceptions_for_missing_entries, _raise_exceptions_for_connection_errors, _commit_hash, **deprecated_kwargs)\u001b[0m\n\u001b[0;32m    418\u001b[0m     \u001b[38;5;28;01mif\u001b[39;00m resolved_file \u001b[38;5;129;01mis\u001b[39;00m \u001b[38;5;129;01mnot\u001b[39;00m \u001b[38;5;28;01mNone\u001b[39;00m \u001b[38;5;129;01mor\u001b[39;00m \u001b[38;5;129;01mnot\u001b[39;00m _raise_exceptions_for_gated_repo:\n\u001b[0;32m    419\u001b[0m         \u001b[38;5;28;01mreturn\u001b[39;00m resolved_file\n\u001b[1;32m--> 420\u001b[0m     \u001b[38;5;28;01mraise\u001b[39;00m \u001b[38;5;167;01mEnvironmentError\u001b[39;00m(\n\u001b[0;32m    421\u001b[0m         \u001b[38;5;124m\"\u001b[39m\u001b[38;5;124mYou are trying to access a gated repo.\u001b[39m\u001b[38;5;130;01m\\n\u001b[39;00m\u001b[38;5;124mMake sure to have access to it at \u001b[39m\u001b[38;5;124m\"\u001b[39m\n\u001b[0;32m    422\u001b[0m         \u001b[38;5;124mf\u001b[39m\u001b[38;5;124m\"\u001b[39m\u001b[38;5;124mhttps://huggingface.co/\u001b[39m\u001b[38;5;132;01m{\u001b[39;00mpath_or_repo_id\u001b[38;5;132;01m}\u001b[39;00m\u001b[38;5;124m.\u001b[39m\u001b[38;5;130;01m\\n\u001b[39;00m\u001b[38;5;132;01m{\u001b[39;00m\u001b[38;5;28mstr\u001b[39m(e)\u001b[38;5;132;01m}\u001b[39;00m\u001b[38;5;124m\"\u001b[39m\n\u001b[0;32m    423\u001b[0m     ) \u001b[38;5;28;01mfrom\u001b[39;00m \u001b[38;5;21;01me\u001b[39;00m\n\u001b[0;32m    424\u001b[0m \u001b[38;5;28;01mexcept\u001b[39;00m RepositoryNotFoundError \u001b[38;5;28;01mas\u001b[39;00m e:\n\u001b[0;32m    425\u001b[0m     \u001b[38;5;28;01mraise\u001b[39;00m \u001b[38;5;167;01mEnvironmentError\u001b[39;00m(\n\u001b[0;32m    426\u001b[0m         \u001b[38;5;124mf\u001b[39m\u001b[38;5;124m\"\u001b[39m\u001b[38;5;132;01m{\u001b[39;00mpath_or_repo_id\u001b[38;5;132;01m}\u001b[39;00m\u001b[38;5;124m is not a local folder and is not a valid model identifier \u001b[39m\u001b[38;5;124m\"\u001b[39m\n\u001b[0;32m    427\u001b[0m         \u001b[38;5;124m\"\u001b[39m\u001b[38;5;124mlisted on \u001b[39m\u001b[38;5;124m'\u001b[39m\u001b[38;5;124mhttps://huggingface.co/models\u001b[39m\u001b[38;5;124m'\u001b[39m\u001b[38;5;130;01m\\n\u001b[39;00m\u001b[38;5;124mIf this is a private repository, make sure to pass a token \u001b[39m\u001b[38;5;124m\"\u001b[39m\n\u001b[0;32m    428\u001b[0m         \u001b[38;5;124m\"\u001b[39m\u001b[38;5;124mhaving permission to this repo either by logging in with `huggingface-cli login` or by passing \u001b[39m\u001b[38;5;124m\"\u001b[39m\n\u001b[0;32m    429\u001b[0m         \u001b[38;5;124m\"\u001b[39m\u001b[38;5;124m`token=<your_token>`\u001b[39m\u001b[38;5;124m\"\u001b[39m\n\u001b[0;32m    430\u001b[0m     ) \u001b[38;5;28;01mfrom\u001b[39;00m \u001b[38;5;21;01me\u001b[39;00m\n",
      "\u001b[1;31mOSError\u001b[0m: You are trying to access a gated repo.\nMake sure to have access to it at https://huggingface.co/mistralai/Mistral-7B-Instruct-v0.3.\n401 Client Error. (Request ID: Root=1-66d06af2-63cb18360b1a37101eadc253;c5581b56-c053-44ce-936a-b935ecfbb01b)\n\nCannot access gated repo for url https://huggingface.co/mistralai/Mistral-7B-Instruct-v0.3/resolve/main/config.json.\nAccess to model mistralai/Mistral-7B-Instruct-v0.3 is restricted. You must be authenticated to access it."
     ]
    }
   ],
   "source": [
    "from transformers import AutoTokenizer\n",
    "tokenizer = AutoTokenizer.from_pretrained(\"mistralai/Mistral-7B-Instruct-v0.3\")\n",
    "\n",
    "\n",
    "from langchain_huggingface import ChatHuggingFace, HuggingFaceEndpoint\n",
    "\n",
    "end = HuggingFaceEndpoint(repo_id=\"mistralai/Mistral-7B-Instruct-v0.3\", max_new_tokens=512)\n",
    "\n",
    "huggingface_llm = ChatHuggingFace(llm=end, tokenizer=tokenizer)\n",
    "huggingface_embeddings =embeddings\n"
   ]
  },
  {
   "cell_type": "code",
   "execution_count": 42,
   "metadata": {},
   "outputs": [
    {
     "data": {
      "application/vnd.jupyter.widget-view+json": {
       "model_id": "61bbb6884bca4329a77d769ec1130778",
       "version_major": 2,
       "version_minor": 0
      },
      "text/plain": [
       "Evaluating:   0%|          | 0/2 [00:00<?, ?it/s]"
      ]
     },
     "metadata": {},
     "output_type": "display_data"
    },
    {
     "name": "stderr",
     "output_type": "stream",
     "text": [
      "Exception raised in Job[1]: OllamaEndpointNotFoundError(Ollama call failed with status code 404.)\n",
      "Exception raised in Job[0]: OllamaEndpointNotFoundError(Ollama call failed with status code 404.)\n"
     ]
    },
    {
     "name": "stdout",
     "output_type": "stream",
     "text": [
      "                                            question  \\\n",
      "0  Quins drets lingüístics reconeix la Constituci...   \n",
      "1  Què estableix la Constitució Espanyola sobre l...   \n",
      "\n",
      "                                              answer  \\\n",
      "0  La Constitució Espanyola reconeix el castellà ...   \n",
      "1  La Constitució Espanyola estableix que la dete...   \n",
      "\n",
      "                                            contexts  \\\n",
      "0  [  \\n \\n \\nConstitució espanyola \\n \\n \\nTEXT ...   \n",
      "1  [  \\n \\n \\nConstitució espanyola \\n \\n \\nTEXT ...   \n",
      "\n",
      "                                        ground_truth  answer_correctness  \n",
      "0  La Constitució Espanyola reconeix el castellà ...                 NaN  \n",
      "1  La Constitució Espanyola estableix que la dete...                 NaN  \n"
     ]
    }
   ],
   "source": [
    "import nest_asyncio\n",
    "from ragas.run_config import RunConfig\n",
    "\n",
    "\n",
    "nest_asyncio.apply()\n",
    "\n",
    "try:\n",
    "    # score = evaluate(\n",
    "    #     dataset,\n",
    "    #     # metrics=[context_precision],\n",
    "    #     metrics=[answer_correctness],\n",
    "    #     llm=llm,\n",
    "    #     embeddings=embeddings,\n",
    "    #     raise_exceptions=False,\n",
    "    #     run_config=RunConfig(\n",
    "    #         max_retries=10, # Default is 10\n",
    "    #         max_wait=160, # Default is 60\n",
    "    #         max_workers=64 # Default is 16\n",
    "    #     )\n",
    "    # )\n",
    "\n",
    "\n",
    "    score = evaluate(\n",
    "        dataset=dataset,\n",
    "        metrics=[answer_correctness],\n",
    "        llm=llm,\n",
    "        embeddings=embeddings,\n",
    "        raise_exceptions=False\n",
    "    )\n",
    "\n",
    "except Exception as e:\n",
    "    print(f\"An error ocurred: {e}\")\n",
    "\n",
    "df_score = score.to_pandas()\n",
    "print(df_score)"
   ]
  },
  {
   "cell_type": "code",
   "execution_count": 43,
   "metadata": {},
   "outputs": [
    {
     "data": {
      "text/html": [
       "<div>\n",
       "<style scoped>\n",
       "    .dataframe tbody tr th:only-of-type {\n",
       "        vertical-align: middle;\n",
       "    }\n",
       "\n",
       "    .dataframe tbody tr th {\n",
       "        vertical-align: top;\n",
       "    }\n",
       "\n",
       "    .dataframe thead th {\n",
       "        text-align: right;\n",
       "    }\n",
       "</style>\n",
       "<table border=\"1\" class=\"dataframe\">\n",
       "  <thead>\n",
       "    <tr style=\"text-align: right;\">\n",
       "      <th></th>\n",
       "      <th>question</th>\n",
       "      <th>answer</th>\n",
       "      <th>contexts</th>\n",
       "      <th>ground_truth</th>\n",
       "      <th>answer_correctness</th>\n",
       "    </tr>\n",
       "  </thead>\n",
       "  <tbody>\n",
       "    <tr>\n",
       "      <th>0</th>\n",
       "      <td>Quins drets lingüístics reconeix la Constituci...</td>\n",
       "      <td>La Constitució Espanyola reconeix el castellà ...</td>\n",
       "      <td>[  \\n \\n \\nConstitució espanyola \\n \\n \\nTEXT ...</td>\n",
       "      <td>La Constitució Espanyola reconeix el castellà ...</td>\n",
       "      <td>NaN</td>\n",
       "    </tr>\n",
       "    <tr>\n",
       "      <th>1</th>\n",
       "      <td>Què estableix la Constitució Espanyola sobre l...</td>\n",
       "      <td>La Constitució Espanyola estableix que la dete...</td>\n",
       "      <td>[  \\n \\n \\nConstitució espanyola \\n \\n \\nTEXT ...</td>\n",
       "      <td>La Constitució Espanyola estableix que la dete...</td>\n",
       "      <td>NaN</td>\n",
       "    </tr>\n",
       "  </tbody>\n",
       "</table>\n",
       "</div>"
      ],
      "text/plain": [
       "                                            question  \\\n",
       "0  Quins drets lingüístics reconeix la Constituci...   \n",
       "1  Què estableix la Constitució Espanyola sobre l...   \n",
       "\n",
       "                                              answer  \\\n",
       "0  La Constitució Espanyola reconeix el castellà ...   \n",
       "1  La Constitució Espanyola estableix que la dete...   \n",
       "\n",
       "                                            contexts  \\\n",
       "0  [  \\n \\n \\nConstitució espanyola \\n \\n \\nTEXT ...   \n",
       "1  [  \\n \\n \\nConstitució espanyola \\n \\n \\nTEXT ...   \n",
       "\n",
       "                                        ground_truth  answer_correctness  \n",
       "0  La Constitució Espanyola reconeix el castellà ...                 NaN  \n",
       "1  La Constitució Espanyola estableix que la dete...                 NaN  "
      ]
     },
     "execution_count": 43,
     "metadata": {},
     "output_type": "execute_result"
    }
   ],
   "source": [
    "df_score.head(10)"
   ]
  },
  {
   "cell_type": "code",
   "execution_count": 44,
   "metadata": {},
   "outputs": [
    {
     "name": "stderr",
     "output_type": "stream",
     "text": [
      "Repo card metadata block was not found. Setting CardData to empty.\n"
     ]
    },
    {
     "data": {
      "text/plain": [
       "DatasetDict({\n",
       "    eval: Dataset({\n",
       "        features: ['question', 'ground_truth', 'answer', 'contexts'],\n",
       "        num_rows: 20\n",
       "    })\n",
       "})"
      ]
     },
     "execution_count": 44,
     "metadata": {},
     "output_type": "execute_result"
    }
   ],
   "source": [
    "from datasets import load_dataset\n",
    "\n",
    "# loading the V2 dataset\n",
    "amnesty_qa = load_dataset(\"explodinggradients/amnesty_qa\", \"english_v2\")\n",
    "amnesty_qa"
   ]
  },
  {
   "cell_type": "code",
   "execution_count": 45,
   "metadata": {},
   "outputs": [
    {
     "data": {
      "text/plain": [
       "['__class__',\n",
       " '__class_getitem__',\n",
       " '__contains__',\n",
       " '__delattr__',\n",
       " '__delitem__',\n",
       " '__dict__',\n",
       " '__dir__',\n",
       " '__doc__',\n",
       " '__enter__',\n",
       " '__eq__',\n",
       " '__exit__',\n",
       " '__format__',\n",
       " '__ge__',\n",
       " '__getattribute__',\n",
       " '__getitem__',\n",
       " '__getstate__',\n",
       " '__gt__',\n",
       " '__hash__',\n",
       " '__init__',\n",
       " '__init_subclass__',\n",
       " '__ior__',\n",
       " '__iter__',\n",
       " '__le__',\n",
       " '__len__',\n",
       " '__lt__',\n",
       " '__module__',\n",
       " '__ne__',\n",
       " '__new__',\n",
       " '__or__',\n",
       " '__reduce__',\n",
       " '__reduce_ex__',\n",
       " '__repr__',\n",
       " '__reversed__',\n",
       " '__ror__',\n",
       " '__setattr__',\n",
       " '__setitem__',\n",
       " '__sizeof__',\n",
       " '__str__',\n",
       " '__subclasshook__',\n",
       " '__weakref__',\n",
       " '_check_values_features',\n",
       " '_check_values_type',\n",
       " 'align_labels_with_mapping',\n",
       " 'cache_files',\n",
       " 'cast',\n",
       " 'cast_column',\n",
       " 'class_encode_column',\n",
       " 'cleanup_cache_files',\n",
       " 'clear',\n",
       " 'column_names',\n",
       " 'copy',\n",
       " 'data',\n",
       " 'filter',\n",
       " 'flatten',\n",
       " 'flatten_indices',\n",
       " 'formatted_as',\n",
       " 'from_csv',\n",
       " 'from_json',\n",
       " 'from_parquet',\n",
       " 'from_text',\n",
       " 'fromkeys',\n",
       " 'get',\n",
       " 'items',\n",
       " 'keys',\n",
       " 'load_from_disk',\n",
       " 'map',\n",
       " 'num_columns',\n",
       " 'num_rows',\n",
       " 'pop',\n",
       " 'popitem',\n",
       " 'prepare_for_task',\n",
       " 'push_to_hub',\n",
       " 'remove_columns',\n",
       " 'rename_column',\n",
       " 'rename_columns',\n",
       " 'reset_format',\n",
       " 'save_to_disk',\n",
       " 'select_columns',\n",
       " 'set_format',\n",
       " 'set_transform',\n",
       " 'setdefault',\n",
       " 'shape',\n",
       " 'shuffle',\n",
       " 'sort',\n",
       " 'unique',\n",
       " 'update',\n",
       " 'values',\n",
       " 'with_format',\n",
       " 'with_transform']"
      ]
     },
     "execution_count": 45,
     "metadata": {},
     "output_type": "execute_result"
    }
   ],
   "source": [
    "dir(amnesty_qa)"
   ]
  },
  {
   "cell_type": "code",
   "execution_count": 46,
   "metadata": {},
   "outputs": [
    {
     "data": {
      "text/plain": [
       "{'eval': ['question', 'ground_truth', 'answer', 'contexts']}"
      ]
     },
     "execution_count": 46,
     "metadata": {},
     "output_type": "execute_result"
    }
   ],
   "source": [
    "amnesty_qa.column_names"
   ]
  },
  {
   "cell_type": "code",
   "execution_count": 47,
   "metadata": {},
   "outputs": [
    {
     "data": {
      "text/plain": [
       "['_TF_DATASET_REFS',\n",
       " '__class__',\n",
       " '__del__',\n",
       " '__delattr__',\n",
       " '__dict__',\n",
       " '__dir__',\n",
       " '__doc__',\n",
       " '__enter__',\n",
       " '__eq__',\n",
       " '__exit__',\n",
       " '__format__',\n",
       " '__ge__',\n",
       " '__getattribute__',\n",
       " '__getitem__',\n",
       " '__getitems__',\n",
       " '__getstate__',\n",
       " '__gt__',\n",
       " '__hash__',\n",
       " '__init__',\n",
       " '__init_subclass__',\n",
       " '__iter__',\n",
       " '__le__',\n",
       " '__len__',\n",
       " '__lt__',\n",
       " '__module__',\n",
       " '__ne__',\n",
       " '__new__',\n",
       " '__reduce__',\n",
       " '__reduce_ex__',\n",
       " '__repr__',\n",
       " '__setattr__',\n",
       " '__setstate__',\n",
       " '__sizeof__',\n",
       " '__slotnames__',\n",
       " '__str__',\n",
       " '__subclasshook__',\n",
       " '__weakref__',\n",
       " '_build_local_temp_path',\n",
       " '_check_index_is_initialized',\n",
       " '_data',\n",
       " '_estimate_nbytes',\n",
       " '_fingerprint',\n",
       " '_format_columns',\n",
       " '_format_kwargs',\n",
       " '_format_type',\n",
       " '_generate_tables_from_cache_file',\n",
       " '_generate_tables_from_shards',\n",
       " '_get_cache_file_path',\n",
       " '_get_output_signature',\n",
       " '_getitem',\n",
       " '_indexes',\n",
       " '_indices',\n",
       " '_info',\n",
       " '_map_single',\n",
       " '_new_dataset_with_indices',\n",
       " '_output_all_columns',\n",
       " '_push_parquet_shards_to_hub',\n",
       " '_save_to_disk_single',\n",
       " '_select_contiguous',\n",
       " '_select_with_indices_mapping',\n",
       " '_split',\n",
       " 'add_column',\n",
       " 'add_elasticsearch_index',\n",
       " 'add_faiss_index',\n",
       " 'add_faiss_index_from_external_arrays',\n",
       " 'add_item',\n",
       " 'align_labels_with_mapping',\n",
       " 'builder_name',\n",
       " 'cache_files',\n",
       " 'cast',\n",
       " 'cast_column',\n",
       " 'citation',\n",
       " 'class_encode_column',\n",
       " 'cleanup_cache_files',\n",
       " 'column_names',\n",
       " 'config_name',\n",
       " 'data',\n",
       " 'dataset_size',\n",
       " 'description',\n",
       " 'download_checksums',\n",
       " 'download_size',\n",
       " 'drop_index',\n",
       " 'export',\n",
       " 'features',\n",
       " 'filter',\n",
       " 'flatten',\n",
       " 'flatten_indices',\n",
       " 'format',\n",
       " 'formatted_as',\n",
       " 'from_buffer',\n",
       " 'from_csv',\n",
       " 'from_dict',\n",
       " 'from_file',\n",
       " 'from_generator',\n",
       " 'from_json',\n",
       " 'from_list',\n",
       " 'from_pandas',\n",
       " 'from_parquet',\n",
       " 'from_polars',\n",
       " 'from_spark',\n",
       " 'from_sql',\n",
       " 'from_text',\n",
       " 'get_index',\n",
       " 'get_nearest_examples',\n",
       " 'get_nearest_examples_batch',\n",
       " 'homepage',\n",
       " 'info',\n",
       " 'is_index_initialized',\n",
       " 'iter',\n",
       " 'license',\n",
       " 'list_indexes',\n",
       " 'load_elasticsearch_index',\n",
       " 'load_faiss_index',\n",
       " 'load_from_disk',\n",
       " 'map',\n",
       " 'num_columns',\n",
       " 'num_rows',\n",
       " 'prepare_for_task',\n",
       " 'push_to_hub',\n",
       " 'remove_columns',\n",
       " 'rename_column',\n",
       " 'rename_columns',\n",
       " 'reset_format',\n",
       " 'save_faiss_index',\n",
       " 'save_to_disk',\n",
       " 'search',\n",
       " 'search_batch',\n",
       " 'select',\n",
       " 'select_columns',\n",
       " 'set_format',\n",
       " 'set_transform',\n",
       " 'shape',\n",
       " 'shard',\n",
       " 'shuffle',\n",
       " 'size_in_bytes',\n",
       " 'skip',\n",
       " 'sort',\n",
       " 'split',\n",
       " 'supervised_keys',\n",
       " 'take',\n",
       " 'task_templates',\n",
       " 'to_csv',\n",
       " 'to_dict',\n",
       " 'to_iterable_dataset',\n",
       " 'to_json',\n",
       " 'to_list',\n",
       " 'to_pandas',\n",
       " 'to_parquet',\n",
       " 'to_polars',\n",
       " 'to_sql',\n",
       " 'to_tf_dataset',\n",
       " 'train_test_split',\n",
       " 'unique',\n",
       " 'version',\n",
       " 'with_format',\n",
       " 'with_transform']"
      ]
     },
     "execution_count": 47,
     "metadata": {},
     "output_type": "execute_result"
    }
   ],
   "source": [
    "dir(amnesty_qa[\"eval\"])"
   ]
  },
  {
   "cell_type": "code",
   "execution_count": 48,
   "metadata": {},
   "outputs": [
    {
     "data": {
      "text/html": [
       "<div>\n",
       "<style scoped>\n",
       "    .dataframe tbody tr th:only-of-type {\n",
       "        vertical-align: middle;\n",
       "    }\n",
       "\n",
       "    .dataframe tbody tr th {\n",
       "        vertical-align: top;\n",
       "    }\n",
       "\n",
       "    .dataframe thead th {\n",
       "        text-align: right;\n",
       "    }\n",
       "</style>\n",
       "<table border=\"1\" class=\"dataframe\">\n",
       "  <thead>\n",
       "    <tr style=\"text-align: right;\">\n",
       "      <th></th>\n",
       "      <th>question</th>\n",
       "      <th>ground_truth</th>\n",
       "      <th>answer</th>\n",
       "      <th>contexts</th>\n",
       "    </tr>\n",
       "  </thead>\n",
       "  <tbody>\n",
       "    <tr>\n",
       "      <th>0</th>\n",
       "      <td>What are the global implications of the USA Su...</td>\n",
       "      <td>The global implications of the USA Supreme Cou...</td>\n",
       "      <td>The global implications of the USA Supreme Cou...</td>\n",
       "      <td>[- In 2022, the USA Supreme Court handed down ...</td>\n",
       "    </tr>\n",
       "    <tr>\n",
       "      <th>1</th>\n",
       "      <td>Which companies are the main contributors to G...</td>\n",
       "      <td>According to the Carbon Majors database, the m...</td>\n",
       "      <td>According to the Carbon Majors database, the m...</td>\n",
       "      <td>[In recent years, there has been increasing pr...</td>\n",
       "    </tr>\n",
       "    <tr>\n",
       "      <th>2</th>\n",
       "      <td>Which private companies in the Americas are th...</td>\n",
       "      <td>The largest private companies in the Americas ...</td>\n",
       "      <td>According to the Carbon Majors database, the l...</td>\n",
       "      <td>[The issue of greenhouse gas emissions has bec...</td>\n",
       "    </tr>\n",
       "    <tr>\n",
       "      <th>3</th>\n",
       "      <td>What action did Amnesty International urge its...</td>\n",
       "      <td>Amnesty International urged its supporters to ...</td>\n",
       "      <td>Amnesty International urged its supporters to ...</td>\n",
       "      <td>[In the case of the Ogoni 9, Amnesty Internati...</td>\n",
       "    </tr>\n",
       "    <tr>\n",
       "      <th>4</th>\n",
       "      <td>What are the recommendations made by Amnesty I...</td>\n",
       "      <td>The recommendations made by Amnesty Internatio...</td>\n",
       "      <td>Amnesty International made several recommendat...</td>\n",
       "      <td>[In recent years, Amnesty International has fo...</td>\n",
       "    </tr>\n",
       "    <tr>\n",
       "      <th>5</th>\n",
       "      <td>Who are the target audience of the two books c...</td>\n",
       "      <td>The target audience of the two books created b...</td>\n",
       "      <td>The target audience of the two books created b...</td>\n",
       "      <td>[In addition to children, parents, teachers, a...</td>\n",
       "    </tr>\n",
       "    <tr>\n",
       "      <th>6</th>\n",
       "      <td>Which right guarantees access to comprehensive...</td>\n",
       "      <td>The right that guarantees access to comprehens...</td>\n",
       "      <td>The right that guarantees access to comprehens...</td>\n",
       "      <td>[The right to truth is a fundamental human rig...</td>\n",
       "    </tr>\n",
       "    <tr>\n",
       "      <th>7</th>\n",
       "      <td>Who has the right to be fully informed about h...</td>\n",
       "      <td>The victims of gross human rights violations a...</td>\n",
       "      <td>Everyone has the right to be fully informed ab...</td>\n",
       "      <td>[In many cases, the identities of perpetrators...</td>\n",
       "    </tr>\n",
       "    <tr>\n",
       "      <th>8</th>\n",
       "      <td>When can individuals be found guilty under Art...</td>\n",
       "      <td>Individuals can be found guilty under Article ...</td>\n",
       "      <td>Under Article 207.3 of the Russian Criminal Co...</td>\n",
       "      <td>[Article 207.3 of the Russian Criminal Code pe...</td>\n",
       "    </tr>\n",
       "    <tr>\n",
       "      <th>9</th>\n",
       "      <td>When does the prosecution consider statements ...</td>\n",
       "      <td>The prosecution considers statements contrary ...</td>\n",
       "      <td>Under Article 207.3 of the Russian Criminal Co...</td>\n",
       "      <td>[- As long as their statements are contrary to...</td>\n",
       "    </tr>\n",
       "    <tr>\n",
       "      <th>10</th>\n",
       "      <td>What factors have contributed to the decline o...</td>\n",
       "      <td>The factors that have contributed to the decli...</td>\n",
       "      <td>There are several factors that have contribute...</td>\n",
       "      <td>[The economic challenges facing Nicaragua have...</td>\n",
       "    </tr>\n",
       "    <tr>\n",
       "      <th>11</th>\n",
       "      <td>What conditions designate wetlands as Ramsar s...</td>\n",
       "      <td>The conditions that designate wetlands as Rams...</td>\n",
       "      <td>Wetlands are designated as Ramsar sites based ...</td>\n",
       "      <td>[Wetlands designated as Ramsar sites must meet...</td>\n",
       "    </tr>\n",
       "    <tr>\n",
       "      <th>12</th>\n",
       "      <td>Where was COP15 held in 2022?</td>\n",
       "      <td>COP15 was held in Montreal, Canada in 2022.</td>\n",
       "      <td>COP15 was held in Kunming, China in 2022.</td>\n",
       "      <td>[The city of Kunming, located in the Yunnan pr...</td>\n",
       "    </tr>\n",
       "    <tr>\n",
       "      <th>13</th>\n",
       "      <td>What is the purpose of the agreement known as ...</td>\n",
       "      <td>The purpose of the agreement known as 30x30 is...</td>\n",
       "      <td>The purpose of the agreement known as 30x30 is...</td>\n",
       "      <td>[The 30x30 agreement aims to protect 30% of th...</td>\n",
       "    </tr>\n",
       "    <tr>\n",
       "      <th>14</th>\n",
       "      <td>Who failed to explicitly recognize Indigenous ...</td>\n",
       "      <td>The States failed to explicitly recognize Indi...</td>\n",
       "      <td>At COP15, the United Nations Climate Change Co...</td>\n",
       "      <td>[The lack of explicit recognition of Indigenou...</td>\n",
       "    </tr>\n",
       "    <tr>\n",
       "      <th>15</th>\n",
       "      <td>What are the consequences of criminalizing abo...</td>\n",
       "      <td>The consequences of criminalizing abortion for...</td>\n",
       "      <td>Criminalizing abortion can have severe consequ...</td>\n",
       "      <td>[- Abortion criminalization contributes to sti...</td>\n",
       "    </tr>\n",
       "    <tr>\n",
       "      <th>16</th>\n",
       "      <td>What responsibilities should social media comp...</td>\n",
       "      <td>Social media companies should have the respons...</td>\n",
       "      <td>Social media companies have a responsibility t...</td>\n",
       "      <td>[Social media companies play a significant rol...</td>\n",
       "    </tr>\n",
       "    <tr>\n",
       "      <th>17</th>\n",
       "      <td>What role do social media companies play in pr...</td>\n",
       "      <td>Social media companies play a role in protecti...</td>\n",
       "      <td>Social media companies play a crucial role in ...</td>\n",
       "      <td>[Companies, including social media companies, ...</td>\n",
       "    </tr>\n",
       "    <tr>\n",
       "      <th>18</th>\n",
       "      <td>What labor abuses were documented by Amnesty I...</td>\n",
       "      <td>Amnesty International documented labor abuses ...</td>\n",
       "      <td>Amnesty International has documented several l...</td>\n",
       "      <td>[The kafala system in Qatar, which ties a migr...</td>\n",
       "    </tr>\n",
       "    <tr>\n",
       "      <th>19</th>\n",
       "      <td>When did the government of Qatar start repeali...</td>\n",
       "      <td>The government of Qatar started repealing rest...</td>\n",
       "      <td>The government of Qatar started repealing rest...</td>\n",
       "      <td>[Qatar's efforts to improve the rights and wor...</td>\n",
       "    </tr>\n",
       "  </tbody>\n",
       "</table>\n",
       "</div>"
      ],
      "text/plain": [
       "                                             question  \\\n",
       "0   What are the global implications of the USA Su...   \n",
       "1   Which companies are the main contributors to G...   \n",
       "2   Which private companies in the Americas are th...   \n",
       "3   What action did Amnesty International urge its...   \n",
       "4   What are the recommendations made by Amnesty I...   \n",
       "5   Who are the target audience of the two books c...   \n",
       "6   Which right guarantees access to comprehensive...   \n",
       "7   Who has the right to be fully informed about h...   \n",
       "8   When can individuals be found guilty under Art...   \n",
       "9   When does the prosecution consider statements ...   \n",
       "10  What factors have contributed to the decline o...   \n",
       "11  What conditions designate wetlands as Ramsar s...   \n",
       "12                      Where was COP15 held in 2022?   \n",
       "13  What is the purpose of the agreement known as ...   \n",
       "14  Who failed to explicitly recognize Indigenous ...   \n",
       "15  What are the consequences of criminalizing abo...   \n",
       "16  What responsibilities should social media comp...   \n",
       "17  What role do social media companies play in pr...   \n",
       "18  What labor abuses were documented by Amnesty I...   \n",
       "19  When did the government of Qatar start repeali...   \n",
       "\n",
       "                                         ground_truth  \\\n",
       "0   The global implications of the USA Supreme Cou...   \n",
       "1   According to the Carbon Majors database, the m...   \n",
       "2   The largest private companies in the Americas ...   \n",
       "3   Amnesty International urged its supporters to ...   \n",
       "4   The recommendations made by Amnesty Internatio...   \n",
       "5   The target audience of the two books created b...   \n",
       "6   The right that guarantees access to comprehens...   \n",
       "7   The victims of gross human rights violations a...   \n",
       "8   Individuals can be found guilty under Article ...   \n",
       "9   The prosecution considers statements contrary ...   \n",
       "10  The factors that have contributed to the decli...   \n",
       "11  The conditions that designate wetlands as Rams...   \n",
       "12        COP15 was held in Montreal, Canada in 2022.   \n",
       "13  The purpose of the agreement known as 30x30 is...   \n",
       "14  The States failed to explicitly recognize Indi...   \n",
       "15  The consequences of criminalizing abortion for...   \n",
       "16  Social media companies should have the respons...   \n",
       "17  Social media companies play a role in protecti...   \n",
       "18  Amnesty International documented labor abuses ...   \n",
       "19  The government of Qatar started repealing rest...   \n",
       "\n",
       "                                               answer  \\\n",
       "0   The global implications of the USA Supreme Cou...   \n",
       "1   According to the Carbon Majors database, the m...   \n",
       "2   According to the Carbon Majors database, the l...   \n",
       "3   Amnesty International urged its supporters to ...   \n",
       "4   Amnesty International made several recommendat...   \n",
       "5   The target audience of the two books created b...   \n",
       "6   The right that guarantees access to comprehens...   \n",
       "7   Everyone has the right to be fully informed ab...   \n",
       "8   Under Article 207.3 of the Russian Criminal Co...   \n",
       "9   Under Article 207.3 of the Russian Criminal Co...   \n",
       "10  There are several factors that have contribute...   \n",
       "11  Wetlands are designated as Ramsar sites based ...   \n",
       "12          COP15 was held in Kunming, China in 2022.   \n",
       "13  The purpose of the agreement known as 30x30 is...   \n",
       "14  At COP15, the United Nations Climate Change Co...   \n",
       "15  Criminalizing abortion can have severe consequ...   \n",
       "16  Social media companies have a responsibility t...   \n",
       "17  Social media companies play a crucial role in ...   \n",
       "18  Amnesty International has documented several l...   \n",
       "19  The government of Qatar started repealing rest...   \n",
       "\n",
       "                                             contexts  \n",
       "0   [- In 2022, the USA Supreme Court handed down ...  \n",
       "1   [In recent years, there has been increasing pr...  \n",
       "2   [The issue of greenhouse gas emissions has bec...  \n",
       "3   [In the case of the Ogoni 9, Amnesty Internati...  \n",
       "4   [In recent years, Amnesty International has fo...  \n",
       "5   [In addition to children, parents, teachers, a...  \n",
       "6   [The right to truth is a fundamental human rig...  \n",
       "7   [In many cases, the identities of perpetrators...  \n",
       "8   [Article 207.3 of the Russian Criminal Code pe...  \n",
       "9   [- As long as their statements are contrary to...  \n",
       "10  [The economic challenges facing Nicaragua have...  \n",
       "11  [Wetlands designated as Ramsar sites must meet...  \n",
       "12  [The city of Kunming, located in the Yunnan pr...  \n",
       "13  [The 30x30 agreement aims to protect 30% of th...  \n",
       "14  [The lack of explicit recognition of Indigenou...  \n",
       "15  [- Abortion criminalization contributes to sti...  \n",
       "16  [Social media companies play a significant rol...  \n",
       "17  [Companies, including social media companies, ...  \n",
       "18  [The kafala system in Qatar, which ties a migr...  \n",
       "19  [Qatar's efforts to improve the rights and wor...  "
      ]
     },
     "execution_count": 48,
     "metadata": {},
     "output_type": "execute_result"
    }
   ],
   "source": [
    "df = amnesty_qa[\"eval\"].to_pandas()\n",
    "df"
   ]
  },
  {
   "cell_type": "code",
   "execution_count": 49,
   "metadata": {},
   "outputs": [
    {
     "data": {
      "text/plain": [
       "array([\"- In 2022, the USA Supreme Court handed down a decision ruling that overturned 50 years of jurisprudence recognizing a constitutional right to abortion.\\n- This decision has had a massive impact: one in three women and girls of reproductive age now live in states where abortion access is either totally or near-totally inaccessible.\\n- The states with the most restrictive abortion laws have the weakest maternal health support, higher maternal death rates, and higher child poverty rates.\\n- The USA Supreme Court ruling has also had impacts beyond national borders due to the geopolitical and cultural influence wielded by the USA globally and the aid it funds.\\n- SRR organizations and activists across the world have expressed fear about the ruling laying the groundwork for anti-abortion legislative and policy attacks in other countries.\\n- Advocates have also observed the ruling's impact on progressive law reform and the stalling of the adoption and enforcement of abortion guidelines in certain African countries.\\n- The ruling has created a chilling effect in international policy spaces, emboldening anti-abortion state and non-state actors to undermine human rights protections.\",\n",
       "       'The USA Supreme Court ruling on abortion has sparked intense debates and discussions not only within the country but also around the world. Many countries look to the United States as a leader in legal and social issues, so the decision could potentially influence the policies and attitudes towards abortion in other nations.',\n",
       "       \"The ruling may also impact international organizations and non-governmental groups that work on reproductive rights and women's health issues. Depending on the outcome, there could be shifts in funding, advocacy efforts, and collaborations with American counterparts, leading to ripple effects in the global fight for reproductive justice.\"],\n",
       "      dtype=object)"
      ]
     },
     "execution_count": 49,
     "metadata": {},
     "output_type": "execute_result"
    }
   ],
   "source": [
    "df[\"contexts\"].iloc[0]"
   ]
  },
  {
   "cell_type": "code",
   "execution_count": 51,
   "metadata": {},
   "outputs": [
    {
     "data": {
      "text/plain": [
       "array([\"In addition to children, parents, teachers, and caregivers are also key target audiences for Amnesty International's books on child rights. These adults play a crucial role in guiding and supporting children as they learn about their rights and responsibilities. By reading and discussing these books together, families and educators can help instill values of equality, respect, and compassion in the next generation.\",\n",
       "       \"Amnesty International's books on child rights are designed to educate and empower young readers about their rights and the importance of standing up for justice. The colorful illustrations and engaging storytelling make these books accessible to children of various ages and backgrounds, sparking their curiosity and empathy for others.\",\n",
       "       'Amnesty International has therefore created two simple books on child rights and how to claim them for self and others: (1) ‘Know Your Rights and Claim Them: A Guide for Youth’, by Amnesty International, Angelina Jolie, Geraldine van Bueren (Andersen Press 2021); (2) ‘These Rights Are Your Rights: An empowering guide for children everywhere’, by Nicky Parker at Amnesty International (Andersen Press, 2024).\\nThe objectives of the two books are to build children’s and young people’s understanding of their rights and give them the awareness and tools they need to take action.'],\n",
       "      dtype=object)"
      ]
     },
     "execution_count": 51,
     "metadata": {},
     "output_type": "execute_result"
    }
   ],
   "source": [
    "df[\"contexts\"].iloc[5]"
   ]
  },
  {
   "cell_type": "code",
   "execution_count": 52,
   "metadata": {},
   "outputs": [
    {
     "data": {
      "text/plain": [
       "Dataset({\n",
       "    features: ['question', 'answer', 'contexts', 'ground_truth'],\n",
       "    num_rows: 2\n",
       "})"
      ]
     },
     "execution_count": 52,
     "metadata": {},
     "output_type": "execute_result"
    }
   ],
   "source": [
    "dataset"
   ]
  },
  {
   "cell_type": "code",
   "execution_count": 53,
   "metadata": {},
   "outputs": [
    {
     "data": {
      "text/html": [
       "<div>\n",
       "<style scoped>\n",
       "    .dataframe tbody tr th:only-of-type {\n",
       "        vertical-align: middle;\n",
       "    }\n",
       "\n",
       "    .dataframe tbody tr th {\n",
       "        vertical-align: top;\n",
       "    }\n",
       "\n",
       "    .dataframe thead th {\n",
       "        text-align: right;\n",
       "    }\n",
       "</style>\n",
       "<table border=\"1\" class=\"dataframe\">\n",
       "  <thead>\n",
       "    <tr style=\"text-align: right;\">\n",
       "      <th></th>\n",
       "      <th>question</th>\n",
       "      <th>answer</th>\n",
       "      <th>contexts</th>\n",
       "      <th>ground_truth</th>\n",
       "    </tr>\n",
       "  </thead>\n",
       "  <tbody>\n",
       "    <tr>\n",
       "      <th>0</th>\n",
       "      <td>Quins drets lingüístics reconeix la Constituci...</td>\n",
       "      <td>La Constitució Espanyola reconeix el castellà ...</td>\n",
       "      <td>[  \\n \\n \\nConstitució espanyola \\n \\n \\nTEXT ...</td>\n",
       "      <td>La Constitució Espanyola reconeix el castellà ...</td>\n",
       "    </tr>\n",
       "    <tr>\n",
       "      <th>1</th>\n",
       "      <td>Què estableix la Constitució Espanyola sobre l...</td>\n",
       "      <td>La Constitució Espanyola estableix que la dete...</td>\n",
       "      <td>[  \\n \\n \\nConstitució espanyola \\n \\n \\nTEXT ...</td>\n",
       "      <td>La Constitució Espanyola estableix que la dete...</td>\n",
       "    </tr>\n",
       "  </tbody>\n",
       "</table>\n",
       "</div>"
      ],
      "text/plain": [
       "                                            question  \\\n",
       "0  Quins drets lingüístics reconeix la Constituci...   \n",
       "1  Què estableix la Constitució Espanyola sobre l...   \n",
       "\n",
       "                                              answer  \\\n",
       "0  La Constitució Espanyola reconeix el castellà ...   \n",
       "1  La Constitució Espanyola estableix que la dete...   \n",
       "\n",
       "                                            contexts  \\\n",
       "0  [  \\n \\n \\nConstitució espanyola \\n \\n \\nTEXT ...   \n",
       "1  [  \\n \\n \\nConstitució espanyola \\n \\n \\nTEXT ...   \n",
       "\n",
       "                                        ground_truth  \n",
       "0  La Constitució Espanyola reconeix el castellà ...  \n",
       "1  La Constitució Espanyola estableix que la dete...  "
      ]
     },
     "execution_count": 53,
     "metadata": {},
     "output_type": "execute_result"
    }
   ],
   "source": [
    "dataset.to_pandas()"
   ]
  },
  {
   "cell_type": "code",
   "execution_count": 54,
   "metadata": {},
   "outputs": [
    {
     "data": {
      "text/plain": [
       "0    [  \\n \\n \\nConstitució espanyola \\n \\n \\nTEXT ...\n",
       "1    [  \\n \\n \\nConstitució espanyola \\n \\n \\nTEXT ...\n",
       "Name: contexts, dtype: object"
      ]
     },
     "execution_count": 54,
     "metadata": {},
     "output_type": "execute_result"
    }
   ],
   "source": [
    "df2 = dataset.to_pandas()\n",
    "df2[\"contexts\"]"
   ]
  },
  {
   "cell_type": "code",
   "execution_count": 55,
   "metadata": {},
   "outputs": [
    {
     "data": {
      "text/plain": [
       "array([\"  \\n \\n \\nConstitució espanyola \\n \\n \\nTEXT CONSOLIDAT \\n \\nVigència 17/02/2024 - \\n \\nLa Nació espanyola, amb el desig d'establir la justícia, la llibertat i la seguretat i de promoure el bé de \\ntots els qui la integren, en ús de la seva sobirania, proclama la voluntat de:  \\nGarantir la convivència democràtica dins la Constitució i les lleis de conformitat amb un ordre econòmic i \\nsocial just.  \\nConsolidar un Estat de Dret que asseguri l'imperi de la Llei com a expressió de la voluntat popular.  \\nProtegir tots els espanyols i els pobles d'Espanya en l'exercici dels drets humans, les seves cultures i \\ntradicions, llengües i institucions.  \\nPromoure el progrés de la cultura i de l'economia per tal d'assegurar a tothom una qualitat de vida \\ndigna.  \\nEstablir una societat democràtica avançada, i  \\nCol·laborar a l'enfortiment d'unes relacions pacífiques i de cooperació eficaç entre tots els pobles de la \\nTerra.  \\nEn conseqüència, les Corts aproven i el poble espanyol ratifica la següent  \\nCONSTITUCIÓ \\n \\nTítol Preliminar \\n \\nArticle 1 \\n1. Espanya es constitueix en un Estat social i democràtic de Dret, que propugna com a valors superiors \\ndel seu ordenament jurídic la llibertat, la justícia, la igualtat i el pluralisme polític.  \\n2. La sobirania nacional resideix en el poble espanyol, del qual emanen els poders de l'Estat.  \\n3. La forma política de l'Estat espanyol és la Monarquia parlamentària. \\n \\nArticle 2 \\nLa Constitució es fonamenta en la indissoluble unitat de la Nació espanyola, pàtria comuna i indivisible \\nde tots els espanyols, i reconeix i garanteix el dret a l'autonomia de les nacionalitats i de les regions que \\nla integren i la solidaritat entre totes elles. \\n \\nArticle 3 \\n1. El castellà és la llengua espanyola oficial de l'Estat. Tots els espanyols tenen el deure de conèixer-la i el \\n1\",\n",
       "       \"dret d'usar-la.  \\n2. Les altres llengües espanyoles seran també oficials en les respectives Comunitats Autònomes d'acord \\namb els seus Estatuts.  \\n3. La riquesa de les diferents modalitats lingüístiques d'Espanya és un patrimoni cultural que serà \\nobjecte d'especial respecte i protecció. \\n \\nArticle 4 \\n1. La bandera d'Espanya és formada per tres franges horitzontals, vermella, groga i vermella; la groga és \\nde doble amplada que la de cadascuna de les vermelles.  \\n2. Els Estatuts podran reconèixer banderes i ensenyes pròpies de les Comunitats Autònomes. Aquestes \\ns'utilitzaran juntament amb la bandera d'Espanya en els seus edificis públics i en els seus actes oficials. \\n \\nArticle 5 \\nLa capital de l'Estat és la vila de Madrid. \\n \\nArticle 6 \\nEls partits polítics expressen el pluralisme polític, concorren a la formació i a la manifestació de la \\nvoluntat popular i són instrument fonamental per a la participació política. Podran ser creats i exerciran \\nla seva activitat lliurement dins el respecte a la Constitució i a la llei. L'estructura interna i el \\nfuncionament hauran de ser democràtics. \\n \\nArticle 7 \\nEls sindicats de treballadors i les associacions empresarials contribueixen a la defensa i a la promoció \\ndels interessos econòmics i socials que els són propis. Podran ser creats i exerciran la seva activitat \\nlliurement dins el respecte a la Constitució i a la llei. L'estructura interna i el funcionament hauran de ser \\ndemocràtics. \\n \\nArticle 8 \\n1. Les Forces Armades, constituïdes per l'Exèrcit de Terra, l'Armada i l'Exèrcit de l'Aire, tenen com a \\nmissió garantir la sobirania i la independència d'Espanya, defensar-ne la integritat territorial i \\nl'ordenament constitucional.  \\n2. Una llei orgànica regularà les bases de l'organització militar de conformitat amb els principis de la \\npresent Constitució. \\n \\nArticle 9 \\n1. Els ciutadans i els poders públics resten subjectes a la Constitució i a la resta de l'ordenament jurídic.  \\n2. Correspon als poders públics de promoure les condicions per tal que la llibertat i la igualtat de \\nl'individu i dels grups en els quals s'integra siguin reals i efectives; remoure els obstacles que \\nn'impedeixin o en dificultin la plenitud i facilitar la participació de tots els ciutadans en la vida política, \\neconòmica, cultural i social.  \\n3. La Constitució garanteix el principi de legalitat, la jerarquia normativa, la publicitat de les normes, la Portal Jurídic de Catalunya \\n2\",\n",
       "       \"ciutadans i el ple exercici dels seus drets. \\n \\nArticle 19 \\nEls espanyols tenen dret a elegir lliurement la residència i a circular pel territori nacional.  \\nTenen també dret a entrar i sortir lliurement d'Espanya en els termes que la llei estableixi. Aquest dret \\nno podrà ser limitat per motius polítics o ideològics. \\n \\nArticle 20 \\n1. Es reconeixen i es protegeixen els drets:  \\na) A expressar i difondre lliurement els pensaments, les idees i les opinions mitjançant la paraula, \\nl'escriptura o qualsevol altre mitjà de reproducció.  \\nb) A la producció i a la creació literària, artística, científica i tècnica.  \\nc) A la llibertat de càtedra.  \\nd) A comunicar o a rebre lliurement informació veraç per qualsevol mitjà de difusió. La llei regularà el \\ndret a la clàusula de consciència i al secret professional en l'exercici d'aquestes llibertats.  \\n2. L'exercici d'aquests drets no pot ser restringit per mitjà de cap tipus de censura prèvia.  \\n3. La llei regularà l'organització i el control parlamentari dels mitjans de comunicació social que \\ndepenguin de l'Estat o de qualsevol ens públic i garantirà l'accés a aquests mitjans dels grups socials i \\npolítics significatius, respectant el pluralisme de la societat i de les diferents llengües d'Espanya.  \\n4. Aquestes llibertats tenen el límit en el respecte als drets reconeguts en aquest Títol, en els preceptes \\nde les lleis que el desenvolupin i, especialment, en el dret a l'honor, a la intimitat, a la imatge pròpia i a la \\nprotecció de la joventut i de la infància.  \\n5. Només podrà acordar-se el segrest de publicacions, gravacions i altres mitjans d'informació en virtut \\nde resolució judicial. \\n \\nArticle 21 \\n1. Es reconeix el dret de reunió pacífica i sense armes. Per a l'exercici d'aquest dret no caldrà \\nautorització prèvia.  \\n2. En els casos de reunions en llocs de trànsit públic i de manifestacions caldrà comunicar-ho \\nprèviament a l'autoritat, la qual només podrà prohibir-les quan hi hagi motius fonamentats d'alteració \\nde l'ordre públic, amb perill per a persones o béns. \\n \\nArticle 22 \\n1. Es reconeix el dret d'associació.  \\n2. Les associacions que cerquin finalitats o facin servir mitjans tipificats com a delicte són il·legals.  \\n3. Les associacions constituïdes a l'empara d'aquest article hauran d'inscriure's en un registre únicament \\na efectes de publicitat.  \\n4. Les associacions només podran ser dissoltes o les seves activitats suspeses en virtut d'una resolució \\njudicial motivada.  \\n5. Es prohibeixen les associacions secretes i les de caràcter paramilitar. Portal Jurídic de Catalunya \\n5\",\n",
       "       \"irretroactivitat de les disposicions sancionadores no favorables o restrictives de drets individuals, la \\nseguretat jurídica, la responsabilitat i la interdicció de l'arbitrarietat dels poders públics. \\n \\nTítol primer \\nDels drets i dels deures fonamentals \\n \\nArticle 10 \\n1. La dignitat de la persona, els drets inviolables que li són inherents, el lliure desenvolupament de la \\npersonalitat, el respecte a la llei i als drets dels altres són fonament de l'ordre polític i de la pau social.  \\n2. Les normes relatives als drets fonamentals i a les llibertats que la Constitució reconeix s'interpretaran \\nde conformitat amb la Declaració Universal de Drets Humans i els tractats i els acords internacionals \\nsobre aquestes matèries ratificats per Espanya. \\n \\nCapítol I \\nDels espanyols i dels estrangers \\n \\nArticle 11 \\n1. La nacionalitat espanyola s'adquireix, es conserva i es perd d'acord amb el que la llei estableix.  \\n2. Cap espanyol d'origen no podrà ser privat de la seva nacionalitat.  \\n3. L'Estat podrà concertar tractats de doble nacionalitat amb els països iberoamericans o amb aquells \\nque hagin tingut o tinguin una vinculació particular amb Espanya. En aquests països, encara que no \\nreconeguin als seus ciutadans un dret recíproc, els espanyols podran naturalitzar-s'hi sense perdre la \\nnacionalitat d'origen. \\n \\nArticle 12 \\nEls espanyols són majors d'edat als divuit anys. \\n \\nArticle 13 \\n1. Els estrangers gaudiran a Espanya de les llibertats públiques que garanteix el Títol present en els \\ntermes que estableixin els tractats i la llei.  \\n2. Només els espanyols seran titulars dels drets reconeguts en l'article 23, llevat d'allò que, amb criteris \\nde reciprocitat, fos establert per tractat o per llei per al dret de sufragi actiu i passiu en les eleccions \\nmunicipals.  \\n3. L'extradició només es concedirà en compliment d'un tractat o de la llei, d'acord amb el principi de \\nreciprocitat. Resten exclosos de l'extradició els delictes polítics i no seran considerats com a tals els actes \\nde terrorisme.  \\n4. La llei establirà els termes en què els ciutadans d'altres països i els apàtrides podran gaudir del dret \\nd'asil a Espanya. \\n \\nCapítol II \\nDrets i llibertats \\n Portal Jurídic de Catalunya \\n3\",\n",
       "       'Article 14 \\nEls espanyols són iguals davant la llei, sense que pugui prevaler cap discriminació per raó de naixença, \\nraça, sexe, religió, opinió o qualsevol altra condició o circumstància personal o social. \\n \\nSecció primera \\nDels drets fonamentals i de les llibertats públiques \\n \\nArticle 15 \\nTothom té dret a la vida i a la integritat física i moral, sense que, en cap cas, ningú no pugui ser sotmès a \\ntortura ni a penes o tractes inhumans o degradants. Resta abolida la pena de mort, llevat d\\'allò que \\npuguin disposar les lleis penals militars per a temps de guerra. \\n \\nArticle 16 \\n1. Es garanteix la llibertat ideològica, religiosa i de culte dels individus i de les comunitats sense cap més \\nlimitació, en les seves manifestacions, que la necessària per al manteniment de l\\'ordre públic protegit \\nper la llei.  \\n2. Ningú podrà ser obligat a declarar quant a la seva ideologia, religió o creences.  \\n3. Cap confessió tindrà caràcter estatal. Els poders públics tindran en compte les creences religioses de \\nla societat espanyola i mantindran les consegüents relacions de cooperació amb l\\'Església Catòlica i les \\naltres confessions. \\n \\nArticle 17 \\n1. Tota persona té dret a la llibertat i a la seguretat. Ningú podrà ser privat de la seva llibertat, sinó amb \\nl\\'observança del que estableix aquest article i en els casos i en la forma previstos en la llei.  \\n2. La detenció preventiva no podrà durar més temps del que sigui estrictament necessari per a fer les \\nindagacions per tal d\\'aclarir els fets i, en qualsevol cas, dins el termini màxim de setanta-dues hores, el \\ndetingut haurà de ser posat en llibertat o a disposició de l\\'autoritat judicial.  \\n3. Tota persona detinguda ha de ser informada immediatament i de manera que li sigui comprensible, \\ndels seus drets i de les raons de la detenció, i no podrà ser obligada a declarar. Es garanteix l\\'assistència \\nd\\'advocat al detingut en les diligències policials i judicials, en els termes que la llei estableixi.  \\n4. La llei regularà un procediment d\\'\"habeas corpus\" per tal de posar immediatament a disposició \\njudicial tota persona detinguda il·legalment. També es determinarà per llei el termini màxim de durada \\nde la presó provisional. \\n \\nArticle 18 \\n1. Es garanteix el dret a l\\'honor, a la intimitat personal i familiar i a la pròpia imatge.  \\n2. El domicili és inviolable. No s\\'hi podrà entrar ni fer-hi cap escorcoll sense el consentiment del titular o \\nsense resolució judicial, llevat del cas de delicte flagrant.  \\n3. Es garanteix el secret de les comunicacions i, especialment, de les postals, telegràfiques i telefòniques, \\nexcepte en cas de resolució judicial.  \\n4. La llei limitarà l\\'ús de la informàtica per tal de garantir l\\'honor i la intimitat personal i familiar dels Portal Jurídic de Catalunya \\n4'],\n",
       "      dtype=object)"
      ]
     },
     "execution_count": 55,
     "metadata": {},
     "output_type": "execute_result"
    }
   ],
   "source": [
    "df2[\"contexts\"].iloc[0]"
   ]
  },
  {
   "cell_type": "code",
   "execution_count": null,
   "metadata": {},
   "outputs": [],
   "source": []
  }
 ],
 "metadata": {
  "kernelspec": {
   "display_name": "Python 3 (ipykernel)",
   "language": "python",
   "name": "python3"
  },
  "language_info": {
   "codemirror_mode": {
    "name": "ipython",
    "version": 3
   },
   "file_extension": ".py",
   "mimetype": "text/x-python",
   "name": "python",
   "nbconvert_exporter": "python",
   "pygments_lexer": "ipython3",
   "version": "3.12.5"
  }
 },
 "nbformat": 4,
 "nbformat_minor": 4
}
