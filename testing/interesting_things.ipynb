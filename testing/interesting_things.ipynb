{
 "cells": [
  {
   "cell_type": "code",
   "execution_count": 4,
   "metadata": {},
   "outputs": [],
   "source": [
    "from langchain_community.document_loaders.pdf import PyPDFDirectoryLoader"
   ]
  },
  {
   "cell_type": "code",
   "execution_count": 5,
   "metadata": {},
   "outputs": [
    {
     "name": "stdout",
     "output_type": "stream",
     "text": [
      "Loaded 150 documents of test1\n",
      "Loaded 306 documents of test2\n",
      "Loaded 132 documents of test3\n"
     ]
    }
   ],
   "source": [
    "total_documents = 0\n",
    "for i in range(1, 4):\n",
    "    documents_loader = PyPDFDirectoryLoader(f\"./test{i}/data\")\n",
    "    documents = documents_loader.load()\n",
    "    total_documents += len(documents)\n",
    "    print(f\"Loaded {len(documents)} documents of test{i}\")"
   ]
  },
  {
   "cell_type": "code",
   "execution_count": 8,
   "metadata": {},
   "outputs": [
    {
     "name": "stdout",
     "output_type": "stream",
     "text": [
      "Mean documents: 196.0\n",
      "Mean pages: 10.88888888888889\n"
     ]
    }
   ],
   "source": [
    "mean_documents = total_documents / 3\n",
    "mean_pages = mean_documents/18\n",
    "print(f\"Mean documents: {mean_documents}\")\n",
    "print(f\"Mean pages: {mean_pages}\")"
   ]
  }
 ],
 "metadata": {
  "kernelspec": {
   "display_name": ".venv",
   "language": "python",
   "name": "python3"
  },
  "language_info": {
   "codemirror_mode": {
    "name": "ipython",
    "version": 3
   },
   "file_extension": ".py",
   "mimetype": "text/x-python",
   "name": "python",
   "nbconvert_exporter": "python",
   "pygments_lexer": "ipython3",
   "version": "3.12.5"
  }
 },
 "nbformat": 4,
 "nbformat_minor": 2
}
